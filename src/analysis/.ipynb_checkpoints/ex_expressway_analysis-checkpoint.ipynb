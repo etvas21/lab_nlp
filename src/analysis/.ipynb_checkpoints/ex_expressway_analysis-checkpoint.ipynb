{
 "cells": [
  {
   "cell_type": "code",
   "execution_count": 1,
   "metadata": {},
   "outputs": [
    {
     "name": "stderr",
     "output_type": "stream",
     "text": [
      "Importing plotly failed. Interactive plots will not work.\n"
     ]
    }
   ],
   "source": [
    "import pandas as pd\n",
    "import numpy  as np\n",
    "from fbprophet import Prophet"
   ]
  },
  {
   "cell_type": "code",
   "execution_count": 2,
   "metadata": {},
   "outputs": [
    {
     "name": "stdout",
     "output_type": "stream",
     "text": [
      "<class 'pandas.core.frame.DataFrame'>\n",
      "RangeIndex: 127 entries, 0 to 126\n",
      "Data columns (total 27 columns):\n",
      " #   Column  Non-Null Count  Dtype \n",
      "---  ------  --------------  ----- \n",
      " 0   날짜      127 non-null    object\n",
      " 1   영업소     127 non-null    object\n",
      " 2   자료종류    127 non-null    object\n",
      " 3   00시     127 non-null    int64 \n",
      " 4   01시     127 non-null    int64 \n",
      " 5   02시     127 non-null    int64 \n",
      " 6   03시     127 non-null    int64 \n",
      " 7   04시     127 non-null    int64 \n",
      " 8   05시     127 non-null    int64 \n",
      " 9   06시     127 non-null    int64 \n",
      " 10  07시     127 non-null    int64 \n",
      " 11  08시     127 non-null    int64 \n",
      " 12  09시     127 non-null    int64 \n",
      " 13  10시     127 non-null    int64 \n",
      " 14  11시     127 non-null    int64 \n",
      " 15  12시     127 non-null    int64 \n",
      " 16  13시     127 non-null    int64 \n",
      " 17  14시     127 non-null    int64 \n",
      " 18  15시     127 non-null    int64 \n",
      " 19  16시     127 non-null    int64 \n",
      " 20  17시     127 non-null    int64 \n",
      " 21  18시     127 non-null    int64 \n",
      " 22  19시     127 non-null    int64 \n",
      " 23  20시     127 non-null    int64 \n",
      " 24  21시     127 non-null    int64 \n",
      " 25  22시     127 non-null    int64 \n",
      " 26  23시     127 non-null    int64 \n",
      "dtypes: int64(24), object(3)\n",
      "memory usage: 26.9+ KB\n"
     ]
    }
   ],
   "source": [
    "# thousands 를 지정하지 않으면 , 00~23시 데이터가 object로  인식됨.\n",
    "df = pd.read_csv('../../data/ex/ex_tol_202003_04.csv', encoding='cp949', thousands=',')\n",
    "df.info()"
   ]
  },
  {
   "cell_type": "code",
   "execution_count": 24,
   "metadata": {},
   "outputs": [
    {
     "data": {
      "text/plain": [
       "자료종류\n",
       "입구    127\n",
       "Name: 자료종류, dtype: int64"
      ]
     },
     "execution_count": 24,
     "metadata": {},
     "output_type": "execute_result"
    }
   ],
   "source": [
    "df.groupby(['자료종류'])['자료종류'].count()"
   ]
  },
  {
   "cell_type": "code",
   "execution_count": 10,
   "metadata": {},
   "outputs": [],
   "source": [
    "# Preprocess\n",
    "df['TOTAL'] = df.iloc[:,9:11].sum(axis=1)\n",
    "dfx = df[['날짜', 'TOTAL']]\n",
    "dfx.columns = ['ds','y']\n",
    "dfx.loc[:,'ds'] = pd.to_datetime(dfx.loc[:,'ds'])\n",
    "#dfx = df.iloc[:,9:11].groupby( df['날짜']).sum()\n",
    "# Series\n",
    "#dfx = df['TOTAL'].groupby( df['날짜']).sum()\n",
    "# Dataframe\n",
    "\n",
    "dfx = dfx.groupby(dfx['ds'])['y'].sum()"
   ]
  },
  {
   "cell_type": "code",
   "execution_count": 11,
   "metadata": {},
   "outputs": [
    {
     "data": {
      "text/plain": [
       "ds\n",
       "2020-03-20    40930\n",
       "2020-03-21    30046\n",
       "2020-03-22    16941\n",
       "2020-03-23    44760\n",
       "2020-03-24    42805\n",
       "2020-03-25    42373\n",
       "2020-03-26    41487\n",
       "2020-03-27    37810\n",
       "2020-03-28    32139\n",
       "2020-03-29    18159\n",
       "2020-03-30    45573\n",
       "2020-03-31    42208\n",
       "2020-04-01    41943\n",
       "2020-04-02    42265\n",
       "2020-04-03    42280\n",
       "2020-04-04    36065\n",
       "2020-04-05    23118\n",
       "2020-04-06    46247\n",
       "2020-04-07    43010\n",
       "2020-04-08    42896\n",
       "2020-04-09    43691\n",
       "2020-04-10    42837\n",
       "2020-04-11    34887\n",
       "2020-04-12    19659\n",
       "2020-04-13    46328\n",
       "2020-04-14    43588\n",
       "2020-04-15    29330\n",
       "2020-04-16    47275\n",
       "2020-04-17    36896\n",
       "2020-04-18    35283\n",
       "2020-04-19    19596\n",
       "2020-04-20    32344\n",
       "Name: y, dtype: int64"
      ]
     },
     "execution_count": 11,
     "metadata": {},
     "output_type": "execute_result"
    }
   ],
   "source": [
    "dfx"
   ]
  },
  {
   "cell_type": "code",
   "execution_count": null,
   "metadata": {
    "scrolled": true
   },
   "outputs": [],
   "source": [
    "m = Prophet()\n",
    "m.fit(dfx)"
   ]
  },
  {
   "cell_type": "code",
   "execution_count": null,
   "metadata": {},
   "outputs": [],
   "source": [
    "# 7일을 예측 ( periods = 7)\n",
    "future = m.make_future_dataframe(periods=7)\n",
    "forecast = m.predict(future)\n",
    "forecast.tail()"
   ]
  },
  {
   "cell_type": "code",
   "execution_count": null,
   "metadata": {
    "scrolled": true
   },
   "outputs": [],
   "source": [
    "forecast_fig = m.plot(forecast,figsize=(14,5))"
   ]
  },
  {
   "cell_type": "markdown",
   "metadata": {},
   "source": [
    "- 파란색: 모델이 예측한 값\n",
    "- 검정색 점: 실제 데이터"
   ]
  },
  {
   "cell_type": "code",
   "execution_count": null,
   "metadata": {
    "scrolled": true
   },
   "outputs": [],
   "source": [
    "forcast_fig2 = m.plot_components(forecast)"
   ]
  },
  {
   "cell_type": "code",
   "execution_count": null,
   "metadata": {},
   "outputs": [],
   "source": []
  }
 ],
 "metadata": {
  "kernelspec": {
   "display_name": "Python 3",
   "language": "python",
   "name": "python3"
  },
  "language_info": {
   "codemirror_mode": {
    "name": "ipython",
    "version": 3
   },
   "file_extension": ".py",
   "mimetype": "text/x-python",
   "name": "python",
   "nbconvert_exporter": "python",
   "pygments_lexer": "ipython3",
   "version": "3.6.9"
  }
 },
 "nbformat": 4,
 "nbformat_minor": 2
}
