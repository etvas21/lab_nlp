{
 "cells": [
  {
   "cell_type": "markdown",
   "metadata": {},
   "source": [
    "```Markdown\n",
    "# Heading 1\n",
    "## Heading 2\n",
    "### Heading 3\n",
    "#### Heading 4\n",
    "##### Heading 5\n",
    "```\n",
    "\n",
    "# Heading 1\n",
    "## Heading 2\n",
    "### Heading 3\n",
    "#### Heading 4\n",
    "##### Heading 5"
   ]
  },
  {
   "cell_type": "markdown",
   "metadata": {},
   "source": [
    "```Markdown\n",
    "* list \n",
    "* list\n",
    "* list\n",
    "\n",
    "- list\n",
    "- list\n",
    "- list\n",
    "```\n",
    "* list \n",
    "* list\n",
    "* list\n",
    "\n",
    "- list\n",
    "- list\n",
    "- list"
   ]
  },
  {
   "cell_type": "markdown",
   "metadata": {},
   "source": [
    "1. Ordered list\n",
    "2. Ordered list\n",
    "3. Ordered list"
   ]
  },
  {
   "cell_type": "markdown",
   "metadata": {},
   "source": [
    "| Heading | Heading | Heading\n",
    "| ---| ---: | :---:\n",
    "| value1 | value2 | value3\n",
    "| 1 | 2 | 3"
   ]
  },
  {
   "cell_type": "markdown",
   "metadata": {},
   "source": [
    "# Math\n",
    ">\n",
    ">```Markdown\n",
    "$$\n",
    "\\mathbf{V}_1 \\times \\mathbf{V}_2 =  \n",
    "\\begin{vmatrix} \n",
    "    \\mathbf{i} & \\mathbf{j} & \\mathbf{k} \\\\\n",
    "    \\frac{\\partial X}{\\partial u} &  \\frac{\\partial Y}{\\partial u} & 0 \\\\\n",
    "    \\frac{\\partial X}{\\partial v} &  \\frac{\\partial Y}{\\partial v} & 0 \\\\\n",
    "\\end{vmatrix}\n",
    "$$\n",
    "```\n",
    "\n",
    "$$\n",
    "\\mathbf{V}_1 \\times \\mathbf{V}_2 =  \n",
    "\\begin{vmatrix} \n",
    "    \\mathbf{i} & \\mathbf{j} & \\mathbf{k} \\\\\n",
    "    \\frac{\\partial X}{\\partial u} &  \\frac{\\partial Y}{\\partial u} & 0 \\\\\n",
    "    \\frac{\\partial X}{\\partial v} &  \\frac{\\partial Y}{\\partial v} & 0 \\\\\n",
    "\\end{vmatrix}\n",
    "$$"
   ]
  },
  {
   "cell_type": "markdown",
   "metadata": {},
   "source": [
    ">```\n",
    "$$\n",
    " M= \\left[\\begin{matrix}1 & 2 \\\\ 3 & 4 \\\\ 5 & 6\\end{matrix}\\right]     \n",
    " M^T = \\left[\\begin{matrix}1 & 3 & 5 \\\\2 & 4 & 6  \\end{matrix}\\right]\n",
    " XX = \\left[\\begin{matrix}\\frac{\\partial X}{\\partial u} &  \\frac{\\partial Y}{\\partial u} & 0 \\end{matrix}\\right]\n",
    "$$\n",
    "```\n",
    "\n",
    "$$\n",
    " M= \\left[\\begin{matrix}1 & 2 \\\\ 3 & 4 \\\\ 5 & 6\\end{matrix}\\right] \\quad\n",
    " M^T = \\left[\\begin{matrix}1 & 3 & 5 \\\\2 & 4 & 6  \\end{matrix}\\right] \\quad\n",
    " XX = \\left[\\begin{matrix}\\frac{\\partial X}{\\partial u} &  \\frac{\\partial Y}{\\partial u} & 0 \\end{matrix}\\right]\n",
    "$$\n",
    "\n",
    ">```\n",
    "\\begin{equation*}\n",
    "\\frac{1}{n} \\sum_i^n(\\hat{y} - y)^2\n",
    "\\end{equation*}\n",
    "```\n",
    "\\begin{equation*}\n",
    "\\frac{1}{n} \\sum_i^n(\\hat{y} - y)^2\n",
    "\\end{equation*}"
   ]
  },
  {
   "cell_type": "markdown",
   "metadata": {},
   "source": [
    "# Inline Math\n",
    ">\n",
    ">```Markdown\n",
    "$\\lim_{x\\to\\infty} \\exp(-x) = 0$\n",
    "$y = ax^2 + bx + c$\n",
    "MSE =  $\\frac{1}{n}\\sum _{i=1}^{n} (p_i - y_i)^2$\n",
    "RMSE =  $\\sqrt{\\frac{1}{n}\\sum _{i=1}^{n} (p_i - y_i)^2}$\n",
    "sigmoid = $\\frac{1}{1+e^{ax+b}}$ \n",
    "```\n",
    "\n",
    "$\\lim_{x\\to\\infty} \\exp(-x) = 0$\n",
    "\n",
    "$y = ax^2 + bx + c$\n",
    "\n",
    "MSE =  $\\frac{1}{n}\\sum _{i=1}^{n} (p_i - y_i)^2$\n",
    "\n",
    "\n",
    "RMSE =  $\\sqrt{\\frac{1}{n}\\sum _{i=1}^{n} (p_i - y_i)^2}$  \n",
    "\n",
    "\n",
    "sigmoid = $\\frac{1}{1+e^{ax+b}}$ "
   ]
  },
  {
   "cell_type": "markdown",
   "metadata": {},
   "source": [
    "# space in math mode\n",
    "\n",
    "Name | Notation |Result\n",
    "--- | --- | ---\n",
    "default space    | ``` $a + b$ ``` |$a + b$\n",
    "thin space       | ``` $a\\,+\\,b$ ``` | $a\\,+\\,b$\n",
    "thin nega. space | ``` $a\\!+\\!b$ ``` | $a\\!+\\!b$\n",
    "medium space | ``` $a\\:+\\:b$ ``` | $a\\:+\\:b$\n",
    "large space | ``` $a\\;+\\;b$ ``` | $a\\;+\\;b$\n",
    "1em space | ``` $a\\quad +\\quad b$ ``` | $a\\quad +\\quad b$\n",
    "custom space | ``` $a\\hspace{3em} +\\hspace{3em} b$ ``` | $a\\hspace{3em} +\\hspace{3em} b$\n",
    "<img width=10>|<img width=50>| <img width=150>"
   ]
  },
  {
   "cell_type": "markdown",
   "metadata": {},
   "source": [
    "$\\hat{y}$"
   ]
  },
  {
   "cell_type": "code",
   "execution_count": null,
   "metadata": {},
   "outputs": [],
   "source": []
  }
 ],
 "metadata": {
  "kernelspec": {
   "display_name": "Python 3",
   "language": "python",
   "name": "python3"
  },
  "language_info": {
   "codemirror_mode": {
    "name": "ipython",
    "version": 3
   },
   "file_extension": ".py",
   "mimetype": "text/x-python",
   "name": "python",
   "nbconvert_exporter": "python",
   "pygments_lexer": "ipython3",
   "version": "3.6.9"
  }
 },
 "nbformat": 4,
 "nbformat_minor": 2
}
