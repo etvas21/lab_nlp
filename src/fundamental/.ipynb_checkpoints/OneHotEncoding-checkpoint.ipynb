{
 "cells": [
  {
   "cell_type": "code",
   "execution_count": 58,
   "metadata": {},
   "outputs": [
    {
     "name": "stdout",
     "output_type": "stream",
     "text": [
      "int_pdca\n",
      "[2 1 3 0]\n",
      "\n",
      "\n",
      "onehot_pdca\n",
      "[[0. 0. 1. 0.]\n",
      " [0. 1. 0. 0.]\n",
      " [0. 0. 0. 1.]\n",
      " [1. 0. 0. 0.]]\n",
      "\n",
      "\n"
     ]
    }
   ],
   "source": [
    "import numpy as np\n",
    "from keras.utils import np_utils\n",
    "from sklearn.preprocessing import LabelEncoder\n",
    "from sklearn.preprocessing import OneHotEncoder\n",
    "from sklearn.compose import make_column_transformer\n",
    "\n",
    "pdca =np.array(['plan', 'do', 'sea', 'action'])\n",
    "\n",
    "# Integer encode\n",
    "label_encoder = LabelEncoder()\n",
    "int_pdca = label_encoder.fit_transform(pdca)\n",
    "print('int_pdca', int_pdca, '\\n', sep='\\n')\n",
    "\n",
    "# binary encode\n",
    "onehot_encoder = OneHotEncoder(sparse=False)\n",
    "int_pdca = int_pdca.reshape(len(int_pdca),1)\n",
    "#onehot_pdca = onehot_encoder.fit_transform(int_pdca)                            \n",
    "#print('onehot_pdca', onehot_pdca, '\\n',sep='\\n')               \n",
    "\n",
    "################\n",
    "\n",
    "onehot_pdca = np_utils.to_categorical(int_pdca)\n",
    "print('onehot_pdca', onehot_pdca, '\\n',sep='\\n')     \n"
   ]
  },
  {
   "cell_type": "code",
   "execution_count": null,
   "metadata": {},
   "outputs": [],
   "source": []
  }
 ],
 "metadata": {
  "kernelspec": {
   "display_name": "Python 3",
   "language": "python",
   "name": "python3"
  },
  "language_info": {
   "codemirror_mode": {
    "name": "ipython",
    "version": 3
   },
   "file_extension": ".py",
   "mimetype": "text/x-python",
   "name": "python",
   "nbconvert_exporter": "python",
   "pygments_lexer": "ipython3",
   "version": "3.6.9"
  }
 },
 "nbformat": 4,
 "nbformat_minor": 2
}
