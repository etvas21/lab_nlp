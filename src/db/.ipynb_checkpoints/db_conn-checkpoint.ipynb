{
 "cells": [
  {
   "cell_type": "code",
   "execution_count": 5,
   "metadata": {},
   "outputs": [],
   "source": [
    "import pymysql"
   ]
  },
  {
   "cell_type": "code",
   "execution_count": 6,
   "metadata": {},
   "outputs": [],
   "source": [
    "db_conn = pymysql.connect(host='db',port=3306,user='root', passwd='l@tus', db='mysql',charset='utf8')"
   ]
  },
  {
   "cell_type": "code",
   "execution_count": 8,
   "metadata": {},
   "outputs": [],
   "source": [
    "xcur = db_conn.cursor()\n",
    "sql = 'select host, user, plugin from user;'"
   ]
  },
  {
   "cell_type": "code",
   "execution_count": 11,
   "metadata": {},
   "outputs": [
    {
     "name": "stdout",
     "output_type": "stream",
     "text": [
      "% root mysql_native_password\n",
      "localhost healthchecker caching_sha2_password\n",
      "localhost mysql.infoschema caching_sha2_password\n",
      "localhost mysql.session caching_sha2_password\n",
      "localhost mysql.sys caching_sha2_password\n",
      "localhost root caching_sha2_password\n"
     ]
    }
   ],
   "source": [
    "xcur.execute(sql)\n",
    "\n",
    "result = xcur.fetchall()\n",
    "\n",
    "for row_data in result:\n",
    "    print(row_data[0],row_data[1],row_data[2])"
   ]
  },
  {
   "cell_type": "code",
   "execution_count": null,
   "metadata": {},
   "outputs": [],
   "source": []
  }
 ],
 "metadata": {
  "kernelspec": {
   "display_name": "Python 3",
   "language": "python",
   "name": "python3"
  },
  "language_info": {
   "codemirror_mode": {
    "name": "ipython",
    "version": 3
   },
   "file_extension": ".py",
   "mimetype": "text/x-python",
   "name": "python",
   "nbconvert_exporter": "python",
   "pygments_lexer": "ipython3",
   "version": "3.6.9"
  }
 },
 "nbformat": 4,
 "nbformat_minor": 2
}
