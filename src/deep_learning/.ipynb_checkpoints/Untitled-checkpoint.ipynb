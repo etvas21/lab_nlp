{
 "cells": [
  {
   "cell_type": "markdown",
   "metadata": {},
   "source": [
    "# one-hot-encoding"
   ]
  },
  {
   "cell_type": "code",
   "execution_count": 43,
   "metadata": {},
   "outputs": [],
   "source": [
    "from tensorflow.keras.preprocessing.text import Tokenizer\n",
    "from tensorflow.keras.preprocessing.sequence import pad_sequences\n",
    "from tensorflow.keras.utils import to_categorical\n",
    "import numpy as np\n",
    "import pprint \n",
    "\n",
    "pp = pprint.PrettyPrinter(indent=2)"
   ]
  },
  {
   "cell_type": "code",
   "execution_count": 49,
   "metadata": {},
   "outputs": [
    {
     "name": "stdout",
     "output_type": "stream",
     "text": [
      "\n",
      "sequence\n",
      "[[2, 3, 4, 5, 6, 7, 8], [1, 9, 10, 11, 12, 1, 13, 14]]\n",
      "\n",
      "word_index\n",
      "{ 'always': 9,\n",
      "  'do': 7,\n",
      "  'done': 14,\n",
      "  'everthing': 8,\n",
      "  'impossible': 11,\n",
      "  'is': 13,\n",
      "  'it': 1,\n",
      "  'let': 5,\n",
      "  'positive': 2,\n",
      "  'seems': 10,\n",
      "  'thinking': 3,\n",
      "  'until': 12,\n",
      "  'will': 4,\n",
      "  'you': 6}\n",
      "\n",
      "paded data\n",
      " [[ 0  0  0  0  0  0  0  0  2  3  4  5  6  7  8]\n",
      " [ 0  0  0  0  0  0  0  1  9 10 11 12  1 13 14]]\n",
      "\n",
      "size of data tensor\n",
      " (2, 15)\n",
      "\n",
      "data\n",
      " [[ 0  0  0  0  0  0  0  0  2  3  4  5  6  7]\n",
      " [ 0  0  0  0  0  0  0  1  9 10 11 12  1 13]]\n",
      "\n",
      "labels\n",
      " [ 8 14]\n",
      "\n",
      "one-hot encoded labels\n",
      " [[0. 0. 0. 0. 0. 0. 0. 0. 1. 0. 0. 0. 0. 0. 0.]\n",
      " [0. 0. 0. 0. 0. 0. 0. 0. 0. 0. 0. 0. 0. 0. 1.]]\n",
      "\n",
      "result\n",
      " [[0. 0. 1. 1. 1. 1. 1. 1. 1. 0. 0. 0. 0. 0. 0.]\n",
      " [0. 1. 0. 0. 0. 0. 0. 0. 0. 1. 1. 1. 1. 1. 1.]]\n"
     ]
    }
   ],
   "source": [
    "doc = ['Positive thinking will let you do everthing', 'It always seems impossible until it is done']\n",
    "\n",
    "#1. Tokenizer\n",
    "tokenizer = Tokenizer()\n",
    "tokenizer.fit_on_texts(doc)\n",
    "sequences = tokenizer.texts_to_sequences(doc)\n",
    "\n",
    "print('\\nsequence')\n",
    "pp.pprint(sequences)\n",
    "\n",
    "#2. Get Word index\n",
    "word_index = tokenizer.word_index\n",
    "print('\\nword_index')\n",
    "pp.pprint(word_index)\n",
    "\n",
    "#3. pad\n",
    "data = pad_sequences(sequences, maxlen=15)\n",
    "print('\\npaded data\\n', data)\n",
    "\n",
    "#4. \n",
    "data = np.array(data)\n",
    "print('\\nsize of data tensor\\n',data.shape)\n",
    "\n",
    "label = data[:,-1]\n",
    "data = data[:, :-1]\n",
    "print('\\ndata\\n',data)\n",
    "print('\\nlabels\\n',label)\n",
    "\n",
    "\n",
    "label = to_categorical(label, num_classes=15)\n",
    "print('\\none-hot encoded labels\\n',label)\n",
    "\n",
    "#ref\n",
    "results = tokenizer.texts_to_matrix(doc, mode='binary')\n",
    "print('\\nresult\\n',results)"
   ]
  },
  {
   "cell_type": "code",
   "execution_count": null,
   "metadata": {},
   "outputs": [],
   "source": []
  }
 ],
 "metadata": {
  "kernelspec": {
   "display_name": "Python 3",
   "language": "python",
   "name": "python3"
  },
  "language_info": {
   "codemirror_mode": {
    "name": "ipython",
    "version": 3
   },
   "file_extension": ".py",
   "mimetype": "text/x-python",
   "name": "python",
   "nbconvert_exporter": "python",
   "pygments_lexer": "ipython3",
   "version": "3.6.9"
  }
 },
 "nbformat": 4,
 "nbformat_minor": 2
}
