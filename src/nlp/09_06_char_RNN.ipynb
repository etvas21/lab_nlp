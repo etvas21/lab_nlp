{
 "cells": [
  {
   "attachments": {
    "09.06_image01.png": {
     "image/png": "[encoded data removed]"
    }
   },
   "cell_type": "markdown",
   "metadata": {},
   "source": [
    "# 9.6 글자 단위 RNN(Char RNN)\n",
    "지금까지 배운 RNN은 전부 입력과 출력의 단위가 단어 벡터였습니다. 하지만 입출력의 단위를 단어 레벨(word-level)에서 글자 레벨(character-level)로 변경하여 RNN을 구현할 수 있습니다. 어려운 내용이 아니라 입, 출력의 단위를 단어에서 글자로 바꿨을 뿐입니다.\n",
    "\n",
    "![09.06_image01.png](attachment:09.06_image01.png)"
   ]
  },
  {
   "cell_type": "markdown",
   "metadata": {},
   "source": [
    "### 1. 글자 단위 RNN 언어 모델(Char RNNLM)\n",
    "이전 시점의 예측 글자를 다음 시점의 입력으로 사용하는 글자 단위 RNN 언어 모델을 구현해봅시다. 앞서 배운 단어 단위 RNN 언어 모델과 다른 점은 단어 단위가 아니라 글자 단위를 입, 출력으로 사용하므로 임베딩층(embedding layer)을 여기서는 사용하지 않겠습니다. 여기서는 언어 모델의 훈련 과정과 테스트 과정의 차이를 이해하는데 초점을 둡니다.\n",
    "\n",
    "다운로드 링크 : http://www.gutenberg.org/files/11/11-0.txt\n",
    "\n",
    "고전 소설들은 저작권에 보호받지 않으므로, 무료로 쉽게 다운받을 수 있는 좋은 훈련 데이터입니다. 위의 링크에서 '이상한 나라의 앨리스(Alice’s Adventures in Wonderland)'라는 소설을 다운로드 합니다. 우선, 파일을 불러오고 간단한 전처리를 수행합니다."
   ]
  },
  {
   "cell_type": "markdown",
   "metadata": {},
   "source": [
    "##### 1) 데이터에 대한 이해와 전처리"
   ]
  },
  {
   "cell_type": "code",
   "execution_count": 1,
   "metadata": {},
   "outputs": [],
   "source": [
    "import numpy as np\n",
    "import urllib.request\n",
    "from tensorflow.keras.utils import to_categorical"
   ]
  },
  {
   "cell_type": "code",
   "execution_count": 5,
   "metadata": {},
   "outputs": [
    {
     "data": {
      "text/plain": [
       "['the project gutenberg ebook of alices adventures in wonderland, by lewis carroll',\n",
       " 'this ebook is for the use of anyone anywhere at no cost and with',\n",
       " 'almost no restrictions whatsoever.  you may copy it, give it away or',\n",
       " 're-use it under the terms of the project gutenberg license included',\n",
       " 'with this ebook or online at www.gutenberg.org']"
      ]
     },
     "execution_count": 5,
     "metadata": {},
     "output_type": "execute_result"
    }
   ],
   "source": [
    "urllib.request.urlretrieve('http://www.gutenberg.org/files/11/11-0.txt'\n",
    "                           , filename='11-0.txt')\n",
    "\n",
    "lines =[]\n",
    "with open('11-0.txt', 'rb') as f:\n",
    "    for line in f:\n",
    "        line=line.strip()\n",
    "        line=line.lower()\n",
    "        line=line.decode('ascii','ignore')\n",
    "        if len(line) > 0:\n",
    "            lines.append(line)\n",
    "lines[:5]"
   ]
  },
  {
   "cell_type": "markdown",
   "metadata": {},
   "source": [
    "각 원소는 문자열로 구성되어져 있는데, 특별히 의미있게 문장 토큰화가 된 상태는 아닙니다. 이를 하나의 문자열로 통합하겠습니다."
   ]
  },
  {
   "cell_type": "code",
   "execution_count": 10,
   "metadata": {},
   "outputs": [
    {
     "name": "stdout",
     "output_type": "stream",
     "text": [
      "Total word count or word length : 159612\n",
      "the project gutenberg ebook of alices adventures in wonderland, by lewis carroll this ebook is for t\n"
     ]
    }
   ],
   "source": [
    "text = ' '.join(lines)\n",
    "print('Total word count or word length : %d' % len(text))\n",
    "print(text[:100])"
   ]
  },
  {
   "cell_type": "markdown",
   "metadata": {},
   "source": [
    "이 문자열은 어떤 글자들로 구성되어져 있을까요? 이제 이 문자열로부터 글자 집합을 만들겠습니다. 기존에는 중복을 제거한 단어들의 모음인 단어 집합(vocabulary)을 만들었으나, 이번에 만들 집합은 단어 집합이 아니라 글자 집합입니다."
   ]
  },
  {
   "cell_type": "code",
   "execution_count": 18,
   "metadata": {},
   "outputs": [
    {
     "name": "stdout",
     "output_type": "stream",
     "text": [
      "Char set size : 57\n"
     ]
    }
   ],
   "source": [
    "char_vocab = sorted(list(set(text)))\n",
    "vocab_size = len(char_vocab)\n",
    "print('Char set size : %d' % vocab_size )"
   ]
  },
  {
   "cell_type": "markdown",
   "metadata": {},
   "source": [
    "영어가 훈련 데이터일 때 대부분의 경우에서 글자 집합의 크기가 단어 집합을 사용했을 경우보다 집합의 크기가 현저히 작다는 특징이 있습니다. 아무리 훈련 코퍼스에 수십만 개 이상의 많은 영어 단어가 존재한다고 하더라도, 영어 단어를 표현하기 위해서 글자 집합에 포함되는 글자는 26개의 알파벳뿐이기 때문입니다. 만약 훈련 데이터의 알파벳이 대, 소문자가 구분된 상태라고 하더라도 모든 영어 단어는 총 52개의 알파벳으로 표현 가능합니다.\n",
    "\n",
    "어떤 방대한 양의 텍스트라도 집합의 크기를 적게 가져갈 수 있다는 것은 구현과 테스트를 굉장히 쉽게 할 수 있다는 이점을 가지므로, RNN의 동작 메커니즘 이해를 위한 토이 프로젝트로 굉장히 많이 사용됩니다. 글자 집합에 인덱스를 부여하고 전부 출력해보겠습니다."
   ]
  },
  {
   "cell_type": "code",
   "execution_count": 20,
   "metadata": {},
   "outputs": [
    {
     "name": "stdout",
     "output_type": "stream",
     "text": [
      "{' ': 0, '!': 1, '\"': 2, '#': 3, '$': 4, '%': 5, \"'\": 6, '(': 7, ')': 8, '*': 9, ',': 10, '-': 11, '.': 12, '/': 13, '0': 14, '1': 15, '2': 16, '3': 17, '4': 18, '5': 19, '6': 20, '7': 21, '8': 22, '9': 23, ':': 24, ';': 25, '?': 26, '@': 27, '[': 28, ']': 29, '_': 30, 'a': 31, 'b': 32, 'c': 33, 'd': 34, 'e': 35, 'f': 36, 'g': 37, 'h': 38, 'i': 39, 'j': 40, 'k': 41, 'l': 42, 'm': 43, 'n': 44, 'o': 45, 'p': 46, 'q': 47, 'r': 48, 's': 49, 't': 50, 'u': 51, 'v': 52, 'w': 53, 'x': 54, 'y': 55, 'z': 56}\n"
     ]
    }
   ],
   "source": [
    "char_to_index = dict((c,i) for i, c in enumerate(char_vocab))\n",
    "print(char_to_index)"
   ]
  },
  {
   "cell_type": "markdown",
   "metadata": {},
   "source": [
    "인덱스 0부터 28까지는 공백을 포함한 각종 구두점, 특수문자가 존재하고, 인덱스 29부터 54까지는 a부터 z까지 총 26개의 알파벳 소문자가 글자 집합에 포함되어져 있습니다. 이제 반대로 인덱스로부터 글자를 리턴하는 index_to_char을 만듭니다."
   ]
  },
  {
   "cell_type": "code",
   "execution_count": 21,
   "metadata": {},
   "outputs": [],
   "source": [
    "index_to_char ={}\n",
    "for key, value in char_to_index.items():\n",
    "    index_to_char[value] = key"
   ]
  },
  {
   "cell_type": "markdown",
   "metadata": {},
   "source": [
    "훈련 데이터를 구성해보겠습니다. 훈련 데이터 구성을 위한 간소화 된 예를 들어보겠습니다. 훈련 데이터에 apple이라는 시퀀스가 있고, 입력 시퀀스의 길이. 즉, 샘플의 길이를 4라고 한다면 입력 시퀀스와 예측해야 하는 출력 시퀀스는 다음과 같이 구성됩니다"
   ]
  },
  {
   "cell_type": "markdown",
   "metadata": {},
   "source": [
    "```\n",
    "# Example) 샘플의 길이가 4라면 4개의 입력 글자 시퀀스로 부터 4개의 출력 글자 시퀀스를 예측. 즉, RNN의 time step은 4번\n",
    "appl -> pple\n",
    "# appl은 train_X(입력 시퀀스), pple는 train_y(예측해야하는 시퀀스)에 저장한다.\n",
    "```"
   ]
  },
  {
   "cell_type": "markdown",
   "metadata": {},
   "source": [
    "이제 15만 8천의 길이를 가진 text 문자열로부터 다수의 문장 샘플들로 분리해보겠습니다. 분리하는 방법은 문장 샘플의 길이를 정하고, 해당 길이만큼 문자열 전체를 전부 등분하는 것입니다."
   ]
  },
  {
   "cell_type": "code",
   "execution_count": 27,
   "metadata": {},
   "outputs": [
    {
     "name": "stdout",
     "output_type": "stream",
     "text": [
      "Sentence sample count : 2660\n"
     ]
    }
   ],
   "source": [
    "seq_length = 60\n",
    "n_samples = int(np.floor((len(text)-1)/seq_length))\n",
    "print('Sentence sample count : {}'.format(n_samples))"
   ]
  },
  {
   "cell_type": "markdown",
   "metadata": {},
   "source": [
    "만약 문장의 길이를 60으로 한다면 15만 8천을 60으로 나눈 수가 샘플의 수가 됩니다. 여기서는 총 샘플의 수가 2,646개입니다."
   ]
  },
  {
   "cell_type": "code",
   "execution_count": 48,
   "metadata": {},
   "outputs": [],
   "source": [
    "train_X = []\n",
    "train_y = []\n",
    "\n",
    "for i in range(n_samples):\n",
    "    X_sample = text[ i * seq_length:(i+1)*seq_length]\n",
    "    X_encoded = [char_to_index[c] for c in X_sample]\n",
    "    train_X.append(X_encoded)\n",
    "    \n",
    "    y_sample = text[i * seq_length + 1 : (i+1)*seq_length + 1]\n",
    "    y_encoded = [char_to_index[c] for c in y_sample]\n",
    "    train_y.append(y_encoded)"
   ]
  },
  {
   "cell_type": "code",
   "execution_count": 56,
   "metadata": {},
   "outputs": [
    {
     "name": "stdout",
     "output_type": "stream",
     "text": [
      "[50, 38, 35, 0, 46, 48, 45, 40, 35, 33, 50, 0, 37, 51, 50, 35, 44, 32, 35, 48, 37, 0, 35, 32, 45, 45, 41, 0, 45, 36, 0, 31, 42, 39, 33, 35, 49, 0, 31, 34, 52, 35, 44, 50, 51, 48, 35, 49, 0, 39, 44, 0, 53, 45, 44, 34, 35, 48, 42, 31]\n",
      "\n",
      " [38, 35, 0, 46, 48, 45, 40, 35, 33, 50, 0, 37, 51, 50, 35, 44, 32, 35, 48, 37, 0, 35, 32, 45, 45, 41, 0, 45, 36, 0, 31, 42, 39, 33, 35, 49, 0, 31, 34, 52, 35, 44, 50, 51, 48, 35, 49, 0, 39, 44, 0, 53, 45, 44, 34, 35, 48, 42, 31, 44]\n"
     ]
    }
   ],
   "source": [
    "print(train_X[0])\n",
    "print('\\n',train_y[0])"
   ]
  },
  {
   "cell_type": "markdown",
   "metadata": {},
   "source": [
    "train_y[0]은 train_X[0]에서 오른쪽으로 한 칸 쉬프트 된 문장임을 알 수 있습니다."
   ]
  },
  {
   "cell_type": "code",
   "execution_count": 36,
   "metadata": {},
   "outputs": [
    {
     "name": "stdout",
     "output_type": "stream",
     "text": [
      "[44, 34, 10, 0, 32, 55, 0, 42, 35, 53, 39, 49, 0, 33, 31, 48, 48, 45, 42, 42, 0, 50, 38, 39, 49, 0, 35, 32, 45, 45, 41, 0, 39, 49, 0, 36, 45, 48, 0, 50, 38, 35, 0, 51, 49, 35, 0, 45, 36, 0, 31, 44, 55, 45, 44, 35, 0, 31, 44, 55]\n",
      "\n",
      " [34, 10, 0, 32, 55, 0, 42, 35, 53, 39, 49, 0, 33, 31, 48, 48, 45, 42, 42, 0, 50, 38, 39, 49, 0, 35, 32, 45, 45, 41, 0, 39, 49, 0, 36, 45, 48, 0, 50, 38, 35, 0, 51, 49, 35, 0, 45, 36, 0, 31, 44, 55, 45, 44, 35, 0, 31, 44, 55, 53]\n"
     ]
    }
   ],
   "source": [
    "print(train_X[1])\n",
    "print('\\n',train_y[1])"
   ]
  },
  {
   "cell_type": "markdown",
   "metadata": {},
   "source": [
    "마찬가지로 train_y[1]은 train_X[1]에서 오른쪽으로 한 칸 쉬프트 된 문장임을 알 수 있습니다. 이제 train_X와 train_y에 대해서 원-핫 인코딩을 수행합니다. 글자 단위 RNN에서는 입력 시퀀스에 대해서 워드 임베딩을 하지 않습니다. 다시 말해 임베딩층(embedding layer)을 사용하지 않을 것이므로, 입력 시퀀스인 train_X에 대해서도 원-핫 인코딩을 합니다."
   ]
  },
  {
   "cell_type": "code",
   "execution_count": 63,
   "metadata": {},
   "outputs": [
    {
     "name": "stdout",
     "output_type": "stream",
     "text": [
      "size(shape) of train_X : (2660, 60, 57)\n",
      "size(shape) of train_y : (2660, 60, 57)\n"
     ]
    }
   ],
   "source": [
    "train_X = to_categorical(train_X)\n",
    "train_y = to_categorical(train_y)\n",
    "\n",
    "print('size(shape) of train_X : {}'.format(train_X.shape))\n",
    "print('size(shape) of train_y : {}'.format(train_y.shape))"
   ]
  },
  {
   "cell_type": "markdown",
   "metadata": {},
   "source": [
    "이는 샘플의 수(No. of samples)가 2,646개, 입력 시퀀스의 길이(input_length)가 60, 각 벡터의 차원(input_dim)이 55임을 의미합니다. 원-핫 벡터의 차원은 글자 집합의 크기인 55이어야 하므로 원-핫 인코딩이 수행되었음을 알 수 있습니다."
   ]
  },
  {
   "cell_type": "markdown",
   "metadata": {},
   "source": [
    "##### 2) 모델 설계하기"
   ]
  },
  {
   "cell_type": "code",
   "execution_count": 64,
   "metadata": {},
   "outputs": [],
   "source": [
    "from tensorflow.keras.models import Sequential\n",
    "from tensorflow.keras.layers import Dense, LSTM, TimeDistributed"
   ]
  },
  {
   "cell_type": "code",
   "execution_count": 65,
   "metadata": {},
   "outputs": [],
   "source": [
    "model = Sequential()\n",
    "model.add(LSTM(256, input_shape=(None, train_X.shape[2]), return_sequences=True))\n",
    "model.add(LSTM(256, return_sequences=True))\n",
    "model.add(TimeDistributed(Dense(vocab_size, activation='softmax')))"
   ]
  },
  {
   "cell_type": "code",
   "execution_count": 66,
   "metadata": {},
   "outputs": [
    {
     "name": "stdout",
     "output_type": "stream",
     "text": [
      "Epoch 1/80\n",
      "2660/2660 - 38s - loss: 3.0683 - accuracy: 0.1843\n",
      "Epoch 2/80\n",
      "2660/2660 - 37s - loss: 2.7157 - accuracy: 0.2515\n",
      "Epoch 3/80\n",
      "2660/2660 - 37s - loss: 2.3884 - accuracy: 0.3271\n",
      "Epoch 4/80\n",
      "2660/2660 - 37s - loss: 2.2588 - accuracy: 0.3578\n",
      "Epoch 5/80\n",
      "2660/2660 - 36s - loss: 2.1559 - accuracy: 0.3850\n",
      "Epoch 6/80\n",
      "2660/2660 - 37s - loss: 2.0755 - accuracy: 0.4034\n",
      "Epoch 7/80\n",
      "2660/2660 - 39s - loss: 2.0083 - accuracy: 0.4206\n",
      "Epoch 8/80\n",
      "2660/2660 - 46s - loss: 1.9512 - accuracy: 0.4344\n",
      "Epoch 9/80\n",
      "2660/2660 - 47s - loss: 1.9011 - accuracy: 0.4486\n",
      "Epoch 10/80\n",
      "2660/2660 - 39s - loss: 1.8563 - accuracy: 0.4610\n",
      "Epoch 11/80\n",
      "2660/2660 - 41s - loss: 1.8152 - accuracy: 0.4731\n",
      "Epoch 12/80\n",
      "2660/2660 - 41s - loss: 1.7763 - accuracy: 0.4843\n",
      "Epoch 13/80\n",
      "2660/2660 - 40s - loss: 1.7409 - accuracy: 0.4938\n",
      "Epoch 14/80\n",
      "2660/2660 - 40s - loss: 1.7050 - accuracy: 0.5026\n",
      "Epoch 15/80\n",
      "2660/2660 - 42s - loss: 1.6735 - accuracy: 0.5104\n",
      "Epoch 16/80\n",
      "2660/2660 - 40s - loss: 1.6399 - accuracy: 0.5189\n",
      "Epoch 17/80\n",
      "2660/2660 - 41s - loss: 1.6103 - accuracy: 0.5263\n",
      "Epoch 18/80\n",
      "2660/2660 - 41s - loss: 1.5774 - accuracy: 0.5351\n",
      "Epoch 19/80\n",
      "2660/2660 - 41s - loss: 1.5469 - accuracy: 0.5444\n",
      "Epoch 20/80\n",
      "2660/2660 - 41s - loss: 1.5191 - accuracy: 0.5507\n",
      "Epoch 21/80\n",
      "2660/2660 - 42s - loss: 1.4923 - accuracy: 0.5593\n",
      "Epoch 22/80\n",
      "2660/2660 - 53s - loss: 1.4636 - accuracy: 0.5668\n",
      "Epoch 23/80\n",
      "2660/2660 - 45s - loss: 1.4350 - accuracy: 0.5752\n",
      "Epoch 24/80\n",
      "2660/2660 - 60s - loss: 1.4078 - accuracy: 0.5834\n",
      "Epoch 25/80\n",
      "2660/2660 - 56s - loss: 1.3811 - accuracy: 0.5903\n",
      "Epoch 26/80\n",
      "2660/2660 - 55s - loss: 1.3537 - accuracy: 0.5977\n",
      "Epoch 27/80\n",
      "2660/2660 - 79s - loss: 1.3260 - accuracy: 0.6067\n",
      "Epoch 28/80\n",
      "2660/2660 - 88s - loss: 1.2991 - accuracy: 0.6145\n",
      "Epoch 29/80\n",
      "2660/2660 - 95s - loss: 1.2709 - accuracy: 0.6218\n",
      "Epoch 30/80\n",
      "2660/2660 - 108s - loss: 1.2465 - accuracy: 0.6290\n",
      "Epoch 31/80\n",
      "2660/2660 - 86s - loss: 1.2232 - accuracy: 0.6350\n",
      "Epoch 32/80\n",
      "2660/2660 - 54s - loss: 1.1947 - accuracy: 0.6433\n",
      "Epoch 33/80\n",
      "2660/2660 - 52s - loss: 1.1648 - accuracy: 0.6524\n",
      "Epoch 34/80\n",
      "2660/2660 - 44s - loss: 1.1385 - accuracy: 0.6602\n",
      "Epoch 35/80\n",
      "2660/2660 - 43s - loss: 1.1099 - accuracy: 0.6684\n",
      "Epoch 36/80\n",
      "2660/2660 - 44s - loss: 1.0841 - accuracy: 0.6762\n",
      "Epoch 37/80\n",
      "2660/2660 - 48s - loss: 1.0597 - accuracy: 0.6826\n",
      "Epoch 38/80\n",
      "2660/2660 - 54s - loss: 1.0300 - accuracy: 0.6926\n",
      "Epoch 39/80\n",
      "2660/2660 - 41s - loss: 1.0011 - accuracy: 0.7002\n",
      "Epoch 40/80\n",
      "2660/2660 - 37s - loss: 0.9731 - accuracy: 0.7103\n",
      "Epoch 41/80\n",
      "2660/2660 - 38s - loss: 0.9458 - accuracy: 0.7185\n",
      "Epoch 42/80\n",
      "2660/2660 - 41s - loss: 0.9188 - accuracy: 0.7259\n",
      "Epoch 43/80\n",
      "2660/2660 - 38s - loss: 0.8937 - accuracy: 0.7343\n",
      "Epoch 44/80\n",
      "2660/2660 - 40s - loss: 0.8654 - accuracy: 0.7431\n",
      "Epoch 45/80\n",
      "2660/2660 - 39s - loss: 0.8381 - accuracy: 0.7510\n",
      "Epoch 46/80\n",
      "2660/2660 - 39s - loss: 0.8112 - accuracy: 0.7596\n",
      "Epoch 47/80\n",
      "2660/2660 - 45s - loss: 0.7848 - accuracy: 0.7679\n",
      "Epoch 48/80\n",
      "2660/2660 - 42s - loss: 0.7603 - accuracy: 0.7760\n",
      "Epoch 49/80\n",
      "2660/2660 - 38s - loss: 0.7405 - accuracy: 0.7806\n",
      "Epoch 50/80\n",
      "2660/2660 - 38s - loss: 0.7132 - accuracy: 0.7902\n",
      "Epoch 51/80\n",
      "2660/2660 - 40s - loss: 0.6901 - accuracy: 0.7980\n",
      "Epoch 52/80\n",
      "2660/2660 - 40s - loss: 0.6633 - accuracy: 0.8063\n",
      "Epoch 53/80\n",
      "2660/2660 - 40s - loss: 0.6402 - accuracy: 0.8138\n",
      "Epoch 54/80\n",
      "2660/2660 - 40s - loss: 0.6158 - accuracy: 0.8225\n",
      "Epoch 55/80\n",
      "2660/2660 - 40s - loss: 0.5956 - accuracy: 0.8284\n",
      "Epoch 56/80\n",
      "2660/2660 - 43s - loss: 0.5706 - accuracy: 0.8369\n",
      "Epoch 57/80\n",
      "2660/2660 - 37s - loss: 0.5482 - accuracy: 0.8451\n",
      "Epoch 58/80\n",
      "2660/2660 - 37s - loss: 0.5314 - accuracy: 0.8491\n",
      "Epoch 59/80\n",
      "2660/2660 - 36s - loss: 0.5163 - accuracy: 0.8538\n",
      "Epoch 60/80\n",
      "2660/2660 - 37s - loss: 0.4902 - accuracy: 0.8623\n",
      "Epoch 61/80\n",
      "2660/2660 - 35s - loss: 0.4762 - accuracy: 0.8669\n",
      "Epoch 62/80\n",
      "2660/2660 - 37s - loss: 0.4533 - accuracy: 0.8754\n",
      "Epoch 63/80\n",
      "2660/2660 - 43s - loss: 0.4353 - accuracy: 0.8807\n",
      "Epoch 64/80\n",
      "2660/2660 - 56s - loss: 0.4164 - accuracy: 0.8869\n",
      "Epoch 65/80\n",
      "2660/2660 - 56s - loss: 0.4093 - accuracy: 0.8882\n",
      "Epoch 66/80\n",
      "2660/2660 - 58s - loss: 0.3862 - accuracy: 0.8969\n",
      "Epoch 67/80\n",
      "2660/2660 - 58s - loss: 0.3790 - accuracy: 0.8978\n",
      "Epoch 68/80\n",
      "2660/2660 - 52s - loss: 0.3628 - accuracy: 0.9035\n",
      "Epoch 69/80\n",
      "2660/2660 - 39s - loss: 0.3491 - accuracy: 0.9074\n",
      "Epoch 70/80\n",
      "2660/2660 - 38s - loss: 0.3298 - accuracy: 0.9145\n",
      "Epoch 71/80\n",
      "2660/2660 - 39s - loss: 0.3188 - accuracy: 0.9182\n",
      "Epoch 72/80\n",
      "2660/2660 - 45s - loss: 0.3088 - accuracy: 0.9205\n",
      "Epoch 73/80\n",
      "2660/2660 - 48s - loss: 0.2968 - accuracy: 0.9244\n",
      "Epoch 74/80\n",
      "2660/2660 - 49s - loss: 0.2907 - accuracy: 0.9253\n",
      "Epoch 75/80\n",
      "2660/2660 - 40s - loss: 0.2700 - accuracy: 0.9331\n",
      "Epoch 76/80\n",
      "2660/2660 - 40s - loss: 0.2621 - accuracy: 0.9352\n",
      "Epoch 77/80\n",
      "2660/2660 - 41s - loss: 0.2491 - accuracy: 0.9395\n",
      "Epoch 78/80\n",
      "2660/2660 - 39s - loss: 0.2381 - accuracy: 0.9425\n",
      "Epoch 79/80\n",
      "2660/2660 - 44s - loss: 0.2311 - accuracy: 0.9444\n",
      "Epoch 80/80\n",
      "2660/2660 - 40s - loss: 0.2368 - accuracy: 0.9412\n"
     ]
    },
    {
     "data": {
      "text/plain": [
       "<tensorflow.python.keras.callbacks.History at 0x7f22f73a67f0>"
      ]
     },
     "execution_count": 66,
     "metadata": {},
     "output_type": "execute_result"
    }
   ],
   "source": [
    "model.compile(loss='categorical_crossentropy', optimizer='adam', metrics=['accuracy'])\n",
    "model.fit(train_X, train_y, epochs=80, verbose=2)"
   ]
  },
  {
   "cell_type": "code",
   "execution_count": 77,
   "metadata": {},
   "outputs": [],
   "source": [
    "def sentence_generation(model, length):\n",
    "    ix = [np.random.randint(vocab_size)]\n",
    "    y_char = [index_to_char[ix[-1]]]\n",
    "    print(ix[-1], '번 글자',y_char[-1],'로 예측을 시작')\n",
    "    X = np.zeros((1,length, vocab_size))\n",
    "    \n",
    "    for i in range(length):\n",
    "        X[0][i][ix[-1]] = 1\n",
    "        print(index_to_char[ix[-1]], end='')\n",
    "        ix = np.argmax(model.predict(X[:,:i+1,:])[0],1)\n",
    "        y_char.append(index_to_char[ix[-1]])\n",
    "    return ('').join(y_char)"
   ]
  },
  {
   "cell_type": "code",
   "execution_count": 78,
   "metadata": {},
   "outputs": [
    {
     "name": "stdout",
     "output_type": "stream",
     "text": [
      "16 번 글자 2 로 예측을 시작\n",
      "2. alice gave a little began ingow thating her head do do a whico? oh you know a little be a rabbit "
     ]
    },
    {
     "data": {
      "text/plain": [
       "'2. alice gave a little began ingow thating her head do do a whico? oh you know a little be a rabbit o'"
      ]
     },
     "execution_count": 78,
     "metadata": {},
     "output_type": "execute_result"
    }
   ],
   "source": [
    "sentence_generation(model, 100)"
   ]
  },
  {
   "cell_type": "markdown",
   "metadata": {},
   "source": [
    "### 2. 글자 단위 RNN(Char RNN)으로 텍스트 생성하기\n",
    "이번에는 다 대 일(many-to-one) 구조의 RNN을 글자 단위로 학습시키고, 텍스트 생성을 해보겠습니다."
   ]
  },
  {
   "cell_type": "code",
   "execution_count": 81,
   "metadata": {},
   "outputs": [],
   "source": [
    "import numpy  as np\n",
    "from tensorflow.keras.utils import to_categorical"
   ]
  },
  {
   "cell_type": "code",
   "execution_count": 82,
   "metadata": {},
   "outputs": [],
   "source": [
    "text ='''\n",
    "I get on with life as a programmer,\n",
    "I like to contemplate beer.\n",
    "But when I start to daydream,\n",
    "My mind turns straight to wine.\n",
    "\n",
    "Do I love wine more than beer?\n",
    "\n",
    "I like to use words about beer.\n",
    "But when I stop my talking,\n",
    "My mind turns straight to wine.\n",
    "\n",
    "I hate bugs and errors.\n",
    "But I just think back to wine,\n",
    "And I'm happy once again.\n",
    "\n",
    "I like to hang out with programming and deep learning.\n",
    "But when left alone,\n",
    "My mind turns straight to wine.\n",
    "'''"
   ]
  },
  {
   "cell_type": "code",
   "execution_count": 83,
   "metadata": {},
   "outputs": [
    {
     "name": "stdout",
     "output_type": "stream",
     "text": [
      "I get on with life as a programmer, I like to contemplate beer. But when I start to daydream, My mind turns straight to wine. Do I love wine more than beer? I like to use words about beer. But when I stop my talking, My mind turns straight to wine. I hate bugs and errors. But I just think back to wine, And I'm happy once again. I like to hang out with programming and deep learning. But when left alone, My mind turns straight to wine.\n"
     ]
    }
   ],
   "source": [
    "tokens = text.split()\n",
    "text = ' '.join(tokens)\n",
    "print(text)"
   ]
  },
  {
   "cell_type": "markdown",
   "metadata": {},
   "source": [
    "단락 구분이 없어지고 하나의 문자열로 재저장된 것을 확인할 수 있습니다. 이제 이로부터 글자 집합을 만들어보겠습니다. 기존에는 중복을 제거한 단어들의 모음인 단어 집합(vocabulary)을 만들었으나, 이번에 만들 집합은 단어 집합이 아니라 글자 집합입니다."
   ]
  },
  {
   "cell_type": "code",
   "execution_count": 85,
   "metadata": {},
   "outputs": [
    {
     "name": "stdout",
     "output_type": "stream",
     "text": [
      "[' ', \"'\", ',', '.', '?', 'A', 'B', 'D', 'I', 'M', 'a', 'b', 'c', 'd', 'e', 'f', 'g', 'h', 'i', 'j', 'k', 'l', 'm', 'n', 'o', 'p', 'r', 's', 't', 'u', 'v', 'w', 'y']\n"
     ]
    }
   ],
   "source": [
    "char_vocab = sorted(list(set(text)))\n",
    "print(char_vocab)"
   ]
  },
  {
   "cell_type": "markdown",
   "metadata": {},
   "source": [
    "기존의 단어 단위의 집합이 아니라 알파벳 또는 구두점 등의 단위의 집합인 글자 집합이 생성되었습니다."
   ]
  },
  {
   "cell_type": "code",
   "execution_count": 86,
   "metadata": {},
   "outputs": [
    {
     "name": "stdout",
     "output_type": "stream",
     "text": [
      "size of char set : 33\n"
     ]
    }
   ],
   "source": [
    "vocab_size = len(char_vocab)\n",
    "print('size of char set : {}'.format(vocab_size))"
   ]
  },
  {
   "cell_type": "code",
   "execution_count": 88,
   "metadata": {},
   "outputs": [
    {
     "name": "stdout",
     "output_type": "stream",
     "text": [
      "{' ': 0, \"'\": 1, ',': 2, '.': 3, '?': 4, 'A': 5, 'B': 6, 'D': 7, 'I': 8, 'M': 9, 'a': 10, 'b': 11, 'c': 12, 'd': 13, 'e': 14, 'f': 15, 'g': 16, 'h': 17, 'i': 18, 'j': 19, 'k': 20, 'l': 21, 'm': 22, 'n': 23, 'o': 24, 'p': 25, 'r': 26, 's': 27, 't': 28, 'u': 29, 'v': 30, 'w': 31, 'y': 32}\n"
     ]
    }
   ],
   "source": [
    "char_to_index = dict((c,i) for i,c in enumerate(char_vocab))\n",
    "print(char_to_index)"
   ]
  },
  {
   "cell_type": "markdown",
   "metadata": {},
   "source": [
    "이번 실습의 글자 집합의 경우 훈련 데이터에 등장한 알파벳의 대, 소문자를 구분하고 구두점과 공백을 포함하였습니다. 이제 훈련에 사용할 문장 샘플들을 만들어보겠습니다. 여기서는 RNN을 이용한 생성한 텍스트 챕터와 유사하게 데이터를 구성합니다. 다만, 단위가 글자 단위라는 점이 다릅니다. 예를 들어 훈련 데이터에 student라는 단어가 있고, 입력 시퀀스의 길이를 5라고 한다면 입력 시퀀스와 예측해야하는 글자는 다음과 같이 구성됩니다."
   ]
  },
  {
   "cell_type": "markdown",
   "metadata": {},
   "source": [
    "```python\n",
    "# Example) 5개의 입력 글자 시퀀스로부터 다음 글자 시퀀스를 예측. 즉, RNN의 time step은 5번\n",
    "stude -> n \n",
    "tuden -> t\n",
    "```"
   ]
  },
  {
   "cell_type": "markdown",
   "metadata": {},
   "source": [
    "여기서는 입력 시퀀스의 길이. 즉, 모든 샘플들의 길이가 10가 되도록 데이터를 구성해보겠습니다. 예측 대상이 되는 글자도 필요하므로 우선 길이가 11이 되도록 데이터를 구성합니다."
   ]
  },
  {
   "cell_type": "code",
   "execution_count": 89,
   "metadata": {},
   "outputs": [
    {
     "name": "stdout",
     "output_type": "stream",
     "text": [
      "Count of total train : 426\n"
     ]
    }
   ],
   "source": [
    "length = 11\n",
    "sequences = []\n",
    "for i in range(length, len(text)):\n",
    "    seq = text[i-length:i]\n",
    "    sequences.append(seq)\n",
    "\n",
    "print('Count of total train : %d' % len(sequences))"
   ]
  },
  {
   "cell_type": "code",
   "execution_count": 90,
   "metadata": {},
   "outputs": [
    {
     "data": {
      "text/plain": [
       "['I get on wi',\n",
       " ' get on wit',\n",
       " 'get on with',\n",
       " 'et on with ',\n",
       " 't on with l',\n",
       " ' on with li',\n",
       " 'on with lif',\n",
       " 'n with life',\n",
       " ' with life ',\n",
       " 'with life a']"
      ]
     },
     "execution_count": 90,
     "metadata": {},
     "output_type": "execute_result"
    }
   ],
   "source": [
    "sequences[:10]"
   ]
  },
  {
   "cell_type": "markdown",
   "metadata": {},
   "source": [
    "첫번째 문장이었던 'I get on with life as a programmer,'가 10개의 샘플로 분리된 것을 확인할 수 있습니다. 다른 문장들에 대해서도 sequences에 모두 저장되어져 있습니다. 원한다면, sequences[30:45] 등과 같이 인덱스 범위를 변경하여 출력해보시기 바랍니다. 이제 앞서 만든 char_to_index를 사용하여 전체 데이터에 대해서 정수 인코딩을 수행합니다."
   ]
  },
  {
   "cell_type": "code",
   "execution_count": 91,
   "metadata": {},
   "outputs": [],
   "source": [
    "X =[]\n",
    "for line in sequences:\n",
    "    temp_X = [char_to_index[char] for char in line]\n",
    "    X.append(temp_X)"
   ]
  },
  {
   "cell_type": "markdown",
   "metadata": {},
   "source": [
    "정수 인코딩 된 결과가 X에 저장되었습니다. 5개만 출력해보겠습니다.\n",
    "\n"
   ]
  },
  {
   "cell_type": "code",
   "execution_count": 92,
   "metadata": {},
   "outputs": [
    {
     "name": "stdout",
     "output_type": "stream",
     "text": [
      "[8, 0, 16, 14, 28, 0, 24, 23, 0, 31, 18]\n",
      "[0, 16, 14, 28, 0, 24, 23, 0, 31, 18, 28]\n",
      "[16, 14, 28, 0, 24, 23, 0, 31, 18, 28, 17]\n",
      "[14, 28, 0, 24, 23, 0, 31, 18, 28, 17, 0]\n",
      "[28, 0, 24, 23, 0, 31, 18, 28, 17, 0, 21]\n"
     ]
    }
   ],
   "source": [
    "for line in X[:5]:\n",
    "    print(line)"
   ]
  },
  {
   "cell_type": "markdown",
   "metadata": {},
   "source": [
    "정상적으로 정수 인코딩이 수행되었습니다. 이제 예측 대상인 글자를 분리시켜주는 작업을 합니다. 모든 샘플 문장에 대해서 맨 마지막 글자를 분리시켜줍니다."
   ]
  },
  {
   "cell_type": "code",
   "execution_count": 93,
   "metadata": {},
   "outputs": [],
   "source": [
    "sequences = np.array(X)\n",
    "X = sequences[:,:-1]\n",
    "y = sequences[:,-1]"
   ]
  },
  {
   "cell_type": "code",
   "execution_count": 94,
   "metadata": {},
   "outputs": [
    {
     "name": "stdout",
     "output_type": "stream",
     "text": [
      "[ 8  0 16 14 28  0 24 23  0 31]\n",
      "[ 0 16 14 28  0 24 23  0 31 18]\n",
      "[16 14 28  0 24 23  0 31 18 28]\n",
      "[14 28  0 24 23  0 31 18 28 17]\n",
      "[28  0 24 23  0 31 18 28 17  0]\n"
     ]
    }
   ],
   "source": [
    "for line in X[:5]:\n",
    "    print(line)"
   ]
  },
  {
   "cell_type": "markdown",
   "metadata": {},
   "source": [
    "앞서 출력한 5개의 샘플에서 각각 맨 뒤의 글자였던 18, 28, 17, 0, 21이 별도로 분리되어 y에 저장되었습니다. 이제 X와 y에 대해서 원-핫 인코딩을 수행해보겠습니다."
   ]
  },
  {
   "cell_type": "code",
   "execution_count": 95,
   "metadata": {},
   "outputs": [],
   "source": [
    "sequences = [to_categorical(x,num_classes=vocab_size) for x in X]\n",
    "\n",
    "X = np.array(sequences)\n",
    "y = to_categorical(y, num_classes=vocab_size)"
   ]
  },
  {
   "cell_type": "code",
   "execution_count": 96,
   "metadata": {},
   "outputs": [
    {
     "name": "stdout",
     "output_type": "stream",
     "text": [
      "(426, 10, 33)\n"
     ]
    }
   ],
   "source": [
    "print(X.shape)"
   ]
  },
  {
   "cell_type": "markdown",
   "metadata": {},
   "source": [
    "이는 샘플의 수(No. of samples)가 426개, 입력 시퀀스의 길이(input_length)가 10, 각 벡터의 차원(input_dim)이 33임을 의미합니다. 원-핫 벡터의 차원은 글자 집합의 크기인 33이어야 하므로 X에 대해서 원-핫 인코딩이 수행되었음을 알 수 있습니다."
   ]
  },
  {
   "cell_type": "markdown",
   "metadata": {},
   "source": [
    "##### 2) 모델 설계하기"
   ]
  },
  {
   "cell_type": "code",
   "execution_count": 99,
   "metadata": {},
   "outputs": [],
   "source": [
    "from tensorflow.keras.models import Sequential\n",
    "from tensorflow.keras.layers import Dense, LSTM\n",
    "from tensorflow.keras.preprocessing.sequence import pad_sequences"
   ]
  },
  {
   "cell_type": "code",
   "execution_count": 100,
   "metadata": {},
   "outputs": [],
   "source": [
    "model = Sequential()\n",
    "model.add(LSTM(80, input_shape=(X.shape[1], X.shape[2])))\n",
    "model.add(Dense(vocab_size, activation='softmax'))"
   ]
  },
  {
   "cell_type": "markdown",
   "metadata": {},
   "source": [
    "LSTM을 사용하고, 은닉 상태의 크기는 80, 그리고 출력층에 단어 집합의 크기만큼의 뉴런을 배치하여 모델을 설계합니다."
   ]
  },
  {
   "cell_type": "code",
   "execution_count": 101,
   "metadata": {},
   "outputs": [
    {
     "name": "stdout",
     "output_type": "stream",
     "text": [
      "Epoch 1/100\n",
      "426/426 - 1s - loss: 3.4630 - accuracy: 0.1408\n",
      "Epoch 2/100\n",
      "426/426 - 0s - loss: 3.3373 - accuracy: 0.1972\n",
      "Epoch 3/100\n",
      "426/426 - 0s - loss: 3.0344 - accuracy: 0.1972\n",
      "Epoch 4/100\n",
      "426/426 - 0s - loss: 2.9619 - accuracy: 0.1972\n",
      "Epoch 5/100\n",
      "426/426 - 0s - loss: 2.9361 - accuracy: 0.1972\n",
      "Epoch 6/100\n",
      "426/426 - 0s - loss: 2.9136 - accuracy: 0.1972\n",
      "Epoch 7/100\n",
      "426/426 - 0s - loss: 2.8969 - accuracy: 0.1972\n",
      "Epoch 8/100\n",
      "426/426 - 0s - loss: 2.8773 - accuracy: 0.1972\n",
      "Epoch 9/100\n",
      "426/426 - 0s - loss: 2.8536 - accuracy: 0.1972\n",
      "Epoch 10/100\n",
      "426/426 - 0s - loss: 2.8143 - accuracy: 0.1972\n",
      "Epoch 11/100\n",
      "426/426 - 0s - loss: 2.7597 - accuracy: 0.2089\n",
      "Epoch 12/100\n",
      "426/426 - 0s - loss: 2.7185 - accuracy: 0.2113\n",
      "Epoch 13/100\n",
      "426/426 - 0s - loss: 2.6652 - accuracy: 0.2347\n",
      "Epoch 14/100\n",
      "426/426 - 0s - loss: 2.6072 - accuracy: 0.2653\n",
      "Epoch 15/100\n",
      "426/426 - 0s - loss: 2.5699 - accuracy: 0.2840\n",
      "Epoch 16/100\n",
      "426/426 - 0s - loss: 2.5018 - accuracy: 0.2676\n",
      "Epoch 17/100\n",
      "426/426 - 0s - loss: 2.4430 - accuracy: 0.2981\n",
      "Epoch 18/100\n",
      "426/426 - 0s - loss: 2.3833 - accuracy: 0.3286\n",
      "Epoch 19/100\n",
      "426/426 - 0s - loss: 2.3396 - accuracy: 0.3239\n",
      "Epoch 20/100\n",
      "426/426 - 0s - loss: 2.2751 - accuracy: 0.3545\n",
      "Epoch 21/100\n",
      "426/426 - 0s - loss: 2.2251 - accuracy: 0.3756\n",
      "Epoch 22/100\n",
      "426/426 - 0s - loss: 2.1632 - accuracy: 0.3850\n",
      "Epoch 23/100\n",
      "426/426 - 0s - loss: 2.1423 - accuracy: 0.3662\n",
      "Epoch 24/100\n",
      "426/426 - 0s - loss: 2.0882 - accuracy: 0.4038\n",
      "Epoch 25/100\n",
      "426/426 - 0s - loss: 2.0191 - accuracy: 0.4085\n",
      "Epoch 26/100\n",
      "426/426 - 0s - loss: 1.9655 - accuracy: 0.4366\n",
      "Epoch 27/100\n",
      "426/426 - 0s - loss: 1.9228 - accuracy: 0.4296\n",
      "Epoch 28/100\n",
      "426/426 - 0s - loss: 1.8781 - accuracy: 0.4437\n",
      "Epoch 29/100\n",
      "426/426 - 0s - loss: 1.8420 - accuracy: 0.4742\n",
      "Epoch 30/100\n",
      "426/426 - 0s - loss: 1.7708 - accuracy: 0.5070\n",
      "Epoch 31/100\n",
      "426/426 - 0s - loss: 1.7407 - accuracy: 0.5423\n",
      "Epoch 32/100\n",
      "426/426 - 0s - loss: 1.6912 - accuracy: 0.5423\n",
      "Epoch 33/100\n",
      "426/426 - 0s - loss: 1.6442 - accuracy: 0.5446\n",
      "Epoch 34/100\n",
      "426/426 - 0s - loss: 1.6093 - accuracy: 0.5845\n",
      "Epoch 35/100\n",
      "426/426 - 0s - loss: 1.5506 - accuracy: 0.5939\n",
      "Epoch 36/100\n",
      "426/426 - 0s - loss: 1.5021 - accuracy: 0.6174\n",
      "Epoch 37/100\n",
      "426/426 - 0s - loss: 1.4688 - accuracy: 0.6174\n",
      "Epoch 38/100\n",
      "426/426 - 0s - loss: 1.4360 - accuracy: 0.6315\n",
      "Epoch 39/100\n",
      "426/426 - 0s - loss: 1.4055 - accuracy: 0.6174\n",
      "Epoch 40/100\n",
      "426/426 - 0s - loss: 1.3660 - accuracy: 0.6291\n",
      "Epoch 41/100\n",
      "426/426 - 0s - loss: 1.3143 - accuracy: 0.6808\n",
      "Epoch 42/100\n",
      "426/426 - 0s - loss: 1.2593 - accuracy: 0.6878\n",
      "Epoch 43/100\n",
      "426/426 - 0s - loss: 1.2340 - accuracy: 0.6925\n",
      "Epoch 44/100\n",
      "426/426 - 0s - loss: 1.2056 - accuracy: 0.7066\n",
      "Epoch 45/100\n",
      "426/426 - 0s - loss: 1.1448 - accuracy: 0.7394\n",
      "Epoch 46/100\n",
      "426/426 - 0s - loss: 1.1009 - accuracy: 0.7371\n",
      "Epoch 47/100\n",
      "426/426 - 0s - loss: 1.0704 - accuracy: 0.7488\n",
      "Epoch 48/100\n",
      "426/426 - 0s - loss: 1.0369 - accuracy: 0.7418\n",
      "Epoch 49/100\n",
      "426/426 - 0s - loss: 1.0058 - accuracy: 0.7653\n",
      "Epoch 50/100\n",
      "426/426 - 0s - loss: 0.9699 - accuracy: 0.7887\n",
      "Epoch 51/100\n",
      "426/426 - 0s - loss: 0.9191 - accuracy: 0.7817\n",
      "Epoch 52/100\n",
      "426/426 - 0s - loss: 0.9071 - accuracy: 0.7934\n",
      "Epoch 53/100\n",
      "426/426 - 0s - loss: 0.8771 - accuracy: 0.8028\n",
      "Epoch 54/100\n",
      "426/426 - 0s - loss: 0.8178 - accuracy: 0.8216\n",
      "Epoch 55/100\n",
      "426/426 - 0s - loss: 0.8091 - accuracy: 0.8286\n",
      "Epoch 56/100\n",
      "426/426 - 0s - loss: 0.7754 - accuracy: 0.8427\n",
      "Epoch 57/100\n",
      "426/426 - 0s - loss: 0.7358 - accuracy: 0.8615\n",
      "Epoch 58/100\n",
      "426/426 - 0s - loss: 0.7182 - accuracy: 0.8568\n",
      "Epoch 59/100\n",
      "426/426 - 0s - loss: 0.6734 - accuracy: 0.8826\n",
      "Epoch 60/100\n",
      "426/426 - 0s - loss: 0.6450 - accuracy: 0.8944\n",
      "Epoch 61/100\n",
      "426/426 - 0s - loss: 0.6311 - accuracy: 0.8991\n",
      "Epoch 62/100\n",
      "426/426 - 0s - loss: 0.6208 - accuracy: 0.8920\n",
      "Epoch 63/100\n",
      "426/426 - 0s - loss: 0.5876 - accuracy: 0.8991\n",
      "Epoch 64/100\n",
      "426/426 - 0s - loss: 0.5645 - accuracy: 0.9178\n",
      "Epoch 65/100\n",
      "426/426 - 0s - loss: 0.5412 - accuracy: 0.9202\n",
      "Epoch 66/100\n",
      "426/426 - 0s - loss: 0.5182 - accuracy: 0.9272\n",
      "Epoch 67/100\n",
      "426/426 - 0s - loss: 0.4931 - accuracy: 0.9390\n",
      "Epoch 68/100\n",
      "426/426 - 0s - loss: 0.4788 - accuracy: 0.9343\n",
      "Epoch 69/100\n",
      "426/426 - 0s - loss: 0.4557 - accuracy: 0.9437\n",
      "Epoch 70/100\n",
      "426/426 - 0s - loss: 0.4450 - accuracy: 0.9413\n",
      "Epoch 71/100\n",
      "426/426 - 0s - loss: 0.4175 - accuracy: 0.9437\n",
      "Epoch 72/100\n",
      "426/426 - 0s - loss: 0.4045 - accuracy: 0.9554\n",
      "Epoch 73/100\n",
      "426/426 - 0s - loss: 0.3873 - accuracy: 0.9554\n",
      "Epoch 74/100\n",
      "426/426 - 0s - loss: 0.3942 - accuracy: 0.9507\n",
      "Epoch 75/100\n",
      "426/426 - 0s - loss: 0.3731 - accuracy: 0.9413\n",
      "Epoch 76/100\n",
      "426/426 - 0s - loss: 0.3644 - accuracy: 0.9554\n",
      "Epoch 77/100\n",
      "426/426 - 0s - loss: 0.3444 - accuracy: 0.9648\n",
      "Epoch 78/100\n",
      "426/426 - 0s - loss: 0.3213 - accuracy: 0.9695\n",
      "Epoch 79/100\n",
      "426/426 - 0s - loss: 0.3177 - accuracy: 0.9718\n",
      "Epoch 80/100\n",
      "426/426 - 0s - loss: 0.3011 - accuracy: 0.9695\n",
      "Epoch 81/100\n",
      "426/426 - 0s - loss: 0.2916 - accuracy: 0.9671\n",
      "Epoch 82/100\n",
      "426/426 - 0s - loss: 0.2853 - accuracy: 0.9695\n",
      "Epoch 83/100\n",
      "426/426 - 0s - loss: 0.2687 - accuracy: 0.9789\n",
      "Epoch 84/100\n",
      "426/426 - 0s - loss: 0.2564 - accuracy: 0.9789\n",
      "Epoch 85/100\n",
      "426/426 - 0s - loss: 0.2485 - accuracy: 0.9718\n",
      "Epoch 86/100\n",
      "426/426 - 0s - loss: 0.2460 - accuracy: 0.9742\n",
      "Epoch 87/100\n",
      "426/426 - 0s - loss: 0.2375 - accuracy: 0.9765\n",
      "Epoch 88/100\n",
      "426/426 - 0s - loss: 0.2300 - accuracy: 0.9718\n",
      "Epoch 89/100\n",
      "426/426 - 0s - loss: 0.2197 - accuracy: 0.9765\n",
      "Epoch 90/100\n",
      "426/426 - 0s - loss: 0.2135 - accuracy: 0.9789\n",
      "Epoch 91/100\n",
      "426/426 - 0s - loss: 0.2070 - accuracy: 0.9742\n",
      "Epoch 92/100\n",
      "426/426 - 0s - loss: 0.2023 - accuracy: 0.9765\n",
      "Epoch 93/100\n",
      "426/426 - 0s - loss: 0.1967 - accuracy: 0.9742\n",
      "Epoch 94/100\n",
      "426/426 - 0s - loss: 0.1903 - accuracy: 0.9789\n",
      "Epoch 95/100\n",
      "426/426 - 0s - loss: 0.1825 - accuracy: 0.9765\n",
      "Epoch 96/100\n",
      "426/426 - 0s - loss: 0.1824 - accuracy: 0.9789\n",
      "Epoch 97/100\n",
      "426/426 - 0s - loss: 0.1705 - accuracy: 0.9765\n",
      "Epoch 98/100\n",
      "426/426 - 0s - loss: 0.1697 - accuracy: 0.9742\n",
      "Epoch 99/100\n",
      "426/426 - 0s - loss: 0.1628 - accuracy: 0.9859\n",
      "Epoch 100/100\n",
      "426/426 - 0s - loss: 0.1609 - accuracy: 0.9789\n"
     ]
    },
    {
     "data": {
      "text/plain": [
       "<tensorflow.python.keras.callbacks.History at 0x7f22eebe77b8>"
      ]
     },
     "execution_count": 101,
     "metadata": {},
     "output_type": "execute_result"
    }
   ],
   "source": [
    "model.compile(loss='categorical_crossentropy', optimizer='adam', metrics=['accuracy'])\n",
    "model.fit(X,y, epochs=100, verbose=2)"
   ]
  },
  {
   "cell_type": "markdown",
   "metadata": {},
   "source": [
    "출력층의 활성화 함수로는 소프트맥스 함수, 손실 함수로는 크로스 엔트로피 함수를 사용하여 총 100번의 에포크를 수행합니다."
   ]
  },
  {
   "cell_type": "markdown",
   "metadata": {},
   "source": [
    "문장을 생성하는 함수 sentence_generation을 만들어서 문장을 생성해봅시다."
   ]
  },
  {
   "cell_type": "code",
   "execution_count": 102,
   "metadata": {},
   "outputs": [],
   "source": [
    "def sentence_generation(model, char_to_index, seq_length, seed_text, n):\n",
    "    init_text = seed_text\n",
    "    sentence = ''\n",
    "    \n",
    "    for _ in range(n):\n",
    "        encoded = [char_to_index[char] for char in seed_text]\n",
    "        encoded = pad_sequences([encoded], maxlen=seq_length, padding='pre')\n",
    "        encoded = to_categorical(encoded, num_classes=len(char_to_index))\n",
    "        result = model.predict_classes(encoded, verbose=0)\n",
    "        \n",
    "        for char, index in char_to_index.items():\n",
    "            if index == result:\n",
    "                break\n",
    "        seed_text = seed_text + char\n",
    "        sentence += char\n",
    "        \n",
    "    sentence = init_text + sentence\n",
    "    \n",
    "    return sentence"
   ]
  },
  {
   "cell_type": "code",
   "execution_count": 104,
   "metadata": {},
   "outputs": [
    {
     "name": "stdout",
     "output_type": "stream",
     "text": [
      "I get on with life as a programmer, I like to hang out with programming and deep learning.\n"
     ]
    }
   ],
   "source": [
    "print(sentence_generation(model, char_to_index, 10, 'I get on w',80))"
   ]
  },
  {
   "cell_type": "code",
   "execution_count": null,
   "metadata": {},
   "outputs": [],
   "source": []
  }
 ],
 "metadata": {
  "kernelspec": {
   "display_name": "Python 3",
   "language": "python",
   "name": "python3"
  },
  "language_info": {
   "codemirror_mode": {
    "name": "ipython",
    "version": 3
   },
   "file_extension": ".py",
   "mimetype": "text/x-python",
   "name": "python",
   "nbconvert_exporter": "python",
   "pygments_lexer": "ipython3",
   "version": "3.6.9"
  }
 },
 "nbformat": 4,
 "nbformat_minor": 2
}
