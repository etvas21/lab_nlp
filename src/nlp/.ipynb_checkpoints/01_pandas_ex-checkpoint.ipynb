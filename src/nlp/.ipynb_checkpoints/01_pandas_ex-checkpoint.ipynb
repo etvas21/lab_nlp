{
 "cells": [
  {
   "cell_type": "code",
   "execution_count": 1,
   "metadata": {},
   "outputs": [],
   "source": [
    "import pandas as pd"
   ]
  },
  {
   "cell_type": "markdown",
   "metadata": {},
   "source": [
    "Pandas 세 가지의 데이터 구조를 사용\n",
    "1. 시리즈(Series)\n",
    "2. 데이터프레임(DataFrame)\n",
    "3. 패널(Panel)"
   ]
  },
  {
   "cell_type": "markdown",
   "metadata": {},
   "source": [
    "### 1) series\n",
    "시리즈 클래스는 1차원 배열의 값(values)에 각 값에 대응되는 인덱스(index)를 부여할 수 있는 구조를 갖고 있습니다."
   ]
  },
  {
   "cell_type": "code",
   "execution_count": 17,
   "metadata": {},
   "outputs": [
    {
     "name": "stdout",
     "output_type": "stream",
     "text": [
      "피자    17000\n",
      "치킨    18000\n",
      "콜라     1000\n",
      "맥주     5000\n",
      "dtype: int64\n",
      "======\n",
      "sr.values is : [17000 18000  1000  5000]\n",
      "======\n",
      "sr.index is : Index(['피자', '치킨', '콜라', '맥주'], dtype='object')\n"
     ]
    }
   ],
   "source": [
    "sr = pd.Series([17000, 18000, 1000, 5000],index=[\"피자\", \"치킨\", \"콜라\", \"맥주\"])\n",
    "print(sr)\n",
    "print('======')\n",
    "print('sr.values is :', sr.values)\n",
    "print('======')\n",
    "print('sr.index is :', sr.index)"
   ]
  },
  {
   "cell_type": "markdown",
   "metadata": {},
   "source": [
    "### 2) dataframe\n",
    "* 데이터프레임은 **2차원 리스트**를 매개변수로 전달. \n",
    "* 2차원이므로 행방향 인덱스(index)와 열방향 인덱스(column)가 존재. 즉, 행과 열을 가지는 자료구조. \n",
    "* 시리즈가 인덱스(index)와 값(values)으로 구성된다면, \n",
    "* 데이터프레임은 열(columns)까지 추가되어 열(columns), 인덱스(index), 값(values)으로 구성."
   ]
  },
  {
   "cell_type": "code",
   "execution_count": 18,
   "metadata": {},
   "outputs": [
    {
     "name": "stdout",
     "output_type": "stream",
     "text": [
      "       A  B  C\n",
      "one    1  2  3\n",
      "two    4  5  6\n",
      "three  7  8  9\n",
      "======\n",
      "df.index is : Index(['one', 'two', 'three'], dtype='object')\n",
      "======\n",
      "df.values is : [[1 2 3]\n",
      " [4 5 6]\n",
      " [7 8 9]]\n",
      "======\n",
      "df.columns is : Index(['A', 'B', 'C'], dtype='object')\n"
     ]
    }
   ],
   "source": [
    "values = [[1, 2, 3], [4, 5, 6], [7, 8, 9]]\n",
    "index = ['one', 'two', 'three']\n",
    "columns = ['A', 'B', 'C']\n",
    "\n",
    "df = pd.DataFrame(values, index=index, columns=columns)\n",
    "print(df)\n",
    "print('======')\n",
    "print('df.index is :', df.index)\n",
    "print('======')\n",
    "print('df.values is :', df.values)\n",
    "print('======')\n",
    "print('df.columns is :',df.columns)"
   ]
  },
  {
   "cell_type": "markdown",
   "metadata": {},
   "source": [
    "### 2-1) Dataframe 생성\n",
    "* 데이터프레임은 리스트(List), 시리즈(Series), 딕셔너리(dict), Numpy의 ndarrays, 또 다른 데이터프레임으로 생성할 수 있습니다. \n",
    "* 여기서는 리스트와 딕셔너리를 통해서 데이터프레임을 생성 해보겠습니다."
   ]
  },
  {
   "cell_type": "code",
   "execution_count": 20,
   "metadata": {},
   "outputs": [
    {
     "name": "stdout",
     "output_type": "stream",
     "text": [
      "      0         1      2\n",
      "0  1000     Steve  90.72\n",
      "1  1001     James  78.09\n",
      "2  1002    Doyeon  98.43\n",
      "3  1003      Jane  64.19\n",
      "4  1004  Pilwoong  81.30\n",
      "5  1005      Tony  99.14\n"
     ]
    }
   ],
   "source": [
    "# 리스트로 생성하기\n",
    "data = [\n",
    "    ['1000', 'Steve', 90.72] \n",
    "    ,['1001', 'James', 78.09] \n",
    "    ,['1002', 'Doyeon', 98.43] \n",
    "    ,['1003', 'Jane', 64.19] \n",
    "    ,['1004', 'Pilwoong', 81.30]\n",
    "    ,['1005', 'Tony', 99.14]\n",
    "]\n",
    "df = pd.DataFrame(data)\n",
    "print(df)"
   ]
  },
  {
   "cell_type": "code",
   "execution_count": 21,
   "metadata": {},
   "outputs": [
    {
     "name": "stdout",
     "output_type": "stream",
     "text": [
      "     학번        이름     점수\n",
      "0  1000     Steve  90.72\n",
      "1  1001     James  78.09\n",
      "2  1002    Doyeon  98.43\n",
      "3  1003      Jane  64.19\n",
      "4  1004  Pilwoong  81.30\n",
      "5  1005      Tony  99.14\n"
     ]
    }
   ],
   "source": [
    "# 생성된 dataframe에 열을 지정\n",
    "df = pd.DataFrame(data, columns=['학번', '이름', '점수'])\n",
    "print(df)"
   ]
  },
  {
   "cell_type": "code",
   "execution_count": 22,
   "metadata": {},
   "outputs": [
    {
     "name": "stdout",
     "output_type": "stream",
     "text": [
      "     학번        이름     점수\n",
      "0  1000     Steve  90.72\n",
      "1  1001     James  78.09\n",
      "2  1002    Doyeon  98.43\n",
      "3  1003      Jane  64.19\n",
      "4  1004  Pilwoong  81.30\n",
      "5  1005      Tony  99.14\n"
     ]
    }
   ],
   "source": [
    "# 딕셔너리(dict)를 통해 데이터프레임을 생성\n",
    "data = { '학번' : ['1000', '1001', '1002', '1003', '1004', '1005'],\n",
    "'이름' : [ 'Steve', 'James', 'Doyeon', 'Jane', 'Pilwoong', 'Tony'],\n",
    "         '점수': [90.72, 78.09, 98.43, 64.19, 81.30, 99.14]}\n",
    "\n",
    "df = pd.DataFrame(data)\n",
    "print(df)"
   ]
  },
  {
   "cell_type": "markdown",
   "metadata": {},
   "source": [
    "### 2-2) Dataframe 조회\n",
    "아래의 명령어는 데이터프레임에서 원하는 구간만 확인하기 위한 명령어로서 유용하게 사용됩니다.\n",
    "\n",
    "* df.head(n) - 앞 부분을 n개만 보기\n",
    "* df.tail(n) - 뒷 부분을 n개만 보기\n",
    "* df['열이름'] - 해당되는 열을 확인"
   ]
  },
  {
   "cell_type": "code",
   "execution_count": 23,
   "metadata": {},
   "outputs": [
    {
     "name": "stdout",
     "output_type": "stream",
     "text": [
      "     학번      이름     점수\n",
      "0  1000   Steve  90.72\n",
      "1  1001   James  78.09\n",
      "2  1002  Doyeon  98.43\n"
     ]
    }
   ],
   "source": [
    "print(df.head(3)) # 앞 부분(행)을 3개만 보기"
   ]
  },
  {
   "cell_type": "code",
   "execution_count": 24,
   "metadata": {},
   "outputs": [
    {
     "name": "stdout",
     "output_type": "stream",
     "text": [
      "     학번        이름     점수\n",
      "3  1003      Jane  64.19\n",
      "4  1004  Pilwoong  81.30\n",
      "5  1005      Tony  99.14\n"
     ]
    }
   ],
   "source": [
    "print(df.tail(3)) # 뒷 부분(행)을 3개만 보기"
   ]
  },
  {
   "cell_type": "code",
   "execution_count": 25,
   "metadata": {},
   "outputs": [
    {
     "name": "stdout",
     "output_type": "stream",
     "text": [
      "0    1000\n",
      "1    1001\n",
      "2    1002\n",
      "3    1003\n",
      "4    1004\n",
      "5    1005\n",
      "Name: 학번, dtype: object\n"
     ]
    }
   ],
   "source": [
    "print(df['학번']) # '학번'에 해당되는 열을 보기"
   ]
  },
  {
   "cell_type": "markdown",
   "metadata": {},
   "source": [
    "### 2-3) 외부 데이터 읽기\n",
    "Pandas는 CSV, 텍스트, Excel, SQL, HTML, JSON 등 다양한 데이터 파일을 읽고 데이터 프레임을 생성할 수 있슴.\n",
    "\n",
    "예를 들어 csv 파일을 읽을 때는 pandas.read_csv()를 통해 읽을 수 있음"
   ]
  },
  {
   "cell_type": "code",
   "execution_count": 28,
   "metadata": {},
   "outputs": [
    {
     "name": "stdout",
     "output_type": "stream",
     "text": [
      "     학번          이름       점수\n",
      "0  1000       Steve    90.72\n",
      "1  1001       James    78.09\n",
      "2  1002      Doyeon    98.43\n",
      "3  1003        Jane    64.19\n",
      "4  1004    Pilwoong    81.30\n",
      "5  1005        Tony    99.14\n",
      "======\n",
      "df.index is : RangeIndex(start=0, stop=6, step=1)\n"
     ]
    }
   ],
   "source": [
    "df=pd.read_csv('../../data/nlp_01_pandas_ex.csv')\n",
    "print(df)\n",
    "print('======')\n",
    "print('df.index is :', df.index)"
   ]
  },
  {
   "cell_type": "code",
   "execution_count": null,
   "metadata": {},
   "outputs": [],
   "source": []
  }
 ],
 "metadata": {
  "kernelspec": {
   "display_name": "Python 3",
   "language": "python",
   "name": "python3"
  },
  "language_info": {
   "codemirror_mode": {
    "name": "ipython",
    "version": 3
   },
   "file_extension": ".py",
   "mimetype": "text/x-python",
   "name": "python",
   "nbconvert_exporter": "python",
   "pygments_lexer": "ipython3",
   "version": "3.6.9"
  }
 },
 "nbformat": 4,
 "nbformat_minor": 2
}
