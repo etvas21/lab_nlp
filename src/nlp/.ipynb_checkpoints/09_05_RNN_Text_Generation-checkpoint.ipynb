{
 "cells": [
  {
   "cell_type": "markdown",
   "metadata": {},
   "source": [
    "# 9.5 RNN을 이용한 텍스트 생성(Text Generation using RNN)\n",
    "___\n",
    "이번 챕터에서는 다 대 일(many-to-one) 구조의 RNN을 사용하여 문맥을 반영해서 텍스트를 생성하는 모델을 만들어봅시다"
   ]
  },
  {
   "cell_type": "markdown",
   "metadata": {},
   "source": [
    "### 1. RNN을 이용하여 텍스트 생성하기\n",
    "예를 들어서 '경마장에 있는 말이 뛰고 있다'와 '그의 말이 법이다'와 '가는 말이 고와야 오는 말이 곱다'라는 세 가지 문장이 있다고 해봅시다. 모델이 문맥을 학습할 수 있도록 전체 문장의 앞의 단어들을 전부 고려하여 학습하도록 데이터를 재구성한다면 아래와 같이 총 11개의 샘플이 구성됩니다.\n",
    "\n",
    "samples\t|X\t|y\n",
    "--- | --- | ---\n",
    "1\t|경마장에\t|있는\n",
    "2\t|경마장에 있는\t|말이\n",
    "3\t|경마장에 있는 말이\t|뛰고\n",
    "4\t|경마장에 있는 말이 뛰고\t|있다\n",
    "5\t|그의\t|말이\n",
    "6\t|그의 말이\t|법이다\n",
    "7\t|가는\t|말이\n",
    "8\t|가는 말이\t|고와야\n",
    "9\t|가는 말이 고와야\t|오는\n",
    "10\t|가는 말이 고와야 오는\t|말이\n",
    "11\t|가는 말이 고와야 오는 |말이"
   ]
  },
  {
   "cell_type": "markdown",
   "metadata": {},
   "source": [
    "### 1) 데이터에 대한 이해와 전처리"
   ]
  },
  {
   "cell_type": "code",
   "execution_count": 2,
   "metadata": {},
   "outputs": [],
   "source": [
    "from tensorflow.keras.preprocessing.text import Tokenizer\n",
    "from tensorflow.keras.preprocessing.sequence import pad_sequences\n",
    "from tensorflow.keras.utils import to_categorical\n",
    "import numpy as np\n",
    "\n",
    "text=\"\"\"경마장에 있는 말이 뛰고 있다\\n\n",
    "그의 말이 법이다\\n\n",
    "가는 말이 고와야 오는 말이 곱다\\n\"\"\""
   ]
  },
  {
   "cell_type": "code",
   "execution_count": 4,
   "metadata": {},
   "outputs": [
    {
     "name": "stdout",
     "output_type": "stream",
     "text": [
      "Size of Vocab Set : 12\n",
      "{'말이': 1, '경마장에': 2, '있는': 3, '뛰고': 4, '있다': 5, '그의': 6, '법이다': 7, '가는': 8, '고와야': 9, '오는': 10, '곱다': 11}\n"
     ]
    }
   ],
   "source": [
    "t = Tokenizer()\n",
    "t.fit_on_texts([text])\n",
    "vocab_size = len(t.word_index)+1\n",
    "\n",
    "print('Size of Vocab Set : %d' % vocab_size)\n",
    "print(t.word_index)"
   ]
  },
  {
   "cell_type": "code",
   "execution_count": 25,
   "metadata": {},
   "outputs": [
    {
     "name": "stdout",
     "output_type": "stream",
     "text": [
      "encoded :  [2, 3, 1, 4, 5]\n",
      "encoded :  [6, 1, 7]\n",
      "encoded :  [8, 1, 9, 10, 1, 11]\n",
      "\n",
      "sample count to use study : 11\n",
      "\n",
      " [[2, 3], [2, 3, 1], [2, 3, 1, 4], [2, 3, 1, 4, 5], [6, 1], [6, 1, 7], [8, 1], [8, 1, 9], [8, 1, 9, 10], [8, 1, 9, 10, 1], [8, 1, 9, 10, 1, 11]]\n"
     ]
    }
   ],
   "source": [
    "sequences = list()\n",
    "\n",
    "for line in text.split('\\n'):\n",
    "    encoded = t.texts_to_sequences([line])[0]\n",
    "    if len(encoded)>1: print('encoded : ', encoded)\n",
    "    \n",
    "    for i in range(1, len(encoded)):\n",
    "        sequence = encoded[:i+1]\n",
    "        sequences.append(sequence)\n",
    "        \n",
    "print('\\nsample count to use study : %d' % len(sequences))        \n",
    "print('\\n', sequences)    "
   ]
  },
  {
   "cell_type": "markdown",
   "metadata": {},
   "source": [
    "위의 데이터는 아직 레이블로 사용될 단어를 분리하지 않은 훈련 데이터입니다. [2, 3]은 [경마장에, 있는]에 해당되며 [2, 3, 1]은 [경마장에, 있는, 말이]에 해당됩니다. 전체 훈련 데이터에 대해서 맨 우측에 있는 단어에 대해서만 레이블로 분리해야 합니다.\n",
    "\n",
    "우선 전체 샘플에 대해서 길이를 일치시켜 줍니다. 가장 긴 샘플의 길이를 기준으로 합니다. 현재 육안으로 봤을 때, 길이가 가장 긴 샘플은 [8, 1, 9, 10, 1, 11]이고 길이는 6입니다. 이를 코드로는 다음과 같이 구할 수 있습니다."
   ]
  },
  {
   "cell_type": "code",
   "execution_count": 26,
   "metadata": {},
   "outputs": [
    {
     "name": "stdout",
     "output_type": "stream",
     "text": [
      " Max length of sample : 6\n"
     ]
    }
   ],
   "source": [
    "max_len = max(len(l) for l in sequences)\n",
    "print(' Max length of sample : %d' % max_len)"
   ]
  },
  {
   "cell_type": "markdown",
   "metadata": {},
   "source": [
    "전체 훈련 데이터에서 가장 긴 샘플의 길이가 6임을 확인하였습니다. 이제 전체 샘플의 길이를 6으로 패딩합니다."
   ]
  },
  {
   "cell_type": "code",
   "execution_count": 28,
   "metadata": {},
   "outputs": [
    {
     "name": "stdout",
     "output_type": "stream",
     "text": [
      "[[ 0  0  0  0  2  3]\n",
      " [ 0  0  0  2  3  1]\n",
      " [ 0  0  2  3  1  4]\n",
      " [ 0  2  3  1  4  5]\n",
      " [ 0  0  0  0  6  1]\n",
      " [ 0  0  0  6  1  7]\n",
      " [ 0  0  0  0  8  1]\n",
      " [ 0  0  0  8  1  9]\n",
      " [ 0  0  8  1  9 10]\n",
      " [ 0  8  1  9 10  1]\n",
      " [ 8  1  9 10  1 11]]\n"
     ]
    }
   ],
   "source": [
    "sequences = pad_sequences(sequences, maxlen=max_len, padding='pre')\n",
    "print(sequences)"
   ]
  },
  {
   "cell_type": "markdown",
   "metadata": {},
   "source": [
    "길이가 6보다 짧은 모든 샘플에 대해서 앞에 0을 채워서 모든 샘플의 길이를 6으로 바꿨습니다. 이제 각 샘플의 마지막 단어를 레이블로 분리합시다. 레이블의 분리는 Numpy를 이용해서 가능합니다."
   ]
  },
  {
   "cell_type": "code",
   "execution_count": 29,
   "metadata": {},
   "outputs": [
    {
     "name": "stdout",
     "output_type": "stream",
     "text": [
      "[[ 0  0  0  0  2]\n",
      " [ 0  0  0  2  3]\n",
      " [ 0  0  2  3  1]\n",
      " [ 0  2  3  1  4]\n",
      " [ 0  0  0  0  6]\n",
      " [ 0  0  0  6  1]\n",
      " [ 0  0  0  0  8]\n",
      " [ 0  0  0  8  1]\n",
      " [ 0  0  8  1  9]\n",
      " [ 0  8  1  9 10]\n",
      " [ 8  1  9 10  1]]\n",
      "[ 3  1  4  5  1  7  1  9 10  1 11]\n"
     ]
    }
   ],
   "source": [
    "sequences = np.array(sequences)\n",
    "X = sequences[:, :-1]\n",
    "y = sequences[:, -1]\n",
    "print(X)\n",
    "print(y)"
   ]
  },
  {
   "cell_type": "markdown",
   "metadata": {},
   "source": [
    "레이블이 분리되었습니다. 이제 RNN 모델에 훈련 데이터를 훈련 시키기 전에 레이블에 대해서 원-핫 인코딩을 수행합니다."
   ]
  },
  {
   "cell_type": "code",
   "execution_count": 31,
   "metadata": {},
   "outputs": [
    {
     "name": "stdout",
     "output_type": "stream",
     "text": [
      "[[0. 0. 0. 1. 0. 0. 0. 0. 0. 0. 0. 0.]\n",
      " [0. 1. 0. 0. 0. 0. 0. 0. 0. 0. 0. 0.]\n",
      " [0. 0. 0. 0. 1. 0. 0. 0. 0. 0. 0. 0.]\n",
      " [0. 0. 0. 0. 0. 1. 0. 0. 0. 0. 0. 0.]\n",
      " [0. 1. 0. 0. 0. 0. 0. 0. 0. 0. 0. 0.]\n",
      " [0. 0. 0. 0. 0. 0. 0. 1. 0. 0. 0. 0.]\n",
      " [0. 1. 0. 0. 0. 0. 0. 0. 0. 0. 0. 0.]\n",
      " [0. 0. 0. 0. 0. 0. 0. 0. 0. 1. 0. 0.]\n",
      " [0. 0. 0. 0. 0. 0. 0. 0. 0. 0. 1. 0.]\n",
      " [0. 1. 0. 0. 0. 0. 0. 0. 0. 0. 0. 0.]\n",
      " [0. 0. 0. 0. 0. 0. 0. 0. 0. 0. 0. 1.]]\n"
     ]
    }
   ],
   "source": [
    "y = to_categorical(y, num_classes=vocab_size)\n",
    "print(y)"
   ]
  },
  {
   "cell_type": "markdown",
   "metadata": {},
   "source": [
    "### 2) 모델 설계하기\n",
    "이제 RNN 모델에 데이터를 훈련시킵니다."
   ]
  },
  {
   "cell_type": "code",
   "execution_count": 33,
   "metadata": {},
   "outputs": [],
   "source": [
    "from tensorflow.keras.models import Sequential\n",
    "from tensorflow.keras.layers import Embedding, Dense, SimpleRNN"
   ]
  },
  {
   "cell_type": "code",
   "execution_count": 37,
   "metadata": {},
   "outputs": [
    {
     "name": "stdout",
     "output_type": "stream",
     "text": [
      "Epoch 1/200\n",
      "11/11 - 0s - loss: 2.4821 - accuracy: 0.0909\n",
      "Epoch 2/200\n",
      "11/11 - 0s - loss: 2.4692 - accuracy: 0.1818\n",
      "Epoch 3/200\n",
      "11/11 - 0s - loss: 2.4564 - accuracy: 0.3636\n",
      "Epoch 4/200\n",
      "11/11 - 0s - loss: 2.4436 - accuracy: 0.4545\n",
      "Epoch 5/200\n",
      "11/11 - 0s - loss: 2.4306 - accuracy: 0.2727\n",
      "Epoch 6/200\n",
      "11/11 - 0s - loss: 2.4174 - accuracy: 0.3636\n",
      "Epoch 7/200\n",
      "11/11 - 0s - loss: 2.4039 - accuracy: 0.3636\n",
      "Epoch 8/200\n",
      "11/11 - 0s - loss: 2.3899 - accuracy: 0.3636\n",
      "Epoch 9/200\n",
      "11/11 - 0s - loss: 2.3753 - accuracy: 0.3636\n",
      "Epoch 10/200\n",
      "11/11 - 0s - loss: 2.3601 - accuracy: 0.3636\n",
      "Epoch 11/200\n",
      "11/11 - 0s - loss: 2.3443 - accuracy: 0.3636\n",
      "Epoch 12/200\n",
      "11/11 - 0s - loss: 2.3278 - accuracy: 0.3636\n",
      "Epoch 13/200\n",
      "11/11 - 0s - loss: 2.3106 - accuracy: 0.3636\n",
      "Epoch 14/200\n",
      "11/11 - 0s - loss: 2.2925 - accuracy: 0.3636\n",
      "Epoch 15/200\n",
      "11/11 - 0s - loss: 2.2737 - accuracy: 0.3636\n",
      "Epoch 16/200\n",
      "11/11 - 0s - loss: 2.2542 - accuracy: 0.3636\n",
      "Epoch 17/200\n",
      "11/11 - 0s - loss: 2.2339 - accuracy: 0.3636\n",
      "Epoch 18/200\n",
      "11/11 - 0s - loss: 2.2130 - accuracy: 0.3636\n",
      "Epoch 19/200\n",
      "11/11 - 0s - loss: 2.1917 - accuracy: 0.3636\n",
      "Epoch 20/200\n",
      "11/11 - 0s - loss: 2.1699 - accuracy: 0.3636\n",
      "Epoch 21/200\n",
      "11/11 - 0s - loss: 2.1481 - accuracy: 0.3636\n",
      "Epoch 22/200\n",
      "11/11 - 0s - loss: 2.1263 - accuracy: 0.3636\n",
      "Epoch 23/200\n",
      "11/11 - 0s - loss: 2.1049 - accuracy: 0.3636\n",
      "Epoch 24/200\n",
      "11/11 - 0s - loss: 2.0841 - accuracy: 0.3636\n",
      "Epoch 25/200\n",
      "11/11 - 0s - loss: 2.0643 - accuracy: 0.3636\n",
      "Epoch 26/200\n",
      "11/11 - 0s - loss: 2.0456 - accuracy: 0.3636\n",
      "Epoch 27/200\n",
      "11/11 - 0s - loss: 2.0282 - accuracy: 0.3636\n",
      "Epoch 28/200\n",
      "11/11 - 0s - loss: 2.0120 - accuracy: 0.3636\n",
      "Epoch 29/200\n",
      "11/11 - 0s - loss: 1.9969 - accuracy: 0.3636\n",
      "Epoch 30/200\n",
      "11/11 - 0s - loss: 1.9826 - accuracy: 0.3636\n",
      "Epoch 31/200\n",
      "11/11 - 0s - loss: 1.9687 - accuracy: 0.3636\n",
      "Epoch 32/200\n",
      "11/11 - 0s - loss: 1.9547 - accuracy: 0.3636\n",
      "Epoch 33/200\n",
      "11/11 - 0s - loss: 1.9403 - accuracy: 0.3636\n",
      "Epoch 34/200\n",
      "11/11 - 0s - loss: 1.9253 - accuracy: 0.3636\n",
      "Epoch 35/200\n",
      "11/11 - 0s - loss: 1.9096 - accuracy: 0.3636\n",
      "Epoch 36/200\n",
      "11/11 - 0s - loss: 1.8932 - accuracy: 0.3636\n",
      "Epoch 37/200\n",
      "11/11 - 0s - loss: 1.8761 - accuracy: 0.3636\n",
      "Epoch 38/200\n",
      "11/11 - 0s - loss: 1.8587 - accuracy: 0.3636\n",
      "Epoch 39/200\n",
      "11/11 - 0s - loss: 1.8410 - accuracy: 0.3636\n",
      "Epoch 40/200\n",
      "11/11 - 0s - loss: 1.8232 - accuracy: 0.3636\n",
      "Epoch 41/200\n",
      "11/11 - 0s - loss: 1.8056 - accuracy: 0.3636\n",
      "Epoch 42/200\n",
      "11/11 - 0s - loss: 1.7881 - accuracy: 0.3636\n",
      "Epoch 43/200\n",
      "11/11 - 0s - loss: 1.7707 - accuracy: 0.3636\n",
      "Epoch 44/200\n",
      "11/11 - 0s - loss: 1.7534 - accuracy: 0.3636\n",
      "Epoch 45/200\n",
      "11/11 - 0s - loss: 1.7361 - accuracy: 0.3636\n",
      "Epoch 46/200\n",
      "11/11 - 0s - loss: 1.7187 - accuracy: 0.3636\n",
      "Epoch 47/200\n",
      "11/11 - 0s - loss: 1.7010 - accuracy: 0.3636\n",
      "Epoch 48/200\n",
      "11/11 - 0s - loss: 1.6830 - accuracy: 0.3636\n",
      "Epoch 49/200\n",
      "11/11 - 0s - loss: 1.6645 - accuracy: 0.4545\n",
      "Epoch 50/200\n",
      "11/11 - 0s - loss: 1.6455 - accuracy: 0.4545\n",
      "Epoch 51/200\n",
      "11/11 - 0s - loss: 1.6260 - accuracy: 0.4545\n",
      "Epoch 52/200\n",
      "11/11 - 0s - loss: 1.6061 - accuracy: 0.4545\n",
      "Epoch 53/200\n",
      "11/11 - 0s - loss: 1.5857 - accuracy: 0.4545\n",
      "Epoch 54/200\n",
      "11/11 - 0s - loss: 1.5649 - accuracy: 0.4545\n",
      "Epoch 55/200\n",
      "11/11 - 0s - loss: 1.5437 - accuracy: 0.4545\n",
      "Epoch 56/200\n",
      "11/11 - 0s - loss: 1.5222 - accuracy: 0.4545\n",
      "Epoch 57/200\n",
      "11/11 - 0s - loss: 1.5003 - accuracy: 0.5455\n",
      "Epoch 58/200\n",
      "11/11 - 0s - loss: 1.4781 - accuracy: 0.5455\n",
      "Epoch 59/200\n",
      "11/11 - 0s - loss: 1.4554 - accuracy: 0.5455\n",
      "Epoch 60/200\n",
      "11/11 - 0s - loss: 1.4324 - accuracy: 0.5455\n",
      "Epoch 61/200\n",
      "11/11 - 0s - loss: 1.4088 - accuracy: 0.5455\n",
      "Epoch 62/200\n",
      "11/11 - 0s - loss: 1.3849 - accuracy: 0.5455\n",
      "Epoch 63/200\n",
      "11/11 - 0s - loss: 1.3605 - accuracy: 0.5455\n",
      "Epoch 64/200\n",
      "11/11 - 0s - loss: 1.3357 - accuracy: 0.5455\n",
      "Epoch 65/200\n",
      "11/11 - 0s - loss: 1.3105 - accuracy: 0.5455\n",
      "Epoch 66/200\n",
      "11/11 - 0s - loss: 1.2850 - accuracy: 0.6364\n",
      "Epoch 67/200\n",
      "11/11 - 0s - loss: 1.2593 - accuracy: 0.6364\n",
      "Epoch 68/200\n",
      "11/11 - 0s - loss: 1.2334 - accuracy: 0.6364\n",
      "Epoch 69/200\n",
      "11/11 - 0s - loss: 1.2074 - accuracy: 0.6364\n",
      "Epoch 70/200\n",
      "11/11 - 0s - loss: 1.1813 - accuracy: 0.6364\n",
      "Epoch 71/200\n",
      "11/11 - 0s - loss: 1.1552 - accuracy: 0.6364\n",
      "Epoch 72/200\n",
      "11/11 - 0s - loss: 1.1291 - accuracy: 0.6364\n",
      "Epoch 73/200\n",
      "11/11 - 0s - loss: 1.1031 - accuracy: 0.6364\n",
      "Epoch 74/200\n",
      "11/11 - 0s - loss: 1.0773 - accuracy: 0.6364\n",
      "Epoch 75/200\n",
      "11/11 - 0s - loss: 1.0516 - accuracy: 0.6364\n",
      "Epoch 76/200\n",
      "11/11 - 0s - loss: 1.0262 - accuracy: 0.7273\n",
      "Epoch 77/200\n",
      "11/11 - 0s - loss: 1.0011 - accuracy: 0.7273\n",
      "Epoch 78/200\n",
      "11/11 - 0s - loss: 0.9763 - accuracy: 0.7273\n",
      "Epoch 79/200\n",
      "11/11 - 0s - loss: 0.9520 - accuracy: 0.7273\n",
      "Epoch 80/200\n",
      "11/11 - 0s - loss: 0.9281 - accuracy: 0.7273\n",
      "Epoch 81/200\n",
      "11/11 - 0s - loss: 0.9048 - accuracy: 0.7273\n",
      "Epoch 82/200\n",
      "11/11 - 0s - loss: 0.8820 - accuracy: 0.7273\n",
      "Epoch 83/200\n",
      "11/11 - 0s - loss: 0.8598 - accuracy: 0.7273\n",
      "Epoch 84/200\n",
      "11/11 - 0s - loss: 0.8382 - accuracy: 0.7273\n",
      "Epoch 85/200\n",
      "11/11 - 0s - loss: 0.8172 - accuracy: 0.7273\n",
      "Epoch 86/200\n",
      "11/11 - 0s - loss: 0.7968 - accuracy: 0.7273\n",
      "Epoch 87/200\n",
      "11/11 - 0s - loss: 0.7771 - accuracy: 0.8182\n",
      "Epoch 88/200\n",
      "11/11 - 0s - loss: 0.7580 - accuracy: 0.8182\n",
      "Epoch 89/200\n",
      "11/11 - 0s - loss: 0.7396 - accuracy: 0.8182\n",
      "Epoch 90/200\n",
      "11/11 - 0s - loss: 0.7217 - accuracy: 0.8182\n",
      "Epoch 91/200\n",
      "11/11 - 0s - loss: 0.7044 - accuracy: 0.8182\n",
      "Epoch 92/200\n",
      "11/11 - 0s - loss: 0.6877 - accuracy: 0.8182\n",
      "Epoch 93/200\n",
      "11/11 - 0s - loss: 0.6716 - accuracy: 0.8182\n",
      "Epoch 94/200\n",
      "11/11 - 0s - loss: 0.6559 - accuracy: 0.8182\n",
      "Epoch 95/200\n",
      "11/11 - 0s - loss: 0.6408 - accuracy: 0.8182\n",
      "Epoch 96/200\n",
      "11/11 - 0s - loss: 0.6261 - accuracy: 0.8182\n",
      "Epoch 97/200\n",
      "11/11 - 0s - loss: 0.6118 - accuracy: 0.8182\n",
      "Epoch 98/200\n",
      "11/11 - 0s - loss: 0.5980 - accuracy: 0.8182\n",
      "Epoch 99/200\n",
      "11/11 - 0s - loss: 0.5845 - accuracy: 0.8182\n",
      "Epoch 100/200\n",
      "11/11 - 0s - loss: 0.5714 - accuracy: 0.8182\n",
      "Epoch 101/200\n",
      "11/11 - 0s - loss: 0.5587 - accuracy: 0.8182\n",
      "Epoch 102/200\n",
      "11/11 - 0s - loss: 0.5464 - accuracy: 0.8182\n",
      "Epoch 103/200\n",
      "11/11 - 0s - loss: 0.5343 - accuracy: 0.8182\n",
      "Epoch 104/200\n",
      "11/11 - 0s - loss: 0.5226 - accuracy: 0.8182\n",
      "Epoch 105/200\n",
      "11/11 - 0s - loss: 0.5112 - accuracy: 0.8182\n",
      "Epoch 106/200\n",
      "11/11 - 0s - loss: 0.5001 - accuracy: 0.8182\n",
      "Epoch 107/200\n",
      "11/11 - 0s - loss: 0.4893 - accuracy: 0.9091\n",
      "Epoch 108/200\n",
      "11/11 - 0s - loss: 0.4788 - accuracy: 0.9091\n",
      "Epoch 109/200\n",
      "11/11 - 0s - loss: 0.4685 - accuracy: 0.9091\n",
      "Epoch 110/200\n",
      "11/11 - 0s - loss: 0.4586 - accuracy: 0.9091\n",
      "Epoch 111/200\n",
      "11/11 - 0s - loss: 0.4488 - accuracy: 0.9091\n",
      "Epoch 112/200\n",
      "11/11 - 0s - loss: 0.4394 - accuracy: 0.9091\n",
      "Epoch 113/200\n",
      "11/11 - 0s - loss: 0.4301 - accuracy: 0.9091\n",
      "Epoch 114/200\n",
      "11/11 - 0s - loss: 0.4211 - accuracy: 0.9091\n",
      "Epoch 115/200\n",
      "11/11 - 0s - loss: 0.4123 - accuracy: 1.0000\n",
      "Epoch 116/200\n",
      "11/11 - 0s - loss: 0.4037 - accuracy: 1.0000\n",
      "Epoch 117/200\n",
      "11/11 - 0s - loss: 0.3953 - accuracy: 1.0000\n",
      "Epoch 118/200\n",
      "11/11 - 0s - loss: 0.3872 - accuracy: 1.0000\n",
      "Epoch 119/200\n",
      "11/11 - 0s - loss: 0.3792 - accuracy: 1.0000\n",
      "Epoch 120/200\n",
      "11/11 - 0s - loss: 0.3714 - accuracy: 1.0000\n",
      "Epoch 121/200\n",
      "11/11 - 0s - loss: 0.3638 - accuracy: 1.0000\n",
      "Epoch 122/200\n",
      "11/11 - 0s - loss: 0.3564 - accuracy: 1.0000\n",
      "Epoch 123/200\n",
      "11/11 - 0s - loss: 0.3491 - accuracy: 1.0000\n",
      "Epoch 124/200\n",
      "11/11 - 0s - loss: 0.3420 - accuracy: 1.0000\n",
      "Epoch 125/200\n",
      "11/11 - 0s - loss: 0.3351 - accuracy: 1.0000\n",
      "Epoch 126/200\n",
      "11/11 - 0s - loss: 0.3284 - accuracy: 1.0000\n",
      "Epoch 127/200\n",
      "11/11 - 0s - loss: 0.3218 - accuracy: 1.0000\n",
      "Epoch 128/200\n",
      "11/11 - 0s - loss: 0.3154 - accuracy: 1.0000\n",
      "Epoch 129/200\n",
      "11/11 - 0s - loss: 0.3091 - accuracy: 1.0000\n",
      "Epoch 130/200\n",
      "11/11 - 0s - loss: 0.3030 - accuracy: 1.0000\n",
      "Epoch 131/200\n",
      "11/11 - 0s - loss: 0.2970 - accuracy: 1.0000\n",
      "Epoch 132/200\n",
      "11/11 - 0s - loss: 0.2911 - accuracy: 1.0000\n",
      "Epoch 133/200\n",
      "11/11 - 0s - loss: 0.2854 - accuracy: 1.0000\n",
      "Epoch 134/200\n",
      "11/11 - 0s - loss: 0.2798 - accuracy: 1.0000\n",
      "Epoch 135/200\n",
      "11/11 - 0s - loss: 0.2743 - accuracy: 1.0000\n",
      "Epoch 136/200\n",
      "11/11 - 0s - loss: 0.2690 - accuracy: 1.0000\n",
      "Epoch 137/200\n",
      "11/11 - 0s - loss: 0.2638 - accuracy: 1.0000\n",
      "Epoch 138/200\n",
      "11/11 - 0s - loss: 0.2587 - accuracy: 1.0000\n",
      "Epoch 139/200\n",
      "11/11 - 0s - loss: 0.2537 - accuracy: 1.0000\n",
      "Epoch 140/200\n",
      "11/11 - 0s - loss: 0.2488 - accuracy: 1.0000\n",
      "Epoch 141/200\n",
      "11/11 - 0s - loss: 0.2440 - accuracy: 1.0000\n"
     ]
    },
    {
     "name": "stdout",
     "output_type": "stream",
     "text": [
      "Epoch 142/200\n",
      "11/11 - 0s - loss: 0.2393 - accuracy: 1.0000\n",
      "Epoch 143/200\n",
      "11/11 - 0s - loss: 0.2348 - accuracy: 1.0000\n",
      "Epoch 144/200\n",
      "11/11 - 0s - loss: 0.2303 - accuracy: 1.0000\n",
      "Epoch 145/200\n",
      "11/11 - 0s - loss: 0.2259 - accuracy: 1.0000\n",
      "Epoch 146/200\n",
      "11/11 - 0s - loss: 0.2216 - accuracy: 1.0000\n",
      "Epoch 147/200\n",
      "11/11 - 0s - loss: 0.2174 - accuracy: 1.0000\n",
      "Epoch 148/200\n",
      "11/11 - 0s - loss: 0.2133 - accuracy: 1.0000\n",
      "Epoch 149/200\n",
      "11/11 - 0s - loss: 0.2093 - accuracy: 1.0000\n",
      "Epoch 150/200\n",
      "11/11 - 0s - loss: 0.2053 - accuracy: 1.0000\n",
      "Epoch 151/200\n",
      "11/11 - 0s - loss: 0.2015 - accuracy: 1.0000\n",
      "Epoch 152/200\n",
      "11/11 - 0s - loss: 0.1977 - accuracy: 1.0000\n",
      "Epoch 153/200\n",
      "11/11 - 0s - loss: 0.1940 - accuracy: 1.0000\n",
      "Epoch 154/200\n",
      "11/11 - 0s - loss: 0.1903 - accuracy: 1.0000\n",
      "Epoch 155/200\n",
      "11/11 - 0s - loss: 0.1868 - accuracy: 1.0000\n",
      "Epoch 156/200\n",
      "11/11 - 0s - loss: 0.1833 - accuracy: 1.0000\n",
      "Epoch 157/200\n",
      "11/11 - 0s - loss: 0.1799 - accuracy: 1.0000\n",
      "Epoch 158/200\n",
      "11/11 - 0s - loss: 0.1765 - accuracy: 1.0000\n",
      "Epoch 159/200\n",
      "11/11 - 0s - loss: 0.1732 - accuracy: 1.0000\n",
      "Epoch 160/200\n",
      "11/11 - 0s - loss: 0.1700 - accuracy: 1.0000\n",
      "Epoch 161/200\n",
      "11/11 - 0s - loss: 0.1668 - accuracy: 1.0000\n",
      "Epoch 162/200\n",
      "11/11 - 0s - loss: 0.1637 - accuracy: 1.0000\n",
      "Epoch 163/200\n",
      "11/11 - 0s - loss: 0.1607 - accuracy: 1.0000\n",
      "Epoch 164/200\n",
      "11/11 - 0s - loss: 0.1577 - accuracy: 1.0000\n",
      "Epoch 165/200\n",
      "11/11 - 0s - loss: 0.1547 - accuracy: 1.0000\n",
      "Epoch 166/200\n",
      "11/11 - 0s - loss: 0.1519 - accuracy: 1.0000\n",
      "Epoch 167/200\n",
      "11/11 - 0s - loss: 0.1491 - accuracy: 1.0000\n",
      "Epoch 168/200\n",
      "11/11 - 0s - loss: 0.1463 - accuracy: 1.0000\n",
      "Epoch 169/200\n",
      "11/11 - 0s - loss: 0.1436 - accuracy: 1.0000\n",
      "Epoch 170/200\n",
      "11/11 - 0s - loss: 0.1409 - accuracy: 1.0000\n",
      "Epoch 171/200\n",
      "11/11 - 0s - loss: 0.1383 - accuracy: 1.0000\n",
      "Epoch 172/200\n",
      "11/11 - 0s - loss: 0.1358 - accuracy: 1.0000\n",
      "Epoch 173/200\n",
      "11/11 - 0s - loss: 0.1333 - accuracy: 1.0000\n",
      "Epoch 174/200\n",
      "11/11 - 0s - loss: 0.1308 - accuracy: 1.0000\n",
      "Epoch 175/200\n",
      "11/11 - 0s - loss: 0.1284 - accuracy: 1.0000\n",
      "Epoch 176/200\n",
      "11/11 - 0s - loss: 0.1261 - accuracy: 1.0000\n",
      "Epoch 177/200\n",
      "11/11 - 0s - loss: 0.1238 - accuracy: 1.0000\n",
      "Epoch 178/200\n",
      "11/11 - 0s - loss: 0.1215 - accuracy: 1.0000\n",
      "Epoch 179/200\n",
      "11/11 - 0s - loss: 0.1193 - accuracy: 1.0000\n",
      "Epoch 180/200\n",
      "11/11 - 0s - loss: 0.1171 - accuracy: 1.0000\n",
      "Epoch 181/200\n",
      "11/11 - 0s - loss: 0.1150 - accuracy: 1.0000\n",
      "Epoch 182/200\n",
      "11/11 - 0s - loss: 0.1129 - accuracy: 1.0000\n",
      "Epoch 183/200\n",
      "11/11 - 0s - loss: 0.1109 - accuracy: 1.0000\n",
      "Epoch 184/200\n",
      "11/11 - 0s - loss: 0.1089 - accuracy: 1.0000\n",
      "Epoch 185/200\n",
      "11/11 - 0s - loss: 0.1070 - accuracy: 1.0000\n",
      "Epoch 186/200\n",
      "11/11 - 0s - loss: 0.1051 - accuracy: 1.0000\n",
      "Epoch 187/200\n",
      "11/11 - 0s - loss: 0.1032 - accuracy: 1.0000\n",
      "Epoch 188/200\n",
      "11/11 - 0s - loss: 0.1014 - accuracy: 1.0000\n",
      "Epoch 189/200\n",
      "11/11 - 0s - loss: 0.0996 - accuracy: 1.0000\n",
      "Epoch 190/200\n",
      "11/11 - 0s - loss: 0.0978 - accuracy: 1.0000\n",
      "Epoch 191/200\n",
      "11/11 - 0s - loss: 0.0961 - accuracy: 1.0000\n",
      "Epoch 192/200\n",
      "11/11 - 0s - loss: 0.0945 - accuracy: 1.0000\n",
      "Epoch 193/200\n",
      "11/11 - 0s - loss: 0.0928 - accuracy: 1.0000\n",
      "Epoch 194/200\n",
      "11/11 - 0s - loss: 0.0912 - accuracy: 1.0000\n",
      "Epoch 195/200\n",
      "11/11 - 0s - loss: 0.0897 - accuracy: 1.0000\n",
      "Epoch 196/200\n",
      "11/11 - 0s - loss: 0.0882 - accuracy: 1.0000\n",
      "Epoch 197/200\n",
      "11/11 - 0s - loss: 0.0867 - accuracy: 1.0000\n",
      "Epoch 198/200\n",
      "11/11 - 0s - loss: 0.0852 - accuracy: 1.0000\n",
      "Epoch 199/200\n",
      "11/11 - 0s - loss: 0.0838 - accuracy: 1.0000\n",
      "Epoch 200/200\n",
      "11/11 - 0s - loss: 0.0824 - accuracy: 1.0000\n"
     ]
    },
    {
     "data": {
      "text/plain": [
       "<tensorflow.python.keras.callbacks.History at 0x7fdbc7af7978>"
      ]
     },
     "execution_count": 37,
     "metadata": {},
     "output_type": "execute_result"
    }
   ],
   "source": [
    "# 각 단어의 임베딩 벡터는 10차원을 가지고, \n",
    "# 32의 은닉 상태 크기를 가지는 바닐라 RNN을 사용합니다..\n",
    "model = Sequential()\n",
    "model.add(Embedding(vocab_size, 10, input_length=max_len-1))\n",
    "model.add(SimpleRNN(32))\n",
    "model.add(Dense(vocab_size, activation='softmax'))\n",
    "model.compile(loss='categorical_crossentropy', optimizer='adam', metrics=['accuracy'])\n",
    "model.fit(X,y, epochs=200, verbose=2)"
   ]
  },
  {
   "cell_type": "markdown",
   "metadata": {},
   "source": [
    "모델이 정확하게 예측하고 있는지 문장을 생성하는 함수를 만들어서 출력해봅시다.\n",
    "\n"
   ]
  },
  {
   "cell_type": "code",
   "execution_count": 38,
   "metadata": {},
   "outputs": [],
   "source": [
    "def sentence_generation(model, t, current_word, n):\n",
    "    ''' \n",
    "    model : 모델\n",
    "    t : Tokenizer\n",
    "    current_word : 현재 단어\n",
    "    n: 반복할 횟수\n",
    "    '''\n",
    "    init_word = current_word\n",
    "    sentence =''\n",
    "    \n",
    "    for _ in range(n):\n",
    "        encoded = t.texts_to_sequences([current_word])[0]\n",
    "        encoded = pad_sequences([encoded], maxlen=5, padding='pre')\n",
    "        result = model.predict_classes(encoded, verbose=0)\n",
    "        \n",
    "        for word, index in t.word_index.items():\n",
    "            if index == result:\n",
    "                break\n",
    "        current_word = current_word + ' ' + word\n",
    "        sentence = sentence + ' ' + word\n",
    "        \n",
    "    sentencs = init_word + sentence\n",
    "    return sentence"
   ]
  },
  {
   "cell_type": "markdown",
   "metadata": {},
   "source": [
    "이제 입력된 단어로부터 다음 단어를 예측해서 문장을 생성하는 함수를 만들었습니다."
   ]
  },
  {
   "cell_type": "code",
   "execution_count": 40,
   "metadata": {},
   "outputs": [
    {
     "name": "stdout",
     "output_type": "stream",
     "text": [
      " 있는 말이 뛰고 있다\n"
     ]
    }
   ],
   "source": [
    "print(sentence_generation(model, t, '경마장에',4))"
   ]
  },
  {
   "cell_type": "code",
   "execution_count": 41,
   "metadata": {},
   "outputs": [
    {
     "name": "stdout",
     "output_type": "stream",
     "text": [
      " 말이 법이다\n"
     ]
    }
   ],
   "source": [
    "print(sentence_generation(model, t, '그의',2))"
   ]
  },
  {
   "cell_type": "code",
   "execution_count": 43,
   "metadata": {},
   "outputs": [
    {
     "name": "stdout",
     "output_type": "stream",
     "text": [
      " 말이 고와야 오는 말이 곱다\n"
     ]
    }
   ],
   "source": [
    "print(sentence_generation(model, t, '가는',5))"
   ]
  },
  {
   "cell_type": "markdown",
   "metadata": {},
   "source": [
    "이제 앞의 문맥을 기준으로 '말이' 라는 단어 다음에 나올 단어를 기존의 훈련 데이터와 일치하게 예측함을 보여줍니다. 이 모델은 충분한 훈련 데이터를 갖고 있지 못하므로 위에서 문장의 길이에 맞게 적절하게 예측해야하는 횟수 4, 2, 5를 각각 인자값으로 주었습니다. 이 이상의 숫자를 주면 기계는 '있다', '법이다', '곱다' 다음에 나오는 단어가 무엇인지 배운 적이 없으므로 임의 예측을 합니다. 이번에는 더 많은 훈련 데이터를 가지고 실습해봅시다."
   ]
  },
  {
   "cell_type": "markdown",
   "metadata": {},
   "source": [
    "### 2. LSTM을 이용하여 텍스트 생성하기\n",
    "이번에는 LSTM을 통해 보다 많은 데이터로 텍스트를 생성해보겠습니다. 본질적으로 앞에서 한 것과 동일한 실습입니다."
   ]
  },
  {
   "cell_type": "markdown",
   "metadata": {},
   "source": [
    "##### 1) 데이터에 대한 이해와 전처리\n",
    "사용할 데이터는 뉴욕 타임즈 기사의 제목입니다. 아래의 링크에서 ArticlesApril2018.csv 데이터를 다운로드 합니다.\n",
    "\n",
    "파일 다운로드 링크 : https://www.kaggle.com/aashita/nyt-comments"
   ]
  },
  {
   "cell_type": "code",
   "execution_count": 47,
   "metadata": {},
   "outputs": [],
   "source": [
    "import pandas as pd\n",
    "import numpy as np\n",
    "from string import punctuation\n",
    "from tensorflow.keras.preprocessing.text import Tokenizer\n",
    "from tensorflow.keras.preprocessing.sequence import pad_sequences\n",
    "from tensorflow.keras.utils import to_categorical"
   ]
  },
  {
   "cell_type": "code",
   "execution_count": 51,
   "metadata": {},
   "outputs": [
    {
     "data": {
      "text/html": [
       "<div>\n",
       "<style scoped>\n",
       "    .dataframe tbody tr th:only-of-type {\n",
       "        vertical-align: middle;\n",
       "    }\n",
       "\n",
       "    .dataframe tbody tr th {\n",
       "        vertical-align: top;\n",
       "    }\n",
       "\n",
       "    .dataframe thead th {\n",
       "        text-align: right;\n",
       "    }\n",
       "</style>\n",
       "<table border=\"1\" class=\"dataframe\">\n",
       "  <thead>\n",
       "    <tr style=\"text-align: right;\">\n",
       "      <th></th>\n",
       "      <th>articleID</th>\n",
       "      <th>articleWordCount</th>\n",
       "      <th>byline</th>\n",
       "      <th>documentType</th>\n",
       "      <th>headline</th>\n",
       "      <th>keywords</th>\n",
       "      <th>multimedia</th>\n",
       "      <th>newDesk</th>\n",
       "      <th>printPage</th>\n",
       "      <th>pubDate</th>\n",
       "      <th>sectionName</th>\n",
       "      <th>snippet</th>\n",
       "      <th>source</th>\n",
       "      <th>typeOfMaterial</th>\n",
       "      <th>webURL</th>\n",
       "    </tr>\n",
       "  </thead>\n",
       "  <tbody>\n",
       "    <tr>\n",
       "      <th>0</th>\n",
       "      <td>5adf6684068401528a2aa69b</td>\n",
       "      <td>781</td>\n",
       "      <td>By JOHN BRANCH</td>\n",
       "      <td>article</td>\n",
       "      <td>Former N.F.L. Cheerleaders’ Settlement Offer: ...</td>\n",
       "      <td>['Workplace Hazards and Violations', 'Football...</td>\n",
       "      <td>68</td>\n",
       "      <td>Sports</td>\n",
       "      <td>0</td>\n",
       "      <td>2018-04-24 17:16:49</td>\n",
       "      <td>Pro Football</td>\n",
       "      <td>“I understand that they could meet with us, pa...</td>\n",
       "      <td>The New York Times</td>\n",
       "      <td>News</td>\n",
       "      <td>https://www.nytimes.com/2018/04/24/sports/foot...</td>\n",
       "    </tr>\n",
       "    <tr>\n",
       "      <th>1</th>\n",
       "      <td>5adf653f068401528a2aa697</td>\n",
       "      <td>656</td>\n",
       "      <td>By LISA FRIEDMAN</td>\n",
       "      <td>article</td>\n",
       "      <td>E.P.A. to Unveil a New Rule. Its Effect: Less ...</td>\n",
       "      <td>['Environmental Protection Agency', 'Pruitt, S...</td>\n",
       "      <td>68</td>\n",
       "      <td>Climate</td>\n",
       "      <td>0</td>\n",
       "      <td>2018-04-24 17:11:21</td>\n",
       "      <td>Unknown</td>\n",
       "      <td>The agency plans to publish a new regulation T...</td>\n",
       "      <td>The New York Times</td>\n",
       "      <td>News</td>\n",
       "      <td>https://www.nytimes.com/2018/04/24/climate/epa...</td>\n",
       "    </tr>\n",
       "    <tr>\n",
       "      <th>2</th>\n",
       "      <td>5adf4626068401528a2aa628</td>\n",
       "      <td>2427</td>\n",
       "      <td>By PETE WELLS</td>\n",
       "      <td>article</td>\n",
       "      <td>The New Noma, Explained</td>\n",
       "      <td>['Restaurants', 'Noma (Copenhagen, Restaurant)...</td>\n",
       "      <td>66</td>\n",
       "      <td>Dining</td>\n",
       "      <td>0</td>\n",
       "      <td>2018-04-24 14:58:44</td>\n",
       "      <td>Unknown</td>\n",
       "      <td>What’s it like to eat at the second incarnatio...</td>\n",
       "      <td>The New York Times</td>\n",
       "      <td>News</td>\n",
       "      <td>https://www.nytimes.com/2018/04/24/dining/noma...</td>\n",
       "    </tr>\n",
       "    <tr>\n",
       "      <th>3</th>\n",
       "      <td>5adf40d2068401528a2aa619</td>\n",
       "      <td>626</td>\n",
       "      <td>By JULIE HIRSCHFELD DAVIS and PETER BAKER</td>\n",
       "      <td>article</td>\n",
       "      <td>Unknown</td>\n",
       "      <td>['Macron, Emmanuel (1977- )', 'Trump, Donald J...</td>\n",
       "      <td>68</td>\n",
       "      <td>Washington</td>\n",
       "      <td>0</td>\n",
       "      <td>2018-04-24 14:35:57</td>\n",
       "      <td>Europe</td>\n",
       "      <td>President Trump welcomed President Emmanuel Ma...</td>\n",
       "      <td>The New York Times</td>\n",
       "      <td>News</td>\n",
       "      <td>https://www.nytimes.com/2018/04/24/world/europ...</td>\n",
       "    </tr>\n",
       "    <tr>\n",
       "      <th>4</th>\n",
       "      <td>5adf3d64068401528a2aa60f</td>\n",
       "      <td>815</td>\n",
       "      <td>By IAN AUSTEN and DAN BILEFSKY</td>\n",
       "      <td>article</td>\n",
       "      <td>Unknown</td>\n",
       "      <td>['Toronto, Ontario, Attack (April, 2018)', 'Mu...</td>\n",
       "      <td>68</td>\n",
       "      <td>Foreign</td>\n",
       "      <td>0</td>\n",
       "      <td>2018-04-24 14:21:21</td>\n",
       "      <td>Canada</td>\n",
       "      <td>Alek Minassian, 25, a resident of Toronto’s Ri...</td>\n",
       "      <td>The New York Times</td>\n",
       "      <td>News</td>\n",
       "      <td>https://www.nytimes.com/2018/04/24/world/canad...</td>\n",
       "    </tr>\n",
       "  </tbody>\n",
       "</table>\n",
       "</div>"
      ],
      "text/plain": [
       "                  articleID  articleWordCount  \\\n",
       "0  5adf6684068401528a2aa69b               781   \n",
       "1  5adf653f068401528a2aa697               656   \n",
       "2  5adf4626068401528a2aa628              2427   \n",
       "3  5adf40d2068401528a2aa619               626   \n",
       "4  5adf3d64068401528a2aa60f               815   \n",
       "\n",
       "                                      byline documentType  \\\n",
       "0                             By JOHN BRANCH      article   \n",
       "1                           By LISA FRIEDMAN      article   \n",
       "2                              By PETE WELLS      article   \n",
       "3  By JULIE HIRSCHFELD DAVIS and PETER BAKER      article   \n",
       "4             By IAN AUSTEN and DAN BILEFSKY      article   \n",
       "\n",
       "                                            headline  \\\n",
       "0  Former N.F.L. Cheerleaders’ Settlement Offer: ...   \n",
       "1  E.P.A. to Unveil a New Rule. Its Effect: Less ...   \n",
       "2                            The New Noma, Explained   \n",
       "3                                            Unknown   \n",
       "4                                            Unknown   \n",
       "\n",
       "                                            keywords  multimedia     newDesk  \\\n",
       "0  ['Workplace Hazards and Violations', 'Football...          68      Sports   \n",
       "1  ['Environmental Protection Agency', 'Pruitt, S...          68     Climate   \n",
       "2  ['Restaurants', 'Noma (Copenhagen, Restaurant)...          66      Dining   \n",
       "3  ['Macron, Emmanuel (1977- )', 'Trump, Donald J...          68  Washington   \n",
       "4  ['Toronto, Ontario, Attack (April, 2018)', 'Mu...          68     Foreign   \n",
       "\n",
       "   printPage              pubDate   sectionName  \\\n",
       "0          0  2018-04-24 17:16:49  Pro Football   \n",
       "1          0  2018-04-24 17:11:21       Unknown   \n",
       "2          0  2018-04-24 14:58:44       Unknown   \n",
       "3          0  2018-04-24 14:35:57        Europe   \n",
       "4          0  2018-04-24 14:21:21        Canada   \n",
       "\n",
       "                                             snippet              source  \\\n",
       "0  “I understand that they could meet with us, pa...  The New York Times   \n",
       "1  The agency plans to publish a new regulation T...  The New York Times   \n",
       "2  What’s it like to eat at the second incarnatio...  The New York Times   \n",
       "3  President Trump welcomed President Emmanuel Ma...  The New York Times   \n",
       "4  Alek Minassian, 25, a resident of Toronto’s Ri...  The New York Times   \n",
       "\n",
       "  typeOfMaterial                                             webURL  \n",
       "0           News  https://www.nytimes.com/2018/04/24/sports/foot...  \n",
       "1           News  https://www.nytimes.com/2018/04/24/climate/epa...  \n",
       "2           News  https://www.nytimes.com/2018/04/24/dining/noma...  \n",
       "3           News  https://www.nytimes.com/2018/04/24/world/europ...  \n",
       "4           News  https://www.nytimes.com/2018/04/24/world/canad...  "
      ]
     },
     "execution_count": 51,
     "metadata": {},
     "output_type": "execute_result"
    }
   ],
   "source": [
    "df = pd.read_csv('../../data/kaggle/ArticlesApril2018.csv')\n",
    "df.head()"
   ]
  },
  {
   "cell_type": "code",
   "execution_count": 53,
   "metadata": {},
   "outputs": [
    {
     "name": "stdout",
     "output_type": "stream",
     "text": [
      "Count of Column : 15\n",
      "Index(['articleID', 'articleWordCount', 'byline', 'documentType', 'headline',\n",
      "       'keywords', 'multimedia', 'newDesk', 'printPage', 'pubDate',\n",
      "       'sectionName', 'snippet', 'source', 'typeOfMaterial', 'webURL'],\n",
      "      dtype='object')\n"
     ]
    }
   ],
   "source": [
    "print('Count of Column :', len(df.columns))\n",
    "print(df.columns)"
   ]
  },
  {
   "cell_type": "code",
   "execution_count": 55,
   "metadata": {},
   "outputs": [
    {
     "data": {
      "text/plain": [
       "False"
      ]
     },
     "execution_count": 55,
     "metadata": {},
     "output_type": "execute_result"
    }
   ],
   "source": [
    "df['headline'].isnull().values.any()"
   ]
  },
  {
   "cell_type": "code",
   "execution_count": 56,
   "metadata": {},
   "outputs": [
    {
     "data": {
      "text/plain": [
       "['Former N.F.L. Cheerleaders’ Settlement Offer: $1 and a Meeting With Goodell',\n",
       " 'E.P.A. to Unveil a New Rule. Its Effect: Less Science in Policymaking.',\n",
       " 'The New Noma, Explained',\n",
       " 'Unknown',\n",
       " 'Unknown']"
      ]
     },
     "execution_count": 56,
     "metadata": {},
     "output_type": "execute_result"
    }
   ],
   "source": [
    "headline = []\n",
    "headline.extend(list(df.headline.values))\n",
    "headline[:5]"
   ]
  },
  {
   "cell_type": "markdown",
   "metadata": {},
   "source": [
    "그런데 4번째, 5번째 샘플에 Unknown 값이 들어가있습니다. headline 전체에 걸쳐서 Unknown 값을 가진 샘플이 있을 것으로 추정됩니다. 비록 Null 값은 아니지만 지금 하고자 하는 실습에 도움이 되지 않는 노이즈 데이터이므로 제거해줄 필요가 있습니다. 제거하기 전에 현재 샘플의 개수를 확인해보고 제거 전, 후의 샘플의 개수를 비교해보겠습니다."
   ]
  },
  {
   "cell_type": "code",
   "execution_count": 57,
   "metadata": {},
   "outputs": [
    {
     "name": "stdout",
     "output_type": "stream",
     "text": [
      "Total count of sample : 1324\n"
     ]
    }
   ],
   "source": [
    "print('Total count of sample : {}'.format(len(headline)))"
   ]
  },
  {
   "cell_type": "code",
   "execution_count": 58,
   "metadata": {},
   "outputs": [],
   "source": [
    "headline = [ hn for hn in headline if hn !='Unknown']"
   ]
  },
  {
   "cell_type": "code",
   "execution_count": 59,
   "metadata": {},
   "outputs": [
    {
     "name": "stdout",
     "output_type": "stream",
     "text": [
      "Total count of sample after removing noise data : 1214\n"
     ]
    }
   ],
   "source": [
    "print('Total count of sample after removing noise data : {}'.format(len(headline)))"
   ]
  },
  {
   "cell_type": "code",
   "execution_count": 60,
   "metadata": {},
   "outputs": [
    {
     "data": {
      "text/plain": [
       "['Former N.F.L. Cheerleaders’ Settlement Offer: $1 and a Meeting With Goodell',\n",
       " 'E.P.A. to Unveil a New Rule. Its Effect: Less Science in Policymaking.',\n",
       " 'The New Noma, Explained',\n",
       " 'How a Bag of Texas Dirt  Became a Times Tradition',\n",
       " 'Is School a Place for Self-Expression?']"
      ]
     },
     "execution_count": 60,
     "metadata": {},
     "output_type": "execute_result"
    }
   ],
   "source": [
    "headline[:5]"
   ]
  },
  {
   "cell_type": "markdown",
   "metadata": {},
   "source": [
    "기존에 4번째, 5번째 샘플에서는 Unknown 값이 있었는데 현재는 제거가 된 것을 확인하였습니다. 이제 데이터 전처리를 수행합니다. 여기서 선택한 전처리는 구두점 제거와 단어의 소문자화입니다. 전처리를 수행하고, 다시 샘플 5개를 출력합니다."
   ]
  },
  {
   "cell_type": "code",
   "execution_count": 61,
   "metadata": {},
   "outputs": [
    {
     "data": {
      "text/plain": [
       "['former nfl cheerleaders settlement offer 1 and a meeting with goodell',\n",
       " 'epa to unveil a new rule its effect less science in policymaking',\n",
       " 'the new noma explained',\n",
       " 'how a bag of texas dirt  became a times tradition',\n",
       " 'is school a place for selfexpression']"
      ]
     },
     "execution_count": 61,
     "metadata": {},
     "output_type": "execute_result"
    }
   ],
   "source": [
    "def repreprocessing(s):\n",
    "    s = s.encode('utf8').decode('ascii', 'ignore')\n",
    "    return ''.join(c for c in s if c not in punctuation).lower()\n",
    "\n",
    "text = [ repreprocessing(x) for x in headline]\n",
    "text[:5]"
   ]
  },
  {
   "cell_type": "markdown",
   "metadata": {},
   "source": [
    "기존의 출력과 비교하면 모든 단어들이 소문자화되었으며 N.F.L.이나 Cheerleaders’ 등과 같이 기존에 구두점이 붙어있던 단어들에서 구두점이 제거되었습니다. 이제 단어 집합(vocabulary)을 만들고 크기를 확인합니다."
   ]
  },
  {
   "cell_type": "code",
   "execution_count": 62,
   "metadata": {},
   "outputs": [
    {
     "name": "stdout",
     "output_type": "stream",
     "text": [
      "Size of Vocab set : 3494\n"
     ]
    }
   ],
   "source": [
    "t = Tokenizer()\n",
    "t.fit_on_texts(text)\n",
    "vocab_size = len(t.word_index) + 1\n",
    "print('Size of Vocab set : %d'%vocab_size)"
   ]
  },
  {
   "cell_type": "markdown",
   "metadata": {},
   "source": [
    "총 3,494개의 단어가 존재합니다. 이제 정수 인코딩과 동시에 하나의 문장을 여러 줄로 분해하여 훈련 데이터를 구성합니다."
   ]
  },
  {
   "cell_type": "code",
   "execution_count": 64,
   "metadata": {},
   "outputs": [
    {
     "data": {
      "text/plain": [
       "[[99, 269],\n",
       " [99, 269, 371],\n",
       " [99, 269, 371, 1115],\n",
       " [99, 269, 371, 1115, 582],\n",
       " [99, 269, 371, 1115, 582, 52],\n",
       " [99, 269, 371, 1115, 582, 52, 7],\n",
       " [99, 269, 371, 1115, 582, 52, 7, 2],\n",
       " [99, 269, 371, 1115, 582, 52, 7, 2, 372],\n",
       " [99, 269, 371, 1115, 582, 52, 7, 2, 372, 10],\n",
       " [99, 269, 371, 1115, 582, 52, 7, 2, 372, 10, 1116],\n",
       " [100, 3]]"
      ]
     },
     "execution_count": 64,
     "metadata": {},
     "output_type": "execute_result"
    }
   ],
   "source": [
    "sequences = list()\n",
    "\n",
    "for line in text:\n",
    "    encoded = t.texts_to_sequences([line])[0]\n",
    "    \n",
    "    for i in range(1, len(encoded)):\n",
    "        sequence = encoded[:i+1]\n",
    "        sequences.append(sequence)\n",
    "        \n",
    "sequences[:11]        "
   ]
  },
  {
   "cell_type": "markdown",
   "metadata": {},
   "source": [
    "이해를 돕기 위해 출력 결과에 주석을 추가하였습니다. 왜 하나의 문장을 저렇게 나눌까요? 예를 들어 '경마장에 있는 말이 뛰고 있다' 라는 문장 하나가 있을 때, 최종적으로 원하는 훈련 데이터의 형태는 다음과 같습니다. 하나의 단어를 예측하기 위해 이전에 등장한 단어들을 모두 참고하는 것입니다."
   ]
  },
  {
   "cell_type": "markdown",
   "metadata": {},
   "source": [
    "위의 sequences는 모든 문장을 각 단어가 각 시점(time step)마다 하나씩 추가적으로 등장하는 형태로 만들기는 했지만, 아직 예측할 단어에 해당되는 레이블을 분리하는 작업까지는 수행하지 않은 상태입니다. 어떤 정수가 어떤 단어를 의미하는지 알아보기 위해 인덱스로부터 단어를 찾는 index_to_word를 만듭니다."
   ]
  },
  {
   "cell_type": "code",
   "execution_count": 65,
   "metadata": {},
   "outputs": [
    {
     "name": "stdout",
     "output_type": "stream",
     "text": [
      "Top 582 frequency words : offer\n"
     ]
    }
   ],
   "source": [
    "index_to_word ={}\n",
    "for key, value in t.word_index.items():\n",
    "    index_to_word[value] = key\n",
    "\n",
    "print('Top 582 frequency words : {}'.format(index_to_word[582]))    "
   ]
  },
  {
   "cell_type": "markdown",
   "metadata": {},
   "source": [
    "582이라는 인덱스를 가진 단어는 본래 offer라는 단어였습니다. 원한다면 다른 숫자로도 시도해보세요. 이제 y데이터를 분리하기 전에 전체 샘플의 길이를 동일하게 만드는 패딩 작업을 수행합니다. 패딩 작업을 수행하기 전에 가장 긴 샘플의 길이를 확인합니다."
   ]
  },
  {
   "cell_type": "code",
   "execution_count": 66,
   "metadata": {},
   "outputs": [
    {
     "name": "stdout",
     "output_type": "stream",
     "text": [
      "Max length of samples : 24\n"
     ]
    }
   ],
   "source": [
    "max_len = max(len(s) for s in sequences)\n",
    "print('Max length of samples : {}'.format(max_len))\n"
   ]
  },
  {
   "cell_type": "code",
   "execution_count": 67,
   "metadata": {},
   "outputs": [
    {
     "name": "stdout",
     "output_type": "stream",
     "text": [
      "[[   0    0    0    0    0    0    0    0    0    0    0    0    0    0\n",
      "     0    0    0    0    0    0    0    0   99  269]\n",
      " [   0    0    0    0    0    0    0    0    0    0    0    0    0    0\n",
      "     0    0    0    0    0    0    0   99  269  371]\n",
      " [   0    0    0    0    0    0    0    0    0    0    0    0    0    0\n",
      "     0    0    0    0    0    0   99  269  371 1115]]\n"
     ]
    }
   ],
   "source": [
    "sequences = pad_sequences(sequences, maxlen=max_len, padding='pre')\n",
    "print(sequences[:3])"
   ]
  },
  {
   "cell_type": "markdown",
   "metadata": {},
   "source": [
    "padding='pre'를 설정하여 샘플의 길이가 24보다 짧은 경우에 앞에 0으로 패딩되었습니다. 이제 맨 우측 단어만 레이블로 분리합니다."
   ]
  },
  {
   "cell_type": "code",
   "execution_count": 68,
   "metadata": {},
   "outputs": [
    {
     "name": "stdout",
     "output_type": "stream",
     "text": [
      "[[  0   0   0   0   0   0   0   0   0   0   0   0   0   0   0   0   0   0\n",
      "    0   0   0   0  99]\n",
      " [  0   0   0   0   0   0   0   0   0   0   0   0   0   0   0   0   0   0\n",
      "    0   0   0  99 269]\n",
      " [  0   0   0   0   0   0   0   0   0   0   0   0   0   0   0   0   0   0\n",
      "    0   0  99 269 371]]\n"
     ]
    }
   ],
   "source": [
    "sequences = np.array(sequences)\n",
    "X = sequences[:,:-1]\n",
    "y = sequences[:,-1]\n",
    "\n",
    "print(X[:3])"
   ]
  },
  {
   "cell_type": "markdown",
   "metadata": {},
   "source": [
    "훈련 데이터 X에서 3개의 샘플만 출력해보았는데, 맨 우측에 있던 정수값 269, 371, 1115가 사라진 것을 볼 수 있습니다. 뿐만 아니라, 각 샘플의 길이가 24에서 23으로 줄었습니다."
   ]
  },
  {
   "cell_type": "code",
   "execution_count": 69,
   "metadata": {},
   "outputs": [],
   "source": [
    "y = to_categorical(y, num_classes = vocab_size)"
   ]
  },
  {
   "cell_type": "markdown",
   "metadata": {},
   "source": [
    "레이블 데이터 y에 대해서 원-핫 인코딩을 수행하였습니다. 이제 모델을 설계합니다.\n",
    "\n"
   ]
  },
  {
   "cell_type": "markdown",
   "metadata": {},
   "source": [
    "##### 2) 모델 설계하기"
   ]
  },
  {
   "cell_type": "code",
   "execution_count": 70,
   "metadata": {},
   "outputs": [],
   "source": [
    "from tensorflow.keras.models import Sequential\n",
    "from tensorflow.keras.layers import Embedding, Dense, LSTM"
   ]
  },
  {
   "cell_type": "code",
   "execution_count": 73,
   "metadata": {},
   "outputs": [
    {
     "name": "stdout",
     "output_type": "stream",
     "text": [
      "Epoch 1/200\n",
      "7803/7803 - 10s - loss: 7.6497 - accuracy: 0.0240\n",
      "Epoch 2/200\n",
      "7803/7803 - 9s - loss: 7.1179 - accuracy: 0.0309\n",
      "Epoch 3/200\n",
      "7803/7803 - 9s - loss: 6.9792 - accuracy: 0.0345\n",
      "Epoch 4/200\n",
      "7803/7803 - 8s - loss: 6.8551 - accuracy: 0.0417\n",
      "Epoch 5/200\n",
      "7803/7803 - 9s - loss: 6.7059 - accuracy: 0.0460\n",
      "Epoch 6/200\n",
      "7803/7803 - 9s - loss: 6.5409 - accuracy: 0.0455\n",
      "Epoch 7/200\n",
      "7803/7803 - 9s - loss: 6.3606 - accuracy: 0.0520\n",
      "Epoch 8/200\n",
      "7803/7803 - 8s - loss: 6.1699 - accuracy: 0.0595\n",
      "Epoch 9/200\n",
      "7803/7803 - 8s - loss: 5.9851 - accuracy: 0.0628\n",
      "Epoch 10/200\n",
      "7803/7803 - 8s - loss: 5.7989 - accuracy: 0.0624\n",
      "Epoch 11/200\n",
      "7803/7803 - 8s - loss: 5.6194 - accuracy: 0.0695\n",
      "Epoch 12/200\n",
      "7803/7803 - 9s - loss: 5.4481 - accuracy: 0.0719\n",
      "Epoch 13/200\n",
      "7803/7803 - 9s - loss: 5.2892 - accuracy: 0.0793\n",
      "Epoch 14/200\n",
      "7803/7803 - 11s - loss: 5.1403 - accuracy: 0.0852\n",
      "Epoch 15/200\n",
      "7803/7803 - 8s - loss: 4.9925 - accuracy: 0.0946\n",
      "Epoch 16/200\n",
      "7803/7803 - 8s - loss: 4.8521 - accuracy: 0.1041\n",
      "Epoch 17/200\n",
      "7803/7803 - 8s - loss: 4.7211 - accuracy: 0.1165\n",
      "Epoch 18/200\n",
      "7803/7803 - 9s - loss: 4.5912 - accuracy: 0.1296\n",
      "Epoch 19/200\n",
      "7803/7803 - 8s - loss: 4.4701 - accuracy: 0.1456\n",
      "Epoch 20/200\n",
      "7803/7803 - 8s - loss: 4.3488 - accuracy: 0.1590\n",
      "Epoch 21/200\n",
      "7803/7803 - 10s - loss: 4.2334 - accuracy: 0.1790\n",
      "Epoch 22/200\n",
      "7803/7803 - 9s - loss: 4.1223 - accuracy: 0.2001\n",
      "Epoch 23/200\n",
      "7803/7803 - 8s - loss: 4.0126 - accuracy: 0.2120\n",
      "Epoch 24/200\n",
      "7803/7803 - 9s - loss: 3.9115 - accuracy: 0.2279\n",
      "Epoch 25/200\n",
      "7803/7803 - 8s - loss: 3.8060 - accuracy: 0.2455\n",
      "Epoch 26/200\n",
      "7803/7803 - 9s - loss: 3.7060 - accuracy: 0.2649\n",
      "Epoch 27/200\n",
      "7803/7803 - 8s - loss: 3.6124 - accuracy: 0.2749\n",
      "Epoch 28/200\n",
      "7803/7803 - 8s - loss: 3.5171 - accuracy: 0.2955\n",
      "Epoch 29/200\n",
      "7803/7803 - 9s - loss: 3.4316 - accuracy: 0.3074\n",
      "Epoch 30/200\n",
      "7803/7803 - 9s - loss: 3.3435 - accuracy: 0.3274\n",
      "Epoch 31/200\n",
      "7803/7803 - 8s - loss: 3.2610 - accuracy: 0.3415\n",
      "Epoch 32/200\n",
      "7803/7803 - 8s - loss: 3.1816 - accuracy: 0.3518\n",
      "Epoch 33/200\n",
      "7803/7803 - 8s - loss: 3.1041 - accuracy: 0.3672\n",
      "Epoch 34/200\n",
      "7803/7803 - 9s - loss: 3.0299 - accuracy: 0.3828\n",
      "Epoch 35/200\n",
      "7803/7803 - 8s - loss: 2.9578 - accuracy: 0.3925\n",
      "Epoch 36/200\n",
      "7803/7803 - 8s - loss: 2.8887 - accuracy: 0.4066\n",
      "Epoch 37/200\n",
      "7803/7803 - 9s - loss: 2.8211 - accuracy: 0.4173\n",
      "Epoch 38/200\n",
      "7803/7803 - 8s - loss: 2.7579 - accuracy: 0.4271\n",
      "Epoch 39/200\n",
      "7803/7803 - 8s - loss: 2.6941 - accuracy: 0.4428\n",
      "Epoch 40/200\n",
      "7803/7803 - 8s - loss: 2.6317 - accuracy: 0.4537\n",
      "Epoch 41/200\n",
      "7803/7803 - 8s - loss: 2.5723 - accuracy: 0.4625\n",
      "Epoch 42/200\n",
      "7803/7803 - 9s - loss: 2.5152 - accuracy: 0.4787\n",
      "Epoch 43/200\n",
      "7803/7803 - 8s - loss: 2.4631 - accuracy: 0.4849\n",
      "Epoch 44/200\n",
      "7803/7803 - 8s - loss: 2.4055 - accuracy: 0.4990\n",
      "Epoch 45/200\n",
      "7803/7803 - 9s - loss: 2.3505 - accuracy: 0.5106\n",
      "Epoch 46/200\n",
      "7803/7803 - 8s - loss: 2.3026 - accuracy: 0.5199\n",
      "Epoch 47/200\n",
      "7803/7803 - 8s - loss: 2.2509 - accuracy: 0.5299\n",
      "Epoch 48/200\n",
      "7803/7803 - 8s - loss: 2.2010 - accuracy: 0.5395\n",
      "Epoch 49/200\n",
      "7803/7803 - 8s - loss: 2.1532 - accuracy: 0.5539\n",
      "Epoch 50/200\n",
      "7803/7803 - 8s - loss: 2.1071 - accuracy: 0.5620\n",
      "Epoch 51/200\n",
      "7803/7803 - 8s - loss: 2.0610 - accuracy: 0.5738\n",
      "Epoch 52/200\n",
      "7803/7803 - 8s - loss: 2.0189 - accuracy: 0.5836\n",
      "Epoch 53/200\n",
      "7803/7803 - 9s - loss: 1.9729 - accuracy: 0.5863\n",
      "Epoch 54/200\n",
      "7803/7803 - 8s - loss: 1.9294 - accuracy: 0.6009\n",
      "Epoch 55/200\n",
      "7803/7803 - 8s - loss: 1.8862 - accuracy: 0.6103\n",
      "Epoch 56/200\n",
      "7803/7803 - 8s - loss: 1.8432 - accuracy: 0.6210\n",
      "Epoch 57/200\n",
      "7803/7803 - 9s - loss: 1.8056 - accuracy: 0.6266\n",
      "Epoch 58/200\n",
      "7803/7803 - 8s - loss: 1.7659 - accuracy: 0.6383\n",
      "Epoch 59/200\n",
      "7803/7803 - 9s - loss: 1.7243 - accuracy: 0.6490\n",
      "Epoch 60/200\n",
      "7803/7803 - 9s - loss: 1.6884 - accuracy: 0.6533\n",
      "Epoch 61/200\n",
      "7803/7803 - 11s - loss: 1.6496 - accuracy: 0.6624\n",
      "Epoch 62/200\n",
      "7803/7803 - 10s - loss: 1.6142 - accuracy: 0.6728\n",
      "Epoch 63/200\n",
      "7803/7803 - 9s - loss: 1.5783 - accuracy: 0.6842\n",
      "Epoch 64/200\n",
      "7803/7803 - 9s - loss: 1.5415 - accuracy: 0.6878\n",
      "Epoch 65/200\n",
      "7803/7803 - 11s - loss: 1.5058 - accuracy: 0.6968\n",
      "Epoch 66/200\n",
      "7803/7803 - 10s - loss: 1.4715 - accuracy: 0.7033\n",
      "Epoch 67/200\n",
      "7803/7803 - 10s - loss: 1.4377 - accuracy: 0.7129\n",
      "Epoch 68/200\n",
      "7803/7803 - 11s - loss: 1.4072 - accuracy: 0.7223\n",
      "Epoch 69/200\n",
      "7803/7803 - 10s - loss: 1.3725 - accuracy: 0.7284\n",
      "Epoch 70/200\n",
      "7803/7803 - 10s - loss: 1.3440 - accuracy: 0.7336\n",
      "Epoch 71/200\n",
      "7803/7803 - 8s - loss: 1.3110 - accuracy: 0.7416\n",
      "Epoch 72/200\n",
      "7803/7803 - 9s - loss: 1.2809 - accuracy: 0.7469\n",
      "Epoch 73/200\n",
      "7803/7803 - 12s - loss: 1.2511 - accuracy: 0.7523\n",
      "Epoch 74/200\n",
      "7803/7803 - 15s - loss: 1.2236 - accuracy: 0.7606\n",
      "Epoch 75/200\n",
      "7803/7803 - 23s - loss: 1.1958 - accuracy: 0.7638\n",
      "Epoch 76/200\n",
      "7803/7803 - 14s - loss: 1.1665 - accuracy: 0.7705\n",
      "Epoch 77/200\n",
      "7803/7803 - 15s - loss: 1.1400 - accuracy: 0.7794\n",
      "Epoch 78/200\n",
      "7803/7803 - 19s - loss: 1.1109 - accuracy: 0.7838\n",
      "Epoch 79/200\n",
      "7803/7803 - 12s - loss: 1.0908 - accuracy: 0.7883\n",
      "Epoch 80/200\n",
      "7803/7803 - 12s - loss: 1.0618 - accuracy: 0.7937\n",
      "Epoch 81/200\n",
      "7803/7803 - 16s - loss: 1.0372 - accuracy: 0.7978\n",
      "Epoch 82/200\n",
      "7803/7803 - 14s - loss: 1.0125 - accuracy: 0.8014\n",
      "Epoch 83/200\n",
      "7803/7803 - 13s - loss: 0.9887 - accuracy: 0.8057\n",
      "Epoch 84/200\n",
      "7803/7803 - 14s - loss: 0.9657 - accuracy: 0.8103\n",
      "Epoch 85/200\n",
      "7803/7803 - 13s - loss: 0.9426 - accuracy: 0.8139\n",
      "Epoch 86/200\n",
      "7803/7803 - 14s - loss: 0.9207 - accuracy: 0.8169\n",
      "Epoch 87/200\n",
      "7803/7803 - 17s - loss: 0.8998 - accuracy: 0.8246\n",
      "Epoch 88/200\n",
      "7803/7803 - 16s - loss: 0.8801 - accuracy: 0.8270\n",
      "Epoch 89/200\n",
      "7803/7803 - 15s - loss: 0.8567 - accuracy: 0.8339\n",
      "Epoch 90/200\n",
      "7803/7803 - 17s - loss: 0.8371 - accuracy: 0.8365\n",
      "Epoch 91/200\n",
      "7803/7803 - 13s - loss: 0.8233 - accuracy: 0.8374\n",
      "Epoch 92/200\n",
      "7803/7803 - 10s - loss: 0.7982 - accuracy: 0.8439\n",
      "Epoch 93/200\n",
      "7803/7803 - 11s - loss: 0.7812 - accuracy: 0.8447\n",
      "Epoch 94/200\n",
      "7803/7803 - 13s - loss: 0.7617 - accuracy: 0.8494\n",
      "Epoch 95/200\n",
      "7803/7803 - 15s - loss: 0.7448 - accuracy: 0.8516\n",
      "Epoch 96/200\n",
      "7803/7803 - 12s - loss: 0.7280 - accuracy: 0.8558\n",
      "Epoch 97/200\n",
      "7803/7803 - 11s - loss: 0.7128 - accuracy: 0.8570\n",
      "Epoch 98/200\n",
      "7803/7803 - 12s - loss: 0.6967 - accuracy: 0.8604\n",
      "Epoch 99/200\n",
      "7803/7803 - 12s - loss: 0.6815 - accuracy: 0.8680\n",
      "Epoch 100/200\n",
      "7803/7803 - 18s - loss: 0.6694 - accuracy: 0.8665\n",
      "Epoch 101/200\n",
      "7803/7803 - 21s - loss: 0.6523 - accuracy: 0.8706\n",
      "Epoch 102/200\n",
      "7803/7803 - 15s - loss: 0.6349 - accuracy: 0.8749\n",
      "Epoch 103/200\n",
      "7803/7803 - 12s - loss: 0.6205 - accuracy: 0.8750\n",
      "Epoch 104/200\n",
      "7803/7803 - 17s - loss: 0.6086 - accuracy: 0.8811\n",
      "Epoch 105/200\n",
      "7803/7803 - 17s - loss: 0.5956 - accuracy: 0.8795\n",
      "Epoch 106/200\n",
      "7803/7803 - 20s - loss: 0.5986 - accuracy: 0.8816\n",
      "Epoch 107/200\n",
      "7803/7803 - 14s - loss: 0.5803 - accuracy: 0.8833\n",
      "Epoch 108/200\n",
      "7803/7803 - 13s - loss: 0.5572 - accuracy: 0.8867\n",
      "Epoch 109/200\n",
      "7803/7803 - 15s - loss: 0.5457 - accuracy: 0.8904\n",
      "Epoch 110/200\n",
      "7803/7803 - 13s - loss: 0.5349 - accuracy: 0.8890\n",
      "Epoch 111/200\n",
      "7803/7803 - 12s - loss: 0.5234 - accuracy: 0.8941\n",
      "Epoch 112/200\n",
      "7803/7803 - 14s - loss: 0.5152 - accuracy: 0.8939\n",
      "Epoch 113/200\n",
      "7803/7803 - 17s - loss: 0.5052 - accuracy: 0.8975\n",
      "Epoch 114/200\n",
      "7803/7803 - 14s - loss: 0.4957 - accuracy: 0.8988\n",
      "Epoch 115/200\n",
      "7803/7803 - 17s - loss: 0.4869 - accuracy: 0.9000\n",
      "Epoch 116/200\n",
      "7803/7803 - 20s - loss: 0.4787 - accuracy: 0.9002\n",
      "Epoch 117/200\n",
      "7803/7803 - 16s - loss: 0.4684 - accuracy: 0.9011\n",
      "Epoch 118/200\n",
      "7803/7803 - 13s - loss: 0.4597 - accuracy: 0.9021\n",
      "Epoch 119/200\n",
      "7803/7803 - 13s - loss: 0.4518 - accuracy: 0.9058\n",
      "Epoch 120/200\n",
      "7803/7803 - 20s - loss: 0.4438 - accuracy: 0.9050\n",
      "Epoch 121/200\n",
      "7803/7803 - 13s - loss: 0.4351 - accuracy: 0.9043\n",
      "Epoch 122/200\n",
      "7803/7803 - 12s - loss: 0.4279 - accuracy: 0.9059\n",
      "Epoch 123/200\n",
      "7803/7803 - 12s - loss: 0.4207 - accuracy: 0.9089\n",
      "Epoch 124/200\n",
      "7803/7803 - 15s - loss: 0.4172 - accuracy: 0.9090\n",
      "Epoch 125/200\n",
      "7803/7803 - 14s - loss: 0.4099 - accuracy: 0.9082\n",
      "Epoch 126/200\n",
      "7803/7803 - 11s - loss: 0.4021 - accuracy: 0.9105\n",
      "Epoch 127/200\n",
      "7803/7803 - 12s - loss: 0.3953 - accuracy: 0.9109\n",
      "Epoch 128/200\n",
      "7803/7803 - 17s - loss: 0.3898 - accuracy: 0.9102\n",
      "Epoch 129/200\n",
      "7803/7803 - 14s - loss: 0.3842 - accuracy: 0.9113\n",
      "Epoch 130/200\n",
      "7803/7803 - 13s - loss: 0.3763 - accuracy: 0.9112\n",
      "Epoch 131/200\n",
      "7803/7803 - 18s - loss: 0.3727 - accuracy: 0.9118\n"
     ]
    },
    {
     "name": "stdout",
     "output_type": "stream",
     "text": [
      "Epoch 132/200\n",
      "7803/7803 - 19s - loss: 0.3678 - accuracy: 0.9132\n",
      "Epoch 133/200\n",
      "7803/7803 - 16s - loss: 0.3633 - accuracy: 0.9141\n",
      "Epoch 134/200\n",
      "7803/7803 - 14s - loss: 0.3615 - accuracy: 0.9131\n",
      "Epoch 135/200\n",
      "7803/7803 - 15s - loss: 0.3556 - accuracy: 0.9138\n",
      "Epoch 136/200\n",
      "7803/7803 - 15s - loss: 0.3478 - accuracy: 0.9148\n",
      "Epoch 137/200\n",
      "7803/7803 - 16s - loss: 0.3446 - accuracy: 0.9153\n",
      "Epoch 138/200\n",
      "7803/7803 - 23s - loss: 0.3390 - accuracy: 0.9148\n",
      "Epoch 139/200\n",
      "7803/7803 - 23s - loss: 0.3371 - accuracy: 0.9146\n",
      "Epoch 140/200\n",
      "7803/7803 - 21s - loss: 0.3337 - accuracy: 0.9138\n",
      "Epoch 141/200\n",
      "7803/7803 - 16s - loss: 0.3309 - accuracy: 0.9135\n",
      "Epoch 142/200\n",
      "7803/7803 - 19s - loss: 0.3275 - accuracy: 0.9159\n",
      "Epoch 143/200\n",
      "7803/7803 - 17s - loss: 0.3229 - accuracy: 0.9149\n",
      "Epoch 144/200\n",
      "7803/7803 - 17s - loss: 0.3191 - accuracy: 0.9162\n",
      "Epoch 145/200\n",
      "7803/7803 - 16s - loss: 0.3178 - accuracy: 0.9153\n",
      "Epoch 146/200\n",
      "7803/7803 - 16s - loss: 0.3134 - accuracy: 0.9176\n",
      "Epoch 147/200\n",
      "7803/7803 - 16s - loss: 0.3126 - accuracy: 0.9155\n",
      "Epoch 148/200\n",
      "7803/7803 - 15s - loss: 0.3112 - accuracy: 0.9164\n",
      "Epoch 149/200\n",
      "7803/7803 - 20s - loss: 0.3100 - accuracy: 0.9146\n",
      "Epoch 150/200\n",
      "7803/7803 - 17s - loss: 0.3106 - accuracy: 0.9175\n",
      "Epoch 151/200\n",
      "7803/7803 - 20s - loss: 0.3068 - accuracy: 0.9152\n",
      "Epoch 152/200\n",
      "7803/7803 - 16s - loss: 0.3010 - accuracy: 0.9177\n",
      "Epoch 153/200\n",
      "7803/7803 - 21s - loss: 0.2990 - accuracy: 0.9157\n",
      "Epoch 154/200\n",
      "7803/7803 - 19s - loss: 0.2988 - accuracy: 0.9155\n",
      "Epoch 155/200\n",
      "7803/7803 - 15s - loss: 0.2945 - accuracy: 0.9164\n",
      "Epoch 156/200\n",
      "7803/7803 - 24s - loss: 0.2928 - accuracy: 0.9164\n",
      "Epoch 157/200\n",
      "7803/7803 - 20s - loss: 0.2925 - accuracy: 0.9175\n",
      "Epoch 158/200\n",
      "7803/7803 - 18s - loss: 0.2906 - accuracy: 0.9161\n",
      "Epoch 159/200\n",
      "7803/7803 - 22s - loss: 0.2900 - accuracy: 0.9149\n",
      "Epoch 160/200\n",
      "7803/7803 - 22s - loss: 0.2870 - accuracy: 0.9168\n",
      "Epoch 161/200\n",
      "7803/7803 - 25s - loss: 0.2860 - accuracy: 0.9161\n",
      "Epoch 162/200\n",
      "7803/7803 - 24s - loss: 0.2854 - accuracy: 0.9173\n",
      "Epoch 163/200\n",
      "7803/7803 - 21s - loss: 0.2972 - accuracy: 0.9149\n",
      "Epoch 164/200\n",
      "7803/7803 - 24s - loss: 0.3314 - accuracy: 0.9088\n",
      "Epoch 165/200\n",
      "7803/7803 - 23s - loss: 0.2899 - accuracy: 0.9176\n",
      "Epoch 166/200\n",
      "7803/7803 - 21s - loss: 0.2801 - accuracy: 0.9185\n",
      "Epoch 167/200\n",
      "7803/7803 - 24s - loss: 0.2781 - accuracy: 0.9159\n",
      "Epoch 168/200\n",
      "7803/7803 - 20s - loss: 0.2773 - accuracy: 0.9162\n",
      "Epoch 169/200\n",
      "7803/7803 - 20s - loss: 0.2767 - accuracy: 0.9182\n",
      "Epoch 170/200\n",
      "7803/7803 - 17s - loss: 0.2765 - accuracy: 0.9159\n",
      "Epoch 171/200\n",
      "7803/7803 - 16s - loss: 0.2759 - accuracy: 0.9162\n",
      "Epoch 172/200\n",
      "7803/7803 - 16s - loss: 0.2751 - accuracy: 0.9162\n",
      "Epoch 173/200\n",
      "7803/7803 - 18s - loss: 0.2745 - accuracy: 0.9158\n",
      "Epoch 174/200\n",
      "7803/7803 - 21s - loss: 0.2775 - accuracy: 0.9152\n",
      "Epoch 175/200\n",
      "7803/7803 - 22s - loss: 0.2765 - accuracy: 0.9166\n",
      "Epoch 176/200\n",
      "7803/7803 - 23s - loss: 0.2768 - accuracy: 0.9154\n",
      "Epoch 177/200\n",
      "7803/7803 - 20s - loss: 0.2823 - accuracy: 0.9167\n",
      "Epoch 178/200\n",
      "7803/7803 - 23s - loss: 0.2784 - accuracy: 0.9167\n",
      "Epoch 179/200\n",
      "7803/7803 - 24s - loss: 0.2727 - accuracy: 0.9179\n",
      "Epoch 180/200\n",
      "7803/7803 - 21s - loss: 0.2735 - accuracy: 0.9163\n",
      "Epoch 181/200\n",
      "7803/7803 - 21s - loss: 0.2713 - accuracy: 0.9149\n",
      "Epoch 182/200\n",
      "7803/7803 - 18s - loss: 0.2721 - accuracy: 0.9163\n",
      "Epoch 183/200\n",
      "7803/7803 - 18s - loss: 0.2741 - accuracy: 0.9163\n",
      "Epoch 184/200\n",
      "7803/7803 - 22s - loss: 0.2707 - accuracy: 0.9149\n",
      "Epoch 185/200\n",
      "7803/7803 - 19s - loss: 0.2702 - accuracy: 0.9166\n",
      "Epoch 186/200\n",
      "7803/7803 - 23s - loss: 0.2676 - accuracy: 0.9148\n",
      "Epoch 187/200\n",
      "7803/7803 - 23s - loss: 0.2670 - accuracy: 0.9162\n",
      "Epoch 188/200\n",
      "7803/7803 - 23s - loss: 0.2669 - accuracy: 0.9161\n",
      "Epoch 189/200\n",
      "7803/7803 - 23s - loss: 0.2658 - accuracy: 0.9154\n",
      "Epoch 190/200\n",
      "7803/7803 - 22s - loss: 0.2668 - accuracy: 0.9168\n",
      "Epoch 191/200\n",
      "7803/7803 - 22s - loss: 0.2648 - accuracy: 0.9175\n",
      "Epoch 192/200\n",
      "7803/7803 - 23s - loss: 0.2652 - accuracy: 0.9173\n",
      "Epoch 193/200\n",
      "7803/7803 - 21s - loss: 0.2644 - accuracy: 0.9170\n",
      "Epoch 194/200\n",
      "7803/7803 - 18s - loss: 0.2646 - accuracy: 0.9162\n",
      "Epoch 195/200\n",
      "7803/7803 - 25s - loss: 0.2637 - accuracy: 0.9186\n",
      "Epoch 196/200\n",
      "7803/7803 - 23s - loss: 0.2690 - accuracy: 0.9148\n",
      "Epoch 197/200\n",
      "7803/7803 - 20s - loss: 0.2898 - accuracy: 0.9141\n",
      "Epoch 198/200\n",
      "7803/7803 - 26s - loss: 0.2722 - accuracy: 0.9148\n",
      "Epoch 199/200\n",
      "7803/7803 - 24s - loss: 0.2643 - accuracy: 0.9153\n",
      "Epoch 200/200\n",
      "7803/7803 - 20s - loss: 0.2626 - accuracy: 0.9153\n"
     ]
    },
    {
     "data": {
      "text/plain": [
       "<tensorflow.python.keras.callbacks.History at 0x7fdbc51eef98>"
      ]
     },
     "execution_count": 73,
     "metadata": {},
     "output_type": "execute_result"
    }
   ],
   "source": [
    "model = Sequential()\n",
    "model.add(Embedding(vocab_size, 10, input_length=max_len-1))\n",
    "model.add(LSTM(128))\n",
    "model.add(Dense(vocab_size, activation='softmax'))\n",
    "model.compile(loss='categorical_crossentropy', optimizer='adam', metrics=['accuracy'])\n",
    "model.fit(X,y, epochs=200, verbose=2)"
   ]
  },
  {
   "cell_type": "code",
   "execution_count": 75,
   "metadata": {},
   "outputs": [],
   "source": [
    "def sentence_generation(model, t, current_word, n):\n",
    "    init_word = current_word\n",
    "    sentence =''\n",
    "    for _ in range(n):\n",
    "        encoded = t.texts_to_sequences([current_word])[0]\n",
    "        encoded = pad_sequences([encoded], maxlen=23, padding='pre')\n",
    "        result = model.predict_classes(encoded, verbose=0)\n",
    "        \n",
    "        for word, index in t.word_index.items():\n",
    "            if index == result:\n",
    "                break\n",
    "        current_word = current_word + ' ' + word\n",
    "        \n",
    "        sentence = sentence + ' ' + word\n",
    "        \n",
    "    sentence = init_word + sentence\n",
    "    \n",
    "    return sentence"
   ]
  },
  {
   "cell_type": "code",
   "execution_count": 76,
   "metadata": {},
   "outputs": [
    {
     "name": "stdout",
     "output_type": "stream",
     "text": [
      "i want to be rich and im not sorry reality tv\n"
     ]
    }
   ],
   "source": [
    "print(sentence_generation(model, t, 'i', 10))"
   ]
  },
  {
   "cell_type": "code",
   "execution_count": 77,
   "metadata": {},
   "outputs": [
    {
     "name": "stdout",
     "output_type": "stream",
     "text": [
      "how to make facebook more accountable just like in a total\n"
     ]
    }
   ],
   "source": [
    "print(sentence_generation(model, t, 'how', 10))"
   ]
  },
  {
   "cell_type": "code",
   "execution_count": null,
   "metadata": {},
   "outputs": [],
   "source": []
  }
 ],
 "metadata": {
  "kernelspec": {
   "display_name": "Python 3",
   "language": "python",
   "name": "python3"
  },
  "language_info": {
   "codemirror_mode": {
    "name": "ipython",
    "version": 3
   },
   "file_extension": ".py",
   "mimetype": "text/x-python",
   "name": "python",
   "nbconvert_exporter": "python",
   "pygments_lexer": "ipython3",
   "version": "3.6.9"
  }
 },
 "nbformat": 4,
 "nbformat_minor": 2
}
