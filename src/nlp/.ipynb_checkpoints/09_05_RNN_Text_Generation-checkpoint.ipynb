{
 "cells": [
  {
   "cell_type": "markdown",
   "metadata": {},
   "source": [
    "# 9.5 RNN을 이용한 텍스트 생성(Text Generation using RNN)\n",
    "___\n",
    "이번 챕터에서는 다 대 일(many-to-one) 구조의 RNN을 사용하여 문맥을 반영해서 텍스트를 생성하는 모델을 만들어봅시다"
   ]
  },
  {
   "cell_type": "markdown",
   "metadata": {},
   "source": [
    "### 1. RNN을 이용하여 텍스트 생성하기\n",
    "예를 들어서 '경마장에 있는 말이 뛰고 있다'와 '그의 말이 법이다'와 '가는 말이 고와야 오는 말이 곱다'라는 세 가지 문장이 있다고 해봅시다. 모델이 문맥을 학습할 수 있도록 전체 문장의 앞의 단어들을 전부 고려하여 학습하도록 데이터를 재구성한다면 아래와 같이 총 11개의 샘플이 구성됩니다.\n",
    "\n",
    "samples\t|X\t|y\n",
    "--- | --- | ---\n",
    "1\t|경마장에\t|있는\n",
    "2\t|경마장에 있는\t|말이\n",
    "3\t|경마장에 있는 말이\t|뛰고\n",
    "4\t|경마장에 있는 말이 뛰고\t|있다\n",
    "5\t|그의\t|말이\n",
    "6\t|그의 말이\t|법이다\n",
    "7\t|가는\t|말이\n",
    "8\t|가는 말이\t|고와야\n",
    "9\t|가는 말이 고와야\t|오는\n",
    "10\t|가는 말이 고와야 오는\t|말이\n",
    "11\t|가는 말이 고와야 오는 |말이"
   ]
  },
  {
   "cell_type": "markdown",
   "metadata": {},
   "source": [
    "### 1) 데이터에 대한 이해와 전처리"
   ]
  },
  {
   "cell_type": "code",
   "execution_count": 88,
   "metadata": {},
   "outputs": [],
   "source": [
    "from tensorflow.keras.preprocessing.text import Tokenizer\n",
    "from tensorflow.keras.preprocessing.sequence import pad_sequences\n",
    "from tensorflow.keras.utils import to_categorical\n",
    "import numpy as np\n",
    "import pprint\n",
    "\n",
    "text=\"\"\"경마장에 있는 말이 뛰고 있다\\n\n",
    "그의 말이 법이다\\n\n",
    "가는 말이 고와야 오는 말이 곱다\\n\"\"\""
   ]
  },
  {
   "cell_type": "code",
   "execution_count": 89,
   "metadata": {},
   "outputs": [
    {
     "name": "stdout",
     "output_type": "stream",
     "text": [
      "Size of Vocabulary : 12\n",
      "{ '가는': 8,\n",
      "  '경마장에': 2,\n",
      "  '고와야': 9,\n",
      "  '곱다': 11,\n",
      "  '그의': 6,\n",
      "  '뛰고': 4,\n",
      "  '말이': 1,\n",
      "  '법이다': 7,\n",
      "  '오는': 10,\n",
      "  '있는': 3,\n",
      "  '있다': 5}\n"
     ]
    }
   ],
   "source": [
    "pp = pprint.PrettyPrinter(indent=2)\n",
    "\n",
    "t = Tokenizer()\n",
    "t.fit_on_texts([text])\n",
    "vocab_size = len(t.word_index)+1\n",
    "# 케라스 토크나이저의 정수 인코딩은 인덱스가 1부터 시작하지만,\n",
    "# 케라스 원-핫 인코딩에서 배열의 인덱스가 0부터 시작하기 때문에\n",
    "# 배열의 크기를 실제 단어 집합의 크기보다 +1로 생성해야하므로 미리 +1 선언 \n",
    "print('Size of Vocabulary : %d' % vocab_size)\n",
    "#print('\\nword_index\\n',t.word_index)\n",
    "pp.pprint(t.word_index)"
   ]
  },
  {
   "cell_type": "code",
   "execution_count": 90,
   "metadata": {},
   "outputs": [
    {
     "name": "stdout",
     "output_type": "stream",
     "text": [
      "encoded :  [2, 3, 1, 4, 5]\n",
      "encoded :  [6, 1, 7]\n",
      "encoded :  [8, 1, 9, 10, 1, 11]\n",
      "\n",
      "sample count to use train : 11\n",
      "\n",
      "sequences\n",
      "[ [2, 3],\n",
      "  [2, 3, 1],\n",
      "  [2, 3, 1, 4],\n",
      "  [2, 3, 1, 4, 5],\n",
      "  [6, 1],\n",
      "  [6, 1, 7],\n",
      "  [8, 1],\n",
      "  [8, 1, 9],\n",
      "  [8, 1, 9, 10],\n",
      "  [8, 1, 9, 10, 1],\n",
      "  [8, 1, 9, 10, 1, 11]]\n"
     ]
    }
   ],
   "source": [
    "# Create train data\n",
    "sequences = list()\n",
    "\n",
    "for line in text.split('\\n'):\n",
    "    encoded = t.texts_to_sequences([line])[0]\n",
    "    if len(encoded)>1: print('encoded : ', encoded)\n",
    "    \n",
    "    for i in range(1, len(encoded)):\n",
    "        sequence = encoded[:i+1]\n",
    "        sequences.append(sequence)\n",
    "        \n",
    "print('\\nsample count to use train : %d' % len(sequences))        \n",
    "print('\\nsequences')    \n",
    "pp.pprint(sequences)"
   ]
  },
  {
   "cell_type": "markdown",
   "metadata": {},
   "source": [
    "위의 데이터는 아직 레이블로 사용될 단어를 분리하지 않은 훈련 데이터입니다. [2, 3]은 [경마장에, 있는]에 해당되며 [2, 3, 1]은 [경마장에, 있는, 말이]에 해당됩니다. 전체 훈련 데이터에 대해서 맨 우측에 있는 단어에 대해서만 레이블로 분리해야 합니다.\n",
    "\n",
    "우선 전체 샘플에 대해서 길이를 일치시켜 줍니다. 가장 긴 샘플의 길이를 기준으로 합니다. 현재 육안으로 봤을 때, 길이가 가장 긴 샘플은 [8, 1, 9, 10, 1, 11]이고 길이는 6입니다. 이를 코드로는 다음과 같이 구할 수 있습니다."
   ]
  },
  {
   "cell_type": "code",
   "execution_count": 91,
   "metadata": {},
   "outputs": [
    {
     "name": "stdout",
     "output_type": "stream",
     "text": [
      " Max length of sample : 6\n"
     ]
    }
   ],
   "source": [
    "max_len = max(len(t) for t in sequences)\n",
    "print(' Max length of sample : %d' % max_len)"
   ]
  },
  {
   "cell_type": "markdown",
   "metadata": {},
   "source": [
    "전체 훈련 데이터에서 가장 긴 샘플의 길이가 6임을 확인하였습니다. 이제 전체 샘플의 길이를 6으로 패딩합니다."
   ]
  },
  {
   "cell_type": "code",
   "execution_count": 92,
   "metadata": {},
   "outputs": [
    {
     "name": "stdout",
     "output_type": "stream",
     "text": [
      "[[ 0  0  0  0  2  3]\n",
      " [ 0  0  0  2  3  1]\n",
      " [ 0  0  2  3  1  4]\n",
      " [ 0  2  3  1  4  5]\n",
      " [ 0  0  0  0  6  1]\n",
      " [ 0  0  0  6  1  7]\n",
      " [ 0  0  0  0  8  1]\n",
      " [ 0  0  0  8  1  9]\n",
      " [ 0  0  8  1  9 10]\n",
      " [ 0  8  1  9 10  1]\n",
      " [ 8  1  9 10  1 11]]\n"
     ]
    }
   ],
   "source": [
    "sequences = pad_sequences(sequences, maxlen=max_len, padding='pre')\n",
    "print(sequences)"
   ]
  },
  {
   "cell_type": "markdown",
   "metadata": {},
   "source": [
    "길이가 6보다 짧은 모든 샘플에 대해서 앞에 0을 채워서 모든 샘플의 길이를 6으로 바꿨습니다. 이제 각 샘플의 마지막 단어를 레이블로 분리합시다. 레이블의 분리는 Numpy를 이용해서 가능합니다."
   ]
  },
  {
   "cell_type": "code",
   "execution_count": 93,
   "metadata": {},
   "outputs": [
    {
     "name": "stdout",
     "output_type": "stream",
     "text": [
      "\n",
      "X\n",
      " [[ 0  0  0  0  2]\n",
      " [ 0  0  0  2  3]\n",
      " [ 0  0  2  3  1]\n",
      " [ 0  2  3  1  4]\n",
      " [ 0  0  0  0  6]\n",
      " [ 0  0  0  6  1]\n",
      " [ 0  0  0  0  8]\n",
      " [ 0  0  0  8  1]\n",
      " [ 0  0  8  1  9]\n",
      " [ 0  8  1  9 10]\n",
      " [ 8  1  9 10  1]]\n",
      "\n",
      "y\n",
      " [ 3  1  4  5  1  7  1  9 10  1 11]\n"
     ]
    }
   ],
   "source": [
    "sequences = np.array(sequences)\n",
    "X = sequences[:, :-1]\n",
    "y = sequences[:, -1]\n",
    "print('\\nX\\n',X)\n",
    "print('\\ny\\n',y)\n",
    "# 리스트의 마지막 값을 제외하고 저장한 것은 X\n",
    "# 리스트의 마지막 값만 저장한 것은 y. 이는 레이블에 해당됨."
   ]
  },
  {
   "cell_type": "markdown",
   "metadata": {},
   "source": [
    "레이블이 분리되었습니다. 이제 RNN 모델에 훈련 데이터를 훈련 시키기 전에 레이블에 대해서 원-핫 인코딩을 수행합니다."
   ]
  },
  {
   "cell_type": "code",
   "execution_count": 94,
   "metadata": {},
   "outputs": [
    {
     "name": "stdout",
     "output_type": "stream",
     "text": [
      "[[0. 0. 0. 1. 0. 0. 0. 0. 0. 0. 0. 0.]\n",
      " [0. 1. 0. 0. 0. 0. 0. 0. 0. 0. 0. 0.]\n",
      " [0. 0. 0. 0. 1. 0. 0. 0. 0. 0. 0. 0.]\n",
      " [0. 0. 0. 0. 0. 1. 0. 0. 0. 0. 0. 0.]\n",
      " [0. 1. 0. 0. 0. 0. 0. 0. 0. 0. 0. 0.]\n",
      " [0. 0. 0. 0. 0. 0. 0. 1. 0. 0. 0. 0.]\n",
      " [0. 1. 0. 0. 0. 0. 0. 0. 0. 0. 0. 0.]\n",
      " [0. 0. 0. 0. 0. 0. 0. 0. 0. 1. 0. 0.]\n",
      " [0. 0. 0. 0. 0. 0. 0. 0. 0. 0. 1. 0.]\n",
      " [0. 1. 0. 0. 0. 0. 0. 0. 0. 0. 0. 0.]\n",
      " [0. 0. 0. 0. 0. 0. 0. 0. 0. 0. 0. 1.]]\n"
     ]
    }
   ],
   "source": [
    "y = to_categorical(y, num_classes=vocab_size)\n",
    "print(y)"
   ]
  },
  {
   "cell_type": "markdown",
   "metadata": {},
   "source": [
    "### 2) 모델 설계하기\n",
    "이제 RNN 모델에 데이터를 훈련시킵니다."
   ]
  },
  {
   "cell_type": "code",
   "execution_count": 95,
   "metadata": {},
   "outputs": [],
   "source": [
    "from tensorflow.keras.models import Sequential\n",
    "from tensorflow.keras.layers import Embedding, Dense, SimpleRNN"
   ]
  },
  {
   "cell_type": "code",
   "execution_count": 96,
   "metadata": {},
   "outputs": [
    {
     "name": "stdout",
     "output_type": "stream",
     "text": [
      "Epoch 1/200\n",
      "11/11 - 0s - loss: 2.4715 - accuracy: 0.0909\n",
      "Epoch 2/200\n",
      "11/11 - 0s - loss: 2.4577 - accuracy: 0.1818\n",
      "Epoch 3/200\n",
      "11/11 - 0s - loss: 2.4437 - accuracy: 0.1818\n",
      "Epoch 4/200\n",
      "11/11 - 0s - loss: 2.4294 - accuracy: 0.3636\n",
      "Epoch 5/200\n",
      "11/11 - 0s - loss: 2.4149 - accuracy: 0.3636\n",
      "Epoch 6/200\n",
      "11/11 - 0s - loss: 2.3999 - accuracy: 0.3636\n",
      "Epoch 7/200\n",
      "11/11 - 0s - loss: 2.3844 - accuracy: 0.3636\n",
      "Epoch 8/200\n",
      "11/11 - 0s - loss: 2.3683 - accuracy: 0.3636\n",
      "Epoch 9/200\n",
      "11/11 - 0s - loss: 2.3516 - accuracy: 0.3636\n",
      "Epoch 10/200\n",
      "11/11 - 0s - loss: 2.3342 - accuracy: 0.3636\n",
      "Epoch 11/200\n",
      "11/11 - 0s - loss: 2.3160 - accuracy: 0.3636\n",
      "Epoch 12/200\n",
      "11/11 - 0s - loss: 2.2971 - accuracy: 0.3636\n",
      "Epoch 13/200\n",
      "11/11 - 0s - loss: 2.2772 - accuracy: 0.3636\n",
      "Epoch 14/200\n",
      "11/11 - 0s - loss: 2.2565 - accuracy: 0.3636\n",
      "Epoch 15/200\n",
      "11/11 - 0s - loss: 2.2349 - accuracy: 0.3636\n",
      "Epoch 16/200\n",
      "11/11 - 0s - loss: 2.2125 - accuracy: 0.3636\n",
      "Epoch 17/200\n",
      "11/11 - 0s - loss: 2.1893 - accuracy: 0.3636\n",
      "Epoch 18/200\n",
      "11/11 - 0s - loss: 2.1655 - accuracy: 0.3636\n",
      "Epoch 19/200\n",
      "11/11 - 0s - loss: 2.1411 - accuracy: 0.3636\n",
      "Epoch 20/200\n",
      "11/11 - 0s - loss: 2.1164 - accuracy: 0.3636\n",
      "Epoch 21/200\n",
      "11/11 - 0s - loss: 2.0916 - accuracy: 0.3636\n",
      "Epoch 22/200\n",
      "11/11 - 0s - loss: 2.0670 - accuracy: 0.3636\n",
      "Epoch 23/200\n",
      "11/11 - 0s - loss: 2.0429 - accuracy: 0.3636\n",
      "Epoch 24/200\n",
      "11/11 - 0s - loss: 2.0197 - accuracy: 0.3636\n",
      "Epoch 25/200\n",
      "11/11 - 0s - loss: 1.9978 - accuracy: 0.3636\n",
      "Epoch 26/200\n",
      "11/11 - 0s - loss: 1.9775 - accuracy: 0.3636\n",
      "Epoch 27/200\n",
      "11/11 - 0s - loss: 1.9590 - accuracy: 0.3636\n",
      "Epoch 28/200\n",
      "11/11 - 0s - loss: 1.9426 - accuracy: 0.3636\n",
      "Epoch 29/200\n",
      "11/11 - 0s - loss: 1.9281 - accuracy: 0.3636\n",
      "Epoch 30/200\n",
      "11/11 - 0s - loss: 1.9154 - accuracy: 0.3636\n",
      "Epoch 31/200\n",
      "11/11 - 0s - loss: 1.9041 - accuracy: 0.3636\n",
      "Epoch 32/200\n",
      "11/11 - 0s - loss: 1.8936 - accuracy: 0.3636\n",
      "Epoch 33/200\n",
      "11/11 - 0s - loss: 1.8834 - accuracy: 0.3636\n",
      "Epoch 34/200\n",
      "11/11 - 0s - loss: 1.8729 - accuracy: 0.3636\n",
      "Epoch 35/200\n",
      "11/11 - 0s - loss: 1.8619 - accuracy: 0.3636\n",
      "Epoch 36/200\n",
      "11/11 - 0s - loss: 1.8501 - accuracy: 0.3636\n",
      "Epoch 37/200\n",
      "11/11 - 0s - loss: 1.8374 - accuracy: 0.3636\n",
      "Epoch 38/200\n",
      "11/11 - 0s - loss: 1.8240 - accuracy: 0.3636\n",
      "Epoch 39/200\n",
      "11/11 - 0s - loss: 1.8101 - accuracy: 0.3636\n",
      "Epoch 40/200\n",
      "11/11 - 0s - loss: 1.7957 - accuracy: 0.3636\n",
      "Epoch 41/200\n",
      "11/11 - 0s - loss: 1.7813 - accuracy: 0.3636\n",
      "Epoch 42/200\n",
      "11/11 - 0s - loss: 1.7669 - accuracy: 0.4545\n",
      "Epoch 43/200\n",
      "11/11 - 0s - loss: 1.7526 - accuracy: 0.4545\n",
      "Epoch 44/200\n",
      "11/11 - 0s - loss: 1.7384 - accuracy: 0.4545\n",
      "Epoch 45/200\n",
      "11/11 - 0s - loss: 1.7244 - accuracy: 0.4545\n",
      "Epoch 46/200\n",
      "11/11 - 0s - loss: 1.7105 - accuracy: 0.4545\n",
      "Epoch 47/200\n",
      "11/11 - 0s - loss: 1.6965 - accuracy: 0.4545\n",
      "Epoch 48/200\n",
      "11/11 - 0s - loss: 1.6824 - accuracy: 0.4545\n",
      "Epoch 49/200\n",
      "11/11 - 0s - loss: 1.6680 - accuracy: 0.4545\n",
      "Epoch 50/200\n",
      "11/11 - 0s - loss: 1.6532 - accuracy: 0.4545\n",
      "Epoch 51/200\n",
      "11/11 - 0s - loss: 1.6381 - accuracy: 0.4545\n",
      "Epoch 52/200\n",
      "11/11 - 0s - loss: 1.6227 - accuracy: 0.4545\n",
      "Epoch 53/200\n",
      "11/11 - 0s - loss: 1.6069 - accuracy: 0.4545\n",
      "Epoch 54/200\n",
      "11/11 - 0s - loss: 1.5908 - accuracy: 0.4545\n",
      "Epoch 55/200\n",
      "11/11 - 0s - loss: 1.5745 - accuracy: 0.4545\n",
      "Epoch 56/200\n",
      "11/11 - 0s - loss: 1.5580 - accuracy: 0.4545\n",
      "Epoch 57/200\n",
      "11/11 - 0s - loss: 1.5415 - accuracy: 0.4545\n",
      "Epoch 58/200\n",
      "11/11 - 0s - loss: 1.5249 - accuracy: 0.4545\n",
      "Epoch 59/200\n",
      "11/11 - 0s - loss: 1.5084 - accuracy: 0.4545\n",
      "Epoch 60/200\n",
      "11/11 - 0s - loss: 1.4920 - accuracy: 0.4545\n",
      "Epoch 61/200\n",
      "11/11 - 0s - loss: 1.4757 - accuracy: 0.4545\n",
      "Epoch 62/200\n",
      "11/11 - 0s - loss: 1.4595 - accuracy: 0.4545\n",
      "Epoch 63/200\n",
      "11/11 - 0s - loss: 1.4434 - accuracy: 0.4545\n",
      "Epoch 64/200\n",
      "11/11 - 0s - loss: 1.4274 - accuracy: 0.4545\n",
      "Epoch 65/200\n",
      "11/11 - 0s - loss: 1.4115 - accuracy: 0.5455\n",
      "Epoch 66/200\n",
      "11/11 - 0s - loss: 1.3957 - accuracy: 0.5455\n",
      "Epoch 67/200\n",
      "11/11 - 0s - loss: 1.3800 - accuracy: 0.5455\n",
      "Epoch 68/200\n",
      "11/11 - 0s - loss: 1.3644 - accuracy: 0.5455\n",
      "Epoch 69/200\n",
      "11/11 - 0s - loss: 1.3489 - accuracy: 0.5455\n",
      "Epoch 70/200\n",
      "11/11 - 0s - loss: 1.3335 - accuracy: 0.5455\n",
      "Epoch 71/200\n",
      "11/11 - 0s - loss: 1.3183 - accuracy: 0.5455\n",
      "Epoch 72/200\n",
      "11/11 - 0s - loss: 1.3032 - accuracy: 0.5455\n",
      "Epoch 73/200\n",
      "11/11 - 0s - loss: 1.2881 - accuracy: 0.5455\n",
      "Epoch 74/200\n",
      "11/11 - 0s - loss: 1.2732 - accuracy: 0.5455\n",
      "Epoch 75/200\n",
      "11/11 - 0s - loss: 1.2584 - accuracy: 0.5455\n",
      "Epoch 76/200\n",
      "11/11 - 0s - loss: 1.2438 - accuracy: 0.5455\n",
      "Epoch 77/200\n",
      "11/11 - 0s - loss: 1.2291 - accuracy: 0.5455\n",
      "Epoch 78/200\n",
      "11/11 - 0s - loss: 1.2146 - accuracy: 0.5455\n",
      "Epoch 79/200\n",
      "11/11 - 0s - loss: 1.2002 - accuracy: 0.6364\n",
      "Epoch 80/200\n",
      "11/11 - 0s - loss: 1.1859 - accuracy: 0.6364\n",
      "Epoch 81/200\n",
      "11/11 - 0s - loss: 1.1716 - accuracy: 0.6364\n",
      "Epoch 82/200\n",
      "11/11 - 0s - loss: 1.1575 - accuracy: 0.6364\n",
      "Epoch 83/200\n",
      "11/11 - 0s - loss: 1.1435 - accuracy: 0.6364\n",
      "Epoch 84/200\n",
      "11/11 - 0s - loss: 1.1295 - accuracy: 0.6364\n",
      "Epoch 85/200\n",
      "11/11 - 0s - loss: 1.1157 - accuracy: 0.6364\n",
      "Epoch 86/200\n",
      "11/11 - 0s - loss: 1.1019 - accuracy: 0.6364\n",
      "Epoch 87/200\n",
      "11/11 - 0s - loss: 1.0882 - accuracy: 0.6364\n",
      "Epoch 88/200\n",
      "11/11 - 0s - loss: 1.0746 - accuracy: 0.6364\n",
      "Epoch 89/200\n",
      "11/11 - 0s - loss: 1.0611 - accuracy: 0.6364\n",
      "Epoch 90/200\n",
      "11/11 - 0s - loss: 1.0477 - accuracy: 0.6364\n",
      "Epoch 91/200\n",
      "11/11 - 0s - loss: 1.0343 - accuracy: 0.6364\n",
      "Epoch 92/200\n",
      "11/11 - 0s - loss: 1.0211 - accuracy: 0.6364\n",
      "Epoch 93/200\n",
      "11/11 - 0s - loss: 1.0079 - accuracy: 0.6364\n",
      "Epoch 94/200\n",
      "11/11 - 0s - loss: 0.9949 - accuracy: 0.6364\n",
      "Epoch 95/200\n",
      "11/11 - 0s - loss: 0.9819 - accuracy: 0.6364\n",
      "Epoch 96/200\n",
      "11/11 - 0s - loss: 0.9690 - accuracy: 0.6364\n",
      "Epoch 97/200\n",
      "11/11 - 0s - loss: 0.9563 - accuracy: 0.6364\n",
      "Epoch 98/200\n",
      "11/11 - 0s - loss: 0.9436 - accuracy: 0.6364\n",
      "Epoch 99/200\n",
      "11/11 - 0s - loss: 0.9310 - accuracy: 0.6364\n",
      "Epoch 100/200\n",
      "11/11 - 0s - loss: 0.9185 - accuracy: 0.6364\n",
      "Epoch 101/200\n",
      "11/11 - 0s - loss: 0.9061 - accuracy: 0.6364\n",
      "Epoch 102/200\n",
      "11/11 - 0s - loss: 0.8937 - accuracy: 0.6364\n",
      "Epoch 103/200\n",
      "11/11 - 0s - loss: 0.8815 - accuracy: 0.6364\n",
      "Epoch 104/200\n",
      "11/11 - 0s - loss: 0.8693 - accuracy: 0.6364\n",
      "Epoch 105/200\n",
      "11/11 - 0s - loss: 0.8572 - accuracy: 0.6364\n",
      "Epoch 106/200\n",
      "11/11 - 0s - loss: 0.8451 - accuracy: 0.6364\n",
      "Epoch 107/200\n",
      "11/11 - 0s - loss: 0.8332 - accuracy: 0.6364\n",
      "Epoch 108/200\n",
      "11/11 - 0s - loss: 0.8213 - accuracy: 0.6364\n",
      "Epoch 109/200\n",
      "11/11 - 0s - loss: 0.8094 - accuracy: 0.6364\n",
      "Epoch 110/200\n",
      "11/11 - 0s - loss: 0.7977 - accuracy: 0.6364\n",
      "Epoch 111/200\n",
      "11/11 - 0s - loss: 0.7860 - accuracy: 0.6364\n",
      "Epoch 112/200\n",
      "11/11 - 0s - loss: 0.7743 - accuracy: 0.7273\n",
      "Epoch 113/200\n",
      "11/11 - 0s - loss: 0.7627 - accuracy: 0.7273\n",
      "Epoch 114/200\n",
      "11/11 - 0s - loss: 0.7512 - accuracy: 0.7273\n",
      "Epoch 115/200\n",
      "11/11 - 0s - loss: 0.7397 - accuracy: 0.7273\n",
      "Epoch 116/200\n",
      "11/11 - 0s - loss: 0.7283 - accuracy: 0.7273\n",
      "Epoch 117/200\n",
      "11/11 - 0s - loss: 0.7170 - accuracy: 0.7273\n",
      "Epoch 118/200\n",
      "11/11 - 0s - loss: 0.7058 - accuracy: 0.8182\n",
      "Epoch 119/200\n",
      "11/11 - 0s - loss: 0.6946 - accuracy: 0.8182\n",
      "Epoch 120/200\n",
      "11/11 - 0s - loss: 0.6835 - accuracy: 0.8182\n",
      "Epoch 121/200\n",
      "11/11 - 0s - loss: 0.6725 - accuracy: 0.8182\n",
      "Epoch 122/200\n",
      "11/11 - 0s - loss: 0.6615 - accuracy: 0.8182\n",
      "Epoch 123/200\n",
      "11/11 - 0s - loss: 0.6507 - accuracy: 0.8182\n",
      "Epoch 124/200\n",
      "11/11 - 0s - loss: 0.6400 - accuracy: 0.8182\n",
      "Epoch 125/200\n",
      "11/11 - 0s - loss: 0.6293 - accuracy: 0.8182\n",
      "Epoch 126/200\n",
      "11/11 - 0s - loss: 0.6188 - accuracy: 0.8182\n",
      "Epoch 127/200\n",
      "11/11 - 0s - loss: 0.6084 - accuracy: 0.8182\n",
      "Epoch 128/200\n",
      "11/11 - 0s - loss: 0.5981 - accuracy: 0.8182\n",
      "Epoch 129/200\n",
      "11/11 - 0s - loss: 0.5880 - accuracy: 0.8182\n",
      "Epoch 130/200\n",
      "11/11 - 0s - loss: 0.5779 - accuracy: 0.8182\n",
      "Epoch 131/200\n",
      "11/11 - 0s - loss: 0.5680 - accuracy: 0.8182\n",
      "Epoch 132/200\n",
      "11/11 - 0s - loss: 0.5583 - accuracy: 0.8182\n",
      "Epoch 133/200\n",
      "11/11 - 0s - loss: 0.5487 - accuracy: 0.8182\n",
      "Epoch 134/200\n",
      "11/11 - 0s - loss: 0.5392 - accuracy: 0.9091\n",
      "Epoch 135/200\n",
      "11/11 - 0s - loss: 0.5299 - accuracy: 0.9091\n",
      "Epoch 136/200\n",
      "11/11 - 0s - loss: 0.5207 - accuracy: 0.9091\n",
      "Epoch 137/200\n",
      "11/11 - 0s - loss: 0.5117 - accuracy: 0.9091\n",
      "Epoch 138/200\n",
      "11/11 - 0s - loss: 0.5029 - accuracy: 0.9091\n",
      "Epoch 139/200\n",
      "11/11 - 0s - loss: 0.4942 - accuracy: 0.9091\n",
      "Epoch 140/200\n",
      "11/11 - 0s - loss: 0.4857 - accuracy: 0.9091\n",
      "Epoch 141/200\n",
      "11/11 - 0s - loss: 0.4773 - accuracy: 0.9091\n"
     ]
    },
    {
     "name": "stdout",
     "output_type": "stream",
     "text": [
      "Epoch 142/200\n",
      "11/11 - 0s - loss: 0.4691 - accuracy: 0.9091\n",
      "Epoch 143/200\n",
      "11/11 - 0s - loss: 0.4611 - accuracy: 0.9091\n",
      "Epoch 144/200\n",
      "11/11 - 0s - loss: 0.4533 - accuracy: 0.9091\n",
      "Epoch 145/200\n",
      "11/11 - 0s - loss: 0.4456 - accuracy: 0.9091\n",
      "Epoch 146/200\n",
      "11/11 - 0s - loss: 0.4380 - accuracy: 0.9091\n",
      "Epoch 147/200\n",
      "11/11 - 0s - loss: 0.4307 - accuracy: 0.9091\n",
      "Epoch 148/200\n",
      "11/11 - 0s - loss: 0.4235 - accuracy: 0.9091\n",
      "Epoch 149/200\n",
      "11/11 - 0s - loss: 0.4164 - accuracy: 0.9091\n",
      "Epoch 150/200\n",
      "11/11 - 0s - loss: 0.4095 - accuracy: 0.9091\n",
      "Epoch 151/200\n",
      "11/11 - 0s - loss: 0.4027 - accuracy: 0.9091\n",
      "Epoch 152/200\n",
      "11/11 - 0s - loss: 0.3961 - accuracy: 0.9091\n",
      "Epoch 153/200\n",
      "11/11 - 0s - loss: 0.3897 - accuracy: 0.9091\n",
      "Epoch 154/200\n",
      "11/11 - 0s - loss: 0.3833 - accuracy: 0.9091\n",
      "Epoch 155/200\n",
      "11/11 - 0s - loss: 0.3772 - accuracy: 0.9091\n",
      "Epoch 156/200\n",
      "11/11 - 0s - loss: 0.3711 - accuracy: 0.9091\n",
      "Epoch 157/200\n",
      "11/11 - 0s - loss: 0.3652 - accuracy: 0.9091\n",
      "Epoch 158/200\n",
      "11/11 - 0s - loss: 0.3593 - accuracy: 0.9091\n",
      "Epoch 159/200\n",
      "11/11 - 0s - loss: 0.3536 - accuracy: 0.9091\n",
      "Epoch 160/200\n",
      "11/11 - 0s - loss: 0.3481 - accuracy: 0.9091\n",
      "Epoch 161/200\n",
      "11/11 - 0s - loss: 0.3426 - accuracy: 0.9091\n",
      "Epoch 162/200\n",
      "11/11 - 0s - loss: 0.3372 - accuracy: 1.0000\n",
      "Epoch 163/200\n",
      "11/11 - 0s - loss: 0.3320 - accuracy: 1.0000\n",
      "Epoch 164/200\n",
      "11/11 - 0s - loss: 0.3268 - accuracy: 1.0000\n",
      "Epoch 165/200\n",
      "11/11 - 0s - loss: 0.3217 - accuracy: 1.0000\n",
      "Epoch 166/200\n",
      "11/11 - 0s - loss: 0.3168 - accuracy: 1.0000\n",
      "Epoch 167/200\n",
      "11/11 - 0s - loss: 0.3119 - accuracy: 1.0000\n",
      "Epoch 168/200\n",
      "11/11 - 0s - loss: 0.3071 - accuracy: 1.0000\n",
      "Epoch 169/200\n",
      "11/11 - 0s - loss: 0.3024 - accuracy: 1.0000\n",
      "Epoch 170/200\n",
      "11/11 - 0s - loss: 0.2977 - accuracy: 1.0000\n",
      "Epoch 171/200\n",
      "11/11 - 0s - loss: 0.2932 - accuracy: 1.0000\n",
      "Epoch 172/200\n",
      "11/11 - 0s - loss: 0.2887 - accuracy: 1.0000\n",
      "Epoch 173/200\n",
      "11/11 - 0s - loss: 0.2843 - accuracy: 1.0000\n",
      "Epoch 174/200\n",
      "11/11 - 0s - loss: 0.2799 - accuracy: 1.0000\n",
      "Epoch 175/200\n",
      "11/11 - 0s - loss: 0.2756 - accuracy: 1.0000\n",
      "Epoch 176/200\n",
      "11/11 - 0s - loss: 0.2714 - accuracy: 1.0000\n",
      "Epoch 177/200\n",
      "11/11 - 0s - loss: 0.2673 - accuracy: 1.0000\n",
      "Epoch 178/200\n",
      "11/11 - 0s - loss: 0.2632 - accuracy: 1.0000\n",
      "Epoch 179/200\n",
      "11/11 - 0s - loss: 0.2591 - accuracy: 1.0000\n",
      "Epoch 180/200\n",
      "11/11 - 0s - loss: 0.2551 - accuracy: 1.0000\n",
      "Epoch 181/200\n",
      "11/11 - 0s - loss: 0.2512 - accuracy: 1.0000\n",
      "Epoch 182/200\n",
      "11/11 - 0s - loss: 0.2473 - accuracy: 1.0000\n",
      "Epoch 183/200\n",
      "11/11 - 0s - loss: 0.2435 - accuracy: 1.0000\n",
      "Epoch 184/200\n",
      "11/11 - 0s - loss: 0.2398 - accuracy: 1.0000\n",
      "Epoch 185/200\n",
      "11/11 - 0s - loss: 0.2360 - accuracy: 1.0000\n",
      "Epoch 186/200\n",
      "11/11 - 0s - loss: 0.2324 - accuracy: 1.0000\n",
      "Epoch 187/200\n",
      "11/11 - 0s - loss: 0.2287 - accuracy: 1.0000\n",
      "Epoch 188/200\n",
      "11/11 - 0s - loss: 0.2251 - accuracy: 1.0000\n",
      "Epoch 189/200\n",
      "11/11 - 0s - loss: 0.2216 - accuracy: 1.0000\n",
      "Epoch 190/200\n",
      "11/11 - 0s - loss: 0.2181 - accuracy: 1.0000\n",
      "Epoch 191/200\n",
      "11/11 - 0s - loss: 0.2147 - accuracy: 1.0000\n",
      "Epoch 192/200\n",
      "11/11 - 0s - loss: 0.2113 - accuracy: 1.0000\n",
      "Epoch 193/200\n",
      "11/11 - 0s - loss: 0.2079 - accuracy: 1.0000\n",
      "Epoch 194/200\n",
      "11/11 - 0s - loss: 0.2046 - accuracy: 1.0000\n",
      "Epoch 195/200\n",
      "11/11 - 0s - loss: 0.2013 - accuracy: 1.0000\n",
      "Epoch 196/200\n",
      "11/11 - 0s - loss: 0.1980 - accuracy: 1.0000\n",
      "Epoch 197/200\n",
      "11/11 - 0s - loss: 0.1948 - accuracy: 1.0000\n",
      "Epoch 198/200\n",
      "11/11 - 0s - loss: 0.1917 - accuracy: 1.0000\n",
      "Epoch 199/200\n",
      "11/11 - 0s - loss: 0.1886 - accuracy: 1.0000\n",
      "Epoch 200/200\n",
      "11/11 - 0s - loss: 0.1855 - accuracy: 1.0000\n"
     ]
    },
    {
     "data": {
      "text/plain": [
       "<tensorflow.python.keras.callbacks.History at 0x7fe9c6cf74a8>"
      ]
     },
     "execution_count": 96,
     "metadata": {},
     "output_type": "execute_result"
    }
   ],
   "source": [
    "# 각 단어의 임베딩 벡터는 10차원을 가지고, \n",
    "# 32의 은닉 상태 크기를 가지는 바닐라 RNN을 사용합니다..\n",
    "model = Sequential()\n",
    "model.add(Embedding(vocab_size, 10, input_length=max_len-1))\n",
    "model.add(SimpleRNN(32))\n",
    "model.add(Dense(vocab_size, activation='softmax'))\n",
    "model.compile(loss='categorical_crossentropy', optimizer='adam', metrics=['accuracy'])\n",
    "model.fit(X,y, epochs=200, verbose=2)"
   ]
  },
  {
   "cell_type": "markdown",
   "metadata": {},
   "source": [
    "모델이 정확하게 예측하고 있는지 문장을 생성하는 함수를 만들어서 출력해봅시다.\n",
    "\n"
   ]
  },
  {
   "cell_type": "code",
   "execution_count": 113,
   "metadata": {},
   "outputs": [],
   "source": [
    "def sentence_generation(model, t, current_word, n):\n",
    "    ''' \n",
    "    model : 모델\n",
    "    t : Tokenizer\n",
    "    current_word : 현재 단어\n",
    "    n: 반복할 횟수\n",
    "    '''\n",
    "    init_word = current_word # 처음 들어온 단어도 마지막에 같이 출력하기위해 저장\n",
    "    sentence =''\n",
    "    \n",
    "    for _ in range(n): # n번 반복\n",
    "        # 현재 단어에 대한 정수 인코딩\n",
    "        encoded = t.texts_to_sequences([current_word])[0]\n",
    "        \n",
    "        # 데이터에 대한 패딩\n",
    "        encoded = pad_sequences([encoded], maxlen=5, padding='pre')\n",
    "        \n",
    "        # 입력한 X(현재 단어)에 대해서 Y를 예측하고 Y(예측한 단어)를 result에 저장.\n",
    "        result = model.predict_classes(encoded, verbose=0)\n",
    "        \n",
    "        for word, index in t.word_index.items():\n",
    "            print('\\nindex: {},word : {}, result:{}\\n'.format(index, word, result))\n",
    "            if index == result: # 만약 예측한 단어와 인덱스와 동일한 단어가 있다면\n",
    "                break # 해당 단어가 예측 단어이므로 break\n",
    "        current_word = current_word + ' ' + word # 현재 단어 + ' ' + 예측 단어를 현재 단어로 변경\n",
    "        print('\\ncurrent_word :', current_word)\n",
    "        sentence = sentence + ' ' + word # 예측 단어를 문장에 저장\n",
    "        \n",
    "    sentence = init_word + sentence\n",
    "    return sentence"
   ]
  },
  {
   "cell_type": "markdown",
   "metadata": {},
   "source": [
    "이제 입력된 단어로부터 다음 단어를 예측해서 문장을 생성하는 함수를 만들었습니다."
   ]
  },
  {
   "cell_type": "code",
   "execution_count": 114,
   "metadata": {},
   "outputs": [
    {
     "name": "stdout",
     "output_type": "stream",
     "text": [
      "\n",
      "index: 1,word : 말이, result:[3]\n",
      "\n",
      "\n",
      "index: 2,word : 경마장에, result:[3]\n",
      "\n",
      "\n",
      "index: 3,word : 있는, result:[3]\n",
      "\n",
      "\n",
      "current_word : 경마장에 있는\n",
      "\n",
      "index: 1,word : 말이, result:[1]\n",
      "\n",
      "\n",
      "current_word : 경마장에 있는 말이\n",
      "\n",
      "index: 1,word : 말이, result:[4]\n",
      "\n",
      "\n",
      "index: 2,word : 경마장에, result:[4]\n",
      "\n",
      "\n",
      "index: 3,word : 있는, result:[4]\n",
      "\n",
      "\n",
      "index: 4,word : 뛰고, result:[4]\n",
      "\n",
      "\n",
      "current_word : 경마장에 있는 말이 뛰고\n",
      "\n",
      "index: 1,word : 말이, result:[5]\n",
      "\n",
      "\n",
      "index: 2,word : 경마장에, result:[5]\n",
      "\n",
      "\n",
      "index: 3,word : 있는, result:[5]\n",
      "\n",
      "\n",
      "index: 4,word : 뛰고, result:[5]\n",
      "\n",
      "\n",
      "index: 5,word : 있다, result:[5]\n",
      "\n",
      "\n",
      "current_word : 경마장에 있는 말이 뛰고 있다\n",
      "경마장에 있는 말이 뛰고 있다\n"
     ]
    }
   ],
   "source": [
    "print(sentence_generation(model, t, '경마장에',4))"
   ]
  },
  {
   "cell_type": "code",
   "execution_count": 12,
   "metadata": {},
   "outputs": [
    {
     "name": "stdout",
     "output_type": "stream",
     "text": [
      " 말이 법이다\n"
     ]
    }
   ],
   "source": [
    "print(sentence_generation(model, t, '그의',2))"
   ]
  },
  {
   "cell_type": "code",
   "execution_count": 13,
   "metadata": {},
   "outputs": [
    {
     "name": "stdout",
     "output_type": "stream",
     "text": [
      " 말이 고와야 오는 말이 곱다\n"
     ]
    }
   ],
   "source": [
    "print(sentence_generation(model, t, '가는',5))"
   ]
  },
  {
   "cell_type": "markdown",
   "metadata": {},
   "source": [
    "이제 앞의 문맥을 기준으로 '말이' 라는 단어 다음에 나올 단어를 기존의 훈련 데이터와 일치하게 예측함을 보여줍니다. 이 모델은 충분한 훈련 데이터를 갖고 있지 못하므로 위에서 문장의 길이에 맞게 적절하게 예측해야하는 횟수 4, 2, 5를 각각 인자값으로 주었습니다. 이 이상의 숫자를 주면 기계는 '있다', '법이다', '곱다' 다음에 나오는 단어가 무엇인지 배운 적이 없으므로 임의 예측을 합니다. 이번에는 더 많은 훈련 데이터를 가지고 실습해봅시다."
   ]
  },
  {
   "cell_type": "markdown",
   "metadata": {},
   "source": [
    "### 2. LSTM을 이용하여 텍스트 생성하기\n",
    "이번에는 LSTM을 통해 보다 많은 데이터로 텍스트를 생성해보겠습니다. 본질적으로 앞에서 한 것과 동일한 실습입니다."
   ]
  },
  {
   "cell_type": "markdown",
   "metadata": {},
   "source": [
    "##### 1) 데이터에 대한 이해와 전처리\n",
    "사용할 데이터는 뉴욕 타임즈 기사의 제목입니다. 아래의 링크에서 ArticlesApril2018.csv 데이터를 다운로드 합니다.\n",
    "\n",
    "파일 다운로드 링크 : https://www.kaggle.com/aashita/nyt-comments"
   ]
  },
  {
   "cell_type": "code",
   "execution_count": 14,
   "metadata": {},
   "outputs": [],
   "source": [
    "import pandas as pd\n",
    "import numpy as np\n",
    "from string import punctuation\n",
    "from tensorflow.keras.preprocessing.text import Tokenizer\n",
    "from tensorflow.keras.preprocessing.sequence import pad_sequences\n",
    "from tensorflow.keras.utils import to_categorical"
   ]
  },
  {
   "cell_type": "code",
   "execution_count": 15,
   "metadata": {},
   "outputs": [
    {
     "data": {
      "text/html": [
       "<div>\n",
       "<style scoped>\n",
       "    .dataframe tbody tr th:only-of-type {\n",
       "        vertical-align: middle;\n",
       "    }\n",
       "\n",
       "    .dataframe tbody tr th {\n",
       "        vertical-align: top;\n",
       "    }\n",
       "\n",
       "    .dataframe thead th {\n",
       "        text-align: right;\n",
       "    }\n",
       "</style>\n",
       "<table border=\"1\" class=\"dataframe\">\n",
       "  <thead>\n",
       "    <tr style=\"text-align: right;\">\n",
       "      <th></th>\n",
       "      <th>articleID</th>\n",
       "      <th>articleWordCount</th>\n",
       "      <th>byline</th>\n",
       "      <th>documentType</th>\n",
       "      <th>headline</th>\n",
       "      <th>keywords</th>\n",
       "      <th>multimedia</th>\n",
       "      <th>newDesk</th>\n",
       "      <th>printPage</th>\n",
       "      <th>pubDate</th>\n",
       "      <th>sectionName</th>\n",
       "      <th>snippet</th>\n",
       "      <th>source</th>\n",
       "      <th>typeOfMaterial</th>\n",
       "      <th>webURL</th>\n",
       "    </tr>\n",
       "  </thead>\n",
       "  <tbody>\n",
       "    <tr>\n",
       "      <th>0</th>\n",
       "      <td>5adf6684068401528a2aa69b</td>\n",
       "      <td>781</td>\n",
       "      <td>By JOHN BRANCH</td>\n",
       "      <td>article</td>\n",
       "      <td>Former N.F.L. Cheerleaders’ Settlement Offer: ...</td>\n",
       "      <td>['Workplace Hazards and Violations', 'Football...</td>\n",
       "      <td>68</td>\n",
       "      <td>Sports</td>\n",
       "      <td>0</td>\n",
       "      <td>2018-04-24 17:16:49</td>\n",
       "      <td>Pro Football</td>\n",
       "      <td>“I understand that they could meet with us, pa...</td>\n",
       "      <td>The New York Times</td>\n",
       "      <td>News</td>\n",
       "      <td>https://www.nytimes.com/2018/04/24/sports/foot...</td>\n",
       "    </tr>\n",
       "    <tr>\n",
       "      <th>1</th>\n",
       "      <td>5adf653f068401528a2aa697</td>\n",
       "      <td>656</td>\n",
       "      <td>By LISA FRIEDMAN</td>\n",
       "      <td>article</td>\n",
       "      <td>E.P.A. to Unveil a New Rule. Its Effect: Less ...</td>\n",
       "      <td>['Environmental Protection Agency', 'Pruitt, S...</td>\n",
       "      <td>68</td>\n",
       "      <td>Climate</td>\n",
       "      <td>0</td>\n",
       "      <td>2018-04-24 17:11:21</td>\n",
       "      <td>Unknown</td>\n",
       "      <td>The agency plans to publish a new regulation T...</td>\n",
       "      <td>The New York Times</td>\n",
       "      <td>News</td>\n",
       "      <td>https://www.nytimes.com/2018/04/24/climate/epa...</td>\n",
       "    </tr>\n",
       "    <tr>\n",
       "      <th>2</th>\n",
       "      <td>5adf4626068401528a2aa628</td>\n",
       "      <td>2427</td>\n",
       "      <td>By PETE WELLS</td>\n",
       "      <td>article</td>\n",
       "      <td>The New Noma, Explained</td>\n",
       "      <td>['Restaurants', 'Noma (Copenhagen, Restaurant)...</td>\n",
       "      <td>66</td>\n",
       "      <td>Dining</td>\n",
       "      <td>0</td>\n",
       "      <td>2018-04-24 14:58:44</td>\n",
       "      <td>Unknown</td>\n",
       "      <td>What’s it like to eat at the second incarnatio...</td>\n",
       "      <td>The New York Times</td>\n",
       "      <td>News</td>\n",
       "      <td>https://www.nytimes.com/2018/04/24/dining/noma...</td>\n",
       "    </tr>\n",
       "    <tr>\n",
       "      <th>3</th>\n",
       "      <td>5adf40d2068401528a2aa619</td>\n",
       "      <td>626</td>\n",
       "      <td>By JULIE HIRSCHFELD DAVIS and PETER BAKER</td>\n",
       "      <td>article</td>\n",
       "      <td>Unknown</td>\n",
       "      <td>['Macron, Emmanuel (1977- )', 'Trump, Donald J...</td>\n",
       "      <td>68</td>\n",
       "      <td>Washington</td>\n",
       "      <td>0</td>\n",
       "      <td>2018-04-24 14:35:57</td>\n",
       "      <td>Europe</td>\n",
       "      <td>President Trump welcomed President Emmanuel Ma...</td>\n",
       "      <td>The New York Times</td>\n",
       "      <td>News</td>\n",
       "      <td>https://www.nytimes.com/2018/04/24/world/europ...</td>\n",
       "    </tr>\n",
       "    <tr>\n",
       "      <th>4</th>\n",
       "      <td>5adf3d64068401528a2aa60f</td>\n",
       "      <td>815</td>\n",
       "      <td>By IAN AUSTEN and DAN BILEFSKY</td>\n",
       "      <td>article</td>\n",
       "      <td>Unknown</td>\n",
       "      <td>['Toronto, Ontario, Attack (April, 2018)', 'Mu...</td>\n",
       "      <td>68</td>\n",
       "      <td>Foreign</td>\n",
       "      <td>0</td>\n",
       "      <td>2018-04-24 14:21:21</td>\n",
       "      <td>Canada</td>\n",
       "      <td>Alek Minassian, 25, a resident of Toronto’s Ri...</td>\n",
       "      <td>The New York Times</td>\n",
       "      <td>News</td>\n",
       "      <td>https://www.nytimes.com/2018/04/24/world/canad...</td>\n",
       "    </tr>\n",
       "  </tbody>\n",
       "</table>\n",
       "</div>"
      ],
      "text/plain": [
       "                  articleID  articleWordCount  \\\n",
       "0  5adf6684068401528a2aa69b               781   \n",
       "1  5adf653f068401528a2aa697               656   \n",
       "2  5adf4626068401528a2aa628              2427   \n",
       "3  5adf40d2068401528a2aa619               626   \n",
       "4  5adf3d64068401528a2aa60f               815   \n",
       "\n",
       "                                      byline documentType  \\\n",
       "0                             By JOHN BRANCH      article   \n",
       "1                           By LISA FRIEDMAN      article   \n",
       "2                              By PETE WELLS      article   \n",
       "3  By JULIE HIRSCHFELD DAVIS and PETER BAKER      article   \n",
       "4             By IAN AUSTEN and DAN BILEFSKY      article   \n",
       "\n",
       "                                            headline  \\\n",
       "0  Former N.F.L. Cheerleaders’ Settlement Offer: ...   \n",
       "1  E.P.A. to Unveil a New Rule. Its Effect: Less ...   \n",
       "2                            The New Noma, Explained   \n",
       "3                                            Unknown   \n",
       "4                                            Unknown   \n",
       "\n",
       "                                            keywords  multimedia     newDesk  \\\n",
       "0  ['Workplace Hazards and Violations', 'Football...          68      Sports   \n",
       "1  ['Environmental Protection Agency', 'Pruitt, S...          68     Climate   \n",
       "2  ['Restaurants', 'Noma (Copenhagen, Restaurant)...          66      Dining   \n",
       "3  ['Macron, Emmanuel (1977- )', 'Trump, Donald J...          68  Washington   \n",
       "4  ['Toronto, Ontario, Attack (April, 2018)', 'Mu...          68     Foreign   \n",
       "\n",
       "   printPage              pubDate   sectionName  \\\n",
       "0          0  2018-04-24 17:16:49  Pro Football   \n",
       "1          0  2018-04-24 17:11:21       Unknown   \n",
       "2          0  2018-04-24 14:58:44       Unknown   \n",
       "3          0  2018-04-24 14:35:57        Europe   \n",
       "4          0  2018-04-24 14:21:21        Canada   \n",
       "\n",
       "                                             snippet              source  \\\n",
       "0  “I understand that they could meet with us, pa...  The New York Times   \n",
       "1  The agency plans to publish a new regulation T...  The New York Times   \n",
       "2  What’s it like to eat at the second incarnatio...  The New York Times   \n",
       "3  President Trump welcomed President Emmanuel Ma...  The New York Times   \n",
       "4  Alek Minassian, 25, a resident of Toronto’s Ri...  The New York Times   \n",
       "\n",
       "  typeOfMaterial                                             webURL  \n",
       "0           News  https://www.nytimes.com/2018/04/24/sports/foot...  \n",
       "1           News  https://www.nytimes.com/2018/04/24/climate/epa...  \n",
       "2           News  https://www.nytimes.com/2018/04/24/dining/noma...  \n",
       "3           News  https://www.nytimes.com/2018/04/24/world/europ...  \n",
       "4           News  https://www.nytimes.com/2018/04/24/world/canad...  "
      ]
     },
     "execution_count": 15,
     "metadata": {},
     "output_type": "execute_result"
    }
   ],
   "source": [
    "df = pd.read_csv('../../data/kaggle/ArticlesApril2018.csv')\n",
    "df.head()"
   ]
  },
  {
   "cell_type": "code",
   "execution_count": 16,
   "metadata": {},
   "outputs": [
    {
     "name": "stdout",
     "output_type": "stream",
     "text": [
      "Count of Column : 15\n",
      "Index(['articleID', 'articleWordCount', 'byline', 'documentType', 'headline',\n",
      "       'keywords', 'multimedia', 'newDesk', 'printPage', 'pubDate',\n",
      "       'sectionName', 'snippet', 'source', 'typeOfMaterial', 'webURL'],\n",
      "      dtype='object')\n"
     ]
    }
   ],
   "source": [
    "print('Count of Column :', len(df.columns))\n",
    "print(df.columns)"
   ]
  },
  {
   "cell_type": "code",
   "execution_count": 17,
   "metadata": {},
   "outputs": [
    {
     "data": {
      "text/plain": [
       "False"
      ]
     },
     "execution_count": 17,
     "metadata": {},
     "output_type": "execute_result"
    }
   ],
   "source": [
    "df['headline'].isnull().values.any()"
   ]
  },
  {
   "cell_type": "code",
   "execution_count": 18,
   "metadata": {},
   "outputs": [
    {
     "data": {
      "text/plain": [
       "['Former N.F.L. Cheerleaders’ Settlement Offer: $1 and a Meeting With Goodell',\n",
       " 'E.P.A. to Unveil a New Rule. Its Effect: Less Science in Policymaking.',\n",
       " 'The New Noma, Explained',\n",
       " 'Unknown',\n",
       " 'Unknown']"
      ]
     },
     "execution_count": 18,
     "metadata": {},
     "output_type": "execute_result"
    }
   ],
   "source": [
    "headline = []\n",
    "headline.extend(list(df.headline.values))\n",
    "headline[:5]"
   ]
  },
  {
   "cell_type": "markdown",
   "metadata": {},
   "source": [
    "그런데 4번째, 5번째 샘플에 Unknown 값이 들어가있습니다. headline 전체에 걸쳐서 Unknown 값을 가진 샘플이 있을 것으로 추정됩니다. 비록 Null 값은 아니지만 지금 하고자 하는 실습에 도움이 되지 않는 노이즈 데이터이므로 제거해줄 필요가 있습니다. 제거하기 전에 현재 샘플의 개수를 확인해보고 제거 전, 후의 샘플의 개수를 비교해보겠습니다."
   ]
  },
  {
   "cell_type": "code",
   "execution_count": 19,
   "metadata": {},
   "outputs": [
    {
     "name": "stdout",
     "output_type": "stream",
     "text": [
      "Total count of sample : 1324\n"
     ]
    }
   ],
   "source": [
    "print('Total count of sample : {}'.format(len(headline)))"
   ]
  },
  {
   "cell_type": "code",
   "execution_count": 20,
   "metadata": {},
   "outputs": [],
   "source": [
    "headline = [ hn for hn in headline if hn !='Unknown']"
   ]
  },
  {
   "cell_type": "code",
   "execution_count": 21,
   "metadata": {},
   "outputs": [
    {
     "name": "stdout",
     "output_type": "stream",
     "text": [
      "Total count of sample after removing noise data : 1214\n"
     ]
    }
   ],
   "source": [
    "print('Total count of sample after removing noise data : {}'.format(len(headline)))"
   ]
  },
  {
   "cell_type": "code",
   "execution_count": 22,
   "metadata": {},
   "outputs": [
    {
     "data": {
      "text/plain": [
       "['Former N.F.L. Cheerleaders’ Settlement Offer: $1 and a Meeting With Goodell',\n",
       " 'E.P.A. to Unveil a New Rule. Its Effect: Less Science in Policymaking.',\n",
       " 'The New Noma, Explained',\n",
       " 'How a Bag of Texas Dirt  Became a Times Tradition',\n",
       " 'Is School a Place for Self-Expression?']"
      ]
     },
     "execution_count": 22,
     "metadata": {},
     "output_type": "execute_result"
    }
   ],
   "source": [
    "headline[:5]"
   ]
  },
  {
   "cell_type": "markdown",
   "metadata": {},
   "source": [
    "기존에 4번째, 5번째 샘플에서는 Unknown 값이 있었는데 현재는 제거가 된 것을 확인하였습니다. 이제 데이터 전처리를 수행합니다. 여기서 선택한 전처리는 구두점 제거와 단어의 소문자화입니다. 전처리를 수행하고, 다시 샘플 5개를 출력합니다."
   ]
  },
  {
   "cell_type": "code",
   "execution_count": 23,
   "metadata": {},
   "outputs": [
    {
     "data": {
      "text/plain": [
       "['former nfl cheerleaders settlement offer 1 and a meeting with goodell',\n",
       " 'epa to unveil a new rule its effect less science in policymaking',\n",
       " 'the new noma explained',\n",
       " 'how a bag of texas dirt  became a times tradition',\n",
       " 'is school a place for selfexpression']"
      ]
     },
     "execution_count": 23,
     "metadata": {},
     "output_type": "execute_result"
    }
   ],
   "source": [
    "def repreprocessing(s):\n",
    "    s = s.encode('utf8').decode('ascii', 'ignore')\n",
    "    return ''.join(c for c in s if c not in punctuation).lower()\n",
    "\n",
    "text = [ repreprocessing(x) for x in headline]\n",
    "text[:5]"
   ]
  },
  {
   "cell_type": "markdown",
   "metadata": {},
   "source": [
    "기존의 출력과 비교하면 모든 단어들이 소문자화되었으며 N.F.L.이나 Cheerleaders’ 등과 같이 기존에 구두점이 붙어있던 단어들에서 구두점이 제거되었습니다. 이제 단어 집합(vocabulary)을 만들고 크기를 확인합니다."
   ]
  },
  {
   "cell_type": "code",
   "execution_count": 24,
   "metadata": {},
   "outputs": [
    {
     "name": "stdout",
     "output_type": "stream",
     "text": [
      "Size of Vocab set : 3494\n"
     ]
    }
   ],
   "source": [
    "t = Tokenizer()\n",
    "t.fit_on_texts(text)\n",
    "vocab_size = len(t.word_index) + 1\n",
    "print('Size of Vocab set : %d'%vocab_size)"
   ]
  },
  {
   "cell_type": "markdown",
   "metadata": {},
   "source": [
    "총 3,494개의 단어가 존재합니다. 이제 정수 인코딩과 동시에 하나의 문장을 여러 줄로 분해하여 훈련 데이터를 구성합니다."
   ]
  },
  {
   "cell_type": "code",
   "execution_count": 25,
   "metadata": {},
   "outputs": [
    {
     "data": {
      "text/plain": [
       "[[99, 269],\n",
       " [99, 269, 371],\n",
       " [99, 269, 371, 1115],\n",
       " [99, 269, 371, 1115, 582],\n",
       " [99, 269, 371, 1115, 582, 52],\n",
       " [99, 269, 371, 1115, 582, 52, 7],\n",
       " [99, 269, 371, 1115, 582, 52, 7, 2],\n",
       " [99, 269, 371, 1115, 582, 52, 7, 2, 372],\n",
       " [99, 269, 371, 1115, 582, 52, 7, 2, 372, 10],\n",
       " [99, 269, 371, 1115, 582, 52, 7, 2, 372, 10, 1116],\n",
       " [100, 3]]"
      ]
     },
     "execution_count": 25,
     "metadata": {},
     "output_type": "execute_result"
    }
   ],
   "source": [
    "sequences = list()\n",
    "\n",
    "for line in text:\n",
    "    encoded = t.texts_to_sequences([line])[0]\n",
    "    \n",
    "    for i in range(1, len(encoded)):\n",
    "        sequence = encoded[:i+1]\n",
    "        sequences.append(sequence)\n",
    "        \n",
    "sequences[:11]        "
   ]
  },
  {
   "cell_type": "markdown",
   "metadata": {},
   "source": [
    "이해를 돕기 위해 출력 결과에 주석을 추가하였습니다. 왜 하나의 문장을 저렇게 나눌까요? 예를 들어 '경마장에 있는 말이 뛰고 있다' 라는 문장 하나가 있을 때, 최종적으로 원하는 훈련 데이터의 형태는 다음과 같습니다. 하나의 단어를 예측하기 위해 이전에 등장한 단어들을 모두 참고하는 것입니다."
   ]
  },
  {
   "cell_type": "markdown",
   "metadata": {},
   "source": [
    "위의 sequences는 모든 문장을 각 단어가 각 시점(time step)마다 하나씩 추가적으로 등장하는 형태로 만들기는 했지만, 아직 예측할 단어에 해당되는 레이블을 분리하는 작업까지는 수행하지 않은 상태입니다. 어떤 정수가 어떤 단어를 의미하는지 알아보기 위해 인덱스로부터 단어를 찾는 index_to_word를 만듭니다."
   ]
  },
  {
   "cell_type": "code",
   "execution_count": 26,
   "metadata": {},
   "outputs": [
    {
     "name": "stdout",
     "output_type": "stream",
     "text": [
      "Top 582 frequency words : offer\n"
     ]
    }
   ],
   "source": [
    "index_to_word ={}\n",
    "for key, value in t.word_index.items():\n",
    "    index_to_word[value] = key\n",
    "\n",
    "print('Top 582 frequency words : {}'.format(index_to_word[582]))    "
   ]
  },
  {
   "cell_type": "markdown",
   "metadata": {},
   "source": [
    "582이라는 인덱스를 가진 단어는 본래 offer라는 단어였습니다. 원한다면 다른 숫자로도 시도해보세요. 이제 y데이터를 분리하기 전에 전체 샘플의 길이를 동일하게 만드는 패딩 작업을 수행합니다. 패딩 작업을 수행하기 전에 가장 긴 샘플의 길이를 확인합니다."
   ]
  },
  {
   "cell_type": "code",
   "execution_count": 27,
   "metadata": {},
   "outputs": [
    {
     "name": "stdout",
     "output_type": "stream",
     "text": [
      "Max length of samples : 24\n"
     ]
    }
   ],
   "source": [
    "max_len = max(len(s) for s in sequences)\n",
    "print('Max length of samples : {}'.format(max_len))\n"
   ]
  },
  {
   "cell_type": "code",
   "execution_count": 28,
   "metadata": {},
   "outputs": [
    {
     "name": "stdout",
     "output_type": "stream",
     "text": [
      "[[   0    0    0    0    0    0    0    0    0    0    0    0    0    0\n",
      "     0    0    0    0    0    0    0    0   99  269]\n",
      " [   0    0    0    0    0    0    0    0    0    0    0    0    0    0\n",
      "     0    0    0    0    0    0    0   99  269  371]\n",
      " [   0    0    0    0    0    0    0    0    0    0    0    0    0    0\n",
      "     0    0    0    0    0    0   99  269  371 1115]]\n"
     ]
    }
   ],
   "source": [
    "sequences = pad_sequences(sequences, maxlen=max_len, padding='pre')\n",
    "print(sequences[:3])"
   ]
  },
  {
   "cell_type": "markdown",
   "metadata": {},
   "source": [
    "padding='pre'를 설정하여 샘플의 길이가 24보다 짧은 경우에 앞에 0으로 패딩되었습니다. 이제 맨 우측 단어만 레이블로 분리합니다."
   ]
  },
  {
   "cell_type": "code",
   "execution_count": 29,
   "metadata": {},
   "outputs": [
    {
     "name": "stdout",
     "output_type": "stream",
     "text": [
      "[[  0   0   0   0   0   0   0   0   0   0   0   0   0   0   0   0   0   0\n",
      "    0   0   0   0  99]\n",
      " [  0   0   0   0   0   0   0   0   0   0   0   0   0   0   0   0   0   0\n",
      "    0   0   0  99 269]\n",
      " [  0   0   0   0   0   0   0   0   0   0   0   0   0   0   0   0   0   0\n",
      "    0   0  99 269 371]]\n"
     ]
    }
   ],
   "source": [
    "sequences = np.array(sequences)\n",
    "X = sequences[:,:-1]\n",
    "y = sequences[:,-1]\n",
    "\n",
    "print(X[:3])"
   ]
  },
  {
   "cell_type": "markdown",
   "metadata": {},
   "source": [
    "훈련 데이터 X에서 3개의 샘플만 출력해보았는데, 맨 우측에 있던 정수값 269, 371, 1115가 사라진 것을 볼 수 있습니다. 뿐만 아니라, 각 샘플의 길이가 24에서 23으로 줄었습니다."
   ]
  },
  {
   "cell_type": "code",
   "execution_count": 30,
   "metadata": {},
   "outputs": [],
   "source": [
    "y = to_categorical(y, num_classes = vocab_size)"
   ]
  },
  {
   "cell_type": "markdown",
   "metadata": {},
   "source": [
    "레이블 데이터 y에 대해서 원-핫 인코딩을 수행하였습니다. 이제 모델을 설계합니다.\n",
    "\n"
   ]
  },
  {
   "cell_type": "markdown",
   "metadata": {},
   "source": [
    "##### 2) 모델 설계하기"
   ]
  },
  {
   "cell_type": "code",
   "execution_count": 31,
   "metadata": {},
   "outputs": [],
   "source": [
    "from tensorflow.keras.models import Sequential\n",
    "from tensorflow.keras.layers import Embedding, Dense, LSTM"
   ]
  },
  {
   "cell_type": "code",
   "execution_count": 32,
   "metadata": {},
   "outputs": [
    {
     "name": "stdout",
     "output_type": "stream",
     "text": [
      "Epoch 1/200\n",
      "7803/7803 - 14s - loss: 7.6600 - accuracy: 0.0259\n",
      "Epoch 2/200\n",
      "7803/7803 - 12s - loss: 7.1185 - accuracy: 0.0318\n",
      "Epoch 3/200\n",
      "7803/7803 - 14s - loss: 6.9756 - accuracy: 0.0336\n",
      "Epoch 4/200\n",
      "7803/7803 - 12s - loss: 6.8465 - accuracy: 0.0417\n",
      "Epoch 5/200\n",
      "7803/7803 - 11s - loss: 6.6979 - accuracy: 0.0425\n",
      "Epoch 6/200\n",
      "7803/7803 - 10s - loss: 6.5234 - accuracy: 0.0474\n",
      "Epoch 7/200\n",
      "7803/7803 - 11s - loss: 6.3307 - accuracy: 0.0510\n",
      "Epoch 8/200\n",
      "7803/7803 - 10s - loss: 6.1251 - accuracy: 0.0598\n",
      "Epoch 9/200\n",
      "7803/7803 - 10s - loss: 5.9211 - accuracy: 0.0631\n",
      "Epoch 10/200\n",
      "7803/7803 - 11s - loss: 5.7302 - accuracy: 0.0682\n",
      "Epoch 11/200\n",
      "7803/7803 - 15s - loss: 5.5512 - accuracy: 0.0732\n",
      "Epoch 12/200\n",
      "7803/7803 - 13s - loss: 5.3789 - accuracy: 0.0761\n",
      "Epoch 13/200\n",
      "7803/7803 - 14s - loss: 5.2182 - accuracy: 0.0818\n",
      "Epoch 14/200\n",
      "7803/7803 - 11s - loss: 5.0663 - accuracy: 0.0903\n",
      "Epoch 15/200\n",
      "7803/7803 - 11s - loss: 4.9210 - accuracy: 0.0993\n",
      "Epoch 16/200\n",
      "7803/7803 - 12s - loss: 4.7849 - accuracy: 0.1098\n",
      "Epoch 17/200\n",
      "7803/7803 - 11s - loss: 4.6498 - accuracy: 0.1209\n",
      "Epoch 18/200\n",
      "7803/7803 - 11s - loss: 4.5215 - accuracy: 0.1349\n",
      "Epoch 19/200\n",
      "7803/7803 - 11s - loss: 4.3997 - accuracy: 0.1492\n",
      "Epoch 20/200\n",
      "7803/7803 - 10s - loss: 4.2796 - accuracy: 0.1665\n",
      "Epoch 21/200\n",
      "7803/7803 - 11s - loss: 4.1714 - accuracy: 0.1844\n",
      "Epoch 22/200\n",
      "7803/7803 - 11s - loss: 4.0563 - accuracy: 0.1979\n",
      "Epoch 23/200\n",
      "7803/7803 - 13s - loss: 3.9474 - accuracy: 0.2152\n",
      "Epoch 24/200\n",
      "7803/7803 - 12s - loss: 3.8441 - accuracy: 0.2349\n",
      "Epoch 25/200\n",
      "7803/7803 - 12s - loss: 3.7437 - accuracy: 0.2526\n",
      "Epoch 26/200\n",
      "7803/7803 - 13s - loss: 3.6442 - accuracy: 0.2685\n",
      "Epoch 27/200\n",
      "7803/7803 - 17s - loss: 3.5522 - accuracy: 0.2853\n",
      "Epoch 28/200\n",
      "7803/7803 - 12s - loss: 3.4588 - accuracy: 0.3028\n",
      "Epoch 29/200\n",
      "7803/7803 - 14s - loss: 3.3720 - accuracy: 0.3167\n",
      "Epoch 30/200\n",
      "7803/7803 - 16s - loss: 3.2870 - accuracy: 0.3342\n",
      "Epoch 31/200\n",
      "7803/7803 - 11s - loss: 3.2048 - accuracy: 0.3456\n",
      "Epoch 32/200\n",
      "7803/7803 - 11s - loss: 3.1248 - accuracy: 0.3638\n",
      "Epoch 33/200\n",
      "7803/7803 - 11s - loss: 3.0495 - accuracy: 0.3752\n",
      "Epoch 34/200\n",
      "7803/7803 - 15s - loss: 2.9744 - accuracy: 0.3918\n",
      "Epoch 35/200\n",
      "7803/7803 - 16s - loss: 2.9047 - accuracy: 0.4066\n",
      "Epoch 36/200\n",
      "7803/7803 - 13s - loss: 2.8335 - accuracy: 0.4175\n",
      "Epoch 37/200\n",
      "7803/7803 - 10s - loss: 2.7686 - accuracy: 0.4348\n",
      "Epoch 38/200\n",
      "7803/7803 - 10s - loss: 2.7010 - accuracy: 0.4421\n",
      "Epoch 39/200\n",
      "7803/7803 - 11s - loss: 2.6419 - accuracy: 0.4560\n",
      "Epoch 40/200\n",
      "7803/7803 - 15s - loss: 2.5794 - accuracy: 0.4703\n",
      "Epoch 41/200\n",
      "7803/7803 - 12s - loss: 2.5199 - accuracy: 0.4811\n",
      "Epoch 42/200\n",
      "7803/7803 - 13s - loss: 2.4651 - accuracy: 0.4937\n",
      "Epoch 43/200\n",
      "7803/7803 - 12s - loss: 2.4078 - accuracy: 0.4998\n",
      "Epoch 44/200\n",
      "7803/7803 - 13s - loss: 2.3558 - accuracy: 0.5101\n",
      "Epoch 45/200\n",
      "7803/7803 - 13s - loss: 2.3026 - accuracy: 0.5253\n",
      "Epoch 46/200\n",
      "7803/7803 - 13s - loss: 2.2524 - accuracy: 0.5344\n",
      "Epoch 47/200\n",
      "7803/7803 - 12s - loss: 2.2055 - accuracy: 0.5417\n",
      "Epoch 48/200\n",
      "7803/7803 - 10s - loss: 2.1551 - accuracy: 0.5531\n",
      "Epoch 49/200\n",
      "7803/7803 - 10s - loss: 2.1064 - accuracy: 0.5658\n",
      "Epoch 50/200\n",
      "7803/7803 - 10s - loss: 2.0608 - accuracy: 0.5759\n",
      "Epoch 51/200\n",
      "7803/7803 - 12s - loss: 2.0173 - accuracy: 0.5861\n",
      "Epoch 52/200\n",
      "7803/7803 - 12s - loss: 1.9712 - accuracy: 0.5981\n",
      "Epoch 53/200\n",
      "7803/7803 - 13s - loss: 1.9282 - accuracy: 0.6016\n",
      "Epoch 54/200\n",
      "7803/7803 - 13s - loss: 1.8857 - accuracy: 0.6149\n",
      "Epoch 55/200\n",
      "7803/7803 - 13s - loss: 1.8459 - accuracy: 0.6209\n",
      "Epoch 56/200\n",
      "7803/7803 - 14s - loss: 1.8026 - accuracy: 0.6341\n",
      "Epoch 57/200\n",
      "7803/7803 - 13s - loss: 1.7629 - accuracy: 0.6394\n",
      "Epoch 58/200\n",
      "7803/7803 - 14s - loss: 1.7258 - accuracy: 0.6501\n",
      "Epoch 59/200\n",
      "7803/7803 - 12s - loss: 1.6832 - accuracy: 0.6590\n",
      "Epoch 60/200\n",
      "7803/7803 - 12s - loss: 1.6471 - accuracy: 0.6656\n",
      "Epoch 61/200\n",
      "7803/7803 - 12s - loss: 1.6118 - accuracy: 0.6760\n",
      "Epoch 62/200\n",
      "7803/7803 - 12s - loss: 1.5753 - accuracy: 0.6855\n",
      "Epoch 63/200\n",
      "7803/7803 - 12s - loss: 1.5421 - accuracy: 0.6933\n",
      "Epoch 64/200\n",
      "7803/7803 - 12s - loss: 1.5023 - accuracy: 0.7008\n",
      "Epoch 65/200\n",
      "7803/7803 - 10s - loss: 1.4718 - accuracy: 0.7081\n",
      "Epoch 66/200\n",
      "7803/7803 - 10s - loss: 1.4356 - accuracy: 0.7151\n",
      "Epoch 67/200\n",
      "7803/7803 - 10s - loss: 1.4037 - accuracy: 0.7209\n",
      "Epoch 68/200\n",
      "7803/7803 - 10s - loss: 1.3709 - accuracy: 0.7272\n",
      "Epoch 69/200\n",
      "7803/7803 - 10s - loss: 1.3408 - accuracy: 0.7345\n",
      "Epoch 70/200\n",
      "7803/7803 - 10s - loss: 1.3113 - accuracy: 0.7411\n",
      "Epoch 71/200\n",
      "7803/7803 - 10s - loss: 1.2766 - accuracy: 0.7488\n",
      "Epoch 72/200\n",
      "7803/7803 - 10s - loss: 1.2489 - accuracy: 0.7532\n",
      "Epoch 73/200\n",
      "7803/7803 - 10s - loss: 1.2195 - accuracy: 0.7614\n",
      "Epoch 74/200\n",
      "7803/7803 - 10s - loss: 1.1931 - accuracy: 0.7629\n",
      "Epoch 75/200\n",
      "7803/7803 - 10s - loss: 1.1644 - accuracy: 0.7687\n",
      "Epoch 76/200\n",
      "7803/7803 - 10s - loss: 1.1353 - accuracy: 0.7780\n",
      "Epoch 77/200\n",
      "7803/7803 - 10s - loss: 1.1109 - accuracy: 0.7819\n",
      "Epoch 78/200\n",
      "7803/7803 - 10s - loss: 1.0813 - accuracy: 0.7905\n",
      "Epoch 79/200\n",
      "7803/7803 - 10s - loss: 1.0553 - accuracy: 0.7925\n",
      "Epoch 80/200\n",
      "7803/7803 - 10s - loss: 1.0297 - accuracy: 0.8005\n",
      "Epoch 81/200\n",
      "7803/7803 - 10s - loss: 1.0053 - accuracy: 0.8053\n",
      "Epoch 82/200\n",
      "7803/7803 - 10s - loss: 0.9811 - accuracy: 0.8093\n",
      "Epoch 83/200\n",
      "7803/7803 - 10s - loss: 0.9583 - accuracy: 0.8123\n",
      "Epoch 84/200\n",
      "7803/7803 - 10s - loss: 0.9398 - accuracy: 0.8183\n",
      "Epoch 85/200\n",
      "7803/7803 - 10s - loss: 0.9114 - accuracy: 0.8220\n",
      "Epoch 86/200\n",
      "7803/7803 - 10s - loss: 0.8906 - accuracy: 0.8313\n",
      "Epoch 87/200\n",
      "7803/7803 - 10s - loss: 0.8704 - accuracy: 0.8343\n",
      "Epoch 88/200\n",
      "7803/7803 - 10s - loss: 0.8502 - accuracy: 0.8360\n",
      "Epoch 89/200\n",
      "7803/7803 - 10s - loss: 0.8289 - accuracy: 0.8442\n",
      "Epoch 90/200\n",
      "7803/7803 - 10s - loss: 0.8092 - accuracy: 0.8471\n",
      "Epoch 91/200\n",
      "7803/7803 - 10s - loss: 0.7873 - accuracy: 0.8498\n",
      "Epoch 92/200\n",
      "7803/7803 - 10s - loss: 0.7722 - accuracy: 0.8530\n",
      "Epoch 93/200\n",
      "7803/7803 - 10s - loss: 0.7536 - accuracy: 0.8562\n",
      "Epoch 94/200\n",
      "7803/7803 - 10s - loss: 0.7377 - accuracy: 0.8589\n",
      "Epoch 95/200\n",
      "7803/7803 - 10s - loss: 0.7182 - accuracy: 0.8633\n",
      "Epoch 96/200\n",
      "7803/7803 - 11s - loss: 0.7019 - accuracy: 0.8659\n",
      "Epoch 97/200\n",
      "7803/7803 - 10s - loss: 0.6858 - accuracy: 0.8694\n",
      "Epoch 98/200\n",
      "7803/7803 - 10s - loss: 0.6688 - accuracy: 0.8709\n",
      "Epoch 99/200\n",
      "7803/7803 - 10s - loss: 0.6562 - accuracy: 0.8744\n",
      "Epoch 100/200\n",
      "7803/7803 - 10s - loss: 0.6398 - accuracy: 0.8768\n",
      "Epoch 101/200\n",
      "7803/7803 - 10s - loss: 0.6245 - accuracy: 0.8790\n",
      "Epoch 102/200\n",
      "7803/7803 - 10s - loss: 0.6103 - accuracy: 0.8811\n",
      "Epoch 103/200\n",
      "7803/7803 - 10s - loss: 0.5965 - accuracy: 0.8854\n",
      "Epoch 104/200\n",
      "7803/7803 - 10s - loss: 0.5841 - accuracy: 0.8852\n",
      "Epoch 105/200\n",
      "7803/7803 - 10s - loss: 0.5715 - accuracy: 0.8885\n",
      "Epoch 106/200\n",
      "7803/7803 - 10s - loss: 0.5674 - accuracy: 0.8906\n",
      "Epoch 107/200\n",
      "7803/7803 - 10s - loss: 0.5505 - accuracy: 0.8912\n",
      "Epoch 108/200\n",
      "7803/7803 - 10s - loss: 0.5388 - accuracy: 0.8929\n",
      "Epoch 109/200\n",
      "7803/7803 - 12s - loss: 0.5265 - accuracy: 0.8941\n",
      "Epoch 110/200\n",
      "7803/7803 - 12s - loss: 0.5143 - accuracy: 0.8962\n",
      "Epoch 111/200\n",
      "7803/7803 - 11s - loss: 0.5064 - accuracy: 0.8980\n",
      "Epoch 112/200\n",
      "7803/7803 - 10s - loss: 0.4971 - accuracy: 0.8961\n",
      "Epoch 113/200\n",
      "7803/7803 - 10s - loss: 0.4849 - accuracy: 0.8988\n",
      "Epoch 114/200\n",
      "7803/7803 - 10s - loss: 0.4753 - accuracy: 0.9034\n",
      "Epoch 115/200\n",
      "7803/7803 - 10s - loss: 0.4682 - accuracy: 0.9017\n",
      "Epoch 116/200\n",
      "7803/7803 - 10s - loss: 0.4594 - accuracy: 0.9038\n",
      "Epoch 117/200\n",
      "7803/7803 - 10s - loss: 0.4514 - accuracy: 0.9029\n",
      "Epoch 118/200\n",
      "7803/7803 - 10s - loss: 0.4415 - accuracy: 0.9066\n",
      "Epoch 119/200\n",
      "7803/7803 - 10s - loss: 0.4353 - accuracy: 0.9081\n",
      "Epoch 120/200\n",
      "7803/7803 - 10s - loss: 0.4373 - accuracy: 0.9052\n",
      "Epoch 121/200\n",
      "7803/7803 - 10s - loss: 0.4243 - accuracy: 0.9081\n",
      "Epoch 122/200\n",
      "7803/7803 - 10s - loss: 0.4182 - accuracy: 0.9066\n",
      "Epoch 123/200\n",
      "7803/7803 - 10s - loss: 0.4077 - accuracy: 0.9081\n",
      "Epoch 124/200\n",
      "7803/7803 - 10s - loss: 0.3984 - accuracy: 0.9118\n",
      "Epoch 125/200\n",
      "7803/7803 - 10s - loss: 0.3935 - accuracy: 0.9122\n",
      "Epoch 126/200\n",
      "7803/7803 - 10s - loss: 0.3877 - accuracy: 0.9127\n",
      "Epoch 127/200\n",
      "7803/7803 - 10s - loss: 0.3815 - accuracy: 0.9111\n",
      "Epoch 128/200\n",
      "7803/7803 - 10s - loss: 0.3771 - accuracy: 0.9130\n",
      "Epoch 129/200\n",
      "7803/7803 - 10s - loss: 0.3721 - accuracy: 0.9145\n",
      "Epoch 130/200\n",
      "7803/7803 - 10s - loss: 0.3726 - accuracy: 0.9117\n"
     ]
    },
    {
     "name": "stdout",
     "output_type": "stream",
     "text": [
      "Epoch 131/200\n",
      "7803/7803 - 11s - loss: 0.3628 - accuracy: 0.9131\n",
      "Epoch 132/200\n",
      "7803/7803 - 11s - loss: 0.3578 - accuracy: 0.9135\n",
      "Epoch 133/200\n",
      "7803/7803 - 13s - loss: 0.3528 - accuracy: 0.9148\n",
      "Epoch 134/200\n",
      "7803/7803 - 10s - loss: 0.3505 - accuracy: 0.9143\n",
      "Epoch 135/200\n",
      "7803/7803 - 11s - loss: 0.3449 - accuracy: 0.9131\n",
      "Epoch 136/200\n",
      "7803/7803 - 11s - loss: 0.3408 - accuracy: 0.9145\n",
      "Epoch 137/200\n",
      "7803/7803 - 12s - loss: 0.3405 - accuracy: 0.9135\n",
      "Epoch 138/200\n",
      "7803/7803 - 10s - loss: 0.3366 - accuracy: 0.9143\n",
      "Epoch 139/200\n",
      "7803/7803 - 11s - loss: 0.3319 - accuracy: 0.9140\n",
      "Epoch 140/200\n",
      "7803/7803 - 11s - loss: 0.3285 - accuracy: 0.9157\n",
      "Epoch 141/200\n",
      "7803/7803 - 10s - loss: 0.3274 - accuracy: 0.9153\n",
      "Epoch 142/200\n",
      "7803/7803 - 11s - loss: 0.3253 - accuracy: 0.9168\n",
      "Epoch 143/200\n",
      "7803/7803 - 10s - loss: 0.3226 - accuracy: 0.9158\n",
      "Epoch 144/200\n",
      "7803/7803 - 11s - loss: 0.3169 - accuracy: 0.9170\n",
      "Epoch 145/200\n",
      "7803/7803 - 10s - loss: 0.3145 - accuracy: 0.9171\n",
      "Epoch 146/200\n",
      "7803/7803 - 10s - loss: 0.3126 - accuracy: 0.9148\n",
      "Epoch 147/200\n",
      "7803/7803 - 10s - loss: 0.3081 - accuracy: 0.9163\n",
      "Epoch 148/200\n",
      "7803/7803 - 11s - loss: 0.3096 - accuracy: 0.9162\n",
      "Epoch 149/200\n",
      "7803/7803 - 10s - loss: 0.3078 - accuracy: 0.9168\n",
      "Epoch 150/200\n",
      "7803/7803 - 10s - loss: 0.3030 - accuracy: 0.9167\n",
      "Epoch 151/200\n",
      "7803/7803 - 11s - loss: 0.3005 - accuracy: 0.9158\n",
      "Epoch 152/200\n",
      "7803/7803 - 10s - loss: 0.3006 - accuracy: 0.9185\n",
      "Epoch 153/200\n",
      "7803/7803 - 10s - loss: 0.2971 - accuracy: 0.9161\n",
      "Epoch 154/200\n",
      "7803/7803 - 10s - loss: 0.2957 - accuracy: 0.9177\n",
      "Epoch 155/200\n",
      "7803/7803 - 11s - loss: 0.2939 - accuracy: 0.9159\n",
      "Epoch 156/200\n",
      "7803/7803 - 11s - loss: 0.2927 - accuracy: 0.9184\n",
      "Epoch 157/200\n",
      "7803/7803 - 12s - loss: 0.2974 - accuracy: 0.9153\n",
      "Epoch 158/200\n",
      "7803/7803 - 11s - loss: 0.3086 - accuracy: 0.9134\n",
      "Epoch 159/200\n",
      "7803/7803 - 11s - loss: 0.2988 - accuracy: 0.9138\n",
      "Epoch 160/200\n",
      "7803/7803 - 10s - loss: 0.2881 - accuracy: 0.9177\n",
      "Epoch 161/200\n",
      "7803/7803 - 10s - loss: 0.2850 - accuracy: 0.9170\n",
      "Epoch 162/200\n",
      "7803/7803 - 11s - loss: 0.2850 - accuracy: 0.9167\n",
      "Epoch 163/200\n",
      "7803/7803 - 20s - loss: 0.2851 - accuracy: 0.9162\n",
      "Epoch 164/200\n",
      "7803/7803 - 11s - loss: 0.2828 - accuracy: 0.9176\n",
      "Epoch 165/200\n",
      "7803/7803 - 10s - loss: 0.2803 - accuracy: 0.9166\n",
      "Epoch 166/200\n",
      "7803/7803 - 10s - loss: 0.2800 - accuracy: 0.9168\n",
      "Epoch 167/200\n",
      "7803/7803 - 10s - loss: 0.2809 - accuracy: 0.9154\n",
      "Epoch 168/200\n",
      "7803/7803 - 10s - loss: 0.2789 - accuracy: 0.9166\n",
      "Epoch 169/200\n",
      "7803/7803 - 10s - loss: 0.2784 - accuracy: 0.9170\n",
      "Epoch 170/200\n",
      "7803/7803 - 11s - loss: 0.2780 - accuracy: 0.9177\n",
      "Epoch 171/200\n",
      "7803/7803 - 13s - loss: 0.2770 - accuracy: 0.9154\n",
      "Epoch 172/200\n",
      "7803/7803 - 11s - loss: 0.2760 - accuracy: 0.9163\n",
      "Epoch 173/200\n",
      "7803/7803 - 12s - loss: 0.2759 - accuracy: 0.9159\n",
      "Epoch 174/200\n",
      "7803/7803 - 11s - loss: 0.2763 - accuracy: 0.9167\n",
      "Epoch 175/200\n",
      "7803/7803 - 11s - loss: 0.2957 - accuracy: 0.9127\n",
      "Epoch 176/200\n",
      "7803/7803 - 11s - loss: 0.2973 - accuracy: 0.9134\n",
      "Epoch 177/200\n",
      "7803/7803 - 11s - loss: 0.2777 - accuracy: 0.9166\n",
      "Epoch 178/200\n",
      "7803/7803 - 13s - loss: 0.2736 - accuracy: 0.9159\n",
      "Epoch 179/200\n",
      "7803/7803 - 11s - loss: 0.2705 - accuracy: 0.9181\n",
      "Epoch 180/200\n",
      "7803/7803 - 11s - loss: 0.2699 - accuracy: 0.9163\n",
      "Epoch 181/200\n",
      "7803/7803 - 12s - loss: 0.2692 - accuracy: 0.9167\n",
      "Epoch 182/200\n",
      "7803/7803 - 12s - loss: 0.2693 - accuracy: 0.9158\n",
      "Epoch 183/200\n",
      "7803/7803 - 10s - loss: 0.2684 - accuracy: 0.9162\n",
      "Epoch 184/200\n",
      "7803/7803 - 10s - loss: 0.2686 - accuracy: 0.9148\n",
      "Epoch 185/200\n",
      "7803/7803 - 13s - loss: 0.2673 - accuracy: 0.9163\n",
      "Epoch 186/200\n",
      "7803/7803 - 11s - loss: 0.2676 - accuracy: 0.9170\n",
      "Epoch 187/200\n",
      "7803/7803 - 10s - loss: 0.2670 - accuracy: 0.9154\n",
      "Epoch 188/200\n",
      "7803/7803 - 12s - loss: 0.2689 - accuracy: 0.9180\n",
      "Epoch 189/200\n",
      "7803/7803 - 11s - loss: 0.2722 - accuracy: 0.9154\n",
      "Epoch 190/200\n",
      "7803/7803 - 10s - loss: 0.2672 - accuracy: 0.9157\n",
      "Epoch 191/200\n",
      "7803/7803 - 10s - loss: 0.2658 - accuracy: 0.9159\n",
      "Epoch 192/200\n",
      "7803/7803 - 10s - loss: 0.2655 - accuracy: 0.9155\n",
      "Epoch 193/200\n",
      "7803/7803 - 10s - loss: 0.2659 - accuracy: 0.9161\n",
      "Epoch 194/200\n",
      "7803/7803 - 11s - loss: 0.2711 - accuracy: 0.9153\n",
      "Epoch 195/200\n",
      "7803/7803 - 10s - loss: 0.2809 - accuracy: 0.9154\n",
      "Epoch 196/200\n",
      "7803/7803 - 11s - loss: 0.2700 - accuracy: 0.9166\n",
      "Epoch 197/200\n",
      "7803/7803 - 10s - loss: 0.2651 - accuracy: 0.9161\n",
      "Epoch 198/200\n",
      "7803/7803 - 10s - loss: 0.2636 - accuracy: 0.9168\n",
      "Epoch 199/200\n",
      "7803/7803 - 11s - loss: 0.2625 - accuracy: 0.9187\n",
      "Epoch 200/200\n",
      "7803/7803 - 11s - loss: 0.2630 - accuracy: 0.9163\n"
     ]
    },
    {
     "data": {
      "text/plain": [
       "<tensorflow.python.keras.callbacks.History at 0x7fe9cacbeef0>"
      ]
     },
     "execution_count": 32,
     "metadata": {},
     "output_type": "execute_result"
    }
   ],
   "source": [
    "model = Sequential()\n",
    "model.add(Embedding(vocab_size, 10, input_length=max_len-1))\n",
    "model.add(LSTM(128))\n",
    "model.add(Dense(vocab_size, activation='softmax'))\n",
    "model.compile(loss='categorical_crossentropy', optimizer='adam', metrics=['accuracy'])\n",
    "model.fit(X,y, epochs=200, verbose=2)"
   ]
  },
  {
   "cell_type": "code",
   "execution_count": 33,
   "metadata": {},
   "outputs": [],
   "source": [
    "def sentence_generation(model, t, current_word, n):\n",
    "    init_word = current_word\n",
    "    sentence =''\n",
    "    for _ in range(n):\n",
    "        encoded = t.texts_to_sequences([current_word])[0]\n",
    "        encoded = pad_sequences([encoded], maxlen=23, padding='pre')\n",
    "        result = model.predict_classes(encoded, verbose=0)\n",
    "        \n",
    "        for word, index in t.word_index.items():\n",
    "            if index == result:\n",
    "                break\n",
    "        current_word = current_word + ' ' + word\n",
    "        \n",
    "        sentence = sentence + ' ' + word\n",
    "        \n",
    "    sentence = init_word + sentence\n",
    "    \n",
    "    return sentence"
   ]
  },
  {
   "cell_type": "code",
   "execution_count": 34,
   "metadata": {},
   "outputs": [
    {
     "name": "stdout",
     "output_type": "stream",
     "text": [
      "i disapprove of school vouchers can i still apply for them\n"
     ]
    }
   ],
   "source": [
    "print(sentence_generation(model, t, 'i', 10))"
   ]
  },
  {
   "cell_type": "code",
   "execution_count": 35,
   "metadata": {},
   "outputs": [
    {
     "name": "stdout",
     "output_type": "stream",
     "text": [
      "how to make facebook more accountable about china who can push\n"
     ]
    }
   ],
   "source": [
    "print(sentence_generation(model, t, 'how', 10))"
   ]
  },
  {
   "cell_type": "code",
   "execution_count": 53,
   "metadata": {},
   "outputs": [
    {
     "name": "stdout",
     "output_type": "stream",
     "text": [
      "sports cashs poems a blast of a sudden plunge as persists\n"
     ]
    }
   ],
   "source": [
    "print(sentence_generation(model, t, 'sports', 10))"
   ]
  },
  {
   "cell_type": "code",
   "execution_count": null,
   "metadata": {},
   "outputs": [],
   "source": []
  }
 ],
 "metadata": {
  "kernelspec": {
   "display_name": "Python 3",
   "language": "python",
   "name": "python3"
  },
  "language_info": {
   "codemirror_mode": {
    "name": "ipython",
    "version": 3
   },
   "file_extension": ".py",
   "mimetype": "text/x-python",
   "name": "python",
   "nbconvert_exporter": "python",
   "pygments_lexer": "ipython3",
   "version": "3.6.9"
  }
 },
 "nbformat": 4,
 "nbformat_minor": 2
}
