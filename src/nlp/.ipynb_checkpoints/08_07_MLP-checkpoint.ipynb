{
 "cells": [
  {
   "cell_type": "markdown",
   "metadata": {},
   "source": [
    "# 8.7 다층 퍼셉트론(MultiLayer Perceptron, MLP)으로 텍스트 분류하기"
   ]
  },
  {
   "cell_type": "markdown",
   "metadata": {},
   "source": [
    "### 1. 다층 퍼셉트론(MultiLayer Perceptron, MLP)\n",
    "앞서 단층 퍼셉트론의 형태에서 은닉층이 1개 이상 추가된 신경망을 다층 퍼셉트론(MLP)이라고 한다고 배웠습니다. 다층 퍼셉트론은 피드 포워드 신경망(Feed Forward Neural Network, FFNN)의 가장 기본적인 형태입니다. 피드 포워드 신경망은 입력층에서 출력층으로 오직 한 방향으로만 연산 방향이 정해져 있는 신경망을 말합니다."
   ]
  },
  {
   "cell_type": "markdown",
   "metadata": {},
   "source": [
    "### 2. 케라스의 texts_to_matrix() 이해하기\n",
    "MLP로 텍스트 분류를 수행하기 전에 이번에 사용할 도구인 케라스 Tokenizer의 texts_to_matrx()를 이해해봅시다."
   ]
  },
  {
   "cell_type": "code",
   "execution_count": 1,
   "metadata": {},
   "outputs": [],
   "source": [
    "import numpy as np\n",
    "from tensorflow.keras.preprocessing.text import Tokenizer\n",
    "\n",
    "texts = ['먹고 싶은 사과', '먹고 싶은 바나나', '길고 노란 바나나 바나나', '저는 과일이 좋아요']"
   ]
  },
  {
   "cell_type": "code",
   "execution_count": 2,
   "metadata": {},
   "outputs": [
    {
     "name": "stdout",
     "output_type": "stream",
     "text": [
      "{'바나나': 1, '먹고': 2, '싶은': 3, '사과': 4, '길고': 5, '노란': 6, '저는': 7, '과일이': 8, '좋아요': 9}\n"
     ]
    }
   ],
   "source": [
    "# Interger Encoding\n",
    "t = Tokenizer()\n",
    "t.fit_on_texts(texts)\n",
    "print(t.word_index)"
   ]
  },
  {
   "cell_type": "markdown",
   "metadata": {},
   "source": [
    "각 단어에 숫자 1부터 시작하는 정수 인덱스가 부여되었습니다. 이제 텍스트 데이터에 texts_to_matrix()를 사용해보겠습니다. \n",
    "- texts_to_matrix()란 이름에서 알 수 있지만, \n",
    "- 이 도구는 입력된 텍스트 데이터로부터 행렬(matrix)를 만드는 도구입니다.\n",
    "- texts_to_matrx()는 총 4개의 모드를 지원하는데 각 모드는 'binary', 'count', 'freq', 'tfidf'로 총 4개입니다. \n",
    "\n",
    "우선 'count' 모드를 사용해봅시다."
   ]
  },
  {
   "cell_type": "code",
   "execution_count": 3,
   "metadata": {},
   "outputs": [
    {
     "name": "stdout",
     "output_type": "stream",
     "text": [
      "[[0. 0. 1. 1. 1. 0. 0. 0. 0. 0.]\n",
      " [0. 1. 1. 1. 0. 0. 0. 0. 0. 0.]\n",
      " [0. 2. 0. 0. 0. 1. 1. 0. 0. 0.]\n",
      " [0. 0. 0. 0. 0. 0. 0. 1. 1. 1.]]\n"
     ]
    }
   ],
   "source": [
    "print(t.texts_to_matrix(texts, mode = 'count'))"
   ]
  },
  {
   "cell_type": "markdown",
   "metadata": {},
   "source": [
    "**count**\n",
    "\n",
    "'count'를 사용하면 문서 단어 행렬(Document-Term Matrix, DTM)을 생성합니다. \n",
    "\n",
    "다만 주의할 점은 \n",
    "- 각 단어에 부여되는 인덱스는 1부터 시작하는 반면에 \n",
    "- 완성되는 행렬의 인덱스는 0부터 시작합니다. \n",
    "- 실제로 단어의 개수는 9개였지만 완성된 행렬의 열의 개수는 10개인 것과 첫번째 열은 모든 행에서 값이 0인 것을 볼 수 있습니다. \n",
    "- **인덱스 0에는 그 어떤 단어도 할당되지 않았기 때문**입니다.\n",
    "\n",
    "우선, 네번째 행을 보겠습니다. \n",
    "- 네번째 행은 테스트 데이터에서 네번째 문장을 의미합니다. \n",
    "- 네번째 행은 8번째 열, 9번째 열, 10번째 열에서 1의 값을 가집니다. \n",
    "- 이는 7번 단어, 8번 단어, 9번 단어가 네번째 문장에서 1개씩 존재함을 의미합니다. \n",
    "- 위에서 정수 인코딩 된 결과를 보면 7번 단어는 '저는', 8번 단어는 '과일이', 9번 단어는 '좋아요'입니다. \n",
    "\n",
    "세번째 행의 첫번째 열의 값은 2인데, 이는 세번째 문장에서 1번 인덱스를 가진 바나나가 두 번 등장했기 때문입니다.\n",
    "\n",
    "앞서 배웠듯이 DTM은 bag of words를 기반으로 하므로 단어 순서 정보는 보존되지 않습니다. 사실 더 구체적으로는 4개의 모든 모드에서 단어 순서 정보는 보존되지 않습니다."
   ]
  },
  {
   "cell_type": "code",
   "execution_count": 4,
   "metadata": {},
   "outputs": [
    {
     "name": "stdout",
     "output_type": "stream",
     "text": [
      "[[0. 0. 1. 1. 1. 0. 0. 0. 0. 0.]\n",
      " [0. 1. 1. 1. 0. 0. 0. 0. 0. 0.]\n",
      " [0. 1. 0. 0. 0. 1. 1. 0. 0. 0.]\n",
      " [0. 0. 0. 0. 0. 0. 0. 1. 1. 1.]]\n"
     ]
    }
   ],
   "source": [
    "print(t.texts_to_matrix(texts, mode='binary'))"
   ]
  },
  {
   "cell_type": "markdown",
   "metadata": {},
   "source": [
    "**binary**\n",
    "\n",
    "DTM과 결과가 매우 유사해보입니다. \n",
    "- 다만 세번째 행, 두번째 열의 값이 DTM에서는 2였는데 여기서는 1로 바뀌었습니다. \n",
    "- 그 이유는 'binary' 모드는 해당 단어가 존재하는지만 관심을 가지고 해당 단어가 몇 개였는지는 무시하기 때문입니다. \n",
    "- 해당 단어가 존재하면 1, 단어가 존재하지 않으면 0의 값을 가집니다. \n",
    "\n",
    "즉, 단어의 존재 유무로만 행렬을 표현합니다"
   ]
  },
  {
   "cell_type": "code",
   "execution_count": 5,
   "metadata": {},
   "outputs": [
    {
     "name": "stdout",
     "output_type": "stream",
     "text": [
      "[[0.   0.   0.85 0.85 1.1  0.   0.   0.   0.   0.  ]\n",
      " [0.   0.85 0.85 0.85 0.   0.   0.   0.   0.   0.  ]\n",
      " [0.   1.43 0.   0.   0.   1.1  1.1  0.   0.   0.  ]\n",
      " [0.   0.   0.   0.   0.   0.   0.   1.1  1.1  1.1 ]]\n"
     ]
    }
   ],
   "source": [
    "print(t.texts_to_matrix(texts, mode='tfidf').round(2))"
   ]
  },
  {
   "cell_type": "markdown",
   "metadata": {},
   "source": [
    "**tfidf**\n",
    "\n",
    "tfidf' 모드는 말 그대로 TF-IDF 행렬을 만듭니다. \n",
    "- 다만, TF-IDF 챕터에서 배운 기본식이나 사이킷런의 TfidfVectorizer에서 사용하는 식이랑 또 조금 다릅니다. \n",
    "- 앞서 배운 기본식에서 TF는 각 문서에서의 각 단어의 빈도였다면 \n",
    "- 'tfidf' 모드에서는 TF를 각 문서에서의 각 단어의 빈도에 자연 로그를 씌우고 1을 더한 값으로 정의했습니다. \n",
    "- idf에서는 앞서 배운 기본식에서 로그는 자연 로그를 사용하고, 로그 안의 분수에 1을 추가로 더했습니다.\n",
    "\n",
    "물론, 이러한 식을 굳이 기억할 필요는 없고 여전히 TF-IDF의 기존 의도를 갖고 있다고 이해하면 됩니다."
   ]
  },
  {
   "cell_type": "code",
   "execution_count": 6,
   "metadata": {},
   "outputs": [
    {
     "name": "stdout",
     "output_type": "stream",
     "text": [
      "[[0.   0.   0.33 0.33 0.33 0.   0.   0.   0.   0.  ]\n",
      " [0.   0.33 0.33 0.33 0.   0.   0.   0.   0.   0.  ]\n",
      " [0.   0.5  0.   0.   0.   0.25 0.25 0.   0.   0.  ]\n",
      " [0.   0.   0.   0.   0.   0.   0.   0.33 0.33 0.33]]\n"
     ]
    }
   ],
   "source": [
    "print(t.texts_to_matrix(texts, mode='freq').round(2))"
   ]
  },
  {
   "cell_type": "markdown",
   "metadata": {},
   "source": [
    "**freq**\n",
    "\n",
    "마지막으로 'freq' 모드입니다. 'freq' 모드는 \n",
    "- 각 문서에서의 각 단어의 등장 횟수를 분자로, 각 문서의 크기(각 문서에서 등장한 모든 단어의 개수의 총 합)를 분모로 하는 표현 방법입니다. \n",
    "\n",
    "예를 들어 세번째 행을 보겠습니다. \n",
    "- 세번째 문장은 '길고 노란 바나나 바나나' 였습니다. \n",
    "- 문서의 크기는 4인데, 바나나는 총 2회 등장했습니다. \n",
    "- 이에 따라서 세번째 문장에서의 단어 '바나나'의 값은 위의 행렬에서 0.5가 됩니다. \n",
    "- 반면에 '길고', '노란'이라는 두 단어는 각 1회 등장했으므로 각자 1/4의 값인 0.25의 값을 가집니다."
   ]
  },
  {
   "cell_type": "markdown",
   "metadata": {},
   "source": [
    "### 3. 20개 뉴스 그룹(Twenty Newsgroups) 데이터에 대한 이해"
   ]
  },
  {
   "cell_type": "code",
   "execution_count": 7,
   "metadata": {},
   "outputs": [],
   "source": [
    "%matplotlib inline\n",
    "\n",
    "import pandas as pd\n",
    "from sklearn.datasets import fetch_20newsgroups\n",
    "import matplotlib.pyplot as plt\n",
    "from tensorflow.keras.preprocessing.text import Tokenizer\n",
    "from tensorflow.keras.utils import to_categorical"
   ]
  },
  {
   "cell_type": "markdown",
   "metadata": {},
   "source": [
    "사이킷런에서는 20개의 다른 주제를 가진 18,846개의 뉴스 그룹 이메일 데이터를 제공합니다. (LSA 챕터와 동일한 데이터.)"
   ]
  },
  {
   "cell_type": "code",
   "execution_count": 8,
   "metadata": {},
   "outputs": [],
   "source": [
    "newsdata = fetch_20newsgroups(subset = 'train') # train을 지정하면 훈련 데이터만 가지고 옴"
   ]
  },
  {
   "cell_type": "markdown",
   "metadata": {},
   "source": [
    "위의 subset의 값으로 'all'을 넣으면 전체 데이터인 18,846개의 샘플을 다운로드할 수 있으며, 'train'을 넣으면 훈련 데이터를, 'test'를 넣으면 테스트 데이터를 다운로드할 수 있습니다. newsdata.keys()를 출력하면 해당 데이터의 속성을 확인할 수 있습니다"
   ]
  },
  {
   "cell_type": "code",
   "execution_count": 9,
   "metadata": {},
   "outputs": [
    {
     "name": "stdout",
     "output_type": "stream",
     "text": [
      "dict_keys(['data', 'filenames', 'target_names', 'target', 'DESCR'])\n"
     ]
    }
   ],
   "source": [
    "print(newsdata.keys())"
   ]
  },
  {
   "cell_type": "markdown",
   "metadata": {},
   "source": [
    "해당 데이터는 data, filenames, target_names, target, DESCR, description이라는 6개 속성을 갖고 있습니다. 이 중 실제로 훈련에 사용할 속성은 이메일 본문인 data와 메일이 어떤 주제인지 기재된 숫자 레이블인 target입니다. 우선 훈련용 샘플의 개수를 보겠습니다."
   ]
  },
  {
   "cell_type": "code",
   "execution_count": 10,
   "metadata": {},
   "outputs": [
    {
     "name": "stdout",
     "output_type": "stream",
     "text": [
      "Count of sample to train : 11314\n"
     ]
    }
   ],
   "source": [
    "print('Count of sample to train : {}'.format(len(newsdata.data)))"
   ]
  },
  {
   "cell_type": "code",
   "execution_count": 11,
   "metadata": {},
   "outputs": [
    {
     "name": "stdout",
     "output_type": "stream",
     "text": [
      " Total subject count : 20\n",
      "['alt.atheism', 'comp.graphics', 'comp.os.ms-windows.misc', 'comp.sys.ibm.pc.hardware', 'comp.sys.mac.hardware', 'comp.windows.x', 'misc.forsale', 'rec.autos', 'rec.motorcycles', 'rec.sport.baseball', 'rec.sport.hockey', 'sci.crypt', 'sci.electronics', 'sci.med', 'sci.space', 'soc.religion.christian', 'talk.politics.guns', 'talk.politics.mideast', 'talk.politics.misc', 'talk.religion.misc']\n"
     ]
    }
   ],
   "source": [
    "print(' Total subject count : {}'.format(len(newsdata.target_names)))\n",
    "print(newsdata.target_names)"
   ]
  },
  {
   "cell_type": "markdown",
   "metadata": {},
   "source": [
    "이번 챕터 실습의 목적은 테스트 데이터에서 이메일 본문을 보고 20개의 주제 중 어떤 주제인지를 맞추는 것입니다. 레이블인 target에는 총 0부터 19까지의 숫자가 들어가있는데 첫번째 샘플의 경우에는 몇 번 주제인지 확인해보겠습니다"
   ]
  },
  {
   "cell_type": "code",
   "execution_count": 12,
   "metadata": {},
   "outputs": [
    {
     "name": "stdout",
     "output_type": "stream",
     "text": [
      "Label of first sample : 7\n",
      "Subject of 7th label : rec.autos\n",
      "\n",
      " From: lerxst@wam.umd.edu (where's my thing)\n",
      "Subject: WHAT car is this!?\n",
      "Nntp-Posting-Host: rac3.wam.umd.edu\n",
      "Organization: University of Maryland, College Park\n",
      "Lines: 15\n",
      "\n",
      " I was wondering if anyone out there could enlighten me on this car I saw\n",
      "the other day. It was a 2-door sports car, looked to be from the late 60s/\n",
      "early 70s. It was called a Bricklin. The doors were really small. In addition,\n",
      "the front bumper was separate from the rest of the body. This is \n",
      "all I know. If anyone can tellme a model name, engine specs, years\n",
      "of production, where this car is made, history, or whatever info you\n",
      "have on this funky looking car, please e-mail.\n",
      "\n",
      "Thanks,\n",
      "- IL\n",
      "   ---- brought to you by your neighborhood Lerxst ----\n",
      "\n",
      "\n",
      "\n",
      "\n",
      "\n"
     ]
    }
   ],
   "source": [
    "print('Label of first sample : {}'.format(newsdata.target[0]))\n",
    "print('Subject of 7th label : {}'.format(newsdata.target_names[7]))\n",
    "print('\\n',newsdata.data[0])"
   ]
  },
  {
   "cell_type": "code",
   "execution_count": 13,
   "metadata": {},
   "outputs": [
    {
     "data": {
      "text/html": [
       "<div>\n",
       "<style scoped>\n",
       "    .dataframe tbody tr th:only-of-type {\n",
       "        vertical-align: middle;\n",
       "    }\n",
       "\n",
       "    .dataframe tbody tr th {\n",
       "        vertical-align: top;\n",
       "    }\n",
       "\n",
       "    .dataframe thead th {\n",
       "        text-align: right;\n",
       "    }\n",
       "</style>\n",
       "<table border=\"1\" class=\"dataframe\">\n",
       "  <thead>\n",
       "    <tr style=\"text-align: right;\">\n",
       "      <th></th>\n",
       "      <th>email</th>\n",
       "      <th>target</th>\n",
       "    </tr>\n",
       "  </thead>\n",
       "  <tbody>\n",
       "    <tr>\n",
       "      <th>0</th>\n",
       "      <td>From: lerxst@wam.umd.edu (where's my thing)\\nS...</td>\n",
       "      <td>7</td>\n",
       "    </tr>\n",
       "    <tr>\n",
       "      <th>1</th>\n",
       "      <td>From: guykuo@carson.u.washington.edu (Guy Kuo)...</td>\n",
       "      <td>4</td>\n",
       "    </tr>\n",
       "    <tr>\n",
       "      <th>2</th>\n",
       "      <td>From: twillis@ec.ecn.purdue.edu (Thomas E Will...</td>\n",
       "      <td>4</td>\n",
       "    </tr>\n",
       "    <tr>\n",
       "      <th>3</th>\n",
       "      <td>From: jgreen@amber (Joe Green)\\nSubject: Re: W...</td>\n",
       "      <td>1</td>\n",
       "    </tr>\n",
       "    <tr>\n",
       "      <th>4</th>\n",
       "      <td>From: jcm@head-cfa.harvard.edu (Jonathan McDow...</td>\n",
       "      <td>14</td>\n",
       "    </tr>\n",
       "  </tbody>\n",
       "</table>\n",
       "</div>"
      ],
      "text/plain": [
       "                                               email  target\n",
       "0  From: lerxst@wam.umd.edu (where's my thing)\\nS...       7\n",
       "1  From: guykuo@carson.u.washington.edu (Guy Kuo)...       4\n",
       "2  From: twillis@ec.ecn.purdue.edu (Thomas E Will...       4\n",
       "3  From: jgreen@amber (Joe Green)\\nSubject: Re: W...       1\n",
       "4  From: jcm@head-cfa.harvard.edu (Jonathan McDow...      14"
      ]
     },
     "execution_count": 13,
     "metadata": {},
     "output_type": "execute_result"
    }
   ],
   "source": [
    "data = pd.DataFrame(newsdata.data[:5000], columns=['email'])\n",
    "data['target'] = pd.Series(newsdata.target[:5000])\n",
    "data[:5]"
   ]
  },
  {
   "cell_type": "code",
   "execution_count": 14,
   "metadata": {},
   "outputs": [
    {
     "name": "stdout",
     "output_type": "stream",
     "text": [
      "<class 'pandas.core.frame.DataFrame'>\n",
      "RangeIndex: 5000 entries, 0 to 4999\n",
      "Data columns (total 2 columns):\n",
      "email     5000 non-null object\n",
      "target    5000 non-null int64\n",
      "dtypes: int64(1), object(1)\n",
      "memory usage: 78.2+ KB\n"
     ]
    }
   ],
   "source": [
    "data.info()"
   ]
  },
  {
   "cell_type": "code",
   "execution_count": 15,
   "metadata": {},
   "outputs": [
    {
     "data": {
      "text/plain": [
       "False"
      ]
     },
     "execution_count": 15,
     "metadata": {},
     "output_type": "execute_result"
    }
   ],
   "source": [
    "# Null 값을 가진 샘플이 있는지 isnull().values.any()로도 확인 가능합니다.\n",
    "# False는 Null값이 없음을 의미\n",
    "data.isnull().values.any()"
   ]
  },
  {
   "cell_type": "code",
   "execution_count": 16,
   "metadata": {},
   "outputs": [
    {
     "name": "stdout",
     "output_type": "stream",
     "text": [
      "중복을 제외한 샘플의 수 : 5000\n",
      "중복을 제외한 샘플의 수 : 20\n"
     ]
    }
   ],
   "source": [
    "# nunique()를 통해 샘플 중 중복을 제거한 개수를 확인할 수 있습니다.\n",
    "print('중복을 제외한 샘플의 수 : {}'.format(data['email'].nunique()))\n",
    "print('중복을 제외한 샘플의 수 : {}'.format(data['target'].nunique()))"
   ]
  },
  {
   "cell_type": "code",
   "execution_count": 17,
   "metadata": {},
   "outputs": [
    {
     "data": {
      "text/plain": [
       "<matplotlib.axes._subplots.AxesSubplot at 0x7f2f69d4ae80>"
      ]
     },
     "execution_count": 17,
     "metadata": {},
     "output_type": "execute_result"
    },
    {
     "data": {
      "image/png": "[encoded data removed]",
      "text/plain": [
       "<Figure size 432x288 with 1 Axes>"
      ]
     },
     "metadata": {
      "needs_background": "light"
     },
     "output_type": "display_data"
    }
   ],
   "source": [
    "data['target'].value_counts().plot(kind='bar')"
   ]
  },
  {
   "cell_type": "markdown",
   "metadata": {},
   "source": [
    "10번 레이블의 수가 가장 많고, 19번 레이블의 수가 가장 적으며 대체적으로 400 ~ 600개 사이의 분포를 보입니다. 이번에는 각 레이블이 몇 개 있는지 구체적인 수치로 확인해보겠습니다."
   ]
  },
  {
   "cell_type": "code",
   "execution_count": 18,
   "metadata": {},
   "outputs": [
    {
     "name": "stdout",
     "output_type": "stream",
     "text": [
      "    target  count\n",
      "0        0    220\n",
      "1        1    252\n",
      "2        2    262\n",
      "3        3    257\n",
      "4        4    257\n",
      "5        5    269\n",
      "6        6    266\n",
      "7        7    261\n",
      "8        8    277\n",
      "9        9    261\n",
      "10      10    261\n",
      "11      11    270\n",
      "12      12    274\n",
      "13      13    271\n",
      "14      14    248\n",
      "15      15    263\n",
      "16      16    230\n",
      "17      17    239\n",
      "18      18    207\n",
      "19      19    155\n"
     ]
    }
   ],
   "source": [
    "print(data.groupby('target').size().reset_index(name='count'))"
   ]
  },
  {
   "cell_type": "code",
   "execution_count": 19,
   "metadata": {},
   "outputs": [],
   "source": [
    "newsdata_test = fetch_20newsgroups(subset='test', shuffle=True)\n",
    "\n",
    "train_email = data['email']\n",
    "train_label = data['target']\n",
    "test_email = newsdata_test.data[:2000]\n",
    "test_label = newsdata_test.target[:2000]"
   ]
  },
  {
   "cell_type": "code",
   "execution_count": 25,
   "metadata": {},
   "outputs": [],
   "source": [
    "# Preprocessing\n",
    "max_words = 4_000\n",
    "num_classes = 20 # Count of label"
   ]
  },
  {
   "cell_type": "code",
   "execution_count": 26,
   "metadata": {},
   "outputs": [],
   "source": [
    "def prepare_data(train_data, test_data, mode):\n",
    "    t = Tokenizer(num_words = max_words)\n",
    "    t.fit_on_texts(train_data)\n",
    "    x_train = t.texts_to_matrix(train_data, mode=mode)\n",
    "    x_test = t.texts_to_matrix(test_data, mode=mode)\n",
    "    \n",
    "    return x_train, x_test, t.index_word"
   ]
  },
  {
   "cell_type": "code",
   "execution_count": 27,
   "metadata": {},
   "outputs": [],
   "source": [
    "x_train, x_test, index_to_word = prepare_data(train_email, test_email, 'binary')\n",
    "y_train = to_categorical(train_label, num_classes) # One-hot encoding\n",
    "y_test = to_categorical(test_label, num_classes)"
   ]
  },
  {
   "cell_type": "code",
   "execution_count": 28,
   "metadata": {},
   "outputs": [
    {
     "name": "stdout",
     "output_type": "stream",
     "text": [
      "size of Train sample body : (5000, 4000)\n"
     ]
    }
   ],
   "source": [
    "print('size of Train sample body : {}'.format(x_train.shape))"
   ]
  },
  {
   "cell_type": "code",
   "execution_count": 29,
   "metadata": {},
   "outputs": [
    {
     "name": "stdout",
     "output_type": "stream",
     "text": [
      "Train sample Body size : (5000, 4000)\n",
      "Train sample label size : (5000, 20)\n",
      "Test sample Body size : (2000, 4000)\n",
      "Test sample label size : (2000, 20)\n"
     ]
    }
   ],
   "source": [
    "print('Train sample Body size : {}'.format(x_train.shape))\n",
    "print('Train sample label size : {}'.format(y_train.shape))\n",
    "print('Test sample Body size : {}'.format(x_test.shape))\n",
    "print('Test sample label size : {}'.format(y_test.shape))"
   ]
  },
  {
   "cell_type": "markdown",
   "metadata": {},
   "source": [
    "훈련 데이터와 테스트 데이터 모두 메일 본문의 크기가 샘플의 수 × 4,000의 행렬로 변환되었는데, 열의 개수가 4,000인 것은 위의 prepard_data 함수 내부에서 Tokenizer의 num_words의 인자로 max_words를 지정해주었기 때문입니다. 사실 단어의 정수 인덱스는 1부터 시작하지만, 행렬의 인덱스는 0부터 시작하여 0번 인덱스는 사용되지 않으므로 실제로 행렬에는 빈도수 기준 상위 9,999개의 단어가 표현된 셈입니다. 빈도수 상위 1번 단어와 9,999번 단어를 확인해보겠습니다"
   ]
  },
  {
   "cell_type": "code",
   "execution_count": 30,
   "metadata": {},
   "outputs": [
    {
     "name": "stdout",
     "output_type": "stream",
     "text": [
      "빈도수 상위 1번 단어 : the\n",
      "빈도수 상위 3999 번 단어 : circumstances\n"
     ]
    }
   ],
   "source": [
    "print('빈도수 상위 1번 단어 : {}'.format(index_to_word[1]))\n",
    "print('빈도수 상위 3999 번 단어 : {}'.format(index_to_word[3999]))"
   ]
  },
  {
   "cell_type": "markdown",
   "metadata": {},
   "source": [
    "불용어에 해당되는 단어 'the'가 빈도수 상위 1번 단어가 된 것을 확인할 수 있습니다."
   ]
  },
  {
   "cell_type": "markdown",
   "metadata": {},
   "source": [
    "### 4. 다층 퍼셉트론(Multilayer Perceptron, MLP)을 사용하여 텍스트 분류하기"
   ]
  },
  {
   "cell_type": "code",
   "execution_count": 31,
   "metadata": {},
   "outputs": [],
   "source": [
    "from tensorflow.keras.models import Sequential\n",
    "from tensorflow.keras.layers import Dense, Dropout"
   ]
  },
  {
   "cell_type": "code",
   "execution_count": 32,
   "metadata": {},
   "outputs": [],
   "source": [
    "def fit_and_evaluate(x_train, y_train, x_test, y_test):\n",
    "    model = Sequential()\n",
    "    model.add(Dense(256, input_shape=(max_words,), activation='relu'))\n",
    "    model.add(Dropout(0.5))\n",
    "    model.add(Dense(128, activation='relu'))\n",
    "    model.add(Dropout(0.5))\n",
    "    model.add(Dense(num_classes, activation='softmax'))\n",
    "    \n",
    "    model.compile(loss='categorical_crossentropy', optimizer='adam', metrics=['accuracy'])\n",
    "    model.fit(x_train, y_train, batch_size=128, epochs=5, validation_split=0.1)\n",
    "    score = model.evaluate(x_test, y_test, batch_size=128, verbose=0)\n",
    "    \n",
    "    return score[1]"
   ]
  },
  {
   "attachments": {
    "08.07_multilayerperceptron01.png": {
     "image/png": "[encoded data removed]"
    }
   },
   "cell_type": "markdown",
   "metadata": {},
   "source": [
    "모델 설계를 fit_and_evaluate라는 함수 내에 정의하였는데, 모델을 함수 내에 정의한 이유는 이번 실습에서는 입력값을 바꿔가면서 모델을 여러번 호출하기 위함입니다. 우선은 모델의 아키텍처에 집중해보겠습니다.\n",
    "\n",
    "![08.07_multilayerperceptron01.png](attachment:08.07_multilayerperceptron01.png)\n",
    "\n",
    "위의 그림은 현재 설계한 신경망의 구조를 보여줍니다. 현재 설계한 다층 퍼셉트론은 총 4개의 층을 가지고 있습니다. max_words의 크기를 가진 입력층, 256개의 뉴런을 가진 첫번째 은닉층, 128개의 뉴런을 가진 두번째 은닉층, num_classes의 크기를 가진 출력층입니다. 또한 이번에 설계한 다층 퍼셉트론은 은닉층이 2개이므로 깊은 신경망(Deep Neural Network, DNN)입니다.\n",
    "\n",
    "코드로 돌아가보겠습니다. 위 모델에서는 과적합을 막기 위해서 두 번의 드롭아웃(Dropout)을 적용하였습니다. 이 문제는 다중 클래스 분류 문제입니다. 여러 개의 선택지 중에서 하나의 선택지를 고르는 문제인데, 이 경우 20개의 주제 중에서 모델은 자신이 정답이라고 생각하는 1개의 주제를 예측해야 합니다. 다중 클래스 분류 문제이므로 출력층의 활성화 함수로는 소프트맥스 함수를 사용하고, 손실 함수로는 크로스 엔트로피(categorical_crossentropy) 함수를 사용하였습니다.\n",
    "\n",
    "모델을 훈련시켜보겠습니다. 이번에는 앞서 배운 texts_to_matrix()의 4개의 모드에 대해서 전부 모델의 결과를 확인해보겠습니다."
   ]
  },
  {
   "cell_type": "code",
   "execution_count": 34,
   "metadata": {},
   "outputs": [
    {
     "name": "stdout",
     "output_type": "stream",
     "text": [
      "Train on 4500 samples, validate on 500 samples\n",
      "Epoch 1/5\n",
      "4500/4500 [==============================] - 3s 712us/sample - loss: 2.8871 - accuracy: 0.1258 - val_loss: 2.5539 - val_accuracy: 0.4680\n",
      "Epoch 2/5\n",
      "4500/4500 [==============================] - 1s 320us/sample - loss: 2.1914 - accuracy: 0.3789 - val_loss: 1.5123 - val_accuracy: 0.7360\n",
      "Epoch 3/5\n",
      "4500/4500 [==============================] - 1s 321us/sample - loss: 1.4294 - accuracy: 0.5880 - val_loss: 0.9836 - val_accuracy: 0.7840\n",
      "Epoch 4/5\n",
      "4500/4500 [==============================] - 2s 342us/sample - loss: 0.9365 - accuracy: 0.7438 - val_loss: 0.7244 - val_accuracy: 0.8180\n",
      "Epoch 5/5\n",
      "4500/4500 [==============================] - 1s 283us/sample - loss: 0.6605 - accuracy: 0.8136 - val_loss: 0.6230 - val_accuracy: 0.8440\n",
      "binary 모드의 테스트 정확도:  0.7445\n",
      "Train on 4500 samples, validate on 500 samples\n",
      "Epoch 1/5\n",
      "4500/4500 [==============================] - 1s 307us/sample - loss: 3.3429 - accuracy: 0.0982 - val_loss: 2.7374 - val_accuracy: 0.3980\n",
      "Epoch 2/5\n",
      "4500/4500 [==============================] - 1s 206us/sample - loss: 2.6632 - accuracy: 0.2516 - val_loss: 2.2432 - val_accuracy: 0.5940\n",
      "Epoch 3/5\n",
      "4500/4500 [==============================] - 1s 309us/sample - loss: 2.1122 - accuracy: 0.4216 - val_loss: 1.5655 - val_accuracy: 0.7000\n",
      "Epoch 4/5\n",
      "4500/4500 [==============================] - 1s 250us/sample - loss: 1.5689 - accuracy: 0.5756 - val_loss: 1.1575 - val_accuracy: 0.7500\n",
      "Epoch 5/5\n",
      "4500/4500 [==============================] - 1s 216us/sample - loss: 1.1860 - accuracy: 0.6769 - val_loss: 0.8818 - val_accuracy: 0.7960\n",
      "count 모드의 테스트 정확도:  0.7145\n",
      "Train on 4500 samples, validate on 500 samples\n",
      "Epoch 1/5\n",
      "4500/4500 [==============================] - 4s 878us/sample - loss: 2.9288 - accuracy: 0.1478 - val_loss: 2.3438 - val_accuracy: 0.5340\n",
      "Epoch 2/5\n",
      "4500/4500 [==============================] - 3s 700us/sample - loss: 2.0272 - accuracy: 0.4093 - val_loss: 1.3347 - val_accuracy: 0.7780\n",
      "Epoch 3/5\n",
      "4500/4500 [==============================] - 3s 757us/sample - loss: 1.3543 - accuracy: 0.6111 - val_loss: 0.9027 - val_accuracy: 0.7900\n",
      "Epoch 4/5\n",
      "4500/4500 [==============================] - 3s 633us/sample - loss: 0.9036 - accuracy: 0.7429 - val_loss: 0.6875 - val_accuracy: 0.8260\n",
      "Epoch 5/5\n",
      "4500/4500 [==============================] - 3s 634us/sample - loss: 0.6172 - accuracy: 0.8256 - val_loss: 0.5850 - val_accuracy: 0.8480\n",
      "tfidf 모드의 테스트 정확도:  0.7425\n",
      "Train on 4500 samples, validate on 500 samples\n",
      "Epoch 1/5\n",
      "4500/4500 [==============================] - 3s 704us/sample - loss: 2.9918 - accuracy: 0.0662 - val_loss: 2.9819 - val_accuracy: 0.0560\n",
      "Epoch 2/5\n",
      "4500/4500 [==============================] - 1s 315us/sample - loss: 2.9663 - accuracy: 0.1047 - val_loss: 2.9337 - val_accuracy: 0.2760\n",
      "Epoch 3/5\n",
      "4500/4500 [==============================] - 2s 347us/sample - loss: 2.8836 - accuracy: 0.1738 - val_loss: 2.7775 - val_accuracy: 0.3140\n",
      "Epoch 4/5\n",
      "4500/4500 [==============================] - 2s 335us/sample - loss: 2.6843 - accuracy: 0.2189 - val_loss: 2.5103 - val_accuracy: 0.3760\n",
      "Epoch 5/5\n",
      "4500/4500 [==============================] - 2s 341us/sample - loss: 2.4235 - accuracy: 0.2620 - val_loss: 2.2441 - val_accuracy: 0.4080\n",
      "freq 모드의 테스트 정확도:  0.377\n"
     ]
    }
   ],
   "source": [
    "modes =['binary', 'count', 'tfidf', 'freq']\n",
    "\n",
    "for mode in modes:\n",
    "    x_train, x_test, _ = prepare_data(train_email, test_email, mode)\n",
    "    score = fit_and_evaluate(x_train, y_train, x_test, y_test)\n",
    "    print('\\n', mode+' 모드의 테스트 정확도: ', score)"
   ]
  },
  {
   "cell_type": "code",
   "execution_count": null,
   "metadata": {},
   "outputs": [],
   "source": []
  }
 ],
 "metadata": {
  "kernelspec": {
   "display_name": "Python 3",
   "language": "python",
   "name": "python3"
  },
  "language_info": {
   "codemirror_mode": {
    "name": "ipython",
    "version": 3
   },
   "file_extension": ".py",
   "mimetype": "text/x-python",
   "name": "python",
   "nbconvert_exporter": "python",
   "pygments_lexer": "ipython3",
   "version": "3.6.9"
  }
 },
 "nbformat": 4,
 "nbformat_minor": 2
}
