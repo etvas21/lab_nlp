{
 "cells": [
  {
   "cell_type": "markdown",
   "metadata": {},
   "source": [
    "# NUMPY example"
   ]
  },
  {
   "cell_type": "code",
   "execution_count": 3,
   "metadata": {},
   "outputs": [],
   "source": [
    "import numpy as np"
   ]
  },
  {
   "cell_type": "markdown",
   "metadata": {},
   "source": [
    "**Numpy의 특징**\n",
    "* 넘파이(Numpy)는 수치 데이터를 다루는 파이썬 패키지입니다. \n",
    "* Numpy의 핵심이라고 불리는 다차원 행렬 자료구조인 ndarray를 통해 벡터 및 행렬을 사용하는 선형 대수 계산에서 주로 사용됩니다. \n",
    "* Numpy는 편의성뿐만 아니라, 속도면에서도 순수 파이썬에 비해 압도적으로 빠르다는 장점이 있습니다.\n",
    "\n",
    "**Numpy의 주요 모듈**\n",
    "1. np.array() # 리스트, 튜플, 배열로 부터 ndarray(n-dimension array)를 생성\n",
    "2. np.asarray() # 기존의 array로 부터 ndarray를 생성\n",
    "3. np.arange() # range와 비슷\n",
    "4. np.linspace(start, end, num) # [start, end] 균일한 간격으로 num개 생성\n",
    "5. np.logspace(start, end, num) # [start, end] log scale 간격으로 num개 생성"
   ]
  },
  {
   "cell_type": "markdown",
   "metadata": {},
   "source": [
    "### 1) np.array()\n",
    "\n",
    "* 앞서 Numpy의 핵심은 ndarray라고 언급한 바 있습니다. \n",
    "* np.array()는 리스트, 튜플, 배열로 부터 ndarray를 생성합니다. \n",
    "** 또한 인덱스가 항상 0으로 시작한다는 특징을 갖고 있습니다.\n",
    "\n",
    "우선 파이썬 자료구조 중 하나인 리스트를 가지고 1차원 배열을 생성해보도록 하겠습니다."
   ]
  },
  {
   "cell_type": "code",
   "execution_count": 8,
   "metadata": {},
   "outputs": [
    {
     "name": "stdout",
     "output_type": "stream",
     "text": [
      "<class 'numpy.ndarray'>\n",
      "[1 2 3 4 5]\n",
      "a.ndim is: 1\n",
      "a.shape is: (5,)\n"
     ]
    }
   ],
   "source": [
    "a = np.array([1, 2, 3, 4, 5]) #리스트를 가지고 1차원 배열 생성\n",
    "print(type(a))\n",
    "print(a)\n",
    "print('a.ndim is:',a.ndim) #차원 출력\n",
    "print('a.shape is:',a.shape) #크기 출력"
   ]
  },
  {
   "cell_type": "markdown",
   "metadata": {},
   "source": [
    "타입이 numpy.ndarray라고 나오고 있으며, 배열로 생성되었음을 알 수 있습니다. \n",
    "* 이제 2차원 배열을 만들어보도록 하겠습니다. \n",
    "* 한가지 주의할 점은 array() 안에 하나의 리스트만 들어가므로 **리스트의 리스트**를 넣어야 합니다."
   ]
  },
  {
   "cell_type": "code",
   "execution_count": 7,
   "metadata": {},
   "outputs": [
    {
     "name": "stdout",
     "output_type": "stream",
     "text": [
      "[[10 20 30]\n",
      " [60 70 80]]\n",
      "b.ndim is: 2\n",
      "b.shape is: (2, 3)\n"
     ]
    }
   ],
   "source": [
    "b = np.array([[10, 20, 30], [ 60, 70, 80]]) \n",
    "print(b) #출력\n",
    "print('b.ndim is:',b.ndim) #차원 출력\n",
    "print('b.shape is:',b.shape) #크기 출력"
   ]
  },
  {
   "cell_type": "markdown",
   "metadata": {},
   "source": [
    "### 2) ndarray 초기화\n",
    "위에서는 리스트를 가지고 ndarray를 생성했지만, ndarray를 만드는 다양한 다른 방법이 존재합니다. \n",
    "1. **zeros()**는 해당 배열에 모두 0을 삽입하고, \n",
    "2. **ones()**는 모두 1을 삽입합니다. \n",
    "3. **full()**은 배열에 사용자가 지정한 값을 넣는데 사용하고, \n",
    "4. **eye()**는 대각선으로는 1이고 나머지는 0인 2차원 배열을 생성합니다."
   ]
  },
  {
   "cell_type": "code",
   "execution_count": 18,
   "metadata": {},
   "outputs": [
    {
     "name": "stdout",
     "output_type": "stream",
     "text": [
      "2행 array is : [0. 0.]\n",
      "2행3열 array is: [[0. 0. 0.]\n",
      " [0. 0. 0.]]\n"
     ]
    }
   ],
   "source": [
    "# zeros()\n",
    "a = np.zeros(2)\n",
    "print('2행 array is :',a)\n",
    "a= np.zeros((2,3))\n",
    "print('2행3열 array is:',a)"
   ]
  },
  {
   "cell_type": "code",
   "execution_count": 19,
   "metadata": {},
   "outputs": [
    {
     "name": "stdout",
     "output_type": "stream",
     "text": [
      "[[1. 1. 1.]\n",
      " [1. 1. 1.]]\n"
     ]
    }
   ],
   "source": [
    "# ones()\n",
    "a = np.ones((2,3))\n",
    "print(a)"
   ]
  },
  {
   "cell_type": "code",
   "execution_count": 21,
   "metadata": {},
   "outputs": [
    {
     "name": "stdout",
     "output_type": "stream",
     "text": [
      "[[7 7 7]\n",
      " [7 7 7]]\n"
     ]
    }
   ],
   "source": [
    "# full()\n",
    "a = np.full((2,3),7)   # 2x3 w/ 7\n",
    "print(a)"
   ]
  },
  {
   "cell_type": "code",
   "execution_count": 24,
   "metadata": {},
   "outputs": [
    {
     "name": "stdout",
     "output_type": "stream",
     "text": [
      "[[1. 0. 0.]\n",
      " [0. 1. 0.]\n",
      " [0. 0. 1.]]\n"
     ]
    }
   ],
   "source": [
    "# eye()\n",
    "a = np.eye(3)   # 3x3 대각선으로 1이고 나머지는 0인 이차원 배열\n",
    "print(a)"
   ]
  },
  {
   "cell_type": "code",
   "execution_count": 25,
   "metadata": {},
   "outputs": [
    {
     "name": "stdout",
     "output_type": "stream",
     "text": [
      "[[0.92781567 0.03280858]\n",
      " [0.96588292 0.22125374]]\n"
     ]
    }
   ],
   "source": [
    "# random\n",
    "a = np.random.random((2,2))\n",
    "print(a)"
   ]
  },
  {
   "cell_type": "markdown",
   "metadata": {},
   "source": [
    "### 3) np.arange()\n",
    "np.arange()는 지정해준 범위에 대해서 배열을 생성합니다. np.arange()의 범위 지정 방법은 다음과 같습니다.\n",
    "```\n",
    "numpy.arange(start, stop, step, dtype)\n",
    "a = np.arange(n) # 0, ..., n-1까지 범위의 지정.\n",
    "a = np.arange(i, j, k) # i부터 j-1까지 k씩 증가하는 배열.\n",
    "```"
   ]
  },
  {
   "cell_type": "code",
   "execution_count": 28,
   "metadata": {},
   "outputs": [
    {
     "name": "stdout",
     "output_type": "stream",
     "text": [
      "[0 1 2 3 4 5 6 7 8 9]\n"
     ]
    }
   ],
   "source": [
    "a = np.arange(10)   # 0 ~ 9\n",
    "print(a)"
   ]
  },
  {
   "cell_type": "code",
   "execution_count": 29,
   "metadata": {},
   "outputs": [
    {
     "name": "stdout",
     "output_type": "stream",
     "text": [
      "[1 3 5 7 9]\n"
     ]
    }
   ],
   "source": [
    "a = np.arange(1,10,2)   # 1부터  9까지 , +2씩 증가\n",
    "print(a)"
   ]
  },
  {
   "cell_type": "markdown",
   "metadata": {},
   "source": [
    "### 4) resape()"
   ]
  },
  {
   "cell_type": "code",
   "execution_count": 31,
   "metadata": {},
   "outputs": [
    {
     "name": "stdout",
     "output_type": "stream",
     "text": [
      "[[ 0  1  2  3  4  5]\n",
      " [ 6  7  8  9 10 11]\n",
      " [12 13 14 15 16 17]\n",
      " [18 19 20 21 22 23]\n",
      " [24 25 26 27 28 29]]\n"
     ]
    }
   ],
   "source": [
    "#0부터 29 까지의 숫자를 생성하는 arange(n) 함수에 배열을 다차원으로 변형하는 reshape()를 통해 배열을 생성합니다.\n",
    "a = np.array(np.arange(30)).reshape((5,6))\n",
    "print(a)"
   ]
  },
  {
   "cell_type": "markdown",
   "metadata": {},
   "source": [
    "### 5) Numpy 슬라이싱\n",
    "```\n",
    "ndarray를 통해 만든 다차원 배열은 파이썬의 리스트처럼 슬라이스(Slice) 기능을 지원합니다. \n",
    "슬라이스 기능을 사용하면 원소들 중 복수 개에 접근할 수 있습니다.\n",
    "```"
   ]
  },
  {
   "cell_type": "code",
   "execution_count": 32,
   "metadata": {},
   "outputs": [
    {
     "name": "stdout",
     "output_type": "stream",
     "text": [
      "[[1 2 3]\n",
      " [4 5 6]]\n"
     ]
    }
   ],
   "source": [
    "a = np.array([[1, 2, 3], [4, 5, 6]])\n",
    "print(a)"
   ]
  },
  {
   "cell_type": "code",
   "execution_count": 33,
   "metadata": {},
   "outputs": [
    {
     "name": "stdout",
     "output_type": "stream",
     "text": [
      "[[1 2]\n",
      " [4 5]]\n"
     ]
    }
   ],
   "source": [
    "b=a[0:2, 0:2]\n",
    "print(b)"
   ]
  },
  {
   "cell_type": "code",
   "execution_count": 36,
   "metadata": {},
   "outputs": [
    {
     "name": "stdout",
     "output_type": "stream",
     "text": [
      "1번째 행 출력 : [1 2 3]\n",
      "2번째 열 출력 : [2 5]\n"
     ]
    }
   ],
   "source": [
    "b=a[0, :] # 첫번째 행 출력\n",
    "print('1번째 행 출력 :',b)\n",
    "\n",
    "b=a[:, 1] # 두번째 열 출력\n",
    "print('2번째 열 출력 :', b)"
   ]
  },
  {
   "cell_type": "markdown",
   "metadata": {},
   "source": [
    "### 6) Numpy 정수 인덱싱(integer indexing)\n",
    "정수 인덱싱은 원본 배열로부터 부분 배열을 구합니다."
   ]
  },
  {
   "cell_type": "code",
   "execution_count": 42,
   "metadata": {},
   "outputs": [
    {
     "name": "stdout",
     "output_type": "stream",
     "text": [
      "[8 4]\n",
      "8 4\n"
     ]
    }
   ],
   "source": [
    "a = np.array([[1,2], [4,5], [7,8]])\n",
    "b = a[[2, 1],[1, 0]] \n",
    "print(b)\n",
    "print(a[2,1], a[1,0])"
   ]
  },
  {
   "cell_type": "markdown",
   "metadata": {},
   "source": [
    "### 7) Numpy 연산\n",
    "Numpy를 사용하면 배열간 연산을 손쉽게 수행할 수 있습니다. \n",
    "* +, -, *, /의 연산자를 사용할 수 있으며, \n",
    "* 또는 add(), substract(), multiply(), divide() 함수를 사용할 수도 있습니다."
   ]
  },
  {
   "cell_type": "code",
   "execution_count": null,
   "metadata": {},
   "outputs": [],
   "source": [
    "x = np.array([1,2,3])\n",
    "y = np.array([4,5,6])"
   ]
  },
  {
   "cell_type": "code",
   "execution_count": 46,
   "metadata": {},
   "outputs": [
    {
     "name": "stdout",
     "output_type": "stream",
     "text": [
      "[5 7 9]\n"
     ]
    }
   ],
   "source": [
    "b = x + y # 각 요소에 대해서 더함\n",
    "# b = np.add(x, y)와 동일함\n",
    "print(b)"
   ]
  },
  {
   "cell_type": "code",
   "execution_count": 47,
   "metadata": {},
   "outputs": [
    {
     "name": "stdout",
     "output_type": "stream",
     "text": [
      "[-3 -3 -3]\n"
     ]
    }
   ],
   "source": [
    "b = x - y # 각 요소에 대해서 빼기\n",
    "# b = np.substract(x, y)와 동일함\n",
    "print(b)"
   ]
  },
  {
   "cell_type": "code",
   "execution_count": 48,
   "metadata": {},
   "outputs": [
    {
     "name": "stdout",
     "output_type": "stream",
     "text": [
      "[-3 -6 -9]\n"
     ]
    }
   ],
   "source": [
    "b = b * x # 각 요소에 대해서 곱셈\n",
    "# b = np.multiply(b, x)와 동일함\n",
    "print(b)"
   ]
  },
  {
   "cell_type": "code",
   "execution_count": 49,
   "metadata": {},
   "outputs": [
    {
     "name": "stdout",
     "output_type": "stream",
     "text": [
      "[-3. -3. -3.]\n"
     ]
    }
   ],
   "source": [
    "b = b / x # 각 요소에 대해서 나눗셈\n",
    "# b = np.divide(b, x)와 동일함\n",
    "print(b)"
   ]
  },
  {
   "cell_type": "markdown",
   "metadata": {},
   "source": [
    "```\n",
    "위에서 *를 통해 수행한 것은 요소별 곱이었습니다. \n",
    "Numpy에서 벡터와 행렬의 곱 또는 행렬곱을 위해서는 dot()을 사용해야 합니다.\n",
    "```"
   ]
  },
  {
   "cell_type": "code",
   "execution_count": 50,
   "metadata": {},
   "outputs": [
    {
     "name": "stdout",
     "output_type": "stream",
     "text": [
      "[[19 22]\n",
      " [43 50]]\n"
     ]
    }
   ],
   "source": [
    "a = np.array([[1,2],[3,4]])\n",
    "b = np.array([[5,6],[7,8]])\n",
    "\n",
    "c = np.dot(a, b)\n",
    "print(c)"
   ]
  },
  {
   "cell_type": "code",
   "execution_count": null,
   "metadata": {},
   "outputs": [],
   "source": []
  }
 ],
 "metadata": {
  "kernelspec": {
   "display_name": "Python 3",
   "language": "python",
   "name": "python3"
  },
  "language_info": {
   "codemirror_mode": {
    "name": "ipython",
    "version": 3
   },
   "file_extension": ".py",
   "mimetype": "text/x-python",
   "name": "python",
   "nbconvert_exporter": "python",
   "pygments_lexer": "ipython3",
   "version": "3.6.9"
  }
 },
 "nbformat": 4,
 "nbformat_minor": 2
}
