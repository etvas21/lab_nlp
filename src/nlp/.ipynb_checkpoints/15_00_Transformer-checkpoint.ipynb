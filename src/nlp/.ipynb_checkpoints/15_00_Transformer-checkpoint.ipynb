{
 "cells": [
  {
   "cell_type": "markdown",
   "metadata": {},
   "source": [
    "# 15. 트랜스포머(Transformer)\n",
    "이번 트랜스포머 챕터에서는 seq2seq의 단점을 개선하면서도 여전히 인코더-디코더 구조를 유지하고 있는 트랜스포머 모델을 통해 챗봇을 구현해보도록 하겠습니다. 또한 트랜스포머의 인코더를 쌓아올려서 2018년 가장 핫한 모델인 BERT를 이해하고, 사전 훈련 된 BERT를 사용하여 텍스트 분류를 수행해봅시다."
   ]
  },
  {
   "cell_type": "code",
   "execution_count": null,
   "metadata": {},
   "outputs": [],
   "source": []
  }
 ],
 "metadata": {
  "kernelspec": {
   "display_name": "Python 3",
   "language": "python",
   "name": "python3"
  },
  "language_info": {
   "codemirror_mode": {
    "name": "ipython",
    "version": 3
   },
   "file_extension": ".py",
   "mimetype": "text/x-python",
   "name": "python",
   "nbconvert_exporter": "python",
   "pygments_lexer": "ipython3",
   "version": "3.6.9"
  }
 },
 "nbformat": 4,
 "nbformat_minor": 2
}
