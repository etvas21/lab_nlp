{
 "cells": [
  {
   "cell_type": "code",
   "execution_count": 20,
   "metadata": {},
   "outputs": [],
   "source": [
    "from elasticsearch import Elasticsearch"
   ]
  },
  {
   "cell_type": "markdown",
   "metadata": {},
   "source": [
    "es what hostname is defined container_name in docker-compose.yml"
   ]
  },
  {
   "cell_type": "code",
   "execution_count": 21,
   "metadata": {},
   "outputs": [],
   "source": [
    "es = Elasticsearch(\"http://es:9200/\")"
   ]
  },
  {
   "cell_type": "code",
   "execution_count": 22,
   "metadata": {},
   "outputs": [
    {
     "data": {
      "text/plain": [
       "{'name': 'jmBnni8',\n",
       " 'cluster_name': 'elasticsearch',\n",
       " 'cluster_uuid': 'sIh0C8DaTGumNCYvMTDI0Q',\n",
       " 'version': {'number': '6.8.6',\n",
       "  'build_flavor': 'default',\n",
       "  'build_type': 'deb',\n",
       "  'build_hash': '3d9f765',\n",
       "  'build_date': '2019-12-13T17:11:52.013738Z',\n",
       "  'build_snapshot': False,\n",
       "  'lucene_version': '7.7.2',\n",
       "  'minimum_wire_compatibility_version': '5.6.0',\n",
       "  'minimum_index_compatibility_version': '5.0.0'},\n",
       " 'tagline': 'You Know, for Search'}"
      ]
     },
     "execution_count": 22,
     "metadata": {},
     "output_type": "execute_result"
    }
   ],
   "source": [
    "es.info()"
   ]
  },
  {
   "cell_type": "code",
   "execution_count": 23,
   "metadata": {},
   "outputs": [],
   "source": [
    "def make_index(es, idx_nm):\n",
    "    if es.indices.exists(index=idx_nm):\n",
    "        es.indices.delete(index=idx_nm)\n",
    "    print(es.indices.create(index=idx_nm))"
   ]
  },
  {
   "cell_type": "code",
   "execution_count": 24,
   "metadata": {},
   "outputs": [
    {
     "name": "stdout",
     "output_type": "stream",
     "text": [
      "{'acknowledged': True, 'shards_acknowledged': True, 'index': 'goods'}\n"
     ]
    }
   ],
   "source": [
    "idx_nm = 'goods'\n",
    "make_index(es, idx_nm)"
   ]
  },
  {
   "cell_type": "code",
   "execution_count": 25,
   "metadata": {},
   "outputs": [
    {
     "data": {
      "text/plain": [
       "{'_shards': {'total': 10, 'successful': 5, 'failed': 0}}"
      ]
     },
     "execution_count": 25,
     "metadata": {},
     "output_type": "execute_result"
    }
   ],
   "source": [
    "# Save data\n",
    "doc1 = {'goods_nm':'삼성 노트북', 'price':1000}\n",
    "doc2 = {'goods_nm':'엘지 노트북', 'price':2000}\n",
    "doc3 = {'goods_nm':'애플 맥북 프로', 'price':3000}\n",
    "\n",
    "es.index(index=idx_nm, doc_type='string', body=doc1)\n",
    "es.index(index=idx_nm, doc_type='string', body=doc2)\n",
    "es.index(index=idx_nm, doc_type='string', body=doc3)\n",
    "\n",
    "es.indices.refresh(index=idx_nm)"
   ]
  },
  {
   "cell_type": "code",
   "execution_count": 19,
   "metadata": {},
   "outputs": [
    {
     "name": "stdout",
     "output_type": "stream",
     "text": [
      "score: 0.8142733 source: {'goods_nm': '삼성 노트북', 'price': 1000}\n",
      "score: 0.6099695 source: {'goods_nm': '엘지 노트북', 'price': 2000}\n",
      "score: 0.49917623 source: {'goods_nm': '애플 노트북', 'price': 3000}\n",
      "score: 0.49917623 source: {'goods_nm': '삼성 노트북', 'price': 1000}\n",
      "score: 0.2876821 source: {'goods_nm': '엘지 노트북', 'price': 2000}\n"
     ]
    }
   ],
   "source": [
    "# search '노트북'\n",
    "results = es.search(index=idx_nm, \n",
    "                    body={'from':0, 'size':10\n",
    "                          , 'query':{'match':{'goods_nm':'노트북'}}})\n",
    "for result in results['hits']['hits']:\n",
    "    print('score:', result['_score'], 'source:', result['_source'])"
   ]
  },
  {
   "cell_type": "code",
   "execution_count": null,
   "metadata": {},
   "outputs": [],
   "source": []
  }
 ],
 "metadata": {
  "kernelspec": {
   "display_name": "Python 3",
   "language": "python",
   "name": "python3"
  },
  "language_info": {
   "codemirror_mode": {
    "name": "ipython",
    "version": 3
   },
   "file_extension": ".py",
   "mimetype": "text/x-python",
   "name": "python",
   "nbconvert_exporter": "python",
   "pygments_lexer": "ipython3",
   "version": "3.7.3"
  }
 },
 "nbformat": 4,
 "nbformat_minor": 2
}
