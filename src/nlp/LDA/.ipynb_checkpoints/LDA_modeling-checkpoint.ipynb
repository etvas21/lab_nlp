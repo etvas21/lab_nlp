{
 "cells": [
  {
   "cell_type": "code",
   "execution_count": 104,
   "metadata": {},
   "outputs": [],
   "source": [
    "# ref :https://blog.naver.com/upennsolution/221437143732\n",
    "import re # We clean text using regex\n",
    "import csv # To read the csv\n",
    "\n",
    "from collections import defaultdict # For accumlating values\n",
    "from nltk.corpus import stopwords # To remove stopwords\n",
    "\n",
    "from gensim import corpora # To create corpus and dictionary for the LDA model\n",
    "from gensim.models import LdaModel # To use the LDA model\n",
    "\n",
    "import pyLDAvis.gensim # To visualise LDA model effectively\n",
    "\n",
    "import pandas as pd"
   ]
  },
  {
   "cell_type": "code",
   "execution_count": 105,
   "metadata": {},
   "outputs": [],
   "source": [
    "fileContents = defaultdict(list)\n",
    "\n",
    "with open('../../../data/reviews_sample.csv', 'r', encoding='utf-8') as f:\n",
    "    reader = csv.DictReader(f)\n",
    "    for row in reader: # read a row as {column1: value1, column2: value2,...}\n",
    "        for (k,v) in row.items(): # go over each column name and value\n",
    "            fileContents[k].append(v) # append the value into the appropriate list"
   ]
  },
  {
   "cell_type": "code",
   "execution_count": 106,
   "metadata": {},
   "outputs": [
    {
     "name": "stdout",
     "output_type": "stream",
     "text": [
      "dict_keys(['\\ufeff', 'id', 'author', 'instance_id', 'rating', 'review_body', 'review_date', 'review_header', 'review_link', 'review_votes', 'sentiment', 'verified_purchase'])\n"
     ]
    }
   ],
   "source": [
    "print(fileContents.keys())\n",
    "\n",
    "reviews = fileContents['review_body']"
   ]
  },
  {
   "cell_type": "markdown",
   "metadata": {},
   "source": [
    "# Cleansing"
   ]
  },
  {
   "cell_type": "code",
   "execution_count": 107,
   "metadata": {},
   "outputs": [
    {
     "data": {
      "text/plain": [
       "[['doesnt',\n",
       "  'know',\n",
       "  'much',\n",
       "  'cant',\n",
       "  'answer',\n",
       "  'questions',\n",
       "  'google',\n",
       "  'instead'],\n",
       " ['easy', 'use'],\n",
       " ['alexa', 'assistant', 'around'],\n",
       " ['fun'],\n",
       " ['think',\n",
       "  'google',\n",
       "  'home',\n",
       "  'much',\n",
       "  'works',\n",
       "  'better',\n",
       "  'also',\n",
       "  'great',\n",
       "  'kids',\n",
       "  'love']]"
      ]
     },
     "execution_count": 107,
     "metadata": {},
     "output_type": "execute_result"
    }
   ],
   "source": [
    "# Punchuation marks\n",
    "reviews = [re.sub(r'[^\\w\\s]','',str(item)) for item in reviews]\n",
    "\n",
    "# Stop word, conversion to lowcase\n",
    "stop_words = stopwords.words('english')\n",
    "texts = [[word for word in document.lower().split() if word not in stop_words] for document in reviews]\n",
    "\n",
    "# 사용빈도 낮은 단어 제거하기\n",
    "# feequcney ={ Token: frequency}\n",
    "frequency = defaultdict(int)\n",
    "\n",
    "for text in texts:\n",
    "    for token in text:\n",
    "        frequency[token] += 1\n",
    "        \n",
    "texts = [[token for token in text if frequency[token] > 1] for text in texts]\n",
    "texts[:5]"
   ]
  },
  {
   "cell_type": "markdown",
   "metadata": {},
   "source": [
    "# Build Dictionary"
   ]
  },
  {
   "cell_type": "code",
   "execution_count": 108,
   "metadata": {},
   "outputs": [],
   "source": [
    "# Build dictioary\n",
    "dictionary = corpora.Dictionary(texts)"
   ]
  },
  {
   "cell_type": "code",
   "execution_count": 109,
   "metadata": {},
   "outputs": [
    {
     "name": "stdout",
     "output_type": "stream",
     "text": [
      "Dictionary(196 unique tokens: ['answer', 'cant', 'doesnt', 'google', 'instead']...) 196\n"
     ]
    }
   ],
   "source": [
    "print(dictionary,len(dictionary))"
   ]
  },
  {
   "cell_type": "code",
   "execution_count": 110,
   "metadata": {},
   "outputs": [
    {
     "name": "stdout",
     "output_type": "stream",
     "text": [
      "\n",
      "corpus ==>  [(22, 1), (23, 1), (24, 1), (26, 2), (38, 1), (40, 2), (47, 1), (96, 1), (106, 1), (107, 1), (117, 1), (140, 1), (157, 1), (163, 1), (164, 1), (165, 1), (166, 1)]\n",
      "\n",
      "texts ==>  ['bought', 'second', 'echo', 'dot', 'one', 'night', 'stand', 'one', 'room', 'enjoy', 'different', 'music', 'day', 'play', 'sleep', 'music', 'set', 'alarm', 'stuff']\n",
      "\n",
      "dictioary ==>  one music\n"
     ]
    }
   ],
   "source": [
    "# corpus (word_id, word_frequency)\n",
    "corpus = [dictionary.doc2bow(text) for text in texts]\n",
    "print('\\ncorpus ==> ', corpus[50])\n",
    "print('\\ntexts ==> ', texts[50])\n",
    "print('\\ndictioary ==> ',dictionary[26],dictionary[40])   # word_id 26,40이 texts의 50행에서 가각 2회 사용"
   ]
  },
  {
   "cell_type": "markdown",
   "metadata": {},
   "source": [
    "# LDA Model Training"
   ]
  },
  {
   "cell_type": "code",
   "execution_count": 111,
   "metadata": {},
   "outputs": [],
   "source": [
    "NUM_TOPICS = 9 # This is an assumption.\n",
    "ldamodel = LdaModel(corpus, num_topics = NUM_TOPICS, id2word=dictionary, passes=15) #This might take some time."
   ]
  },
  {
   "cell_type": "markdown",
   "metadata": {},
   "source": [
    "# 분석결과"
   ]
  },
  {
   "cell_type": "code",
   "execution_count": 112,
   "metadata": {},
   "outputs": [
    {
     "name": "stdout",
     "output_type": "stream",
     "text": [
      "\n",
      " (0, '0.069*\"alexa\" + 0.044*\"speaker\" + 0.035*\"bluetooth\" + 0.027*\"laptop\" + 0.027*\"assistant\" + 0.027*\"awesome\" + 0.027*\"better\" + 0.025*\"sound\" + 0.021*\"much\" + 0.018*\"love\"')\n",
      "\n",
      " (1, '0.086*\"love\" + 0.067*\"like\" + 0.045*\"much\" + 0.045*\"product\" + 0.041*\"excellent\" + 0.031*\"great\" + 0.031*\"kids\" + 0.026*\"questions\" + 0.020*\"useful\" + 0.017*\"google\"')\n",
      "\n",
      " (2, '0.060*\"still\" + 0.031*\"also\" + 0.031*\"bought\" + 0.031*\"price\" + 0.031*\"learning\" + 0.030*\"small\" + 0.021*\"great\" + 0.017*\"love\" + 0.016*\"use\" + 0.016*\"product\"')\n",
      "\n",
      " (3, '0.032*\"sound\" + 0.031*\"price\" + 0.031*\"use\" + 0.031*\"alexa\" + 0.031*\"quality\" + 0.031*\"also\" + 0.031*\"ordered\" + 0.031*\"im\" + 0.021*\"echo\" + 0.021*\"actual\"')\n",
      "\n",
      " (4, '0.057*\"alexa\" + 0.041*\"would\" + 0.033*\"ask\" + 0.033*\"apps\" + 0.033*\"amazon\" + 0.033*\"link\" + 0.032*\"google\" + 0.025*\"one\" + 0.025*\"make\" + 0.025*\"honeywell\"')\n",
      "\n",
      " (5, '0.052*\"great\" + 0.041*\"one\" + 0.033*\"echo\" + 0.029*\"dot\" + 0.029*\"alexa\" + 0.025*\"set\" + 0.025*\"music\" + 0.025*\"dont\" + 0.022*\"love\" + 0.021*\"works\"')\n",
      "\n",
      " (6, '0.054*\"really\" + 0.041*\"love\" + 0.033*\"use\" + 0.033*\"anything\" + 0.029*\"voice\" + 0.022*\"great\" + 0.022*\"cant\" + 0.022*\"home\" + 0.022*\"alexa\" + 0.022*\"good\"')\n",
      "\n",
      " (7, '0.064*\"easy\" + 0.058*\"use\" + 0.052*\"connection\" + 0.051*\"music\" + 0.039*\"crackle\" + 0.039*\"dot\" + 0.027*\"via\" + 0.027*\"theatre\" + 0.027*\"echo\" + 0.027*\"digital\"')\n",
      "\n",
      " (8, '0.067*\"amazon\" + 0.045*\"get\" + 0.034*\"product\" + 0.034*\"great\" + 0.026*\"like\" + 0.023*\"alexa\" + 0.023*\"home\" + 0.023*\"old\" + 0.023*\"price\" + 0.023*\"little\"')\n"
     ]
    }
   ],
   "source": [
    "topics = ldamodel.show_topics()\n",
    "for topic in topics:\n",
    "    print('\\n',topic)"
   ]
  },
  {
   "cell_type": "markdown",
   "metadata": {},
   "source": [
    "- 단어 앞의 숫자는 단어의 해당 토픽에 대한 기여도"
   ]
  },
  {
   "cell_type": "code",
   "execution_count": 116,
   "metadata": {},
   "outputs": [
    {
     "data": {
      "text/html": [
       "<div>\n",
       "<style scoped>\n",
       "    .dataframe tbody tr th:only-of-type {\n",
       "        vertical-align: middle;\n",
       "    }\n",
       "\n",
       "    .dataframe tbody tr th {\n",
       "        vertical-align: top;\n",
       "    }\n",
       "\n",
       "    .dataframe thead th {\n",
       "        text-align: right;\n",
       "    }\n",
       "</style>\n",
       "<table border=\"1\" class=\"dataframe\">\n",
       "  <thead>\n",
       "    <tr style=\"text-align: right;\">\n",
       "      <th></th>\n",
       "      <th>Topic#01</th>\n",
       "      <th>Topic#02</th>\n",
       "      <th>Topic#03</th>\n",
       "      <th>Topic#04</th>\n",
       "      <th>Topic#05</th>\n",
       "      <th>Topic#06</th>\n",
       "      <th>Topic#07</th>\n",
       "      <th>Topic#08</th>\n",
       "      <th>Topic#09</th>\n",
       "    </tr>\n",
       "  </thead>\n",
       "  <tbody>\n",
       "    <tr>\n",
       "      <th>0</th>\n",
       "      <td>alexa</td>\n",
       "      <td>love</td>\n",
       "      <td>still</td>\n",
       "      <td>sound</td>\n",
       "      <td>alexa</td>\n",
       "      <td>great</td>\n",
       "      <td>really</td>\n",
       "      <td>easy</td>\n",
       "      <td>amazon</td>\n",
       "    </tr>\n",
       "    <tr>\n",
       "      <th>1</th>\n",
       "      <td>speaker</td>\n",
       "      <td>like</td>\n",
       "      <td>also</td>\n",
       "      <td>price</td>\n",
       "      <td>would</td>\n",
       "      <td>one</td>\n",
       "      <td>love</td>\n",
       "      <td>use</td>\n",
       "      <td>get</td>\n",
       "    </tr>\n",
       "    <tr>\n",
       "      <th>2</th>\n",
       "      <td>bluetooth</td>\n",
       "      <td>much</td>\n",
       "      <td>bought</td>\n",
       "      <td>use</td>\n",
       "      <td>ask</td>\n",
       "      <td>echo</td>\n",
       "      <td>use</td>\n",
       "      <td>connection</td>\n",
       "      <td>product</td>\n",
       "    </tr>\n",
       "    <tr>\n",
       "      <th>3</th>\n",
       "      <td>laptop</td>\n",
       "      <td>product</td>\n",
       "      <td>price</td>\n",
       "      <td>alexa</td>\n",
       "      <td>apps</td>\n",
       "      <td>dot</td>\n",
       "      <td>anything</td>\n",
       "      <td>music</td>\n",
       "      <td>great</td>\n",
       "    </tr>\n",
       "    <tr>\n",
       "      <th>4</th>\n",
       "      <td>assistant</td>\n",
       "      <td>excellent</td>\n",
       "      <td>learning</td>\n",
       "      <td>quality</td>\n",
       "      <td>amazon</td>\n",
       "      <td>alexa</td>\n",
       "      <td>voice</td>\n",
       "      <td>crackle</td>\n",
       "      <td>like</td>\n",
       "    </tr>\n",
       "    <tr>\n",
       "      <th>5</th>\n",
       "      <td>awesome</td>\n",
       "      <td>great</td>\n",
       "      <td>small</td>\n",
       "      <td>also</td>\n",
       "      <td>link</td>\n",
       "      <td>set</td>\n",
       "      <td>great</td>\n",
       "      <td>dot</td>\n",
       "      <td>alexa</td>\n",
       "    </tr>\n",
       "    <tr>\n",
       "      <th>6</th>\n",
       "      <td>better</td>\n",
       "      <td>kids</td>\n",
       "      <td>great</td>\n",
       "      <td>ordered</td>\n",
       "      <td>google</td>\n",
       "      <td>music</td>\n",
       "      <td>cant</td>\n",
       "      <td>via</td>\n",
       "      <td>home</td>\n",
       "    </tr>\n",
       "    <tr>\n",
       "      <th>7</th>\n",
       "      <td>sound</td>\n",
       "      <td>questions</td>\n",
       "      <td>love</td>\n",
       "      <td>im</td>\n",
       "      <td>one</td>\n",
       "      <td>dont</td>\n",
       "      <td>home</td>\n",
       "      <td>theatre</td>\n",
       "      <td>old</td>\n",
       "    </tr>\n",
       "    <tr>\n",
       "      <th>8</th>\n",
       "      <td>much</td>\n",
       "      <td>useful</td>\n",
       "      <td>use</td>\n",
       "      <td>echo</td>\n",
       "      <td>make</td>\n",
       "      <td>love</td>\n",
       "      <td>alexa</td>\n",
       "      <td>echo</td>\n",
       "      <td>price</td>\n",
       "    </tr>\n",
       "    <tr>\n",
       "      <th>9</th>\n",
       "      <td>love</td>\n",
       "      <td>google</td>\n",
       "      <td>product</td>\n",
       "      <td>actual</td>\n",
       "      <td>honeywell</td>\n",
       "      <td>works</td>\n",
       "      <td>good</td>\n",
       "      <td>digital</td>\n",
       "      <td>little</td>\n",
       "    </tr>\n",
       "  </tbody>\n",
       "</table>\n",
       "</div>"
      ],
      "text/plain": [
       "    Topic#01   Topic#02  Topic#03 Topic#04   Topic#05 Topic#06  Topic#07  \\\n",
       "0      alexa       love     still    sound      alexa    great    really   \n",
       "1    speaker       like      also    price      would      one      love   \n",
       "2  bluetooth       much    bought      use        ask     echo       use   \n",
       "3     laptop    product     price    alexa       apps      dot  anything   \n",
       "4  assistant  excellent  learning  quality     amazon    alexa     voice   \n",
       "5    awesome      great     small     also       link      set     great   \n",
       "6     better       kids     great  ordered     google    music      cant   \n",
       "7      sound  questions      love       im        one     dont      home   \n",
       "8       much     useful       use     echo       make     love     alexa   \n",
       "9       love     google   product   actual  honeywell    works      good   \n",
       "\n",
       "     Topic#08 Topic#09  \n",
       "0        easy   amazon  \n",
       "1         use      get  \n",
       "2  connection  product  \n",
       "3       music    great  \n",
       "4     crackle     like  \n",
       "5         dot    alexa  \n",
       "6         via     home  \n",
       "7     theatre      old  \n",
       "8        echo    price  \n",
       "9     digital   little  "
      ]
     },
     "execution_count": 116,
     "metadata": {},
     "output_type": "execute_result"
    }
   ],
   "source": [
    "word_dict ={}\n",
    "for i in range(NUM_TOPICS):\n",
    "    words = ldamodel.show_topic(i, topn =10)\n",
    "    word_dict['Topic#'+'{:02d}'.format(i+1)] = [i[0] for i in words]\n",
    "    \n",
    "pd.DataFrame(word_dict)    "
   ]
  },
  {
   "cell_type": "markdown",
   "metadata": {},
   "source": [
    "# PyLDAvis 시각화"
   ]
  },
  {
   "cell_type": "code",
   "execution_count": 17,
   "metadata": {},
   "outputs": [
    {
     "name": "stderr",
     "output_type": "stream",
     "text": [
      "/usr/local/lib/python3.6/dist-packages/pyLDAvis/_prepare.py:257: FutureWarning: Sorting because non-concatenation axis is not aligned. A future version\n",
      "of pandas will change to not sort by default.\n",
      "\n",
      "To accept the future behavior, pass 'sort=False'.\n",
      "\n",
      "To retain the current behavior and silence the warning, pass 'sort=True'.\n",
      "\n",
      "  return pd.concat([default_term_info] + list(topic_dfs))\n"
     ]
    },
    {
     "data": {
      "text/html": [
       "\n",
       "<link rel=\"stylesheet\" type=\"text/css\" href=\"https://cdn.rawgit.com/bmabey/pyLDAvis/files/ldavis.v1.0.0.css\">\n",
       "\n",
       "\n",
       "<div id=\"ldavis_el821402653667717762220594868\"></div>\n",
       "<script type=\"text/javascript\">\n",
       "\n",
       "var ldavis_el821402653667717762220594868_data = {\"mdsDat\": {\"x\": [-0.2091669554393717, 0.02116048452093784, 0.05776170868113712, -0.051270755468523575, 0.09342247948205622, 0.06580446451561923, 0.0904936341816932, -0.0065875790748432805, -0.06161748139870472], \"y\": [0.025775927672666336, -0.13691380238398532, -0.1285084755964357, -0.03941627667815211, 0.05277493041222902, 0.03486026594683637, 0.09774474580077078, 0.061666280475557195, 0.032016404350513124], \"topics\": [1, 2, 3, 4, 5, 6, 7, 8, 9], \"cluster\": [1, 1, 1, 1, 1, 1, 1, 1, 1], \"Freq\": [16.784835815429688, 15.188358306884766, 15.01434326171875, 11.162333488464355, 9.884968757629395, 9.23292064666748, 8.440911293029785, 7.532978057861328, 6.758352279663086]}, \"tinfo\": {\"Category\": [\"Default\", \"Default\", \"Default\", \"Default\", \"Default\", \"Default\", \"Default\", \"Default\", \"Default\", \"Default\", \"Default\", \"Default\", \"Default\", \"Default\", \"Default\", \"Default\", \"Default\", \"Default\", \"Default\", \"Default\", \"Default\", \"Default\", \"Default\", \"Default\", \"Default\", \"Default\", \"Default\", \"Default\", \"Default\", \"Default\", \"Topic1\", \"Topic1\", \"Topic1\", \"Topic1\", \"Topic1\", \"Topic1\", \"Topic1\", \"Topic1\", \"Topic1\", \"Topic1\", \"Topic1\", \"Topic1\", \"Topic1\", \"Topic1\", \"Topic1\", \"Topic1\", \"Topic1\", \"Topic1\", \"Topic1\", \"Topic1\", \"Topic1\", \"Topic1\", \"Topic1\", \"Topic1\", \"Topic1\", \"Topic1\", \"Topic1\", \"Topic1\", \"Topic1\", \"Topic1\", \"Topic1\", \"Topic1\", \"Topic1\", \"Topic1\", \"Topic1\", \"Topic1\", \"Topic1\", \"Topic1\", \"Topic1\", \"Topic1\", \"Topic2\", \"Topic2\", \"Topic2\", \"Topic2\", \"Topic2\", \"Topic2\", \"Topic2\", \"Topic2\", \"Topic2\", \"Topic2\", \"Topic2\", \"Topic2\", \"Topic2\", \"Topic2\", \"Topic2\", \"Topic2\", \"Topic2\", \"Topic2\", \"Topic2\", \"Topic2\", \"Topic2\", \"Topic2\", \"Topic2\", \"Topic2\", \"Topic2\", \"Topic2\", \"Topic2\", \"Topic2\", \"Topic2\", \"Topic2\", \"Topic2\", \"Topic2\", \"Topic2\", \"Topic2\", \"Topic2\", \"Topic2\", \"Topic2\", \"Topic2\", \"Topic2\", \"Topic2\", \"Topic2\", \"Topic2\", \"Topic2\", \"Topic2\", \"Topic3\", \"Topic3\", \"Topic3\", \"Topic3\", \"Topic3\", \"Topic3\", \"Topic3\", \"Topic3\", \"Topic3\", \"Topic3\", \"Topic3\", \"Topic3\", \"Topic3\", \"Topic3\", \"Topic3\", \"Topic3\", \"Topic3\", \"Topic3\", \"Topic3\", \"Topic3\", \"Topic3\", \"Topic3\", \"Topic3\", \"Topic3\", \"Topic3\", \"Topic3\", \"Topic3\", \"Topic3\", \"Topic3\", \"Topic3\", \"Topic3\", \"Topic3\", \"Topic3\", \"Topic3\", \"Topic3\", \"Topic3\", \"Topic3\", \"Topic3\", \"Topic3\", \"Topic3\", \"Topic3\", \"Topic3\", \"Topic3\", \"Topic3\", \"Topic4\", \"Topic4\", \"Topic4\", \"Topic4\", \"Topic4\", \"Topic4\", \"Topic4\", \"Topic4\", \"Topic4\", \"Topic4\", \"Topic4\", \"Topic4\", \"Topic4\", \"Topic4\", \"Topic4\", \"Topic4\", \"Topic4\", \"Topic4\", \"Topic4\", \"Topic4\", \"Topic4\", \"Topic4\", \"Topic4\", \"Topic4\", \"Topic4\", \"Topic4\", \"Topic4\", \"Topic4\", \"Topic4\", \"Topic4\", \"Topic4\", \"Topic4\", \"Topic4\", \"Topic4\", \"Topic4\", \"Topic4\", \"Topic4\", \"Topic4\", \"Topic4\", \"Topic4\", \"Topic4\", \"Topic4\", \"Topic4\", \"Topic4\", \"Topic4\", \"Topic5\", \"Topic5\", \"Topic5\", \"Topic5\", \"Topic5\", \"Topic5\", \"Topic5\", \"Topic5\", \"Topic5\", \"Topic5\", \"Topic5\", \"Topic5\", \"Topic5\", \"Topic5\", \"Topic5\", \"Topic5\", \"Topic5\", \"Topic5\", \"Topic5\", \"Topic5\", \"Topic5\", \"Topic5\", \"Topic5\", \"Topic5\", \"Topic5\", \"Topic5\", \"Topic5\", \"Topic5\", \"Topic5\", \"Topic5\", \"Topic5\", \"Topic5\", \"Topic5\", \"Topic5\", \"Topic5\", \"Topic5\", \"Topic5\", \"Topic5\", \"Topic5\", \"Topic5\", \"Topic5\", \"Topic5\", \"Topic6\", \"Topic6\", \"Topic6\", \"Topic6\", \"Topic6\", \"Topic6\", \"Topic6\", \"Topic6\", \"Topic6\", \"Topic6\", \"Topic6\", \"Topic6\", \"Topic6\", \"Topic6\", \"Topic6\", \"Topic6\", \"Topic6\", \"Topic6\", \"Topic6\", \"Topic6\", \"Topic6\", \"Topic6\", \"Topic6\", \"Topic6\", \"Topic6\", \"Topic6\", \"Topic6\", \"Topic6\", \"Topic6\", \"Topic6\", \"Topic6\", \"Topic6\", \"Topic6\", \"Topic6\", \"Topic6\", \"Topic6\", \"Topic7\", \"Topic7\", \"Topic7\", \"Topic7\", \"Topic7\", \"Topic7\", \"Topic7\", \"Topic7\", \"Topic7\", \"Topic7\", \"Topic7\", \"Topic7\", \"Topic7\", \"Topic7\", \"Topic7\", \"Topic7\", \"Topic7\", \"Topic7\", \"Topic7\", \"Topic7\", \"Topic7\", \"Topic7\", \"Topic7\", \"Topic7\", \"Topic7\", \"Topic7\", \"Topic7\", \"Topic7\", \"Topic7\", \"Topic7\", \"Topic7\", \"Topic7\", \"Topic7\", \"Topic7\", \"Topic7\", \"Topic7\", \"Topic7\", \"Topic7\", \"Topic7\", \"Topic7\", \"Topic8\", \"Topic8\", \"Topic8\", \"Topic8\", \"Topic8\", \"Topic8\", \"Topic8\", \"Topic8\", \"Topic8\", \"Topic8\", \"Topic8\", \"Topic8\", \"Topic8\", \"Topic8\", \"Topic8\", \"Topic8\", \"Topic8\", \"Topic8\", \"Topic8\", \"Topic8\", \"Topic8\", \"Topic8\", \"Topic8\", \"Topic8\", \"Topic8\", \"Topic8\", \"Topic8\", \"Topic8\", \"Topic8\", \"Topic8\", \"Topic8\", \"Topic8\", \"Topic8\", \"Topic8\", \"Topic8\", \"Topic8\", \"Topic8\", \"Topic8\", \"Topic8\", \"Topic8\", \"Topic9\", \"Topic9\", \"Topic9\", \"Topic9\", \"Topic9\", \"Topic9\", \"Topic9\", \"Topic9\", \"Topic9\", \"Topic9\", \"Topic9\", \"Topic9\", \"Topic9\", \"Topic9\", \"Topic9\", \"Topic9\", \"Topic9\", \"Topic9\", \"Topic9\", \"Topic9\", \"Topic9\", \"Topic9\", \"Topic9\", \"Topic9\", \"Topic9\", \"Topic9\", \"Topic9\", \"Topic9\", \"Topic9\", \"Topic9\", \"Topic9\", \"Topic9\", \"Topic9\", \"Topic9\", \"Topic9\", \"Topic9\"], \"Freq\": [7.0, 16.0, 24.0, 12.0, 18.0, 10.0, 9.0, 8.0, 6.0, 11.0, 6.0, 8.0, 6.0, 6.0, 7.0, 6.0, 8.0, 3.0, 3.0, 12.0, 4.0, 6.0, 2.0, 13.0, 5.0, 6.0, 13.0, 4.0, 4.0, 4.0, 3.536314010620117, 3.5361716747283936, 2.676189422607422, 2.676175594329834, 1.8161479234695435, 1.8161194324493408, 1.8160470724105835, 1.8160223960876465, 1.816006064414978, 1.8159875869750977, 1.8159719705581665, 1.8159312009811401, 4.964065074920654, 2.67629337310791, 3.5132570266723633, 3.974698305130005, 1.8162134885787964, 1.815952181816101, 1.8160336017608643, 1.8160157203674316, 1.245151400566101, 2.6763219833374023, 1.7077049016952515, 5.25012731552124, 0.9557791948318481, 0.9557731747627258, 5.192157745361328, 0.955760657787323, 0.9557585716247559, 0.9558798670768738, 1.81607186794281, 3.536175012588501, 1.2454806566238403, 5.2596330642700195, 1.8162915706634521, 2.837766170501709, 1.8188523054122925, 1.8177837133407593, 1.8174149990081787, 1.8171273469924927, 2.578108072280884, 2.5777320861816406, 1.749423623085022, 1.7490856647491455, 1.7490882873535156, 1.7490644454956055, 1.7489806413650513, 1.74896240234375, 2.5781071186065674, 1.749446153640747, 1.749225378036499, 4.85856819152832, 1.748974084854126, 2.5648891925811768, 2.5784685611724854, 0.9208117127418518, 0.920738935470581, 0.9207171201705933, 0.9207349419593811, 0.9207313060760498, 0.920720100402832, 0.9216373562812805, 0.9216027855873108, 0.9202820658683777, 0.9207120537757874, 0.9211179614067078, 0.920738697052002, 0.920332133769989, 0.9202203154563904, 1.7490164041519165, 1.749056339263916, 2.5781521797180176, 1.7494518756866455, 1.7488516569137573, 3.4066648483276367, 4.082183837890625, 3.4106743335723877, 2.4956376552581787, 2.5810019969940186, 1.7498629093170166, 3.384897470474243, 2.578498363494873, 1.7492917776107788, 0.9705317616462708, 2.6303813457489014, 1.7851635217666626, 1.7849317789077759, 1.7849184274673462, 1.7841966152191162, 1.784192442893982, 1.7840484380722046, 1.7835934162139893, 3.4759023189544678, 1.7851619720458984, 1.7841569185256958, 2.6310336589813232, 2.63051176071167, 5.169772624969482, 1.7849771976470947, 2.629037380218506, 0.9391401410102844, 0.9398815631866455, 0.9398640394210815, 0.9391998052597046, 0.9388193488121033, 0.9393393993377686, 0.9389256834983826, 0.9398905038833618, 0.9398613572120667, 0.9394599795341492, 0.9390534162521362, 0.9391563534736633, 0.9398995041847229, 0.9395151734352112, 2.630056142807007, 1.7851927280426025, 3.475167751312256, 3.4765889644622803, 1.784804105758667, 1.7849057912826538, 2.6288089752197266, 2.6366822719573975, 1.7848984003067017, 1.7836012840270996, 1.7848845720291138, 1.7850145101547241, 1.7871501445770264, 0.9526997208595276, 1.701824426651001, 1.7018232345581055, 1.7018237113952637, 1.7018232345581055, 4.927066802978516, 1.7018316984176636, 1.7018487453460693, 1.701863169670105, 2.508054494857788, 0.8957024216651917, 0.8956862688064575, 0.8956862688064575, 0.8956649899482727, 0.8956930041313171, 0.8956894874572754, 0.8956820368766785, 0.8956884741783142, 0.8956749439239502, 0.895706057548523, 0.8956877589225769, 1.701852560043335, 1.7022597789764404, 0.8956674933433533, 0.895685613155365, 0.8956990242004395, 0.8956628441810608, 0.8956785202026367, 0.8956806659698486, 1.7018232345581055, 0.895663321018219, 1.7018424272537231, 2.513556718826294, 2.508810520172119, 1.7018334865570068, 1.7018955945968628, 1.7015657424926758, 0.9036440253257751, 0.8971702456474304, 0.8957422971725464, 0.8957340121269226, 0.8957303762435913, 0.8957181572914124, 0.8957067131996155, 0.8957026600837708, 0.895700216293335, 1.689642310142517, 1.6888679265975952, 2.4939839839935303, 1.6917507648468018, 1.6919679641723633, 0.891120433807373, 0.8911169767379761, 0.8905128240585327, 0.8903988599777222, 0.8911235928535461, 0.8903508186340332, 0.8911246657371521, 0.8902888298034668, 0.8902565240859985, 0.8911411166191101, 0.8903608322143555, 0.8903483152389526, 0.8902274370193481, 0.8904562592506409, 0.8904534578323364, 0.890410304069519, 1.6925641298294067, 1.6887667179107666, 0.891119122505188, 0.8911082148551941, 0.8911647200584412, 0.8911051750183105, 0.891150951385498, 1.6931694746017456, 0.8905863761901855, 5.697842597961426, 2.4930965900421143, 1.6931761503219604, 2.492763042449951, 1.6920406818389893, 2.490424394607544, 2.4939799308776855, 1.6935664415359497, 0.8911330103874207, 0.8911216259002686, 0.8911122679710388, 0.8910932540893555, 2.2617239952087402, 5.1700615882873535, 1.5352120399475098, 1.5365800857543945, 2.9923760890960693, 1.536615014076233, 1.5365666151046753, 1.5365961790084839, 0.8087061047554016, 0.8086984753608704, 0.8087093234062195, 0.8087472319602966, 0.8087368011474609, 1.5352119207382202, 1.5365716218948364, 1.5365811586380005, 5.129044532775879, 1.3991278409957886, 0.8087329864501953, 0.8086909651756287, 1.5364646911621094, 0.8086791634559631, 1.5366309881210327, 0.9015008211135864, 0.8086705803871155, 2.2643589973449707, 0.8087217211723328, 1.536519169807434, 1.5338681936264038, 0.8086939454078674, 1.5341907739639282, 2.529606819152832, 1.5351406335830688, 1.5366066694259644, 0.8087326884269714, 0.8087093830108643, 2.3250176906585693, 1.5785799026489258, 1.5784778594970703, 1.5667507648468018, 2.326464891433716, 1.3581609725952148, 1.5785285234451294, 1.5786114931106567, 0.8308470845222473, 0.8308470845222473, 0.8308034539222717, 0.83078932762146, 0.8307709097862244, 0.8308516144752502, 0.8308495879173279, 0.8308429718017578, 0.8308662176132202, 0.8308483362197876, 0.830783486366272, 0.8308799266815186, 0.8308415412902832, 0.8308873772621155, 0.8307573199272156, 0.8308512568473816, 0.8308241367340088, 0.8308543562889099, 1.5786250829696655, 1.5786831378936768, 0.8308266401290894, 0.8307730555534363, 4.569667339324951, 1.5786073207855225, 1.5797878503799438, 0.8621240854263306, 0.8358394503593445, 0.830880343914032, 0.8308707475662231, 0.8308663964271545, 0.8308585286140442, 0.8308486342430115, 1.6008398532867432, 0.8425485491752625, 0.8425483703613281, 0.8425468802452087, 0.8425396680831909, 0.8425514101982117, 0.8425398468971252, 0.8425542712211609, 0.8425454497337341, 0.8425422310829163, 0.8425421118736267, 0.842540979385376, 0.8426737785339355, 0.8425852060317993, 0.8419348001480103, 2.3578696250915527, 2.357914686203003, 1.6001231670379639, 0.8425477743148804, 0.8420252203941345, 0.842574954032898, 4.631631374359131, 0.8425387740135193, 0.8425651788711548, 0.8425369262695312, 0.8425390720367432, 0.8425629138946533, 0.842545211315155, 2.3594255447387695, 0.842707633972168, 1.5996500253677368, 2.3582136631011963, 0.8429107666015625, 0.8427695631980896, 0.8426018953323364, 0.8425770998001099, 0.8425759673118591, 0.8425743579864502, 0.8425571322441101, 0.8425430059432983, 1.5765292644500732, 1.5765273571014404, 2.318311929702759, 0.8297507166862488, 0.8297507166862488, 0.829689085483551, 0.8297556638717651, 0.8297654390335083, 0.8297482132911682, 0.8297482132911682, 0.8297645449638367, 0.82974773645401, 0.8297407627105713, 0.8297471404075623, 0.8297448754310608, 0.8297812342643738, 2.3237617015838623, 0.8297999501228333, 1.57645845413208, 1.577947974205017, 2.323885679244995, 0.8297531604766846, 0.8297473788261414, 0.8297472596168518, 0.8297574520111084, 0.8297693133354187, 0.8297384977340698, 0.8297510147094727, 1.5766551494598389, 0.8294274806976318, 1.6087738275527954, 2.0514166355133057, 0.8507564067840576, 0.8520300984382629, 0.8311837911605835, 0.829796552658081], \"Term\": [\"much\", \"love\", \"alexa\", \"use\", \"great\", \"amazon\", \"like\", \"set\", \"google\", \"echo\", \"works\", \"get\", \"sound\", \"really\", \"would\", \"ask\", \"product\", \"device\", \"awesome\", \"dot\", \"life\", \"price\", \"excellent\", \"music\", \"weather\", \"little\", \"one\", \"could\", \"anything\", \"new\", \"link\", \"apps\", \"feedback\", \"honeywell\", \"able\", \"complaint\", \"skill\", \"biggest\", \"engine\", \"thermostats\", \"expensive\", \"search\", \"would\", \"make\", \"fun\", \"easy\", \"perfect\", \"2nd\", \"add\", \"app\", \"way\", \"google\", \"nothing\", \"music\", \"compared\", \"think\", \"use\", \"see\", \"2\", \"sensitive\", \"new\", \"amazon\", \"son\", \"alexa\", \"bought\", \"one\", \"ask\", \"dont\", \"good\", \"well\", \"ordered\", \"night\", \"mobile\", \"gadget\", \"sleep\", \"start\", \"stand\", \"second\", \"laptop\", \"house\", \"thank\", \"product\", \"highly\", \"im\", \"home\", \"actually\", \"listening\", \"sockets\", \"kitchen\", \"every\", \"actual\", \"respond\", \"definitely\", \"amazing\", \"addition\", \"connect\", \"deal\", \"stuff\", \"different\", \"quality\", \"recommend\", \"also\", \"bluetooth\", \"room\", \"amazon\", \"one\", \"dot\", \"get\", \"echo\", \"little\", \"great\", \"music\", \"good\", \"love\", \"crackle\", \"theatre\", \"digital\", \"analogue\", \"given\", \"recipe\", \"upset\", \"repeat\", \"connection\", \"work\", \"information\", \"could\", \"anything\", \"like\", \"doesnt\", \"ask\", \"answer\", \"commands\", \"though\", \"said\", \"didnt\", \"going\", \"setting\", \"5\", \"requests\", \"let\", \"talking\", \"received\", \"stuff\", \"connect\", \"dont\", \"gift\", \"echo\", \"dot\", \"home\", \"know\", \"one\", \"love\", \"well\", \"get\", \"set\", \"great\", \"alexa\", \"im\", \"convenient\", \"getting\", \"plenty\", \"bit\", \"set\", \"via\", \"learning\", \"still\", \"speaker\", \"listen\", \"whats\", \"take\", \"lot\", \"hook\", \"possibilities\", \"learn\", \"cooking\", \"functions\", \"addition\", \"received\", \"bluetooth\", \"alarm\", \"useful\", \"bed\", \"phone\", \"nice\", \"connected\", \"2nd\", \"little\", \"better\", \"would\", \"use\", \"one\", \"well\", \"product\", \"great\", \"music\", \"much\", \"assistant\", \"another\", \"good\", \"im\", \"timer\", \"really\", \"buying\", \"best\", \"friend\", \"life\", \"wanted\", \"day\", \"year\", \"remember\", \"conversation\", \"lonely\", \"answers\", \"keep\", \"amazing\", \"definitely\", \"respond\", \"5\", \"let\", \"talking\", \"requests\", \"company\", \"someone\", \"happy\", \"questions\", \"new\", \"isnt\", \"useful\", \"loves\", \"smart\", \"old\", \"price\", \"nice\", \"alexa\", \"echo\", \"also\", \"dot\", \"well\", \"love\", \"great\", \"music\", \"assistant\", \"bought\", \"quality\", \"speaker\", \"excellent\", \"much\", \"small\", \"isnt\", \"google\", \"better\", \"kids\", \"doesnt\", \"instead\", \"listen\", \"answer\", \"compared\", \"think\", \"voice\", \"quality\", \"time\", \"love\", \"questions\", \"loves\", \"house\", \"price\", \"worth\", \"know\", \"nothing\", \"play\", \"echo\", \"cant\", \"good\", \"like\", \"home\", \"dot\", \"alexa\", \"music\", \"great\", \"really\", \"speaker\", \"awesome\", \"say\", \"alone\", \"shes\", \"device\", \"difficult\", \"thing\", \"around\", \"wall\", \"already\", \"remember\", \"conversation\", \"lonely\", \"learn\", \"possibilities\", \"hook\", \"sockets\", \"listening\", \"actually\", \"though\", \"wanted\", \"smart\", \"thank\", \"work\", \"information\", \"perfect\", \"little\", \"sound\", \"better\", \"first\", \"alexa\", \"love\", \"great\", \"easy\", \"really\", \"still\", \"bought\", \"price\", \"recommend\", \"another\", \"perfectly\", \"instead\", \"helpful\", \"answers\", \"keep\", \"functions\", \"cooking\", \"actual\", \"every\", \"kitchen\", \"going\", \"setting\", \"surprised\", \"sensitive\", \"even\", \"sound\", \"works\", \"weather\", \"bed\", \"phone\", \"clock\", \"great\", \"first\", \"kids\", \"thing\", \"day\", \"timer\", \"voice\", \"use\", \"cant\", \"good\", \"love\", \"alexa\", \"dont\", \"room\", \"bought\", \"price\", \"alarm\", \"recommend\", \"music\", \"next\", \"advertised\", \"really\", \"already\", \"wall\", \"helpful\", \"year\", \"lot\", \"whats\", \"take\", \"commands\", \"said\", \"didnt\", \"2\", \"see\", \"useful\", \"get\", \"old\", \"ask\", \"works\", \"amazon\", \"first\", \"laptop\", \"voice\", \"cant\", \"could\", \"anything\", \"new\", \"like\", \"weather\", \"use\", \"alexa\", \"product\", \"great\", \"good\", \"price\"], \"Total\": [7.0, 16.0, 24.0, 12.0, 18.0, 10.0, 9.0, 8.0, 6.0, 11.0, 6.0, 8.0, 6.0, 6.0, 7.0, 6.0, 8.0, 3.0, 3.0, 12.0, 4.0, 6.0, 2.0, 13.0, 5.0, 6.0, 13.0, 4.0, 4.0, 4.0, 4.232893943786621, 4.232875823974609, 3.372556209564209, 3.372556447982788, 2.5122311115264893, 2.51222825050354, 2.512218475341797, 2.5122151374816895, 2.5122132301330566, 2.512212038040161, 2.512209177017212, 2.51220440864563, 7.555089950561523, 4.178686618804932, 5.837498188018799, 6.621698379516602, 3.2599992752075195, 3.3183236122131348, 3.3408780097961426, 3.340874433517456, 2.4911742210388184, 6.2839837074279785, 4.069120407104492, 13.063577651977539, 2.379701852798462, 2.379702091217041, 12.960596084594727, 2.398629665374756, 2.398629903793335, 2.410154342651367, 4.863263130187988, 10.633759498596191, 3.3371076583862305, 24.55672264099121, 6.376805782318115, 13.205865859985352, 6.543600559234619, 7.416443347930908, 9.540644645690918, 8.249098777770996, 3.2775723934173584, 3.277561902999878, 2.448887825012207, 2.4488534927368164, 2.448878765106201, 2.448852300643921, 2.448875665664673, 2.4488751888275146, 4.024343013763428, 3.1767287254333496, 3.1966311931610107, 8.944051742553711, 3.2947499752044678, 4.929880619049072, 5.697176933288574, 2.3679726123809814, 2.36796498298645, 2.3679609298706055, 2.378485918045044, 2.3784854412078857, 2.378483295440674, 2.4222447872161865, 2.422243356704712, 2.4221694469451904, 2.42631196975708, 2.466104745864868, 2.4661264419555664, 2.466099739074707, 2.466111183166504, 4.706558704376221, 4.800807476043701, 7.2615132331848145, 4.90704870223999, 4.913362979888916, 10.633759498596191, 13.205865859985352, 12.858288764953613, 8.879326820373535, 11.251006126403809, 6.3586907386779785, 18.06192970275879, 13.063577651977539, 9.540644645690918, 16.24193572998047, 3.3292970657348633, 2.4833767414093018, 2.4833719730377197, 2.4833714962005615, 2.4834184646606445, 2.4834184646606445, 2.4834208488464355, 2.483428716659546, 5.003884792327881, 3.2311654090881348, 3.2311851978302, 4.823864459991455, 4.823880195617676, 9.618873596191406, 3.9390969276428223, 6.543600559234619, 2.3653063774108887, 2.3842177391052246, 2.3852052688598633, 2.384235143661499, 2.3842406272888184, 2.395725727081299, 2.395754098892212, 2.439464569091797, 2.4394912719726562, 2.4394853115081787, 2.439509391784668, 2.44358229637146, 2.466099739074707, 2.466104745864868, 7.416443347930908, 4.95189094543457, 11.251006126403809, 12.858288764953613, 5.697176933288574, 6.407571315765381, 13.205865859985352, 16.24193572998047, 8.249098777770996, 8.879326820373535, 8.896600723266602, 18.06192970275879, 24.55672264099121, 4.929880619049072, 2.403794050216675, 2.4037928581237793, 2.4037933349609375, 2.4037928581237793, 8.896600723266602, 3.2324533462524414, 3.2497000694274902, 3.9974582195281982, 6.3334550857543945, 2.32549786567688, 2.344428300857544, 2.344428300857544, 2.3444244861602783, 2.34541916847229, 2.3454222679138184, 2.345417022705078, 2.355942726135254, 2.355940818786621, 2.42631196975708, 2.44358229637146, 4.90704870223999, 5.696969509124756, 3.1464364528656006, 3.1845576763153076, 3.2162554264068604, 3.22835111618042, 3.2722208499908447, 3.3183236122131348, 6.3586907386779785, 3.8011152744293213, 7.555089950561523, 12.960596084594727, 13.205865859985352, 8.249098777770996, 8.944051742553711, 18.06192970275879, 13.063577651977539, 7.521549701690674, 3.976088285446167, 4.051650524139404, 9.540644645690918, 4.929880619049072, 4.062207221984863, 6.173925399780273, 4.132541179656982, 2.395779848098755, 2.3958072662353516, 4.003779411315918, 3.1434028148651123, 3.982564687728882, 2.3403258323669434, 2.341324806213379, 2.341348648071289, 2.3413546085357666, 2.3518407344818115, 2.3518683910369873, 2.4221694469451904, 2.422243356704712, 2.4222447872161865, 2.439464569091797, 2.4394853115081787, 2.439509391784668, 2.4394912719726562, 2.4538936614990234, 2.4539051055908203, 2.453920364379883, 4.715197563171387, 4.863263130187988, 3.0492520332336426, 3.1464364528656006, 3.1672964096069336, 3.1699721813201904, 3.1862242221832275, 6.104108810424805, 3.22835111618042, 24.55672264099121, 11.251006126403809, 7.2615132331848145, 12.858288764953613, 8.249098777770996, 16.24193572998047, 18.06192970275879, 13.063577651977539, 3.976088285446167, 6.376805782318115, 4.706558704376221, 6.3334550857543945, 2.975482940673828, 7.521549701690674, 2.247448682785034, 3.0492520332336426, 6.2839837074279785, 3.8011152744293213, 3.8514304161071777, 3.9390969276428223, 2.2776665687561035, 2.32549786567688, 2.3653063774108887, 2.379701852798462, 2.379702091217041, 4.558658123016357, 4.706558704376221, 4.759608268737793, 16.24193572998047, 4.715197563171387, 3.1672964096069336, 3.1767287254333496, 6.104108810424805, 3.2256200313568115, 6.407571315765381, 4.069120407104492, 3.9561445713043213, 11.251006126403809, 4.632518768310547, 9.540644645690918, 9.618873596191406, 5.697176933288574, 12.858288764953613, 24.55672264099121, 13.063577651977539, 18.06192970275879, 6.173925399780273, 6.3334550857543945, 3.0348212718963623, 2.2870895862579346, 2.2871007919311523, 2.287938356399536, 3.8409719467163086, 2.2811813354492188, 3.874042272567749, 3.9177863597869873, 2.2860758304595947, 2.2860758304595947, 2.341324806213379, 2.341348648071289, 2.3413546085357666, 2.345417022705078, 2.3454222679138184, 2.34541916847229, 2.3679609298706055, 2.36796498298645, 2.3679726123809814, 2.3852052688598633, 3.1434028148651123, 3.1699721813201904, 3.1966311931610107, 3.2311654090881348, 3.2311851978302, 3.2599992752075195, 6.3586907386779785, 6.924546718597412, 3.8011152744293213, 3.850486993789673, 24.55672264099121, 16.24193572998047, 18.06192970275879, 6.621698379516602, 6.173925399780273, 3.9974582195281982, 6.376805782318115, 6.104108810424805, 4.800807476043701, 4.051650524139404, 2.308124542236328, 2.2776665687561035, 2.2965872287750244, 2.3518407344818115, 2.3518683910369873, 2.355940818786621, 2.355942726135254, 2.378483295440674, 2.3784854412078857, 2.378485918045044, 2.395725727081299, 2.395754098892212, 2.410141944885254, 2.410154342651367, 2.410123109817505, 6.924546718597412, 6.954230785369873, 5.508930206298828, 3.1845576763153076, 3.2162554264068604, 3.2560698986053467, 18.06192970275879, 3.850486993789673, 3.8514304161071777, 3.874042272567749, 3.982564687728882, 4.062207221984863, 4.558658123016357, 12.960596084594727, 4.632518768310547, 9.540644645690918, 16.24193572998047, 24.55672264099121, 7.416443347930908, 4.913362979888916, 6.376805782318115, 6.104108810424805, 5.696969509124756, 4.800807476043701, 13.063577651977539, 2.2850935459136963, 2.2850921154022217, 6.173925399780273, 2.2860758304595947, 2.2860758304595947, 2.2965872287750244, 2.3403258323669434, 2.3444244861602783, 2.344428300857544, 2.344428300857544, 2.3842177391052246, 2.384235143661499, 2.3842406272888184, 2.398629903793335, 2.398629665374756, 3.1464364528656006, 8.879326820373535, 3.1862242221832275, 6.543600559234619, 6.954230785369873, 10.633759498596191, 3.850486993789673, 4.024343013763428, 4.558658123016357, 4.632518768310547, 4.823864459991455, 4.823880195617676, 4.863263130187988, 9.618873596191406, 5.508930206298828, 12.960596084594727, 24.55672264099121, 8.944051742553711, 18.06192970275879, 9.540644645690918, 6.104108810424805], \"loglift\": [30.0, 29.0, 28.0, 27.0, 26.0, 25.0, 24.0, 23.0, 22.0, 21.0, 20.0, 19.0, 18.0, 17.0, 16.0, 15.0, 14.0, 13.0, 12.0, 11.0, 10.0, 9.0, 8.0, 7.0, 6.0, 5.0, 4.0, 3.0, 2.0, 1.0, 1.6049000024795532, 1.6049000024795532, 1.5534000396728516, 1.5534000396728516, 1.4601999521255493, 1.4601999521255493, 1.4601999521255493, 1.4601999521255493, 1.4601999521255493, 1.4601999521255493, 1.4601999521255493, 1.4601000547409058, 1.3646999597549438, 1.3391000032424927, 1.276900053024292, 1.2742999792099, 1.1996999979019165, 1.1818000078201294, 1.1750999689102173, 1.1750999689102173, 1.0911999940872192, 0.9311000108718872, 0.9164000153541565, 0.8730999827384949, 0.8725000023841858, 0.8725000023841858, 0.8698999881744385, 0.8644999861717224, 0.8644999861717224, 0.8598999977111816, 0.7997000217437744, 0.6837000250816345, 0.7990999817848206, 0.24379999935626984, 0.5288000106811523, 0.24709999561309814, 0.5044000148773193, 0.37860000133514404, 0.1264999955892563, 0.2718000113964081, 1.6446000337600708, 1.6445000171661377, 1.54830002784729, 1.5480999946594238, 1.5480999946594238, 1.5480999946594238, 1.5479999780654907, 1.5479999780654907, 1.4392999410629272, 1.288100004196167, 1.2817000150680542, 1.274399995803833, 1.2512999773025513, 1.2311999797821045, 1.0918999910354614, 0.9401000142097473, 0.9399999976158142, 0.9399999976158142, 0.9355999827384949, 0.9355999827384949, 0.9355999827384949, 0.9182999730110168, 0.9182999730110168, 0.9168999791145325, 0.9157000184059143, 0.8998000025749207, 0.899399995803833, 0.8989999890327454, 0.8988999724388123, 0.8946999907493591, 0.8748999834060669, 0.8490999937057495, 0.8532999753952026, 0.8515999913215637, 0.7462999820709229, 0.7106000185012817, 0.5576000213623047, 0.6154999732971191, 0.4124000072479248, 0.5943999886512756, 0.2101999968290329, 0.2619999945163727, 0.1882999986410141, -0.9329000115394592, 1.6605000495910645, 1.566100001335144, 1.5658999681472778, 1.5658999681472778, 1.565500020980835, 1.565500020980835, 1.5654000043869019, 1.5651999711990356, 1.5318000316619873, 1.3028000593185425, 1.302299976348877, 1.2899999618530273, 1.2898000478744507, 1.2753000259399414, 1.104599952697754, 0.9843000173568726, 0.9725000262260437, 0.9653000235557556, 0.964900016784668, 0.9646000266075134, 0.9642000198364258, 0.9599000215530396, 0.9593999981880188, 0.9423999786376953, 0.9423999786376953, 0.9419000148773193, 0.9415000081062317, 0.9398999810218811, 0.9315000176429749, 0.9311000108718872, 0.859499990940094, 0.8758999705314636, 0.7213000059127808, 0.5881999731063843, 0.7354999780654907, 0.6179999709129333, 0.28200000524520874, 0.07810000330209732, 0.3653999865055084, 0.29109999537467957, 0.2897999882698059, -0.41819998621940613, -0.7242000102996826, 0.2524000108242035, 1.8473000526428223, 1.8473000526428223, 1.8473000526428223, 1.8473000526428223, 1.601699948310852, 1.5511000156402588, 1.545799970626831, 1.3387000560760498, 1.2662999629974365, 1.2384999990463257, 1.2303999662399292, 1.2303999662399292, 1.2303999662399292, 1.2300000190734863, 1.2300000190734863, 1.2300000190734863, 1.2254999876022339, 1.2254999876022339, 1.1960999965667725, 1.1890000104904175, 1.1337000131607056, 0.9846000075340271, 0.9362000226974487, 0.9240999817848206, 0.9143000245094299, 0.9104999899864197, 0.8970000147819519, 0.8830000162124634, 0.8744999766349792, 0.7470999956130981, 0.7020999789237976, 0.5523999929428101, 0.5317999720573425, 0.6141999959945679, 0.5333999991416931, -0.1695999950170517, -0.47850000858306885, 0.06629999727010727, 0.7021999955177307, 0.6833999752998352, -0.17309999465942383, 0.487199991941452, 0.6808000206947327, 0.2621000111103058, 0.6636000275611877, 1.965000033378601, 1.9644999504089355, 1.8408000469207764, 1.694599986076355, 1.4580999612808228, 1.3486000299453735, 1.3481999635696411, 1.347499966621399, 1.3473000526428223, 1.3437000513076782, 1.3428000211715698, 1.3142000436782837, 1.3133000135421753, 1.3131999969482422, 1.3071000576019287, 1.3062000274658203, 1.3062000274658203, 1.3061000108718872, 1.3005000352859497, 1.3004000186920166, 1.3004000186920166, 1.2896000146865845, 1.2563999891281128, 1.0839999914169312, 1.0526000261306763, 1.0461000204086304, 1.0450999736785889, 1.0400999784469604, 1.0318000316619873, 1.0262999534606934, 0.8532999753952026, 0.807200014591217, 0.8582000136375427, 0.6736000180244446, 0.7300000190734863, 0.4390000104904175, 0.334199994802475, 0.2712000012397766, 0.8185999989509583, 0.34619998931884766, 0.6499000191688538, 0.3529999852180481, 2.108099937438965, 2.007499933242798, 2.001300096511841, 1.697100043296814, 1.6404999494552612, 1.476699948310852, 1.4635000228881836, 1.440999984741211, 1.3468999862670898, 1.3260999917984009, 1.3092000484466553, 1.3032000064849854, 1.3030999898910522, 1.2940000295639038, 1.2630000114440918, 1.2517999410629272, 1.229699969291687, 1.1675000190734863, 1.017199993133545, 1.01419997215271, 1.0029000043869019, 0.9988999962806702, 0.9545000195503235, 0.8752999901771545, 0.7947999835014343, 0.77920001745224, 0.6370000243186951, 0.5564000010490417, 0.546500027179718, 0.4300999939441681, 0.2563999891281128, 0.10949999839067459, 0.24120000004768372, -0.08179999887943268, 0.3497999906539917, 0.32420000433921814, 2.205699920654297, 2.101300001144409, 2.101300001144409, 2.093400001525879, 1.9707000255584717, 1.9535000324249268, 1.5743000507354736, 1.563099980354309, 1.4599000215530396, 1.4599000215530396, 1.4359999895095825, 1.4359999895095825, 1.4358999729156494, 1.4342999458312988, 1.4342999458312988, 1.4342999458312988, 1.4248000383377075, 1.4247000217437744, 1.4247000217437744, 1.4175000190734863, 1.1414999961853027, 1.1331000328063965, 1.1246000528335571, 1.1138999462127686, 1.1138999462127686, 1.1051000356674194, 1.0787999629974365, 0.9936000108718872, 0.9514999985694885, 0.9384999871253967, 0.7904999852180481, 0.14100000262260437, 0.035599999129772186, 0.4334000051021576, 0.4724000096321106, 0.901199996471405, 0.4341000020503998, 0.47780001163482666, 0.7179999947547913, 0.8876000046730042, 2.2200000286102295, 1.5914000272750854, 1.5830999612808228, 1.559399962425232, 1.5592999458312988, 1.5576000213623047, 1.5576000213623047, 1.5480999946594238, 1.5480999946594238, 1.5480999946594238, 1.5408999919891357, 1.5407999753952026, 1.534999966621399, 1.5348999500274658, 1.53410005569458, 1.5085999965667725, 1.5042999982833862, 1.3495999574661255, 1.2561999559402466, 1.2457000017166138, 1.2340999841690063, 1.225000023841858, 1.0663000345230103, 1.066100001335144, 1.0601999759674072, 1.0326000452041626, 1.0127999782562256, 0.8974999785423279, 0.8823999762535095, 0.881600022315979, 0.8001000285148621, 0.6561999917030334, -0.7860000133514404, 0.41110000014305115, 0.822700023651123, 0.5619000196456909, 0.6055999994277954, 0.6747000217437744, 0.84579998254776, -0.15530000627040863, 2.323199987411499, 2.323199987411499, 1.714900016784668, 1.680899977684021, 1.680899977684021, 1.676300048828125, 1.6575000286102295, 1.6556999683380127, 1.6556999683380127, 1.6556999683380127, 1.6389000415802002, 1.6389000415802002, 1.6389000415802002, 1.6328999996185303, 1.6328999996185303, 1.3615000247955322, 1.3538999557495117, 1.3489999771118164, 1.2711000442504883, 1.2111999988555908, 1.1735999584197998, 1.159600019454956, 1.115399956703186, 0.9907000064849854, 0.9746999740600586, 0.9341999888420105, 0.9341999888420105, 0.9261000156402588, 0.8859999775886536, 0.8009999990463257, 0.6079000234603882, 0.211899995803833, 0.3418000042438507, -0.359499990940094, 0.2538999915122986, 0.6988999843597412], \"logprob\": [30.0, 29.0, 28.0, 27.0, 26.0, 25.0, 24.0, 23.0, 22.0, 21.0, 20.0, 19.0, 18.0, 17.0, 16.0, 15.0, 14.0, 13.0, 12.0, 11.0, 10.0, 9.0, 8.0, 7.0, 6.0, 5.0, 4.0, 3.0, 2.0, 1.0, -3.628000020980835, -3.6280999183654785, -3.9066998958587646, -3.9066998958587646, -4.294400215148926, -4.294400215148926, -4.29449987411499, -4.29449987411499, -4.29449987411499, -4.29449987411499, -4.29449987411499, -4.29449987411499, -3.2888998985290527, -3.9066998958587646, -3.6345999240875244, -3.511199951171875, -4.294400215148926, -4.29449987411499, -4.29449987411499, -4.29449987411499, -4.671899795532227, -3.9066998958587646, -4.355999946594238, -3.2328999042510986, -4.936399936676025, -4.936399936676025, -3.24399995803833, -4.936399936676025, -4.936399936676025, -4.936299800872803, -4.29449987411499, -3.6280999183654785, -4.671599864959717, -3.231100082397461, -4.294300079345703, -3.848099946975708, -4.292900085449219, -4.293499946594238, -4.293700218200684, -4.293900012969971, -3.844099998474121, -3.8443000316619873, -4.231900215148926, -4.232100009918213, -4.232100009918213, -4.232100009918213, -4.232100009918213, -4.2322001457214355, -3.844099998474121, -4.231900215148926, -4.23199987411499, -3.210400104522705, -4.2322001457214355, -3.849299907684326, -3.8440001010894775, -4.873700141906738, -4.873799800872803, -4.873799800872803, -4.873799800872803, -4.873799800872803, -4.873799800872803, -4.872799873352051, -4.872799873352051, -4.874300003051758, -4.873799800872803, -4.873300075531006, -4.873799800872803, -4.874199867248535, -4.874300003051758, -4.232100009918213, -4.232100009918213, -3.844099998474121, -4.231900215148926, -4.2322001457214355, -3.5653998851776123, -3.3845999240875244, -3.564300060272217, -3.8766000270843506, -3.8429999351501465, -4.231599807739258, -3.571899890899658, -3.8440001010894775, -4.23199987411499, -4.821100234985352, -3.8125, -4.200099945068359, -4.200300216674805, -4.200300216674805, -4.200699806213379, -4.200699806213379, -4.200799942016602, -4.201000213623047, -3.533799886703491, -4.200200080871582, -4.200699806213379, -3.812299966812134, -3.8125, -3.1368000507354736, -4.200300216674805, -3.812999963760376, -4.842400074005127, -4.841700077056885, -4.841700077056885, -4.842400074005127, -4.842800140380859, -4.842199802398682, -4.842700004577637, -4.841700077056885, -4.841700077056885, -4.842100143432617, -4.84250020980835, -4.842400074005127, -4.841599941253662, -4.842100143432617, -3.812700033187866, -4.200099945068359, -3.5339999198913574, -3.533600091934204, -4.200399875640869, -4.200300216674805, -3.8131000995635986, -3.8101000785827637, -4.200300216674805, -4.201000213623047, -4.200300216674805, -4.200200080871582, -4.198999881744385, -4.828100204467773, -3.9514999389648438, -3.9514999389648438, -3.9514999389648438, -3.9514999389648438, -2.8884999752044678, -3.9514999389648438, -3.9514999389648438, -3.9514999389648438, -3.563699960708618, -4.593299865722656, -4.593400001525879, -4.593400001525879, -4.593400001525879, -4.593400001525879, -4.593400001525879, -4.593400001525879, -4.593400001525879, -4.593400001525879, -4.593299865722656, -4.593400001525879, -3.9514999389648438, -3.951200008392334, -4.593400001525879, -4.593400001525879, -4.593299865722656, -4.593400001525879, -4.593400001525879, -4.593400001525879, -3.9514999389648438, -4.593400001525879, -3.9514999389648438, -3.561500072479248, -3.5634000301361084, -3.9514999389648438, -3.9514999389648438, -3.9516000747680664, -4.584499835968018, -4.591700077056885, -4.593299865722656, -4.593299865722656, -4.593299865722656, -4.593299865722656, -4.593299865722656, -4.593299865722656, -4.593299865722656, -3.8371999263763428, -3.837599992752075, -3.4477999210357666, -3.835900068283081, -3.8357999324798584, -4.476900100708008, -4.476900100708008, -4.47760009765625, -4.477799892425537, -4.476900100708008, -4.477799892425537, -4.476900100708008, -4.47790002822876, -4.47790002822876, -4.476900100708008, -4.477799892425537, -4.477799892425537, -4.47790002822876, -4.477700233459473, -4.477700233459473, -4.477700233459473, -3.835400104522705, -3.8376998901367188, -4.476900100708008, -4.4770002365112305, -4.476900100708008, -4.4770002365112305, -4.476900100708008, -3.835099935531616, -4.477499961853027, -2.6215999126434326, -3.4481000900268555, -3.835099935531616, -3.4482998847961426, -3.835700035095215, -3.449199914932251, -3.4477999210357666, -3.8348000049591064, -4.476900100708008, -4.476900100708008, -4.4770002365112305, -4.4770002365112305, -3.477299928665161, -2.6505000591278076, -3.864799976348877, -3.8638999462127686, -3.1974000930786133, -3.863800048828125, -3.8638999462127686, -3.8638999462127686, -4.50570011138916, -4.505799770355225, -4.50570011138916, -4.50570011138916, -4.50570011138916, -3.864799976348877, -3.8638999462127686, -3.8638999462127686, -2.6584999561309814, -3.9576001167297363, -4.50570011138916, -4.505799770355225, -3.8638999462127686, -4.505799770355225, -3.863800048828125, -4.39709997177124, -4.505799770355225, -3.476099967956543, -4.50570011138916, -3.8638999462127686, -3.865600109100342, -4.505799770355225, -3.8654000759124756, -3.3654000759124756, -3.864799976348877, -3.8638999462127686, -4.50570011138916, -4.50570011138916, -3.359999895095825, -3.7472000122070312, -3.747299909591675, -3.754699945449829, -3.3594000339508057, -3.897599935531616, -3.747299909591675, -3.7472000122070312, -4.389100074768066, -4.389100074768066, -4.389100074768066, -4.389100074768066, -4.389100074768066, -4.388999938964844, -4.388999938964844, -4.389100074768066, -4.388999938964844, -4.389100074768066, -4.389100074768066, -4.388999938964844, -4.389100074768066, -4.388999938964844, -4.389200210571289, -4.388999938964844, -4.389100074768066, -4.388999938964844, -3.7472000122070312, -3.7472000122070312, -4.389100074768066, -4.389100074768066, -2.684299945831299, -3.7472000122070312, -3.746500015258789, -4.352099895477295, -4.3831000328063965, -4.388999938964844, -4.388999938964844, -4.388999938964844, -4.388999938964844, -4.389100074768066, -3.6194000244140625, -4.261300086975098, -4.261300086975098, -4.261300086975098, -4.261300086975098, -4.261300086975098, -4.261300086975098, -4.261300086975098, -4.261300086975098, -4.261300086975098, -4.261300086975098, -4.261300086975098, -4.261099815368652, -4.261199951171875, -4.26200008392334, -3.2321999073028564, -3.2321999073028564, -3.6198999881744385, -4.261300086975098, -4.261899948120117, -4.261199951171875, -2.556999921798706, -4.261300086975098, -4.261199951171875, -4.261300086975098, -4.261300086975098, -4.261300086975098, -4.261300086975098, -3.2314999103546143, -4.261099815368652, -3.6201999187469482, -3.2320001125335693, -4.260799884796143, -4.261000156402588, -4.261199951171875, -4.261199951171875, -4.261199951171875, -4.261199951171875, -4.261300086975098, -4.261300086975098, -3.52620005607605, -3.52620005607605, -3.1405999660491943, -4.168099880218506, -4.168099880218506, -4.168099880218506, -4.168099880218506, -4.168000221252441, -4.168099880218506, -4.168099880218506, -4.168000221252441, -4.168099880218506, -4.168099880218506, -4.168099880218506, -4.168099880218506, -4.168000221252441, -3.138200044631958, -4.168000221252441, -3.5262999534606934, -3.5253000259399414, -3.138200044631958, -4.168099880218506, -4.168099880218506, -4.168099880218506, -4.168099880218506, -4.168000221252441, -4.168099880218506, -4.168099880218506, -3.526099920272827, -4.168499946594238, -3.50600004196167, -3.2629001140594482, -4.143099784851074, -4.141600131988525, -4.166299819946289, -4.168000221252441]}, \"token.table\": {\"Topic\": [1, 9, 1, 4, 3, 5, 1, 2, 8, 2, 7, 1, 2, 2, 4, 9, 1, 2, 3, 4, 8, 1, 2, 3, 4, 5, 6, 7, 8, 9, 7, 7, 9, 2, 3, 4, 5, 6, 2, 5, 1, 2, 3, 9, 3, 1, 3, 4, 7, 3, 6, 5, 8, 3, 7, 9, 1, 2, 1, 2, 5, 7, 1, 3, 9, 2, 4, 5, 7, 7, 2, 4, 8, 5, 4, 6, 7, 1, 4, 2, 3, 4, 1, 2, 5, 6, 7, 8, 1, 2, 3, 4, 1, 6, 7, 8, 9, 1, 3, 8, 3, 9, 1, 5, 1, 6, 1, 2, 3, 2, 3, 4, 2, 3, 4, 5, 7, 4, 8, 3, 7, 9, 3, 2, 5, 8, 2, 3, 2, 5, 4, 7, 3, 9, 2, 3, 7, 3, 3, 6, 1, 3, 4, 5, 8, 2, 3, 5, 6, 7, 8, 1, 4, 7, 2, 3, 5, 6, 1, 1, 8, 2, 8, 6, 1, 1, 4, 7, 8, 9, 5, 1, 4, 5, 4, 8, 2, 1, 2, 3, 4, 9, 4, 1, 3, 4, 5, 3, 3, 8, 1, 2, 3, 4, 6, 8, 9, 1, 6, 2, 3, 4, 5, 6, 7, 8, 9, 1, 5, 8, 9, 2, 3, 2, 3, 6, 1, 4, 7, 2, 6, 2, 3, 4, 3, 7, 6, 8, 5, 6, 5, 8, 3, 6, 8, 2, 8, 1, 3, 4, 5, 6, 2, 9, 4, 7, 3, 4, 3, 5, 4, 5, 3, 5, 6, 9, 1, 4, 6, 2, 7, 2, 4, 5, 7, 5, 7, 4, 9, 2, 3, 4, 5, 6, 7, 8, 3, 5, 6, 1, 4, 2, 2, 4, 6, 1, 2, 4, 5, 6, 8, 1, 5, 9, 9, 2, 4, 5, 2, 1, 3, 6, 3, 5, 9, 1, 2, 3, 4, 6, 2, 1, 7, 8, 1, 4, 8, 1, 2, 6, 7, 4, 4, 7, 5, 6, 7, 8, 9, 2, 3, 4, 9, 2, 5, 6, 1, 5, 6, 1, 4, 6, 7, 9, 3, 4, 3, 2, 3, 7, 8, 5, 7, 3, 3, 5, 2, 5, 1, 2, 3, 8, 3, 9, 7, 1, 2, 1, 9, 1, 8, 2, 3, 4, 7, 3, 8, 7, 1, 2, 6, 2, 5, 7, 2, 7, 1, 5, 1, 2, 3, 2, 4, 6, 7, 8, 3, 4, 5, 6, 7, 2, 2, 3, 4, 7, 2, 3, 1, 8, 4, 9, 3, 5, 2, 7, 3, 1, 2, 7, 8, 1, 6, 3, 7, 1, 3, 4, 6, 1, 3, 4, 8, 3, 1, 2, 4, 8, 9, 4, 5, 9, 2, 4, 4, 6, 8, 9, 7, 9, 5, 7, 1, 2, 3, 4, 5, 8, 9, 1, 2, 3, 4, 5, 4, 9, 3, 7, 1, 4, 6, 8, 9, 1, 3, 6, 1, 4, 5, 9], \"Freq\": [0.41690465807914734, 0.41690465807914734, 0.602713942527771, 0.3013569712638855, 0.40992602705955505, 0.40992602705955505, 0.7961050868034363, 0.42043599486351013, 0.42043599486351013, 0.4223021864891052, 0.4223021864891052, 0.598645031452179, 0.2993225157260895, 0.4121481478214264, 0.4121481478214264, 0.8752382397651672, 0.17553192377090454, 0.17553192377090454, 0.17553192377090454, 0.3510638475418091, 0.17553192377090454, 0.20361022651195526, 0.04072204604744911, 0.08144409209489822, 0.04072204604744911, 0.24433228373527527, 0.12216614186763763, 0.20361022651195526, 0.04072204604744911, 0.08144409209489822, 0.8744695782661438, 0.43743079900741577, 0.43743079900741577, 0.4131370186805725, 0.13771234452724457, 0.13771234452724457, 0.27542468905448914, 0.13771234452724457, 0.41285303235054016, 0.41285303235054016, 0.37616047263145447, 0.28212034702301025, 0.09404011815786362, 0.18808023631572723, 0.8053567409515381, 0.24681299924850464, 0.24681299924850464, 0.24681299924850464, 0.24681299924850464, 0.4227782189846039, 0.4227782189846039, 0.42519885301589966, 0.42519885301589966, 0.6219059824943542, 0.2073020040988922, 0.2073020040988922, 0.5986456871032715, 0.29932284355163574, 0.9449840188026428, 0.25524619221687317, 0.25524619221687317, 0.5104923844337463, 0.30564212799072266, 0.458463191986084, 0.30564212799072266, 0.25150346755981445, 0.25150346755981445, 0.25150346755981445, 0.25150346755981445, 0.6590173840522766, 0.31401535868644714, 0.31401535868644714, 0.31401535868644714, 0.8348012566566467, 0.2630806863307953, 0.5261613726615906, 0.2630806863307953, 0.7961101531982422, 0.8320184350013733, 0.40757694840431213, 0.20378847420215607, 0.40757694840431213, 0.3136366605758667, 0.15681833028793335, 0.15681833028793335, 0.15681833028793335, 0.15681833028793335, 0.15681833028793335, 0.2419818639755249, 0.2419818639755249, 0.2419818639755249, 0.2419818639755249, 0.21586528420448303, 0.21586528420448303, 0.21586528420448303, 0.21586528420448303, 0.21586528420448303, 0.3071187138557434, 0.3071187138557434, 0.3071187138557434, 0.41942477226257324, 0.41942477226257324, 0.40751561522483826, 0.40751561522483826, 0.4202207028865814, 0.4202207028865814, 0.7961059808731079, 0.40549778938293457, 0.40549778938293457, 0.3056028485298157, 0.3056028485298157, 0.3056028485298157, 0.19984473288059235, 0.5995342135429382, 0.8320180177688599, 0.42710426449775696, 0.42710426449775696, 0.4244585335254669, 0.4244585335254669, 0.6219080090522766, 0.20730267465114594, 0.20730267465114594, 0.9010910987854004, 0.2510944902896881, 0.5021889805793762, 0.2510944902896881, 0.40549421310424805, 0.40549421310424805, 0.41284042596817017, 0.41284042596817017, 0.26035076379776, 0.52070152759552, 0.4194207489490509, 0.4194207489490509, 0.4054967164993286, 0.4054967164993286, 0.43836936354637146, 0.8053566217422485, 0.5077306032180786, 0.5077306032180786, 0.2696710526943207, 0.4045065641403198, 0.13483552634716034, 0.13483552634716034, 0.13483552634716034, 0.23331253230571747, 0.23331253230571747, 0.15554168820381165, 0.15554168820381165, 0.07777084410190582, 0.07777084410190582, 0.6040746569633484, 0.1510186642408371, 0.1510186642408371, 0.26664280891418457, 0.26664280891418457, 0.17776188254356384, 0.17776188254356384, 0.7961107492446899, 0.4149165749549866, 0.4149165749549866, 0.4204356074333191, 0.4204356074333191, 0.6721597909927368, 0.796112060546875, 0.8895329833030701, 0.25970742106437683, 0.25970742106437683, 0.25970742106437683, 0.25970742106437683, 0.8347917199134827, 0.6852250695228577, 0.17130626738071442, 0.17130626738071442, 0.42445889115333557, 0.42445889115333557, 0.8167087435722351, 0.11262115091085434, 0.22524230182170868, 0.22524230182170868, 0.11262115091085434, 0.22524230182170868, 0.8320184350013733, 0.2019430547952652, 0.4038861095905304, 0.2019430547952652, 0.2019430547952652, 0.8053415417671204, 0.4174100458621979, 0.4174100458621979, 0.20962944626808167, 0.20962944626808167, 0.10481472313404083, 0.10481472313404083, 0.20962944626808167, 0.20962944626808167, 0.10481472313404083, 0.4774041771888733, 0.4774041771888733, 0.16609521210193634, 0.1107301414012909, 0.1107301414012909, 0.1107301414012909, 0.1107301414012909, 0.1107301414012909, 0.27682533860206604, 0.05536507070064545, 0.4075111746788025, 0.4075111746788025, 0.4354287087917328, 0.4354287087917328, 0.6070263385772705, 0.30351316928863525, 0.526576578617096, 0.35105106234550476, 0.17552553117275238, 0.8895329236984253, 0.4263630211353302, 0.4263630211353302, 0.6295784711837769, 0.3147892355918884, 0.6085339784622192, 0.20284466445446014, 0.20284466445446014, 0.6189679503440857, 0.30948397517204285, 0.43904581665992737, 0.43904581665992737, 0.32794928550720215, 0.6558985710144043, 0.4251938462257385, 0.4251938462257385, 0.2596437931060791, 0.5192875862121582, 0.2596437931060791, 0.4204355478286743, 0.4204355478286743, 0.15606537461280823, 0.31213074922561646, 0.15606537461280823, 0.15606537461280823, 0.31213074922561646, 0.7454633116722107, 0.24848777055740356, 0.42636340856552124, 0.42636340856552124, 0.30772072076797485, 0.6154414415359497, 0.4099225401878357, 0.4099225401878357, 0.24976401031017303, 0.49952802062034607, 0.5198113918304443, 0.10396227985620499, 0.20792455971240997, 0.20792455971240997, 0.9449799656867981, 0.4300154447555542, 0.4300154447555542, 0.42230352759361267, 0.42230352759361267, 0.3145301640033722, 0.3145301640033722, 0.1572650820016861, 0.3145301640033722, 0.427103191614151, 0.427103191614151, 0.4265439212322235, 0.4265439212322235, 0.06156901642680168, 0.18470704555511475, 0.06156901642680168, 0.12313803285360336, 0.3078450858592987, 0.12313803285360336, 0.12313803285360336, 0.31572669744491577, 0.31572669744491577, 0.31572669744491577, 0.717928946018219, 0.2393096387386322, 0.8166972398757935, 0.13295131921768188, 0.13295131921768188, 0.6647565960884094, 0.3827435374259949, 0.22964613139629364, 0.07654871046543121, 0.15309742093086243, 0.15309742093086243, 0.07654871046543121, 0.41124650835990906, 0.41124650835990906, 0.20562325417995453, 0.8752377033233643, 0.3097556531429291, 0.3097556531429291, 0.3097556531429291, 0.9153144955635071, 0.4915067255496979, 0.24575336277484894, 0.24575336277484894, 0.31385111808776855, 0.31385111808776855, 0.31385111808776855, 0.22717177867889404, 0.3028956949710846, 0.22717177867889404, 0.22717177867889404, 0.07572392374277115, 0.9153115749359131, 0.6134970784187317, 0.30674853920936584, 0.8665043711662292, 0.3109205663204193, 0.3109205663204193, 0.3109205663204193, 0.2527713477611542, 0.2527713477611542, 0.2527713477611542, 0.2527713477611542, 0.832018256187439, 0.42636245489120483, 0.42636245489120483, 0.3276481628417969, 0.3276481628417969, 0.16382408142089844, 0.16382408142089844, 0.16382408142089844, 0.5590307712554932, 0.11180615425109863, 0.22361230850219727, 0.11180615425109863, 0.4249389171600342, 0.2124694585800171, 0.4249389171600342, 0.2120801955461502, 0.4241603910923004, 0.2120801955461502, 0.16197150945663452, 0.16197150945663452, 0.16197150945663452, 0.16197150945663452, 0.32394301891326904, 0.40923523902893066, 0.40923523902893066, 0.8053415417671204, 0.41659659147262573, 0.20829829573631287, 0.20829829573631287, 0.20829829573631287, 0.42710861563682556, 0.42710861563682556, 0.8053382039070129, 0.4099215269088745, 0.4099215269088745, 0.41284018754959106, 0.41284018754959106, 0.2035265862941742, 0.4070531725883484, 0.2035265862941742, 0.2035265862941742, 0.4194217324256897, 0.4194217324256897, 0.8744738101959229, 0.7961135506629944, 0.8167014718055725, 0.4169047176837921, 0.4169047176837921, 0.4149111807346344, 0.4149111807346344, 0.11240248382091522, 0.22480496764183044, 0.5620124340057373, 0.11240248382091522, 0.4174050986766815, 0.4174050986766815, 0.8741494417190552, 0.7961090803146362, 0.816700279712677, 0.8898979425430298, 0.3154601752758026, 0.3154601752758026, 0.3154601752758026, 0.42230427265167236, 0.42230427265167236, 0.40751370787620544, 0.40751370787620544, 0.29966068267822266, 0.29966068267822266, 0.29966068267822266, 0.1444137841463089, 0.1444137841463089, 0.1444137841463089, 0.2888275682926178, 0.2888275682926178, 0.15789170563220978, 0.47367510199546814, 0.15789170563220978, 0.15789170563220978, 0.15789170563220978, 0.816701352596283, 0.8167091012001038, 0.25015896558761597, 0.5003179311752319, 0.25015896558761597, 0.40549859404563904, 0.40549859404563904, 0.4149133265018463, 0.4149133265018463, 0.4265432357788086, 0.4265432357788086, 0.40991848707199097, 0.40991848707199097, 0.6256586909294128, 0.3128293454647064, 0.8053550720214844, 0.7961111664772034, 0.2581283152103424, 0.5162566304206848, 0.2581283152103424, 0.42022067308425903, 0.42022067308425903, 0.41925111413002014, 0.41925111413002014, 0.21010132133960724, 0.21010132133960724, 0.21010132133960724, 0.4202026426792145, 0.24617159366607666, 0.24617159366607666, 0.24617159366607666, 0.24617159366607666, 0.8053407669067383, 0.38578471541404724, 0.07715694606304169, 0.23147083818912506, 0.15431389212608337, 0.15431389212608337, 0.31781986355781555, 0.31781986355781555, 0.31781986355781555, 0.3093625605106354, 0.6187251210212708, 0.2193627953529358, 0.4387255907058716, 0.2193627953529358, 0.2193627953529358, 0.43743079900741577, 0.43743079900741577, 0.6362531781196594, 0.3181265890598297, 0.4014171361923218, 0.4014171361923218, 0.18152344226837158, 0.18152344226837158, 0.18152344226837158, 0.36304688453674316, 0.18152344226837158, 0.24245072901248932, 0.12122536450624466, 0.24245072901248932, 0.24245072901248932, 0.24245072901248932, 0.4265432357788086, 0.4265432357788086, 0.6189717054367065, 0.30948585271835327, 0.1437973529100418, 0.1437973529100418, 0.1437973529100418, 0.2875947058200836, 0.2875947058200836, 0.3100179135799408, 0.3100179135799408, 0.3100179135799408, 0.6618055105209351, 0.26472219824790955, 0.4272909164428711, 0.4272909164428711], \"Term\": [\"2\", \"2\", \"2nd\", \"2nd\", \"5\", \"5\", \"able\", \"actual\", \"actual\", \"actually\", \"actually\", \"add\", \"add\", \"addition\", \"addition\", \"advertised\", \"alarm\", \"alarm\", \"alarm\", \"alarm\", \"alarm\", \"alexa\", \"alexa\", \"alexa\", \"alexa\", \"alexa\", \"alexa\", \"alexa\", \"alexa\", \"alexa\", \"alone\", \"already\", \"already\", \"also\", \"also\", \"also\", \"also\", \"also\", \"amazing\", \"amazing\", \"amazon\", \"amazon\", \"amazon\", \"amazon\", \"analogue\", \"another\", \"another\", \"another\", \"another\", \"answer\", \"answer\", \"answers\", \"answers\", \"anything\", \"anything\", \"anything\", \"app\", \"app\", \"apps\", \"around\", \"around\", \"around\", \"ask\", \"ask\", \"ask\", \"assistant\", \"assistant\", \"assistant\", \"assistant\", \"awesome\", \"bed\", \"bed\", \"bed\", \"best\", \"better\", \"better\", \"better\", \"biggest\", \"bit\", \"bluetooth\", \"bluetooth\", \"bluetooth\", \"bought\", \"bought\", \"bought\", \"bought\", \"bought\", \"bought\", \"buying\", \"buying\", \"buying\", \"buying\", \"cant\", \"cant\", \"cant\", \"cant\", \"cant\", \"clock\", \"clock\", \"clock\", \"commands\", \"commands\", \"company\", \"company\", \"compared\", \"compared\", \"complaint\", \"connect\", \"connect\", \"connected\", \"connected\", \"connected\", \"connection\", \"connection\", \"convenient\", \"conversation\", \"conversation\", \"cooking\", \"cooking\", \"could\", \"could\", \"could\", \"crackle\", \"day\", \"day\", \"day\", \"deal\", \"deal\", \"definitely\", \"definitely\", \"device\", \"device\", \"didnt\", \"didnt\", \"different\", \"different\", \"difficult\", \"digital\", \"doesnt\", \"doesnt\", \"dont\", \"dont\", \"dont\", \"dont\", \"dont\", \"dot\", \"dot\", \"dot\", \"dot\", \"dot\", \"dot\", \"easy\", \"easy\", \"easy\", \"echo\", \"echo\", \"echo\", \"echo\", \"engine\", \"even\", \"even\", \"every\", \"every\", \"excellent\", \"expensive\", \"feedback\", \"first\", \"first\", \"first\", \"first\", \"friend\", \"fun\", \"fun\", \"fun\", \"functions\", \"functions\", \"gadget\", \"get\", \"get\", \"get\", \"get\", \"get\", \"getting\", \"gift\", \"gift\", \"gift\", \"gift\", \"given\", \"going\", \"going\", \"good\", \"good\", \"good\", \"good\", \"good\", \"good\", \"good\", \"google\", \"google\", \"great\", \"great\", \"great\", \"great\", \"great\", \"great\", \"great\", \"great\", \"happy\", \"happy\", \"helpful\", \"helpful\", \"highly\", \"highly\", \"home\", \"home\", \"home\", \"honeywell\", \"hook\", \"hook\", \"house\", \"house\", \"im\", \"im\", \"im\", \"information\", \"information\", \"instead\", \"instead\", \"isnt\", \"isnt\", \"keep\", \"keep\", \"kids\", \"kids\", \"kids\", \"kitchen\", \"kitchen\", \"know\", \"know\", \"know\", \"know\", \"know\", \"laptop\", \"laptop\", \"learn\", \"learn\", \"learning\", \"learning\", \"let\", \"let\", \"life\", \"life\", \"like\", \"like\", \"like\", \"like\", \"link\", \"listen\", \"listen\", \"listening\", \"listening\", \"little\", \"little\", \"little\", \"little\", \"lonely\", \"lonely\", \"lot\", \"lot\", \"love\", \"love\", \"love\", \"love\", \"love\", \"love\", \"love\", \"loves\", \"loves\", \"loves\", \"make\", \"make\", \"mobile\", \"much\", \"much\", \"much\", \"music\", \"music\", \"music\", \"music\", \"music\", \"music\", \"new\", \"new\", \"new\", \"next\", \"nice\", \"nice\", \"nice\", \"night\", \"nothing\", \"nothing\", \"nothing\", \"old\", \"old\", \"old\", \"one\", \"one\", \"one\", \"one\", \"one\", \"ordered\", \"perfect\", \"perfect\", \"perfectly\", \"phone\", \"phone\", \"phone\", \"play\", \"play\", \"play\", \"play\", \"plenty\", \"possibilities\", \"possibilities\", \"price\", \"price\", \"price\", \"price\", \"price\", \"product\", \"product\", \"product\", \"product\", \"quality\", \"quality\", \"quality\", \"questions\", \"questions\", \"questions\", \"really\", \"really\", \"really\", \"really\", \"really\", \"received\", \"received\", \"recipe\", \"recommend\", \"recommend\", \"recommend\", \"recommend\", \"remember\", \"remember\", \"repeat\", \"requests\", \"requests\", \"respond\", \"respond\", \"room\", \"room\", \"room\", \"room\", \"said\", \"said\", \"say\", \"search\", \"second\", \"see\", \"see\", \"sensitive\", \"sensitive\", \"set\", \"set\", \"set\", \"set\", \"setting\", \"setting\", \"shes\", \"skill\", \"sleep\", \"small\", \"smart\", \"smart\", \"smart\", \"sockets\", \"sockets\", \"someone\", \"someone\", \"son\", \"son\", \"son\", \"sound\", \"sound\", \"sound\", \"sound\", \"sound\", \"speaker\", \"speaker\", \"speaker\", \"speaker\", \"speaker\", \"stand\", \"start\", \"still\", \"still\", \"still\", \"stuff\", \"stuff\", \"surprised\", \"surprised\", \"take\", \"take\", \"talking\", \"talking\", \"thank\", \"thank\", \"theatre\", \"thermostats\", \"thing\", \"thing\", \"thing\", \"think\", \"think\", \"though\", \"though\", \"time\", \"time\", \"time\", \"time\", \"timer\", \"timer\", \"timer\", \"timer\", \"upset\", \"use\", \"use\", \"use\", \"use\", \"use\", \"useful\", \"useful\", \"useful\", \"via\", \"via\", \"voice\", \"voice\", \"voice\", \"voice\", \"wall\", \"wall\", \"wanted\", \"wanted\", \"way\", \"way\", \"weather\", \"weather\", \"weather\", \"weather\", \"weather\", \"well\", \"well\", \"well\", \"well\", \"well\", \"whats\", \"whats\", \"work\", \"work\", \"works\", \"works\", \"works\", \"works\", \"works\", \"worth\", \"worth\", \"worth\", \"would\", \"would\", \"year\", \"year\"]}, \"R\": 30, \"lambda.step\": 0.01, \"plot.opts\": {\"xlab\": \"PC1\", \"ylab\": \"PC2\"}, \"topic.order\": [9, 4, 8, 1, 7, 5, 2, 3, 6]};\n",
       "\n",
       "function LDAvis_load_lib(url, callback){\n",
       "  var s = document.createElement('script');\n",
       "  s.src = url;\n",
       "  s.async = true;\n",
       "  s.onreadystatechange = s.onload = callback;\n",
       "  s.onerror = function(){console.warn(\"failed to load library \" + url);};\n",
       "  document.getElementsByTagName(\"head\")[0].appendChild(s);\n",
       "}\n",
       "\n",
       "if(typeof(LDAvis) !== \"undefined\"){\n",
       "   // already loaded: just create the visualization\n",
       "   !function(LDAvis){\n",
       "       new LDAvis(\"#\" + \"ldavis_el821402653667717762220594868\", ldavis_el821402653667717762220594868_data);\n",
       "   }(LDAvis);\n",
       "}else if(typeof define === \"function\" && define.amd){\n",
       "   // require.js is available: use it to load d3/LDAvis\n",
       "   require.config({paths: {d3: \"https://cdnjs.cloudflare.com/ajax/libs/d3/3.5.5/d3.min\"}});\n",
       "   require([\"d3\"], function(d3){\n",
       "      window.d3 = d3;\n",
       "      LDAvis_load_lib(\"https://cdn.rawgit.com/bmabey/pyLDAvis/files/ldavis.v1.0.0.js\", function(){\n",
       "        new LDAvis(\"#\" + \"ldavis_el821402653667717762220594868\", ldavis_el821402653667717762220594868_data);\n",
       "      });\n",
       "    });\n",
       "}else{\n",
       "    // require.js not available: dynamically load d3 & LDAvis\n",
       "    LDAvis_load_lib(\"https://cdnjs.cloudflare.com/ajax/libs/d3/3.5.5/d3.min.js\", function(){\n",
       "         LDAvis_load_lib(\"https://cdn.rawgit.com/bmabey/pyLDAvis/files/ldavis.v1.0.0.js\", function(){\n",
       "                 new LDAvis(\"#\" + \"ldavis_el821402653667717762220594868\", ldavis_el821402653667717762220594868_data);\n",
       "            })\n",
       "         });\n",
       "}\n",
       "</script>"
      ],
      "text/plain": [
       "<IPython.core.display.HTML object>"
      ]
     },
     "execution_count": 17,
     "metadata": {},
     "output_type": "execute_result"
    }
   ],
   "source": [
    "pyLDAvis.enable_notebook()\n",
    "vis = pyLDAvis.gensim.prepare(ldamodel, corpus, dictionary)\n",
    "pyLDAvis.display(vis)"
   ]
  },
  {
   "cell_type": "code",
   "execution_count": null,
   "metadata": {},
   "outputs": [],
   "source": []
  }
 ],
 "metadata": {
  "kernelspec": {
   "display_name": "Python 3",
   "language": "python",
   "name": "python3"
  },
  "language_info": {
   "codemirror_mode": {
    "name": "ipython",
    "version": 3
   },
   "file_extension": ".py",
   "mimetype": "text/x-python",
   "name": "python",
   "nbconvert_exporter": "python",
   "pygments_lexer": "ipython3",
   "version": "3.6.9"
  }
 },
 "nbformat": 4,
 "nbformat_minor": 2
}
