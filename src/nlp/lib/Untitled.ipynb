{
 "cells": [
  {
   "cell_type": "code",
   "execution_count": 10,
   "metadata": {},
   "outputs": [
    {
     "name": "stdout",
     "output_type": "stream",
     "text": [
      "0    yeah expect people read actually accept hard a...\n",
      "dtype: object\n",
      "0    [I, You, yeah, expect, people, read, actually,...\n",
      "dtype: object\n"
     ]
    }
   ],
   "source": [
    "import pandas as pd\n",
    "from nltk.corpus import stopwords\n",
    "\n",
    "def cleansing_doc(doc):\n",
    "    xdoc = pd.Series(doc)\n",
    "\n",
    "    # Remove special characters\n",
    "    xdoc = xdoc.str.replace(\"[^a-zA-Z]\", \" \")\n",
    "\n",
    "    # Remove words less than 3 in length\n",
    "    xdoc = xdoc.apply(lambda x: ' '.join([w for w in x.split() if len(w)>3]))\n",
    "\n",
    "    # Lowercase transformation for all words.\n",
    "    xdoc = xdoc.apply(lambda x: x.lower())\n",
    "    \n",
    "    return xdoc\n",
    "\n",
    "def tokenize_doc(doc):\n",
    "    xdoc = pd.Series(doc)\n",
    "    \n",
    "    stop_words = stopwords.words('english')\n",
    "    tokenized_doc = xdoc.apply(lambda x: x.split())\n",
    "    tokenized_doc = tokenized_doc.apply(lambda x: [item for item in x if item not in stop_words])\n",
    "    \n",
    "    return tokenized_doc\n",
    "\n",
    "# 1. cleansing\n",
    "print(cleansing_doc(\"\\n\\n\\n\\n\\n\\n\\nYeah, do you expect people to read the FAQ, etc. and actually accept hard\\natheism?  No, you need a little leap of faith, Jimmy.  Your logic runs out\\nof steam!\\n\\n\\n\\n\\n\\n\\n\\nJim,\\n\\nSorry I can't pity you, Jim.  And I'm sorry that you have these feelings of\\ndenial about the faith you need to get by.  Oh well, just pretend that it will\\nall end happily ever after anyway.  Maybe if you start a new newsgroup,\\nalt.atheist.hard, you won't be bummin' so much?\\n\\n\\n\\n\\n\\n\\nBye-Bye, Big Jim.  Don't forget your Flintstone's Chewables!  :) \\n--\\nBake Timmons, III\"))\n",
    "\n",
    "# 2. Tokenize\n",
    "print(tokenize_doc('I am You are yeah expect people read actually accept hard atheism need little leap faith jimmy your logic runs steam sorry pity sorry that have these feelings denial about faith need well just pretend that will happily ever after anyway maybe start newsgroup atheist hard bummin much forget your flintstone chewables bake timmon'))"
   ]
  },
  {
   "cell_type": "code",
   "execution_count": null,
   "metadata": {},
   "outputs": [],
   "source": []
  }
 ],
 "metadata": {
  "kernelspec": {
   "display_name": "Python 3",
   "language": "python",
   "name": "python3"
  },
  "language_info": {
   "codemirror_mode": {
    "name": "ipython",
    "version": 3
   },
   "file_extension": ".py",
   "mimetype": "text/x-python",
   "name": "python",
   "nbconvert_exporter": "python",
   "pygments_lexer": "ipython3",
   "version": "3.6.9"
  }
 },
 "nbformat": 4,
 "nbformat_minor": 2
}
